{
 "cells": [
  {
   "cell_type": "code",
   "execution_count": 1,
   "metadata": {},
   "outputs": [],
   "source": [
    "import requests\n",
    "import json\n",
    "import pandas as pd\n",
    "from pandas.io.json import json_normalize"
   ]
  },
  {
   "cell_type": "markdown",
   "metadata": {},
   "source": [
    "- Laptops\n",
    "- Tablets\n",
    "- Servers\n",
    "- Routers\n",
    "- Data Storage\n",
    "- Networking Products\n",
    "- Printers\n",
    "- Scanners\n",
    "- Monitors"
   ]
  },
  {
   "cell_type": "markdown",
   "metadata": {},
   "source": [
    "#### Desktops\n",
    "\n",
    "- keep this just in case we need to test something"
   ]
  },
  {
   "cell_type": "code",
   "execution_count": 5,
   "metadata": {},
   "outputs": [
    {
     "data": {
      "text/html": [
       "<div>\n",
       "<style scoped>\n",
       "    .dataframe tbody tr th:only-of-type {\n",
       "        vertical-align: middle;\n",
       "    }\n",
       "\n",
       "    .dataframe tbody tr th {\n",
       "        vertical-align: top;\n",
       "    }\n",
       "\n",
       "    .dataframe thead th {\n",
       "        text-align: right;\n",
       "    }\n",
       "</style>\n",
       "<table border=\"1\" class=\"dataframe\">\n",
       "  <thead>\n",
       "    <tr style=\"text-align: right;\">\n",
       "      <th></th>\n",
       "      <th>rank</th>\n",
       "      <th>position</th>\n",
       "      <th>title</th>\n",
       "      <th>asin</th>\n",
       "      <th>link</th>\n",
       "      <th>image</th>\n",
       "      <th>rating</th>\n",
       "      <th>ratings_total</th>\n",
       "      <th>price_lower</th>\n",
       "      <th>price_upper</th>\n",
       "      <th>price</th>\n",
       "    </tr>\n",
       "  </thead>\n",
       "  <tbody>\n",
       "    <tr>\n",
       "      <th>0</th>\n",
       "      <td>1</td>\n",
       "      <td>1</td>\n",
       "      <td>CYBERPOWERPC Gamer Xtreme VR Gaming PC, Intel ...</td>\n",
       "      <td>B07VGJDKZ4</td>\n",
       "      <td>https://www.amazon.com/CYBERPOWERPC-Xtreme-i5-...</td>\n",
       "      <td>https://images-na.ssl-images-amazon.com/images...</td>\n",
       "      <td>4.5</td>\n",
       "      <td>2108</td>\n",
       "      <td>{'symbol': '$', 'value': 890.39, 'currency': '...</td>\n",
       "      <td>{'symbol': '$', 'value': 890.39, 'currency': '...</td>\n",
       "      <td>{'symbol': '$', 'value': 890.39, 'currency': '...</td>\n",
       "    </tr>\n",
       "    <tr>\n",
       "      <th>1</th>\n",
       "      <td>2</td>\n",
       "      <td>2</td>\n",
       "      <td>SkyTech Blaze II Gaming Computer PC Desktop – ...</td>\n",
       "      <td>B07RHBLV7F</td>\n",
       "      <td>https://www.amazon.com/SkyTech-Blaze-II-Gaming...</td>\n",
       "      <td>https://images-na.ssl-images-amazon.com/images...</td>\n",
       "      <td>4.5</td>\n",
       "      <td>549</td>\n",
       "      <td>{'symbol': '$', 'value': 749.99, 'currency': '...</td>\n",
       "      <td>{'symbol': '$', 'value': 749.99, 'currency': '...</td>\n",
       "      <td>{'symbol': '$', 'value': 749.99, 'currency': '...</td>\n",
       "    </tr>\n",
       "    <tr>\n",
       "      <th>2</th>\n",
       "      <td>3</td>\n",
       "      <td>3</td>\n",
       "      <td>Acer Aspire TC-885-UA92 Desktop, 9th Gen Intel...</td>\n",
       "      <td>B07R8WJMW6</td>\n",
       "      <td>https://www.amazon.com/Acer-TC-885-UA92-Deskto...</td>\n",
       "      <td>https://images-na.ssl-images-amazon.com/images...</td>\n",
       "      <td>4.3</td>\n",
       "      <td>750</td>\n",
       "      <td>{'symbol': '$', 'value': 549.99, 'currency': '...</td>\n",
       "      <td>{'symbol': '$', 'value': 549.99, 'currency': '...</td>\n",
       "      <td>{'symbol': '$', 'value': 549.99, 'currency': '...</td>\n",
       "    </tr>\n",
       "    <tr>\n",
       "      <th>3</th>\n",
       "      <td>4</td>\n",
       "      <td>4</td>\n",
       "      <td>(Renewed) Dell Optiplex 7010 Business Desktop ...</td>\n",
       "      <td>B01LKOZEF0</td>\n",
       "      <td>https://www.amazon.com/Dell-Optiplex-7010-Prof...</td>\n",
       "      <td>https://images-na.ssl-images-amazon.com/images...</td>\n",
       "      <td>4.0</td>\n",
       "      <td>973</td>\n",
       "      <td>{'symbol': '$', 'value': 198.43, 'currency': '...</td>\n",
       "      <td>{'symbol': '$', 'value': 198.43, 'currency': '...</td>\n",
       "      <td>{'symbol': '$', 'value': 198.43, 'currency': '...</td>\n",
       "    </tr>\n",
       "    <tr>\n",
       "      <th>4</th>\n",
       "      <td>5</td>\n",
       "      <td>5</td>\n",
       "      <td>(Renewed) HP 8300 Elite Small Form Factor Desk...</td>\n",
       "      <td>B01CV9G1BO</td>\n",
       "      <td>https://www.amazon.com/HP-8300-Elite-Computer-...</td>\n",
       "      <td>https://images-na.ssl-images-amazon.com/images...</td>\n",
       "      <td>4.0</td>\n",
       "      <td>2210</td>\n",
       "      <td>{'symbol': '$', 'value': 139.97, 'currency': '...</td>\n",
       "      <td>{'symbol': '$', 'value': 139.97, 'currency': '...</td>\n",
       "      <td>{'symbol': '$', 'value': 139.97, 'currency': '...</td>\n",
       "    </tr>\n",
       "    <tr>\n",
       "      <th>5</th>\n",
       "      <td>6</td>\n",
       "      <td>6</td>\n",
       "      <td>Acer Aspire Z24-890-UA91 AIO Desktop, 23.8 inc...</td>\n",
       "      <td>B07R4PQJNM</td>\n",
       "      <td>https://www.amazon.com/Acer-Z24-890-UA91-i5-94...</td>\n",
       "      <td>https://images-na.ssl-images-amazon.com/images...</td>\n",
       "      <td>4.4</td>\n",
       "      <td>473</td>\n",
       "      <td>{'symbol': '$', 'value': 799.99, 'currency': '...</td>\n",
       "      <td>{'symbol': '$', 'value': 799.99, 'currency': '...</td>\n",
       "      <td>{'symbol': '$', 'value': 799.99, 'currency': '...</td>\n",
       "    </tr>\n",
       "    <tr>\n",
       "      <th>6</th>\n",
       "      <td>7</td>\n",
       "      <td>7</td>\n",
       "      <td>(Renewed) Dell Optiplex 7010 Business Desktop ...</td>\n",
       "      <td>B07SYC6HRK</td>\n",
       "      <td>https://www.amazon.com/Dell-Optiplex-7010-Busi...</td>\n",
       "      <td>https://images-na.ssl-images-amazon.com/images...</td>\n",
       "      <td>4.1</td>\n",
       "      <td>393</td>\n",
       "      <td>{'symbol': '$', 'value': 217.3, 'currency': 'U...</td>\n",
       "      <td>{'symbol': '$', 'value': 217.3, 'currency': 'U...</td>\n",
       "      <td>{'symbol': '$', 'value': 217.3, 'currency': 'U...</td>\n",
       "    </tr>\n",
       "    <tr>\n",
       "      <th>7</th>\n",
       "      <td>8</td>\n",
       "      <td>8</td>\n",
       "      <td>iBUYPOWER Gaming PC Computer Desktop Element 9...</td>\n",
       "      <td>B07V34QQ3C</td>\n",
       "      <td>https://www.amazon.com/iBUYPOWER-Computer-Elem...</td>\n",
       "      <td>https://images-na.ssl-images-amazon.com/images...</td>\n",
       "      <td>4.3</td>\n",
       "      <td>1564</td>\n",
       "      <td>{'symbol': '$', 'value': 999.99, 'currency': '...</td>\n",
       "      <td>{'symbol': '$', 'value': 999.99, 'currency': '...</td>\n",
       "      <td>{'symbol': '$', 'value': 999.99, 'currency': '...</td>\n",
       "    </tr>\n",
       "    <tr>\n",
       "      <th>8</th>\n",
       "      <td>9</td>\n",
       "      <td>9</td>\n",
       "      <td>Dell OptiPlex 9020-SFF, Intel Core i5-4570 3.2...</td>\n",
       "      <td>B07TB9G2R6</td>\n",
       "      <td>https://www.amazon.com/Dell-OptiPlex-9020-SFF-...</td>\n",
       "      <td>https://images-na.ssl-images-amazon.com/images...</td>\n",
       "      <td>4.3</td>\n",
       "      <td>157</td>\n",
       "      <td>{'symbol': '$', 'value': 262.65, 'currency': '...</td>\n",
       "      <td>{'symbol': '$', 'value': 262.65, 'currency': '...</td>\n",
       "      <td>{'symbol': '$', 'value': 262.65, 'currency': '...</td>\n",
       "    </tr>\n",
       "    <tr>\n",
       "      <th>9</th>\n",
       "      <td>10</td>\n",
       "      <td>10</td>\n",
       "      <td>Skytech Archangel Gaming Computer PC Desktop –...</td>\n",
       "      <td>B088W1QJP1</td>\n",
       "      <td>https://www.amazon.com/Skytech-Archangel-Gamin...</td>\n",
       "      <td>https://images-na.ssl-images-amazon.com/images...</td>\n",
       "      <td>4.3</td>\n",
       "      <td>39</td>\n",
       "      <td>{'symbol': '$', 'value': 999.99, 'currency': '...</td>\n",
       "      <td>{'symbol': '$', 'value': 999.99, 'currency': '...</td>\n",
       "      <td>{'symbol': '$', 'value': 999.99, 'currency': '...</td>\n",
       "    </tr>\n",
       "    <tr>\n",
       "      <th>10</th>\n",
       "      <td>11</td>\n",
       "      <td>11</td>\n",
       "      <td>HP Elite Desktop PC Computer Intel Core i5 3.1...</td>\n",
       "      <td>B07SBK9LRY</td>\n",
       "      <td>https://www.amazon.com/HP-Desktop-Computer-Pac...</td>\n",
       "      <td>https://images-na.ssl-images-amazon.com/images...</td>\n",
       "      <td>3.7</td>\n",
       "      <td>109</td>\n",
       "      <td>{'symbol': '$', 'value': 224.99, 'currency': '...</td>\n",
       "      <td>{'symbol': '$', 'value': 224.99, 'currency': '...</td>\n",
       "      <td>{'symbol': '$', 'value': 224.99, 'currency': '...</td>\n",
       "    </tr>\n",
       "    <tr>\n",
       "      <th>11</th>\n",
       "      <td>12</td>\n",
       "      <td>12</td>\n",
       "      <td>DELL Optiplex Desktop with 22in LCD Monitor (C...</td>\n",
       "      <td>B01LY0WLCT</td>\n",
       "      <td>https://www.amazon.com/Optiplex-Desktop-Monito...</td>\n",
       "      <td>https://images-na.ssl-images-amazon.com/images...</td>\n",
       "      <td>3.6</td>\n",
       "      <td>539</td>\n",
       "      <td>{'symbol': '$', 'value': 185, 'currency': 'USD...</td>\n",
       "      <td>{'symbol': '$', 'value': 185, 'currency': 'USD...</td>\n",
       "      <td>{'symbol': '$', 'value': 185, 'currency': 'USD...</td>\n",
       "    </tr>\n",
       "    <tr>\n",
       "      <th>12</th>\n",
       "      <td>13</td>\n",
       "      <td>13</td>\n",
       "      <td>CYBERPOWERPC Gamer Xtreme VR Gaming PC, Intel ...</td>\n",
       "      <td>B07PKXQBHN</td>\n",
       "      <td>https://www.amazon.com/CyberpowerPC-Xtreme-i5-...</td>\n",
       "      <td>https://images-na.ssl-images-amazon.com/images...</td>\n",
       "      <td>4.6</td>\n",
       "      <td>1129</td>\n",
       "      <td>{'symbol': '$', 'value': 919.99, 'currency': '...</td>\n",
       "      <td>{'symbol': '$', 'value': 919.99, 'currency': '...</td>\n",
       "      <td>{'symbol': '$', 'value': 919.99, 'currency': '...</td>\n",
       "    </tr>\n",
       "    <tr>\n",
       "      <th>13</th>\n",
       "      <td>14</td>\n",
       "      <td>14</td>\n",
       "      <td>Dell Optiplex 790 Core i5 3.1GHz, 1TB Hard Dri...</td>\n",
       "      <td>B07HB9R7ZC</td>\n",
       "      <td>https://www.amazon.com/Dell-Optiplex-Monitors-...</td>\n",
       "      <td>https://images-na.ssl-images-amazon.com/images...</td>\n",
       "      <td>3.8</td>\n",
       "      <td>316</td>\n",
       "      <td>{'symbol': '$', 'value': 339.97, 'currency': '...</td>\n",
       "      <td>{'symbol': '$', 'value': 339.97, 'currency': '...</td>\n",
       "      <td>{'symbol': '$', 'value': 339.97, 'currency': '...</td>\n",
       "    </tr>\n",
       "    <tr>\n",
       "      <th>14</th>\n",
       "      <td>15</td>\n",
       "      <td>15</td>\n",
       "      <td>Dell Optiplex 7010 Business Desktop Computer (...</td>\n",
       "      <td>B0725BFYV6</td>\n",
       "      <td>https://www.amazon.com/Dell-Optiplex-Business-...</td>\n",
       "      <td>https://images-na.ssl-images-amazon.com/images...</td>\n",
       "      <td>4.4</td>\n",
       "      <td>193</td>\n",
       "      <td>{'symbol': '$', 'value': 264.84, 'currency': '...</td>\n",
       "      <td>{'symbol': '$', 'value': 264.84, 'currency': '...</td>\n",
       "      <td>{'symbol': '$', 'value': 264.84, 'currency': '...</td>\n",
       "    </tr>\n",
       "    <tr>\n",
       "      <th>15</th>\n",
       "      <td>16</td>\n",
       "      <td>16</td>\n",
       "      <td>Apple Mac Mini (3.6GHz Quad-core 8th-Generatio...</td>\n",
       "      <td>B086394KV1</td>\n",
       "      <td>https://www.amazon.com/Apple-Quad-core-8th-Gen...</td>\n",
       "      <td>https://images-na.ssl-images-amazon.com/images...</td>\n",
       "      <td>3.9</td>\n",
       "      <td>37</td>\n",
       "      <td>{'symbol': '$', 'value': 759, 'currency': 'USD...</td>\n",
       "      <td>{'symbol': '$', 'value': 759, 'currency': 'USD...</td>\n",
       "      <td>{'symbol': '$', 'value': 759, 'currency': 'USD...</td>\n",
       "    </tr>\n",
       "    <tr>\n",
       "      <th>16</th>\n",
       "      <td>17</td>\n",
       "      <td>17</td>\n",
       "      <td>(Renewed) HP ProDesk 600 G1 SFF Slim Business ...</td>\n",
       "      <td>B07BCGW85X</td>\n",
       "      <td>https://www.amazon.com/HP-ProDesk-600-G1-SFF/d...</td>\n",
       "      <td>https://images-na.ssl-images-amazon.com/images...</td>\n",
       "      <td>4.2</td>\n",
       "      <td>569</td>\n",
       "      <td>{'symbol': '$', 'value': 147.99, 'currency': '...</td>\n",
       "      <td>{'symbol': '$', 'value': 147.99, 'currency': '...</td>\n",
       "      <td>{'symbol': '$', 'value': 147.99, 'currency': '...</td>\n",
       "    </tr>\n",
       "    <tr>\n",
       "      <th>17</th>\n",
       "      <td>18</td>\n",
       "      <td>18</td>\n",
       "      <td>Dell OptiPlex Desktop Complete Computer Packag...</td>\n",
       "      <td>B00IOTZGOE</td>\n",
       "      <td>https://www.amazon.com/Dell-OptiPlex-Desktop-C...</td>\n",
       "      <td>https://images-na.ssl-images-amazon.com/images...</td>\n",
       "      <td>3.4</td>\n",
       "      <td>918</td>\n",
       "      <td>{'symbol': '$', 'value': 174.5, 'currency': 'U...</td>\n",
       "      <td>{'symbol': '$', 'value': 174.5, 'currency': 'U...</td>\n",
       "      <td>{'symbol': '$', 'value': 174.5, 'currency': 'U...</td>\n",
       "    </tr>\n",
       "    <tr>\n",
       "      <th>18</th>\n",
       "      <td>19</td>\n",
       "      <td>19</td>\n",
       "      <td>HP 21.5-Inch All-in-One Computer, AMD A4-9125,...</td>\n",
       "      <td>B07VDJ5RVF</td>\n",
       "      <td>https://www.amazon.com/HP-21-5-Inch-Computer-A...</td>\n",
       "      <td>https://images-na.ssl-images-amazon.com/images...</td>\n",
       "      <td>4.1</td>\n",
       "      <td>216</td>\n",
       "      <td>{'symbol': '$', 'value': 423.47, 'currency': '...</td>\n",
       "      <td>{'symbol': '$', 'value': 423.47, 'currency': '...</td>\n",
       "      <td>{'symbol': '$', 'value': 423.47, 'currency': '...</td>\n",
       "    </tr>\n",
       "    <tr>\n",
       "      <th>19</th>\n",
       "      <td>20</td>\n",
       "      <td>20</td>\n",
       "      <td>SkyTech Blaze II Gaming Computer PC Desktop – ...</td>\n",
       "      <td>B085F2BFWR</td>\n",
       "      <td>https://www.amazon.com/SkyTech-Blaze-Gaming-Co...</td>\n",
       "      <td>https://images-na.ssl-images-amazon.com/images...</td>\n",
       "      <td>4.5</td>\n",
       "      <td>549</td>\n",
       "      <td>{'symbol': '$', 'value': 899.99, 'currency': '...</td>\n",
       "      <td>{'symbol': '$', 'value': 899.99, 'currency': '...</td>\n",
       "      <td>{'symbol': '$', 'value': 899.99, 'currency': '...</td>\n",
       "    </tr>\n",
       "    <tr>\n",
       "      <th>20</th>\n",
       "      <td>21</td>\n",
       "      <td>21</td>\n",
       "      <td>(Renewed) HP Elite 8300 Ultra Small Slim High ...</td>\n",
       "      <td>B074T2L4CC</td>\n",
       "      <td>https://www.amazon.com/Elite-8300-Performance-...</td>\n",
       "      <td>https://images-na.ssl-images-amazon.com/images...</td>\n",
       "      <td>4.1</td>\n",
       "      <td>367</td>\n",
       "      <td>{'symbol': '$', 'value': 146.96, 'currency': '...</td>\n",
       "      <td>{'symbol': '$', 'value': 146.96, 'currency': '...</td>\n",
       "      <td>{'symbol': '$', 'value': 146.96, 'currency': '...</td>\n",
       "    </tr>\n",
       "    <tr>\n",
       "      <th>21</th>\n",
       "      <td>22</td>\n",
       "      <td>22</td>\n",
       "      <td>HP EliteDesk 800 G1 Small Form Desktop Compute...</td>\n",
       "      <td>B0784F3NHF</td>\n",
       "      <td>https://www.amazon.com/HP-EliteDesk-800-G1-Ref...</td>\n",
       "      <td>https://images-na.ssl-images-amazon.com/images...</td>\n",
       "      <td>4.0</td>\n",
       "      <td>154</td>\n",
       "      <td>{'symbol': '$', 'value': 198.09, 'currency': '...</td>\n",
       "      <td>{'symbol': '$', 'value': 198.09, 'currency': '...</td>\n",
       "      <td>{'symbol': '$', 'value': 198.09, 'currency': '...</td>\n",
       "    </tr>\n",
       "    <tr>\n",
       "      <th>22</th>\n",
       "      <td>23</td>\n",
       "      <td>23</td>\n",
       "      <td>CyberPowerPC Gamer Master Gaming PC, AMD Ryzen...</td>\n",
       "      <td>B07X31NT47</td>\n",
       "      <td>https://www.amazon.com/CyberpowerPC-Master-Gam...</td>\n",
       "      <td>https://images-na.ssl-images-amazon.com/images...</td>\n",
       "      <td>4.1</td>\n",
       "      <td>242</td>\n",
       "      <td>{'symbol': '$', 'value': 1099.99, 'currency': ...</td>\n",
       "      <td>{'symbol': '$', 'value': 1099.99, 'currency': ...</td>\n",
       "      <td>{'symbol': '$', 'value': 1099.99, 'currency': ...</td>\n",
       "    </tr>\n",
       "    <tr>\n",
       "      <th>23</th>\n",
       "      <td>24</td>\n",
       "      <td>24</td>\n",
       "      <td>HP Elite 6300 SFF Small Form Factor Business D...</td>\n",
       "      <td>B07CGBYBXM</td>\n",
       "      <td>https://www.amazon.com/HP-Quad-Core-Profession...</td>\n",
       "      <td>https://images-na.ssl-images-amazon.com/images...</td>\n",
       "      <td>4.4</td>\n",
       "      <td>258</td>\n",
       "      <td>{'symbol': '$', 'value': 288.89, 'currency': '...</td>\n",
       "      <td>{'symbol': '$', 'value': 288.89, 'currency': '...</td>\n",
       "      <td>{'symbol': '$', 'value': 288.89, 'currency': '...</td>\n",
       "    </tr>\n",
       "    <tr>\n",
       "      <th>24</th>\n",
       "      <td>25</td>\n",
       "      <td>25</td>\n",
       "      <td>Dell Optiplex 9020 Mini Tower Desktop PC, Inte...</td>\n",
       "      <td>B082QMTGW8</td>\n",
       "      <td>https://www.amazon.com/Dell-Optiplex-Desktop-i...</td>\n",
       "      <td>https://images-na.ssl-images-amazon.com/images...</td>\n",
       "      <td>3.9</td>\n",
       "      <td>107</td>\n",
       "      <td>{'symbol': '$', 'value': 579.97, 'currency': '...</td>\n",
       "      <td>{'symbol': '$', 'value': 579.97, 'currency': '...</td>\n",
       "      <td>{'symbol': '$', 'value': 579.97, 'currency': '...</td>\n",
       "    </tr>\n",
       "    <tr>\n",
       "      <th>25</th>\n",
       "      <td>26</td>\n",
       "      <td>26</td>\n",
       "      <td>Acer Aspire TC-885-UA91 Desktop, 9th Gen Intel...</td>\n",
       "      <td>B07R8WK8VP</td>\n",
       "      <td>https://www.amazon.com/Acer-TC-885-UA91-Deskto...</td>\n",
       "      <td>https://images-na.ssl-images-amazon.com/images...</td>\n",
       "      <td>4.5</td>\n",
       "      <td>399</td>\n",
       "      <td>{'symbol': '$', 'value': 419.99, 'currency': '...</td>\n",
       "      <td>{'symbol': '$', 'value': 419.99, 'currency': '...</td>\n",
       "      <td>{'symbol': '$', 'value': 419.99, 'currency': '...</td>\n",
       "    </tr>\n",
       "    <tr>\n",
       "      <th>26</th>\n",
       "      <td>27</td>\n",
       "      <td>27</td>\n",
       "      <td>Gaming PC Desktop Computer Intel i5 3.10GHz,8G...</td>\n",
       "      <td>B07YQCQBJK</td>\n",
       "      <td>https://www.amazon.com/Gaming-Desktop-Computer...</td>\n",
       "      <td>https://images-na.ssl-images-amazon.com/images...</td>\n",
       "      <td>3.5</td>\n",
       "      <td>166</td>\n",
       "      <td>NaN</td>\n",
       "      <td>NaN</td>\n",
       "      <td>NaN</td>\n",
       "    </tr>\n",
       "    <tr>\n",
       "      <th>27</th>\n",
       "      <td>28</td>\n",
       "      <td>28</td>\n",
       "      <td>HP Pavilion Gaming Desktop Computer, AMD Ryzen...</td>\n",
       "      <td>B07XV7YRSL</td>\n",
       "      <td>https://www.amazon.com/HP-Pavilion-Computer-Pr...</td>\n",
       "      <td>https://images-na.ssl-images-amazon.com/images...</td>\n",
       "      <td>4.7</td>\n",
       "      <td>17</td>\n",
       "      <td>{'symbol': '$', 'value': 682.43, 'currency': '...</td>\n",
       "      <td>{'symbol': '$', 'value': 682.43, 'currency': '...</td>\n",
       "      <td>{'symbol': '$', 'value': 682.43, 'currency': '...</td>\n",
       "    </tr>\n",
       "    <tr>\n",
       "      <th>28</th>\n",
       "      <td>29</td>\n",
       "      <td>29</td>\n",
       "      <td>(Renewed) HP Flagship Pro Desktop Computer, Co...</td>\n",
       "      <td>B07L7P3XYW</td>\n",
       "      <td>https://www.amazon.com/HP-Flagship-Pro-Bit-Mul...</td>\n",
       "      <td>https://images-na.ssl-images-amazon.com/images...</td>\n",
       "      <td>4.2</td>\n",
       "      <td>520</td>\n",
       "      <td>{'symbol': '$', 'value': 185.89, 'currency': '...</td>\n",
       "      <td>{'symbol': '$', 'value': 185.89, 'currency': '...</td>\n",
       "      <td>{'symbol': '$', 'value': 185.89, 'currency': '...</td>\n",
       "    </tr>\n",
       "    <tr>\n",
       "      <th>29</th>\n",
       "      <td>30</td>\n",
       "      <td>30</td>\n",
       "      <td>Dell Optiplex 7010 Small Form Factor Desktop C...</td>\n",
       "      <td>B077D4SFMF</td>\n",
       "      <td>https://www.amazon.com/Dell-Optiplex-7010-Quad...</td>\n",
       "      <td>https://images-na.ssl-images-amazon.com/images...</td>\n",
       "      <td>3.8</td>\n",
       "      <td>395</td>\n",
       "      <td>{'symbol': '$', 'value': 266.86, 'currency': '...</td>\n",
       "      <td>{'symbol': '$', 'value': 266.86, 'currency': '...</td>\n",
       "      <td>{'symbol': '$', 'value': 266.86, 'currency': '...</td>\n",
       "    </tr>\n",
       "    <tr>\n",
       "      <th>30</th>\n",
       "      <td>31</td>\n",
       "      <td>31</td>\n",
       "      <td>[Ryzen &amp; GTX 1050 Ti Edition] SkyTech Archange...</td>\n",
       "      <td>B077QDM2DP</td>\n",
       "      <td>https://www.amazon.com/SkyTech-ArchAngel-Gamin...</td>\n",
       "      <td>https://images-na.ssl-images-amazon.com/images...</td>\n",
       "      <td>4.4</td>\n",
       "      <td>1036</td>\n",
       "      <td>{'symbol': '$', 'value': 649.99, 'currency': '...</td>\n",
       "      <td>{'symbol': '$', 'value': 649.99, 'currency': '...</td>\n",
       "      <td>{'symbol': '$', 'value': 649.99, 'currency': '...</td>\n",
       "    </tr>\n",
       "    <tr>\n",
       "      <th>31</th>\n",
       "      <td>32</td>\n",
       "      <td>32</td>\n",
       "      <td>HP Elite PC Desktop Computer Package - Intel Q...</td>\n",
       "      <td>B07SHJN3R6</td>\n",
       "      <td>https://www.amazon.com/HP-Elite-Desktop-Comput...</td>\n",
       "      <td>https://images-na.ssl-images-amazon.com/images...</td>\n",
       "      <td>3.5</td>\n",
       "      <td>65</td>\n",
       "      <td>{'symbol': '$', 'value': 201.5, 'currency': 'U...</td>\n",
       "      <td>{'symbol': '$', 'value': 201.5, 'currency': 'U...</td>\n",
       "      <td>{'symbol': '$', 'value': 201.5, 'currency': 'U...</td>\n",
       "    </tr>\n",
       "    <tr>\n",
       "      <th>32</th>\n",
       "      <td>33</td>\n",
       "      <td>33</td>\n",
       "      <td>Dell Optiplex 9010 SFF Desktop PC - Intel Core...</td>\n",
       "      <td>B078WGWZ1X</td>\n",
       "      <td>https://www.amazon.com/Dell-Optiplex-9010-SFF-...</td>\n",
       "      <td>https://images-na.ssl-images-amazon.com/images...</td>\n",
       "      <td>4.3</td>\n",
       "      <td>89</td>\n",
       "      <td>{'symbol': '$', 'value': 205.89, 'currency': '...</td>\n",
       "      <td>{'symbol': '$', 'value': 205.89, 'currency': '...</td>\n",
       "      <td>{'symbol': '$', 'value': 205.89, 'currency': '...</td>\n",
       "    </tr>\n",
       "    <tr>\n",
       "      <th>33</th>\n",
       "      <td>34</td>\n",
       "      <td>34</td>\n",
       "      <td>[Ryzen &amp; GTX 1050 Ti Edition] SkyTech Shadow G...</td>\n",
       "      <td>B077QDRBF9</td>\n",
       "      <td>https://www.amazon.com/SkyTech-Gaming-Computer...</td>\n",
       "      <td>https://images-na.ssl-images-amazon.com/images...</td>\n",
       "      <td>4.4</td>\n",
       "      <td>515</td>\n",
       "      <td>{'symbol': '$', 'value': 649.99, 'currency': '...</td>\n",
       "      <td>{'symbol': '$', 'value': 649.99, 'currency': '...</td>\n",
       "      <td>{'symbol': '$', 'value': 649.99, 'currency': '...</td>\n",
       "    </tr>\n",
       "    <tr>\n",
       "      <th>34</th>\n",
       "      <td>35</td>\n",
       "      <td>35</td>\n",
       "      <td>HP Elite 8200 SFF Desktop PC - Intel Core i5-2...</td>\n",
       "      <td>B01HSJ2O0Y</td>\n",
       "      <td>https://www.amazon.com/HP-Elite-8200-SFF-Deskt...</td>\n",
       "      <td>https://images-na.ssl-images-amazon.com/images...</td>\n",
       "      <td>4.2</td>\n",
       "      <td>364</td>\n",
       "      <td>{'symbol': '$', 'value': 113.68, 'currency': '...</td>\n",
       "      <td>{'symbol': '$', 'value': 113.68, 'currency': '...</td>\n",
       "      <td>{'symbol': '$', 'value': 113.68, 'currency': '...</td>\n",
       "    </tr>\n",
       "    <tr>\n",
       "      <th>35</th>\n",
       "      <td>36</td>\n",
       "      <td>36</td>\n",
       "      <td>HP Elite Desktop Computer, Intel Core i5 3.2 G...</td>\n",
       "      <td>B07R6NWGHK</td>\n",
       "      <td>https://www.amazon.com/HP-Desktop-Computer-Key...</td>\n",
       "      <td>https://images-na.ssl-images-amazon.com/images...</td>\n",
       "      <td>3.9</td>\n",
       "      <td>105</td>\n",
       "      <td>{'symbol': '$', 'value': 276.97, 'currency': '...</td>\n",
       "      <td>{'symbol': '$', 'value': 276.97, 'currency': '...</td>\n",
       "      <td>{'symbol': '$', 'value': 276.97, 'currency': '...</td>\n",
       "    </tr>\n",
       "    <tr>\n",
       "      <th>36</th>\n",
       "      <td>37</td>\n",
       "      <td>37</td>\n",
       "      <td>Mini PC Intel Celeron N4000(up to 2.6GHz), DDR...</td>\n",
       "      <td>B082VVCFNG</td>\n",
       "      <td>https://www.amazon.com/Celeron-Fanless-Compute...</td>\n",
       "      <td>https://images-na.ssl-images-amazon.com/images...</td>\n",
       "      <td>4.4</td>\n",
       "      <td>46</td>\n",
       "      <td>{'symbol': '$', 'value': 169.99, 'currency': '...</td>\n",
       "      <td>{'symbol': '$', 'value': 169.99, 'currency': '...</td>\n",
       "      <td>{'symbol': '$', 'value': 169.99, 'currency': '...</td>\n",
       "    </tr>\n",
       "    <tr>\n",
       "      <th>37</th>\n",
       "      <td>38</td>\n",
       "      <td>38</td>\n",
       "      <td>HP Elite 8200 Mini-Tower Workstation - Core i7...</td>\n",
       "      <td>B01K5TZMNA</td>\n",
       "      <td>https://www.amazon.com/HP-Elite-8200-Mini-Towe...</td>\n",
       "      <td>https://images-na.ssl-images-amazon.com/images...</td>\n",
       "      <td>3.5</td>\n",
       "      <td>57</td>\n",
       "      <td>{'symbol': '$', 'value': 320.9, 'currency': 'U...</td>\n",
       "      <td>{'symbol': '$', 'value': 320.9, 'currency': 'U...</td>\n",
       "      <td>{'symbol': '$', 'value': 320.9, 'currency': 'U...</td>\n",
       "    </tr>\n",
       "    <tr>\n",
       "      <th>38</th>\n",
       "      <td>39</td>\n",
       "      <td>39</td>\n",
       "      <td>(Renewed) Dell Optiplex 7010 Desktop Computer ...</td>\n",
       "      <td>B07RNMXDRF</td>\n",
       "      <td>https://www.amazon.com/Dell-Optiplex-7010-Desk...</td>\n",
       "      <td>https://images-na.ssl-images-amazon.com/images...</td>\n",
       "      <td>3.9</td>\n",
       "      <td>126</td>\n",
       "      <td>{'symbol': '$', 'value': 349, 'currency': 'USD...</td>\n",
       "      <td>{'symbol': '$', 'value': 349, 'currency': 'USD...</td>\n",
       "      <td>{'symbol': '$', 'value': 349, 'currency': 'USD...</td>\n",
       "    </tr>\n",
       "    <tr>\n",
       "      <th>39</th>\n",
       "      <td>40</td>\n",
       "      <td>40</td>\n",
       "      <td>New Apple iMac (21.5-inch, 8GB RAM, 1TB Storage)</td>\n",
       "      <td>B07Q1P5SB5</td>\n",
       "      <td>https://www.amazon.com/Apple-21-5-inch-quad-co...</td>\n",
       "      <td>https://images-na.ssl-images-amazon.com/images...</td>\n",
       "      <td>4.2</td>\n",
       "      <td>183</td>\n",
       "      <td>{'symbol': '$', 'value': 1229.99, 'currency': ...</td>\n",
       "      <td>{'symbol': '$', 'value': 1229.99, 'currency': ...</td>\n",
       "      <td>{'symbol': '$', 'value': 1229.99, 'currency': ...</td>\n",
       "    </tr>\n",
       "    <tr>\n",
       "      <th>40</th>\n",
       "      <td>41</td>\n",
       "      <td>41</td>\n",
       "      <td>Mini PC Fanless Intel Atom Quad Core CPU 4GB D...</td>\n",
       "      <td>B07QY8LDGX</td>\n",
       "      <td>https://www.amazon.com/Fanless-Desktop-Compute...</td>\n",
       "      <td>https://images-na.ssl-images-amazon.com/images...</td>\n",
       "      <td>4.1</td>\n",
       "      <td>225</td>\n",
       "      <td>{'symbol': '$', 'value': 149.99, 'currency': '...</td>\n",
       "      <td>{'symbol': '$', 'value': 149.99, 'currency': '...</td>\n",
       "      <td>{'symbol': '$', 'value': 149.99, 'currency': '...</td>\n",
       "    </tr>\n",
       "    <tr>\n",
       "      <th>41</th>\n",
       "      <td>42</td>\n",
       "      <td>42</td>\n",
       "      <td>Apple iMac (21.5-inch, Previous Model, 8GB RAM...</td>\n",
       "      <td>B072QGX65K</td>\n",
       "      <td>https://www.amazon.com/Apple-2-3GHz-dual-core-...</td>\n",
       "      <td>https://images-na.ssl-images-amazon.com/images...</td>\n",
       "      <td>4.2</td>\n",
       "      <td>83</td>\n",
       "      <td>{'symbol': '$', 'value': 999.99, 'currency': '...</td>\n",
       "      <td>{'symbol': '$', 'value': 999.99, 'currency': '...</td>\n",
       "      <td>{'symbol': '$', 'value': 999.99, 'currency': '...</td>\n",
       "    </tr>\n",
       "    <tr>\n",
       "      <th>42</th>\n",
       "      <td>43</td>\n",
       "      <td>43</td>\n",
       "      <td>Dell Optiplex 7020 Desktop Computer, Intel Qua...</td>\n",
       "      <td>B07TWJCW6H</td>\n",
       "      <td>https://www.amazon.com/Dell-Optiplex-Computer-...</td>\n",
       "      <td>https://images-na.ssl-images-amazon.com/images...</td>\n",
       "      <td>4.0</td>\n",
       "      <td>70</td>\n",
       "      <td>{'symbol': '$', 'value': 399, 'currency': 'USD...</td>\n",
       "      <td>{'symbol': '$', 'value': 399, 'currency': 'USD...</td>\n",
       "      <td>{'symbol': '$', 'value': 399, 'currency': 'USD...</td>\n",
       "    </tr>\n",
       "    <tr>\n",
       "      <th>43</th>\n",
       "      <td>44</td>\n",
       "      <td>44</td>\n",
       "      <td>Skytech Archangel Gaming Computer PC Desktop –...</td>\n",
       "      <td>B07WCLNZWR</td>\n",
       "      <td>https://www.amazon.com/Skytech-Archangel-Gamin...</td>\n",
       "      <td>https://images-na.ssl-images-amazon.com/images...</td>\n",
       "      <td>4.4</td>\n",
       "      <td>127</td>\n",
       "      <td>{'symbol': '$', 'value': 899.99, 'currency': '...</td>\n",
       "      <td>{'symbol': '$', 'value': 899.99, 'currency': '...</td>\n",
       "      <td>{'symbol': '$', 'value': 899.99, 'currency': '...</td>\n",
       "    </tr>\n",
       "    <tr>\n",
       "      <th>44</th>\n",
       "      <td>45</td>\n",
       "      <td>45</td>\n",
       "      <td>New Apple iMac (27-inch, 8GB RAM, 1TB Storage)</td>\n",
       "      <td>B07Q1NBCVB</td>\n",
       "      <td>https://www.amazon.com/Apple-27-inch-display-8...</td>\n",
       "      <td>https://images-na.ssl-images-amazon.com/images...</td>\n",
       "      <td>4.7</td>\n",
       "      <td>241</td>\n",
       "      <td>{'symbol': '$', 'value': 1799, 'currency': 'US...</td>\n",
       "      <td>{'symbol': '$', 'value': 1799, 'currency': 'US...</td>\n",
       "      <td>{'symbol': '$', 'value': 1799, 'currency': 'US...</td>\n",
       "    </tr>\n",
       "    <tr>\n",
       "      <th>45</th>\n",
       "      <td>46</td>\n",
       "      <td>46</td>\n",
       "      <td>ASUS CHROMEBOX 3-N017U Mini PC with Intel Cele...</td>\n",
       "      <td>B07CLQZHF9</td>\n",
       "      <td>https://www.amazon.com/CHROMEBOX-3-N017U-Intel...</td>\n",
       "      <td>https://images-na.ssl-images-amazon.com/images...</td>\n",
       "      <td>4.3</td>\n",
       "      <td>228</td>\n",
       "      <td>{'symbol': '$', 'value': 262.94, 'currency': '...</td>\n",
       "      <td>{'symbol': '$', 'value': 262.94, 'currency': '...</td>\n",
       "      <td>{'symbol': '$', 'value': 262.94, 'currency': '...</td>\n",
       "    </tr>\n",
       "    <tr>\n",
       "      <th>46</th>\n",
       "      <td>47</td>\n",
       "      <td>47</td>\n",
       "      <td>New Alienware Aurora R10 Gaming Desktop, AMD R...</td>\n",
       "      <td>B084GSGQZQ</td>\n",
       "      <td>https://www.amazon.com/Alienware-Aurora-Deskto...</td>\n",
       "      <td>https://images-na.ssl-images-amazon.com/images...</td>\n",
       "      <td>4.0</td>\n",
       "      <td>11</td>\n",
       "      <td>{'symbol': '$', 'value': 1408.64, 'currency': ...</td>\n",
       "      <td>{'symbol': '$', 'value': 1408.64, 'currency': ...</td>\n",
       "      <td>{'symbol': '$', 'value': 1408.64, 'currency': ...</td>\n",
       "    </tr>\n",
       "    <tr>\n",
       "      <th>47</th>\n",
       "      <td>48</td>\n",
       "      <td>48</td>\n",
       "      <td>Skytech Archangel Gaming Computer PC Desktop –...</td>\n",
       "      <td>B085X2DCBT</td>\n",
       "      <td>https://www.amazon.com/Skytech-Archangel-Gamin...</td>\n",
       "      <td>https://images-na.ssl-images-amazon.com/images...</td>\n",
       "      <td>4.4</td>\n",
       "      <td>127</td>\n",
       "      <td>{'symbol': '$', 'value': 1199.99, 'currency': ...</td>\n",
       "      <td>{'symbol': '$', 'value': 1199.99, 'currency': ...</td>\n",
       "      <td>{'symbol': '$', 'value': 1199.99, 'currency': ...</td>\n",
       "    </tr>\n",
       "    <tr>\n",
       "      <th>48</th>\n",
       "      <td>49</td>\n",
       "      <td>49</td>\n",
       "      <td>CHUWI CoreBox Windows 10 Mini PC,Intel Core i5...</td>\n",
       "      <td>B07T5BNF14</td>\n",
       "      <td>https://www.amazon.com/CHUWI-Windows-Office-Ex...</td>\n",
       "      <td>https://images-na.ssl-images-amazon.com/images...</td>\n",
       "      <td>4.3</td>\n",
       "      <td>45</td>\n",
       "      <td>{'symbol': '$', 'value': 299.99, 'currency': '...</td>\n",
       "      <td>{'symbol': '$', 'value': 299.99, 'currency': '...</td>\n",
       "      <td>{'symbol': '$', 'value': 299.99, 'currency': '...</td>\n",
       "    </tr>\n",
       "    <tr>\n",
       "      <th>49</th>\n",
       "      <td>50</td>\n",
       "      <td>50</td>\n",
       "      <td>HP 22-inch All-in-One Desktop Computer, AMD At...</td>\n",
       "      <td>B0849P8D69</td>\n",
       "      <td>https://www.amazon.com/HP-22-inch-Computer-Pro...</td>\n",
       "      <td>https://images-na.ssl-images-amazon.com/images...</td>\n",
       "      <td>4.1</td>\n",
       "      <td>216</td>\n",
       "      <td>{'symbol': '$', 'value': 460.14, 'currency': '...</td>\n",
       "      <td>{'symbol': '$', 'value': 460.14, 'currency': '...</td>\n",
       "      <td>{'symbol': '$', 'value': 460.14, 'currency': '...</td>\n",
       "    </tr>\n",
       "  </tbody>\n",
       "</table>\n",
       "</div>"
      ],
      "text/plain": [
       "    rank  position                                              title  \\\n",
       "0      1         1  CYBERPOWERPC Gamer Xtreme VR Gaming PC, Intel ...   \n",
       "1      2         2  SkyTech Blaze II Gaming Computer PC Desktop – ...   \n",
       "2      3         3  Acer Aspire TC-885-UA92 Desktop, 9th Gen Intel...   \n",
       "3      4         4  (Renewed) Dell Optiplex 7010 Business Desktop ...   \n",
       "4      5         5  (Renewed) HP 8300 Elite Small Form Factor Desk...   \n",
       "5      6         6  Acer Aspire Z24-890-UA91 AIO Desktop, 23.8 inc...   \n",
       "6      7         7  (Renewed) Dell Optiplex 7010 Business Desktop ...   \n",
       "7      8         8  iBUYPOWER Gaming PC Computer Desktop Element 9...   \n",
       "8      9         9  Dell OptiPlex 9020-SFF, Intel Core i5-4570 3.2...   \n",
       "9     10        10  Skytech Archangel Gaming Computer PC Desktop –...   \n",
       "10    11        11  HP Elite Desktop PC Computer Intel Core i5 3.1...   \n",
       "11    12        12  DELL Optiplex Desktop with 22in LCD Monitor (C...   \n",
       "12    13        13  CYBERPOWERPC Gamer Xtreme VR Gaming PC, Intel ...   \n",
       "13    14        14  Dell Optiplex 790 Core i5 3.1GHz, 1TB Hard Dri...   \n",
       "14    15        15  Dell Optiplex 7010 Business Desktop Computer (...   \n",
       "15    16        16  Apple Mac Mini (3.6GHz Quad-core 8th-Generatio...   \n",
       "16    17        17  (Renewed) HP ProDesk 600 G1 SFF Slim Business ...   \n",
       "17    18        18  Dell OptiPlex Desktop Complete Computer Packag...   \n",
       "18    19        19  HP 21.5-Inch All-in-One Computer, AMD A4-9125,...   \n",
       "19    20        20  SkyTech Blaze II Gaming Computer PC Desktop – ...   \n",
       "20    21        21  (Renewed) HP Elite 8300 Ultra Small Slim High ...   \n",
       "21    22        22  HP EliteDesk 800 G1 Small Form Desktop Compute...   \n",
       "22    23        23  CyberPowerPC Gamer Master Gaming PC, AMD Ryzen...   \n",
       "23    24        24  HP Elite 6300 SFF Small Form Factor Business D...   \n",
       "24    25        25  Dell Optiplex 9020 Mini Tower Desktop PC, Inte...   \n",
       "25    26        26  Acer Aspire TC-885-UA91 Desktop, 9th Gen Intel...   \n",
       "26    27        27  Gaming PC Desktop Computer Intel i5 3.10GHz,8G...   \n",
       "27    28        28  HP Pavilion Gaming Desktop Computer, AMD Ryzen...   \n",
       "28    29        29  (Renewed) HP Flagship Pro Desktop Computer, Co...   \n",
       "29    30        30  Dell Optiplex 7010 Small Form Factor Desktop C...   \n",
       "30    31        31  [Ryzen & GTX 1050 Ti Edition] SkyTech Archange...   \n",
       "31    32        32  HP Elite PC Desktop Computer Package - Intel Q...   \n",
       "32    33        33  Dell Optiplex 9010 SFF Desktop PC - Intel Core...   \n",
       "33    34        34  [Ryzen & GTX 1050 Ti Edition] SkyTech Shadow G...   \n",
       "34    35        35  HP Elite 8200 SFF Desktop PC - Intel Core i5-2...   \n",
       "35    36        36  HP Elite Desktop Computer, Intel Core i5 3.2 G...   \n",
       "36    37        37  Mini PC Intel Celeron N4000(up to 2.6GHz), DDR...   \n",
       "37    38        38  HP Elite 8200 Mini-Tower Workstation - Core i7...   \n",
       "38    39        39  (Renewed) Dell Optiplex 7010 Desktop Computer ...   \n",
       "39    40        40   New Apple iMac (21.5-inch, 8GB RAM, 1TB Storage)   \n",
       "40    41        41  Mini PC Fanless Intel Atom Quad Core CPU 4GB D...   \n",
       "41    42        42  Apple iMac (21.5-inch, Previous Model, 8GB RAM...   \n",
       "42    43        43  Dell Optiplex 7020 Desktop Computer, Intel Qua...   \n",
       "43    44        44  Skytech Archangel Gaming Computer PC Desktop –...   \n",
       "44    45        45     New Apple iMac (27-inch, 8GB RAM, 1TB Storage)   \n",
       "45    46        46  ASUS CHROMEBOX 3-N017U Mini PC with Intel Cele...   \n",
       "46    47        47  New Alienware Aurora R10 Gaming Desktop, AMD R...   \n",
       "47    48        48  Skytech Archangel Gaming Computer PC Desktop –...   \n",
       "48    49        49  CHUWI CoreBox Windows 10 Mini PC,Intel Core i5...   \n",
       "49    50        50  HP 22-inch All-in-One Desktop Computer, AMD At...   \n",
       "\n",
       "          asin                                               link  \\\n",
       "0   B07VGJDKZ4  https://www.amazon.com/CYBERPOWERPC-Xtreme-i5-...   \n",
       "1   B07RHBLV7F  https://www.amazon.com/SkyTech-Blaze-II-Gaming...   \n",
       "2   B07R8WJMW6  https://www.amazon.com/Acer-TC-885-UA92-Deskto...   \n",
       "3   B01LKOZEF0  https://www.amazon.com/Dell-Optiplex-7010-Prof...   \n",
       "4   B01CV9G1BO  https://www.amazon.com/HP-8300-Elite-Computer-...   \n",
       "5   B07R4PQJNM  https://www.amazon.com/Acer-Z24-890-UA91-i5-94...   \n",
       "6   B07SYC6HRK  https://www.amazon.com/Dell-Optiplex-7010-Busi...   \n",
       "7   B07V34QQ3C  https://www.amazon.com/iBUYPOWER-Computer-Elem...   \n",
       "8   B07TB9G2R6  https://www.amazon.com/Dell-OptiPlex-9020-SFF-...   \n",
       "9   B088W1QJP1  https://www.amazon.com/Skytech-Archangel-Gamin...   \n",
       "10  B07SBK9LRY  https://www.amazon.com/HP-Desktop-Computer-Pac...   \n",
       "11  B01LY0WLCT  https://www.amazon.com/Optiplex-Desktop-Monito...   \n",
       "12  B07PKXQBHN  https://www.amazon.com/CyberpowerPC-Xtreme-i5-...   \n",
       "13  B07HB9R7ZC  https://www.amazon.com/Dell-Optiplex-Monitors-...   \n",
       "14  B0725BFYV6  https://www.amazon.com/Dell-Optiplex-Business-...   \n",
       "15  B086394KV1  https://www.amazon.com/Apple-Quad-core-8th-Gen...   \n",
       "16  B07BCGW85X  https://www.amazon.com/HP-ProDesk-600-G1-SFF/d...   \n",
       "17  B00IOTZGOE  https://www.amazon.com/Dell-OptiPlex-Desktop-C...   \n",
       "18  B07VDJ5RVF  https://www.amazon.com/HP-21-5-Inch-Computer-A...   \n",
       "19  B085F2BFWR  https://www.amazon.com/SkyTech-Blaze-Gaming-Co...   \n",
       "20  B074T2L4CC  https://www.amazon.com/Elite-8300-Performance-...   \n",
       "21  B0784F3NHF  https://www.amazon.com/HP-EliteDesk-800-G1-Ref...   \n",
       "22  B07X31NT47  https://www.amazon.com/CyberpowerPC-Master-Gam...   \n",
       "23  B07CGBYBXM  https://www.amazon.com/HP-Quad-Core-Profession...   \n",
       "24  B082QMTGW8  https://www.amazon.com/Dell-Optiplex-Desktop-i...   \n",
       "25  B07R8WK8VP  https://www.amazon.com/Acer-TC-885-UA91-Deskto...   \n",
       "26  B07YQCQBJK  https://www.amazon.com/Gaming-Desktop-Computer...   \n",
       "27  B07XV7YRSL  https://www.amazon.com/HP-Pavilion-Computer-Pr...   \n",
       "28  B07L7P3XYW  https://www.amazon.com/HP-Flagship-Pro-Bit-Mul...   \n",
       "29  B077D4SFMF  https://www.amazon.com/Dell-Optiplex-7010-Quad...   \n",
       "30  B077QDM2DP  https://www.amazon.com/SkyTech-ArchAngel-Gamin...   \n",
       "31  B07SHJN3R6  https://www.amazon.com/HP-Elite-Desktop-Comput...   \n",
       "32  B078WGWZ1X  https://www.amazon.com/Dell-Optiplex-9010-SFF-...   \n",
       "33  B077QDRBF9  https://www.amazon.com/SkyTech-Gaming-Computer...   \n",
       "34  B01HSJ2O0Y  https://www.amazon.com/HP-Elite-8200-SFF-Deskt...   \n",
       "35  B07R6NWGHK  https://www.amazon.com/HP-Desktop-Computer-Key...   \n",
       "36  B082VVCFNG  https://www.amazon.com/Celeron-Fanless-Compute...   \n",
       "37  B01K5TZMNA  https://www.amazon.com/HP-Elite-8200-Mini-Towe...   \n",
       "38  B07RNMXDRF  https://www.amazon.com/Dell-Optiplex-7010-Desk...   \n",
       "39  B07Q1P5SB5  https://www.amazon.com/Apple-21-5-inch-quad-co...   \n",
       "40  B07QY8LDGX  https://www.amazon.com/Fanless-Desktop-Compute...   \n",
       "41  B072QGX65K  https://www.amazon.com/Apple-2-3GHz-dual-core-...   \n",
       "42  B07TWJCW6H  https://www.amazon.com/Dell-Optiplex-Computer-...   \n",
       "43  B07WCLNZWR  https://www.amazon.com/Skytech-Archangel-Gamin...   \n",
       "44  B07Q1NBCVB  https://www.amazon.com/Apple-27-inch-display-8...   \n",
       "45  B07CLQZHF9  https://www.amazon.com/CHROMEBOX-3-N017U-Intel...   \n",
       "46  B084GSGQZQ  https://www.amazon.com/Alienware-Aurora-Deskto...   \n",
       "47  B085X2DCBT  https://www.amazon.com/Skytech-Archangel-Gamin...   \n",
       "48  B07T5BNF14  https://www.amazon.com/CHUWI-Windows-Office-Ex...   \n",
       "49  B0849P8D69  https://www.amazon.com/HP-22-inch-Computer-Pro...   \n",
       "\n",
       "                                                image  rating  ratings_total  \\\n",
       "0   https://images-na.ssl-images-amazon.com/images...     4.5           2108   \n",
       "1   https://images-na.ssl-images-amazon.com/images...     4.5            549   \n",
       "2   https://images-na.ssl-images-amazon.com/images...     4.3            750   \n",
       "3   https://images-na.ssl-images-amazon.com/images...     4.0            973   \n",
       "4   https://images-na.ssl-images-amazon.com/images...     4.0           2210   \n",
       "5   https://images-na.ssl-images-amazon.com/images...     4.4            473   \n",
       "6   https://images-na.ssl-images-amazon.com/images...     4.1            393   \n",
       "7   https://images-na.ssl-images-amazon.com/images...     4.3           1564   \n",
       "8   https://images-na.ssl-images-amazon.com/images...     4.3            157   \n",
       "9   https://images-na.ssl-images-amazon.com/images...     4.3             39   \n",
       "10  https://images-na.ssl-images-amazon.com/images...     3.7            109   \n",
       "11  https://images-na.ssl-images-amazon.com/images...     3.6            539   \n",
       "12  https://images-na.ssl-images-amazon.com/images...     4.6           1129   \n",
       "13  https://images-na.ssl-images-amazon.com/images...     3.8            316   \n",
       "14  https://images-na.ssl-images-amazon.com/images...     4.4            193   \n",
       "15  https://images-na.ssl-images-amazon.com/images...     3.9             37   \n",
       "16  https://images-na.ssl-images-amazon.com/images...     4.2            569   \n",
       "17  https://images-na.ssl-images-amazon.com/images...     3.4            918   \n",
       "18  https://images-na.ssl-images-amazon.com/images...     4.1            216   \n",
       "19  https://images-na.ssl-images-amazon.com/images...     4.5            549   \n",
       "20  https://images-na.ssl-images-amazon.com/images...     4.1            367   \n",
       "21  https://images-na.ssl-images-amazon.com/images...     4.0            154   \n",
       "22  https://images-na.ssl-images-amazon.com/images...     4.1            242   \n",
       "23  https://images-na.ssl-images-amazon.com/images...     4.4            258   \n",
       "24  https://images-na.ssl-images-amazon.com/images...     3.9            107   \n",
       "25  https://images-na.ssl-images-amazon.com/images...     4.5            399   \n",
       "26  https://images-na.ssl-images-amazon.com/images...     3.5            166   \n",
       "27  https://images-na.ssl-images-amazon.com/images...     4.7             17   \n",
       "28  https://images-na.ssl-images-amazon.com/images...     4.2            520   \n",
       "29  https://images-na.ssl-images-amazon.com/images...     3.8            395   \n",
       "30  https://images-na.ssl-images-amazon.com/images...     4.4           1036   \n",
       "31  https://images-na.ssl-images-amazon.com/images...     3.5             65   \n",
       "32  https://images-na.ssl-images-amazon.com/images...     4.3             89   \n",
       "33  https://images-na.ssl-images-amazon.com/images...     4.4            515   \n",
       "34  https://images-na.ssl-images-amazon.com/images...     4.2            364   \n",
       "35  https://images-na.ssl-images-amazon.com/images...     3.9            105   \n",
       "36  https://images-na.ssl-images-amazon.com/images...     4.4             46   \n",
       "37  https://images-na.ssl-images-amazon.com/images...     3.5             57   \n",
       "38  https://images-na.ssl-images-amazon.com/images...     3.9            126   \n",
       "39  https://images-na.ssl-images-amazon.com/images...     4.2            183   \n",
       "40  https://images-na.ssl-images-amazon.com/images...     4.1            225   \n",
       "41  https://images-na.ssl-images-amazon.com/images...     4.2             83   \n",
       "42  https://images-na.ssl-images-amazon.com/images...     4.0             70   \n",
       "43  https://images-na.ssl-images-amazon.com/images...     4.4            127   \n",
       "44  https://images-na.ssl-images-amazon.com/images...     4.7            241   \n",
       "45  https://images-na.ssl-images-amazon.com/images...     4.3            228   \n",
       "46  https://images-na.ssl-images-amazon.com/images...     4.0             11   \n",
       "47  https://images-na.ssl-images-amazon.com/images...     4.4            127   \n",
       "48  https://images-na.ssl-images-amazon.com/images...     4.3             45   \n",
       "49  https://images-na.ssl-images-amazon.com/images...     4.1            216   \n",
       "\n",
       "                                          price_lower  \\\n",
       "0   {'symbol': '$', 'value': 890.39, 'currency': '...   \n",
       "1   {'symbol': '$', 'value': 749.99, 'currency': '...   \n",
       "2   {'symbol': '$', 'value': 549.99, 'currency': '...   \n",
       "3   {'symbol': '$', 'value': 198.43, 'currency': '...   \n",
       "4   {'symbol': '$', 'value': 139.97, 'currency': '...   \n",
       "5   {'symbol': '$', 'value': 799.99, 'currency': '...   \n",
       "6   {'symbol': '$', 'value': 217.3, 'currency': 'U...   \n",
       "7   {'symbol': '$', 'value': 999.99, 'currency': '...   \n",
       "8   {'symbol': '$', 'value': 262.65, 'currency': '...   \n",
       "9   {'symbol': '$', 'value': 999.99, 'currency': '...   \n",
       "10  {'symbol': '$', 'value': 224.99, 'currency': '...   \n",
       "11  {'symbol': '$', 'value': 185, 'currency': 'USD...   \n",
       "12  {'symbol': '$', 'value': 919.99, 'currency': '...   \n",
       "13  {'symbol': '$', 'value': 339.97, 'currency': '...   \n",
       "14  {'symbol': '$', 'value': 264.84, 'currency': '...   \n",
       "15  {'symbol': '$', 'value': 759, 'currency': 'USD...   \n",
       "16  {'symbol': '$', 'value': 147.99, 'currency': '...   \n",
       "17  {'symbol': '$', 'value': 174.5, 'currency': 'U...   \n",
       "18  {'symbol': '$', 'value': 423.47, 'currency': '...   \n",
       "19  {'symbol': '$', 'value': 899.99, 'currency': '...   \n",
       "20  {'symbol': '$', 'value': 146.96, 'currency': '...   \n",
       "21  {'symbol': '$', 'value': 198.09, 'currency': '...   \n",
       "22  {'symbol': '$', 'value': 1099.99, 'currency': ...   \n",
       "23  {'symbol': '$', 'value': 288.89, 'currency': '...   \n",
       "24  {'symbol': '$', 'value': 579.97, 'currency': '...   \n",
       "25  {'symbol': '$', 'value': 419.99, 'currency': '...   \n",
       "26                                                NaN   \n",
       "27  {'symbol': '$', 'value': 682.43, 'currency': '...   \n",
       "28  {'symbol': '$', 'value': 185.89, 'currency': '...   \n",
       "29  {'symbol': '$', 'value': 266.86, 'currency': '...   \n",
       "30  {'symbol': '$', 'value': 649.99, 'currency': '...   \n",
       "31  {'symbol': '$', 'value': 201.5, 'currency': 'U...   \n",
       "32  {'symbol': '$', 'value': 205.89, 'currency': '...   \n",
       "33  {'symbol': '$', 'value': 649.99, 'currency': '...   \n",
       "34  {'symbol': '$', 'value': 113.68, 'currency': '...   \n",
       "35  {'symbol': '$', 'value': 276.97, 'currency': '...   \n",
       "36  {'symbol': '$', 'value': 169.99, 'currency': '...   \n",
       "37  {'symbol': '$', 'value': 320.9, 'currency': 'U...   \n",
       "38  {'symbol': '$', 'value': 349, 'currency': 'USD...   \n",
       "39  {'symbol': '$', 'value': 1229.99, 'currency': ...   \n",
       "40  {'symbol': '$', 'value': 149.99, 'currency': '...   \n",
       "41  {'symbol': '$', 'value': 999.99, 'currency': '...   \n",
       "42  {'symbol': '$', 'value': 399, 'currency': 'USD...   \n",
       "43  {'symbol': '$', 'value': 899.99, 'currency': '...   \n",
       "44  {'symbol': '$', 'value': 1799, 'currency': 'US...   \n",
       "45  {'symbol': '$', 'value': 262.94, 'currency': '...   \n",
       "46  {'symbol': '$', 'value': 1408.64, 'currency': ...   \n",
       "47  {'symbol': '$', 'value': 1199.99, 'currency': ...   \n",
       "48  {'symbol': '$', 'value': 299.99, 'currency': '...   \n",
       "49  {'symbol': '$', 'value': 460.14, 'currency': '...   \n",
       "\n",
       "                                          price_upper  \\\n",
       "0   {'symbol': '$', 'value': 890.39, 'currency': '...   \n",
       "1   {'symbol': '$', 'value': 749.99, 'currency': '...   \n",
       "2   {'symbol': '$', 'value': 549.99, 'currency': '...   \n",
       "3   {'symbol': '$', 'value': 198.43, 'currency': '...   \n",
       "4   {'symbol': '$', 'value': 139.97, 'currency': '...   \n",
       "5   {'symbol': '$', 'value': 799.99, 'currency': '...   \n",
       "6   {'symbol': '$', 'value': 217.3, 'currency': 'U...   \n",
       "7   {'symbol': '$', 'value': 999.99, 'currency': '...   \n",
       "8   {'symbol': '$', 'value': 262.65, 'currency': '...   \n",
       "9   {'symbol': '$', 'value': 999.99, 'currency': '...   \n",
       "10  {'symbol': '$', 'value': 224.99, 'currency': '...   \n",
       "11  {'symbol': '$', 'value': 185, 'currency': 'USD...   \n",
       "12  {'symbol': '$', 'value': 919.99, 'currency': '...   \n",
       "13  {'symbol': '$', 'value': 339.97, 'currency': '...   \n",
       "14  {'symbol': '$', 'value': 264.84, 'currency': '...   \n",
       "15  {'symbol': '$', 'value': 759, 'currency': 'USD...   \n",
       "16  {'symbol': '$', 'value': 147.99, 'currency': '...   \n",
       "17  {'symbol': '$', 'value': 174.5, 'currency': 'U...   \n",
       "18  {'symbol': '$', 'value': 423.47, 'currency': '...   \n",
       "19  {'symbol': '$', 'value': 899.99, 'currency': '...   \n",
       "20  {'symbol': '$', 'value': 146.96, 'currency': '...   \n",
       "21  {'symbol': '$', 'value': 198.09, 'currency': '...   \n",
       "22  {'symbol': '$', 'value': 1099.99, 'currency': ...   \n",
       "23  {'symbol': '$', 'value': 288.89, 'currency': '...   \n",
       "24  {'symbol': '$', 'value': 579.97, 'currency': '...   \n",
       "25  {'symbol': '$', 'value': 419.99, 'currency': '...   \n",
       "26                                                NaN   \n",
       "27  {'symbol': '$', 'value': 682.43, 'currency': '...   \n",
       "28  {'symbol': '$', 'value': 185.89, 'currency': '...   \n",
       "29  {'symbol': '$', 'value': 266.86, 'currency': '...   \n",
       "30  {'symbol': '$', 'value': 649.99, 'currency': '...   \n",
       "31  {'symbol': '$', 'value': 201.5, 'currency': 'U...   \n",
       "32  {'symbol': '$', 'value': 205.89, 'currency': '...   \n",
       "33  {'symbol': '$', 'value': 649.99, 'currency': '...   \n",
       "34  {'symbol': '$', 'value': 113.68, 'currency': '...   \n",
       "35  {'symbol': '$', 'value': 276.97, 'currency': '...   \n",
       "36  {'symbol': '$', 'value': 169.99, 'currency': '...   \n",
       "37  {'symbol': '$', 'value': 320.9, 'currency': 'U...   \n",
       "38  {'symbol': '$', 'value': 349, 'currency': 'USD...   \n",
       "39  {'symbol': '$', 'value': 1229.99, 'currency': ...   \n",
       "40  {'symbol': '$', 'value': 149.99, 'currency': '...   \n",
       "41  {'symbol': '$', 'value': 999.99, 'currency': '...   \n",
       "42  {'symbol': '$', 'value': 399, 'currency': 'USD...   \n",
       "43  {'symbol': '$', 'value': 899.99, 'currency': '...   \n",
       "44  {'symbol': '$', 'value': 1799, 'currency': 'US...   \n",
       "45  {'symbol': '$', 'value': 262.94, 'currency': '...   \n",
       "46  {'symbol': '$', 'value': 1408.64, 'currency': ...   \n",
       "47  {'symbol': '$', 'value': 1199.99, 'currency': ...   \n",
       "48  {'symbol': '$', 'value': 299.99, 'currency': '...   \n",
       "49  {'symbol': '$', 'value': 460.14, 'currency': '...   \n",
       "\n",
       "                                                price  \n",
       "0   {'symbol': '$', 'value': 890.39, 'currency': '...  \n",
       "1   {'symbol': '$', 'value': 749.99, 'currency': '...  \n",
       "2   {'symbol': '$', 'value': 549.99, 'currency': '...  \n",
       "3   {'symbol': '$', 'value': 198.43, 'currency': '...  \n",
       "4   {'symbol': '$', 'value': 139.97, 'currency': '...  \n",
       "5   {'symbol': '$', 'value': 799.99, 'currency': '...  \n",
       "6   {'symbol': '$', 'value': 217.3, 'currency': 'U...  \n",
       "7   {'symbol': '$', 'value': 999.99, 'currency': '...  \n",
       "8   {'symbol': '$', 'value': 262.65, 'currency': '...  \n",
       "9   {'symbol': '$', 'value': 999.99, 'currency': '...  \n",
       "10  {'symbol': '$', 'value': 224.99, 'currency': '...  \n",
       "11  {'symbol': '$', 'value': 185, 'currency': 'USD...  \n",
       "12  {'symbol': '$', 'value': 919.99, 'currency': '...  \n",
       "13  {'symbol': '$', 'value': 339.97, 'currency': '...  \n",
       "14  {'symbol': '$', 'value': 264.84, 'currency': '...  \n",
       "15  {'symbol': '$', 'value': 759, 'currency': 'USD...  \n",
       "16  {'symbol': '$', 'value': 147.99, 'currency': '...  \n",
       "17  {'symbol': '$', 'value': 174.5, 'currency': 'U...  \n",
       "18  {'symbol': '$', 'value': 423.47, 'currency': '...  \n",
       "19  {'symbol': '$', 'value': 899.99, 'currency': '...  \n",
       "20  {'symbol': '$', 'value': 146.96, 'currency': '...  \n",
       "21  {'symbol': '$', 'value': 198.09, 'currency': '...  \n",
       "22  {'symbol': '$', 'value': 1099.99, 'currency': ...  \n",
       "23  {'symbol': '$', 'value': 288.89, 'currency': '...  \n",
       "24  {'symbol': '$', 'value': 579.97, 'currency': '...  \n",
       "25  {'symbol': '$', 'value': 419.99, 'currency': '...  \n",
       "26                                                NaN  \n",
       "27  {'symbol': '$', 'value': 682.43, 'currency': '...  \n",
       "28  {'symbol': '$', 'value': 185.89, 'currency': '...  \n",
       "29  {'symbol': '$', 'value': 266.86, 'currency': '...  \n",
       "30  {'symbol': '$', 'value': 649.99, 'currency': '...  \n",
       "31  {'symbol': '$', 'value': 201.5, 'currency': 'U...  \n",
       "32  {'symbol': '$', 'value': 205.89, 'currency': '...  \n",
       "33  {'symbol': '$', 'value': 649.99, 'currency': '...  \n",
       "34  {'symbol': '$', 'value': 113.68, 'currency': '...  \n",
       "35  {'symbol': '$', 'value': 276.97, 'currency': '...  \n",
       "36  {'symbol': '$', 'value': 169.99, 'currency': '...  \n",
       "37  {'symbol': '$', 'value': 320.9, 'currency': 'U...  \n",
       "38  {'symbol': '$', 'value': 349, 'currency': 'USD...  \n",
       "39  {'symbol': '$', 'value': 1229.99, 'currency': ...  \n",
       "40  {'symbol': '$', 'value': 149.99, 'currency': '...  \n",
       "41  {'symbol': '$', 'value': 999.99, 'currency': '...  \n",
       "42  {'symbol': '$', 'value': 399, 'currency': 'USD...  \n",
       "43  {'symbol': '$', 'value': 899.99, 'currency': '...  \n",
       "44  {'symbol': '$', 'value': 1799, 'currency': 'US...  \n",
       "45  {'symbol': '$', 'value': 262.94, 'currency': '...  \n",
       "46  {'symbol': '$', 'value': 1408.64, 'currency': ...  \n",
       "47  {'symbol': '$', 'value': 1199.99, 'currency': ...  \n",
       "48  {'symbol': '$', 'value': 299.99, 'currency': '...  \n",
       "49  {'symbol': '$', 'value': 460.14, 'currency': '...  "
      ]
     },
     "execution_count": 5,
     "metadata": {},
     "output_type": "execute_result"
    }
   ],
   "source": [
    "# set up the request parameters\n",
    "params = {\n",
    "  'api_key': '1DFD79415A3B483D8FD919F029786BFB',\n",
    "  'type': 'bestsellers',\n",
    "  'url': 'https://www.amazon.com/Best-Sellers-Electronics-Desktop-Computers/zgbs/electronics/565098/ref=zg_bs_pg_1?_encoding=UTF8&pg=1',\n",
    " \n",
    "    }\n",
    "\n",
    "# make the http GET request to Rainforest API\n",
    "api_result = requests.get('https://api.rainforestapi.com/request', params)\n",
    "\n",
    "# make a data frame from the json results above\n",
    "api_rb_desktop1= pd.DataFrame(api_result.json()['bestsellers'])\n",
    "api_rb_desktop1\n"
   ]
  },
  {
   "cell_type": "markdown",
   "metadata": {},
   "source": [
    "### normalize and create a dataframe in one line"
   ]
  },
  {
   "cell_type": "code",
   "execution_count": 6,
   "metadata": {},
   "outputs": [
    {
     "data": {
      "text/html": [
       "<div>\n",
       "<style scoped>\n",
       "    .dataframe tbody tr th:only-of-type {\n",
       "        vertical-align: middle;\n",
       "    }\n",
       "\n",
       "    .dataframe tbody tr th {\n",
       "        vertical-align: top;\n",
       "    }\n",
       "\n",
       "    .dataframe thead th {\n",
       "        text-align: right;\n",
       "    }\n",
       "</style>\n",
       "<table border=\"1\" class=\"dataframe\">\n",
       "  <thead>\n",
       "    <tr style=\"text-align: right;\">\n",
       "      <th></th>\n",
       "      <th>rank</th>\n",
       "      <th>position</th>\n",
       "      <th>title</th>\n",
       "      <th>asin</th>\n",
       "      <th>link</th>\n",
       "      <th>image</th>\n",
       "      <th>rating</th>\n",
       "      <th>ratings_total</th>\n",
       "      <th>price_lower.symbol</th>\n",
       "      <th>price_lower.value</th>\n",
       "      <th>price_lower.currency</th>\n",
       "      <th>price_lower.raw</th>\n",
       "      <th>price_upper.symbol</th>\n",
       "      <th>price_upper.value</th>\n",
       "      <th>price_upper.currency</th>\n",
       "      <th>price_upper.raw</th>\n",
       "      <th>price.symbol</th>\n",
       "      <th>price.value</th>\n",
       "      <th>price.currency</th>\n",
       "      <th>price.raw</th>\n",
       "    </tr>\n",
       "  </thead>\n",
       "  <tbody>\n",
       "    <tr>\n",
       "      <th>0</th>\n",
       "      <td>1</td>\n",
       "      <td>1</td>\n",
       "      <td>CYBERPOWERPC Gamer Xtreme VR Gaming PC, Intel ...</td>\n",
       "      <td>B07VGJDKZ4</td>\n",
       "      <td>https://www.amazon.com/CYBERPOWERPC-Xtreme-i5-...</td>\n",
       "      <td>https://images-na.ssl-images-amazon.com/images...</td>\n",
       "      <td>4.5</td>\n",
       "      <td>2108</td>\n",
       "      <td>$</td>\n",
       "      <td>890.39</td>\n",
       "      <td>USD</td>\n",
       "      <td>$890.39</td>\n",
       "      <td>$</td>\n",
       "      <td>890.39</td>\n",
       "      <td>USD</td>\n",
       "      <td>$890.39</td>\n",
       "      <td>$</td>\n",
       "      <td>890.39</td>\n",
       "      <td>USD</td>\n",
       "      <td>$890.39 - $890.39</td>\n",
       "    </tr>\n",
       "    <tr>\n",
       "      <th>1</th>\n",
       "      <td>2</td>\n",
       "      <td>2</td>\n",
       "      <td>SkyTech Blaze II Gaming Computer PC Desktop – ...</td>\n",
       "      <td>B07RHBLV7F</td>\n",
       "      <td>https://www.amazon.com/SkyTech-Blaze-II-Gaming...</td>\n",
       "      <td>https://images-na.ssl-images-amazon.com/images...</td>\n",
       "      <td>4.5</td>\n",
       "      <td>549</td>\n",
       "      <td>$</td>\n",
       "      <td>749.99</td>\n",
       "      <td>USD</td>\n",
       "      <td>$749.99</td>\n",
       "      <td>$</td>\n",
       "      <td>749.99</td>\n",
       "      <td>USD</td>\n",
       "      <td>$749.99</td>\n",
       "      <td>$</td>\n",
       "      <td>749.99</td>\n",
       "      <td>USD</td>\n",
       "      <td>$749.99 - $749.99</td>\n",
       "    </tr>\n",
       "    <tr>\n",
       "      <th>2</th>\n",
       "      <td>3</td>\n",
       "      <td>3</td>\n",
       "      <td>Acer Aspire TC-885-UA92 Desktop, 9th Gen Intel...</td>\n",
       "      <td>B07R8WJMW6</td>\n",
       "      <td>https://www.amazon.com/Acer-TC-885-UA92-Deskto...</td>\n",
       "      <td>https://images-na.ssl-images-amazon.com/images...</td>\n",
       "      <td>4.3</td>\n",
       "      <td>750</td>\n",
       "      <td>$</td>\n",
       "      <td>549.99</td>\n",
       "      <td>USD</td>\n",
       "      <td>$549.99</td>\n",
       "      <td>$</td>\n",
       "      <td>549.99</td>\n",
       "      <td>USD</td>\n",
       "      <td>$549.99</td>\n",
       "      <td>$</td>\n",
       "      <td>549.99</td>\n",
       "      <td>USD</td>\n",
       "      <td>$549.99 - $549.99</td>\n",
       "    </tr>\n",
       "    <tr>\n",
       "      <th>3</th>\n",
       "      <td>4</td>\n",
       "      <td>4</td>\n",
       "      <td>(Renewed) Dell Optiplex 7010 Business Desktop ...</td>\n",
       "      <td>B01LKOZEF0</td>\n",
       "      <td>https://www.amazon.com/Dell-Optiplex-7010-Prof...</td>\n",
       "      <td>https://images-na.ssl-images-amazon.com/images...</td>\n",
       "      <td>4.0</td>\n",
       "      <td>973</td>\n",
       "      <td>$</td>\n",
       "      <td>198.43</td>\n",
       "      <td>USD</td>\n",
       "      <td>$198.43</td>\n",
       "      <td>$</td>\n",
       "      <td>198.43</td>\n",
       "      <td>USD</td>\n",
       "      <td>$198.43</td>\n",
       "      <td>$</td>\n",
       "      <td>198.43</td>\n",
       "      <td>USD</td>\n",
       "      <td>$198.43 - $198.43</td>\n",
       "    </tr>\n",
       "    <tr>\n",
       "      <th>4</th>\n",
       "      <td>5</td>\n",
       "      <td>5</td>\n",
       "      <td>(Renewed) HP 8300 Elite Small Form Factor Desk...</td>\n",
       "      <td>B01CV9G1BO</td>\n",
       "      <td>https://www.amazon.com/HP-8300-Elite-Computer-...</td>\n",
       "      <td>https://images-na.ssl-images-amazon.com/images...</td>\n",
       "      <td>4.0</td>\n",
       "      <td>2210</td>\n",
       "      <td>$</td>\n",
       "      <td>139.97</td>\n",
       "      <td>USD</td>\n",
       "      <td>$139.97</td>\n",
       "      <td>$</td>\n",
       "      <td>139.97</td>\n",
       "      <td>USD</td>\n",
       "      <td>$139.97</td>\n",
       "      <td>$</td>\n",
       "      <td>139.97</td>\n",
       "      <td>USD</td>\n",
       "      <td>$139.97 - $139.97</td>\n",
       "    </tr>\n",
       "    <tr>\n",
       "      <th>5</th>\n",
       "      <td>6</td>\n",
       "      <td>6</td>\n",
       "      <td>Acer Aspire Z24-890-UA91 AIO Desktop, 23.8 inc...</td>\n",
       "      <td>B07R4PQJNM</td>\n",
       "      <td>https://www.amazon.com/Acer-Z24-890-UA91-i5-94...</td>\n",
       "      <td>https://images-na.ssl-images-amazon.com/images...</td>\n",
       "      <td>4.4</td>\n",
       "      <td>473</td>\n",
       "      <td>$</td>\n",
       "      <td>799.99</td>\n",
       "      <td>USD</td>\n",
       "      <td>$799.99</td>\n",
       "      <td>$</td>\n",
       "      <td>799.99</td>\n",
       "      <td>USD</td>\n",
       "      <td>$799.99</td>\n",
       "      <td>$</td>\n",
       "      <td>799.99</td>\n",
       "      <td>USD</td>\n",
       "      <td>$799.99 - $799.99</td>\n",
       "    </tr>\n",
       "    <tr>\n",
       "      <th>6</th>\n",
       "      <td>7</td>\n",
       "      <td>7</td>\n",
       "      <td>(Renewed) Dell Optiplex 7010 Business Desktop ...</td>\n",
       "      <td>B07SYC6HRK</td>\n",
       "      <td>https://www.amazon.com/Dell-Optiplex-7010-Busi...</td>\n",
       "      <td>https://images-na.ssl-images-amazon.com/images...</td>\n",
       "      <td>4.1</td>\n",
       "      <td>393</td>\n",
       "      <td>$</td>\n",
       "      <td>217.30</td>\n",
       "      <td>USD</td>\n",
       "      <td>$217.30</td>\n",
       "      <td>$</td>\n",
       "      <td>217.30</td>\n",
       "      <td>USD</td>\n",
       "      <td>$217.30</td>\n",
       "      <td>$</td>\n",
       "      <td>217.30</td>\n",
       "      <td>USD</td>\n",
       "      <td>$217.30 - $217.30</td>\n",
       "    </tr>\n",
       "    <tr>\n",
       "      <th>7</th>\n",
       "      <td>8</td>\n",
       "      <td>8</td>\n",
       "      <td>iBUYPOWER Gaming PC Computer Desktop Element 9...</td>\n",
       "      <td>B07V34QQ3C</td>\n",
       "      <td>https://www.amazon.com/iBUYPOWER-Computer-Elem...</td>\n",
       "      <td>https://images-na.ssl-images-amazon.com/images...</td>\n",
       "      <td>4.3</td>\n",
       "      <td>1564</td>\n",
       "      <td>$</td>\n",
       "      <td>999.99</td>\n",
       "      <td>USD</td>\n",
       "      <td>$999.99</td>\n",
       "      <td>$</td>\n",
       "      <td>999.99</td>\n",
       "      <td>USD</td>\n",
       "      <td>$999.99</td>\n",
       "      <td>$</td>\n",
       "      <td>999.99</td>\n",
       "      <td>USD</td>\n",
       "      <td>$999.99 - $999.99</td>\n",
       "    </tr>\n",
       "    <tr>\n",
       "      <th>8</th>\n",
       "      <td>9</td>\n",
       "      <td>9</td>\n",
       "      <td>Dell OptiPlex 9020-SFF, Intel Core i5-4570 3.2...</td>\n",
       "      <td>B07TB9G2R6</td>\n",
       "      <td>https://www.amazon.com/Dell-OptiPlex-9020-SFF-...</td>\n",
       "      <td>https://images-na.ssl-images-amazon.com/images...</td>\n",
       "      <td>4.3</td>\n",
       "      <td>157</td>\n",
       "      <td>$</td>\n",
       "      <td>262.65</td>\n",
       "      <td>USD</td>\n",
       "      <td>$262.65</td>\n",
       "      <td>$</td>\n",
       "      <td>262.65</td>\n",
       "      <td>USD</td>\n",
       "      <td>$262.65</td>\n",
       "      <td>$</td>\n",
       "      <td>262.65</td>\n",
       "      <td>USD</td>\n",
       "      <td>$262.65 - $262.65</td>\n",
       "    </tr>\n",
       "    <tr>\n",
       "      <th>9</th>\n",
       "      <td>10</td>\n",
       "      <td>10</td>\n",
       "      <td>Skytech Archangel Gaming Computer PC Desktop –...</td>\n",
       "      <td>B088W1QJP1</td>\n",
       "      <td>https://www.amazon.com/Skytech-Archangel-Gamin...</td>\n",
       "      <td>https://images-na.ssl-images-amazon.com/images...</td>\n",
       "      <td>4.3</td>\n",
       "      <td>39</td>\n",
       "      <td>$</td>\n",
       "      <td>999.99</td>\n",
       "      <td>USD</td>\n",
       "      <td>$999.99</td>\n",
       "      <td>$</td>\n",
       "      <td>999.99</td>\n",
       "      <td>USD</td>\n",
       "      <td>$999.99</td>\n",
       "      <td>$</td>\n",
       "      <td>999.99</td>\n",
       "      <td>USD</td>\n",
       "      <td>$999.99 - $999.99</td>\n",
       "    </tr>\n",
       "    <tr>\n",
       "      <th>10</th>\n",
       "      <td>11</td>\n",
       "      <td>11</td>\n",
       "      <td>HP Elite Desktop PC Computer Intel Core i5 3.1...</td>\n",
       "      <td>B07SBK9LRY</td>\n",
       "      <td>https://www.amazon.com/HP-Desktop-Computer-Pac...</td>\n",
       "      <td>https://images-na.ssl-images-amazon.com/images...</td>\n",
       "      <td>3.7</td>\n",
       "      <td>109</td>\n",
       "      <td>$</td>\n",
       "      <td>224.99</td>\n",
       "      <td>USD</td>\n",
       "      <td>$224.99</td>\n",
       "      <td>$</td>\n",
       "      <td>224.99</td>\n",
       "      <td>USD</td>\n",
       "      <td>$224.99</td>\n",
       "      <td>$</td>\n",
       "      <td>224.99</td>\n",
       "      <td>USD</td>\n",
       "      <td>$224.99 - $224.99</td>\n",
       "    </tr>\n",
       "    <tr>\n",
       "      <th>11</th>\n",
       "      <td>12</td>\n",
       "      <td>12</td>\n",
       "      <td>DELL Optiplex Desktop with 22in LCD Monitor (C...</td>\n",
       "      <td>B01LY0WLCT</td>\n",
       "      <td>https://www.amazon.com/Optiplex-Desktop-Monito...</td>\n",
       "      <td>https://images-na.ssl-images-amazon.com/images...</td>\n",
       "      <td>3.6</td>\n",
       "      <td>539</td>\n",
       "      <td>$</td>\n",
       "      <td>185.00</td>\n",
       "      <td>USD</td>\n",
       "      <td>$185.00</td>\n",
       "      <td>$</td>\n",
       "      <td>185.00</td>\n",
       "      <td>USD</td>\n",
       "      <td>$185.00</td>\n",
       "      <td>$</td>\n",
       "      <td>185.00</td>\n",
       "      <td>USD</td>\n",
       "      <td>$185.00 - $185.00</td>\n",
       "    </tr>\n",
       "    <tr>\n",
       "      <th>12</th>\n",
       "      <td>13</td>\n",
       "      <td>13</td>\n",
       "      <td>CYBERPOWERPC Gamer Xtreme VR Gaming PC, Intel ...</td>\n",
       "      <td>B07PKXQBHN</td>\n",
       "      <td>https://www.amazon.com/CyberpowerPC-Xtreme-i5-...</td>\n",
       "      <td>https://images-na.ssl-images-amazon.com/images...</td>\n",
       "      <td>4.6</td>\n",
       "      <td>1129</td>\n",
       "      <td>$</td>\n",
       "      <td>919.99</td>\n",
       "      <td>USD</td>\n",
       "      <td>$919.99</td>\n",
       "      <td>$</td>\n",
       "      <td>919.99</td>\n",
       "      <td>USD</td>\n",
       "      <td>$919.99</td>\n",
       "      <td>$</td>\n",
       "      <td>919.99</td>\n",
       "      <td>USD</td>\n",
       "      <td>$919.99 - $919.99</td>\n",
       "    </tr>\n",
       "    <tr>\n",
       "      <th>13</th>\n",
       "      <td>14</td>\n",
       "      <td>14</td>\n",
       "      <td>Dell Optiplex 790 Core i5 3.1GHz, 1TB Hard Dri...</td>\n",
       "      <td>B07HB9R7ZC</td>\n",
       "      <td>https://www.amazon.com/Dell-Optiplex-Monitors-...</td>\n",
       "      <td>https://images-na.ssl-images-amazon.com/images...</td>\n",
       "      <td>3.8</td>\n",
       "      <td>316</td>\n",
       "      <td>$</td>\n",
       "      <td>339.97</td>\n",
       "      <td>USD</td>\n",
       "      <td>$339.97</td>\n",
       "      <td>$</td>\n",
       "      <td>339.97</td>\n",
       "      <td>USD</td>\n",
       "      <td>$339.97</td>\n",
       "      <td>$</td>\n",
       "      <td>339.97</td>\n",
       "      <td>USD</td>\n",
       "      <td>$339.97 - $339.97</td>\n",
       "    </tr>\n",
       "    <tr>\n",
       "      <th>14</th>\n",
       "      <td>15</td>\n",
       "      <td>15</td>\n",
       "      <td>Dell Optiplex 7010 Business Desktop Computer (...</td>\n",
       "      <td>B0725BFYV6</td>\n",
       "      <td>https://www.amazon.com/Dell-Optiplex-Business-...</td>\n",
       "      <td>https://images-na.ssl-images-amazon.com/images...</td>\n",
       "      <td>4.4</td>\n",
       "      <td>193</td>\n",
       "      <td>$</td>\n",
       "      <td>264.84</td>\n",
       "      <td>USD</td>\n",
       "      <td>$264.84</td>\n",
       "      <td>$</td>\n",
       "      <td>264.84</td>\n",
       "      <td>USD</td>\n",
       "      <td>$264.84</td>\n",
       "      <td>$</td>\n",
       "      <td>264.84</td>\n",
       "      <td>USD</td>\n",
       "      <td>$264.84 - $264.84</td>\n",
       "    </tr>\n",
       "    <tr>\n",
       "      <th>15</th>\n",
       "      <td>16</td>\n",
       "      <td>16</td>\n",
       "      <td>Apple Mac Mini (3.6GHz Quad-core 8th-Generatio...</td>\n",
       "      <td>B086394KV1</td>\n",
       "      <td>https://www.amazon.com/Apple-Quad-core-8th-Gen...</td>\n",
       "      <td>https://images-na.ssl-images-amazon.com/images...</td>\n",
       "      <td>3.9</td>\n",
       "      <td>37</td>\n",
       "      <td>$</td>\n",
       "      <td>759.00</td>\n",
       "      <td>USD</td>\n",
       "      <td>$759.00</td>\n",
       "      <td>$</td>\n",
       "      <td>759.00</td>\n",
       "      <td>USD</td>\n",
       "      <td>$759.00</td>\n",
       "      <td>$</td>\n",
       "      <td>759.00</td>\n",
       "      <td>USD</td>\n",
       "      <td>$759.00 - $759.00</td>\n",
       "    </tr>\n",
       "    <tr>\n",
       "      <th>16</th>\n",
       "      <td>17</td>\n",
       "      <td>17</td>\n",
       "      <td>(Renewed) HP ProDesk 600 G1 SFF Slim Business ...</td>\n",
       "      <td>B07BCGW85X</td>\n",
       "      <td>https://www.amazon.com/HP-ProDesk-600-G1-SFF/d...</td>\n",
       "      <td>https://images-na.ssl-images-amazon.com/images...</td>\n",
       "      <td>4.2</td>\n",
       "      <td>569</td>\n",
       "      <td>$</td>\n",
       "      <td>147.99</td>\n",
       "      <td>USD</td>\n",
       "      <td>$147.99</td>\n",
       "      <td>$</td>\n",
       "      <td>147.99</td>\n",
       "      <td>USD</td>\n",
       "      <td>$147.99</td>\n",
       "      <td>$</td>\n",
       "      <td>147.99</td>\n",
       "      <td>USD</td>\n",
       "      <td>$147.99 - $147.99</td>\n",
       "    </tr>\n",
       "    <tr>\n",
       "      <th>17</th>\n",
       "      <td>18</td>\n",
       "      <td>18</td>\n",
       "      <td>Dell OptiPlex Desktop Complete Computer Packag...</td>\n",
       "      <td>B00IOTZGOE</td>\n",
       "      <td>https://www.amazon.com/Dell-OptiPlex-Desktop-C...</td>\n",
       "      <td>https://images-na.ssl-images-amazon.com/images...</td>\n",
       "      <td>3.4</td>\n",
       "      <td>918</td>\n",
       "      <td>$</td>\n",
       "      <td>174.50</td>\n",
       "      <td>USD</td>\n",
       "      <td>$174.50</td>\n",
       "      <td>$</td>\n",
       "      <td>174.50</td>\n",
       "      <td>USD</td>\n",
       "      <td>$174.50</td>\n",
       "      <td>$</td>\n",
       "      <td>174.50</td>\n",
       "      <td>USD</td>\n",
       "      <td>$174.50 - $174.50</td>\n",
       "    </tr>\n",
       "    <tr>\n",
       "      <th>18</th>\n",
       "      <td>19</td>\n",
       "      <td>19</td>\n",
       "      <td>HP 21.5-Inch All-in-One Computer, AMD A4-9125,...</td>\n",
       "      <td>B07VDJ5RVF</td>\n",
       "      <td>https://www.amazon.com/HP-21-5-Inch-Computer-A...</td>\n",
       "      <td>https://images-na.ssl-images-amazon.com/images...</td>\n",
       "      <td>4.1</td>\n",
       "      <td>216</td>\n",
       "      <td>$</td>\n",
       "      <td>423.47</td>\n",
       "      <td>USD</td>\n",
       "      <td>$423.47</td>\n",
       "      <td>$</td>\n",
       "      <td>423.47</td>\n",
       "      <td>USD</td>\n",
       "      <td>$423.47</td>\n",
       "      <td>$</td>\n",
       "      <td>423.47</td>\n",
       "      <td>USD</td>\n",
       "      <td>$423.47 - $423.47</td>\n",
       "    </tr>\n",
       "    <tr>\n",
       "      <th>19</th>\n",
       "      <td>20</td>\n",
       "      <td>20</td>\n",
       "      <td>SkyTech Blaze II Gaming Computer PC Desktop – ...</td>\n",
       "      <td>B085F2BFWR</td>\n",
       "      <td>https://www.amazon.com/SkyTech-Blaze-Gaming-Co...</td>\n",
       "      <td>https://images-na.ssl-images-amazon.com/images...</td>\n",
       "      <td>4.5</td>\n",
       "      <td>549</td>\n",
       "      <td>$</td>\n",
       "      <td>899.99</td>\n",
       "      <td>USD</td>\n",
       "      <td>$899.99</td>\n",
       "      <td>$</td>\n",
       "      <td>899.99</td>\n",
       "      <td>USD</td>\n",
       "      <td>$899.99</td>\n",
       "      <td>$</td>\n",
       "      <td>899.99</td>\n",
       "      <td>USD</td>\n",
       "      <td>$899.99 - $899.99</td>\n",
       "    </tr>\n",
       "    <tr>\n",
       "      <th>20</th>\n",
       "      <td>21</td>\n",
       "      <td>21</td>\n",
       "      <td>(Renewed) HP Elite 8300 Ultra Small Slim High ...</td>\n",
       "      <td>B074T2L4CC</td>\n",
       "      <td>https://www.amazon.com/Elite-8300-Performance-...</td>\n",
       "      <td>https://images-na.ssl-images-amazon.com/images...</td>\n",
       "      <td>4.1</td>\n",
       "      <td>367</td>\n",
       "      <td>$</td>\n",
       "      <td>146.96</td>\n",
       "      <td>USD</td>\n",
       "      <td>$146.96</td>\n",
       "      <td>$</td>\n",
       "      <td>146.96</td>\n",
       "      <td>USD</td>\n",
       "      <td>$146.96</td>\n",
       "      <td>$</td>\n",
       "      <td>146.96</td>\n",
       "      <td>USD</td>\n",
       "      <td>$146.96 - $146.96</td>\n",
       "    </tr>\n",
       "    <tr>\n",
       "      <th>21</th>\n",
       "      <td>22</td>\n",
       "      <td>22</td>\n",
       "      <td>HP EliteDesk 800 G1 Small Form Desktop Compute...</td>\n",
       "      <td>B0784F3NHF</td>\n",
       "      <td>https://www.amazon.com/HP-EliteDesk-800-G1-Ref...</td>\n",
       "      <td>https://images-na.ssl-images-amazon.com/images...</td>\n",
       "      <td>4.0</td>\n",
       "      <td>154</td>\n",
       "      <td>$</td>\n",
       "      <td>198.09</td>\n",
       "      <td>USD</td>\n",
       "      <td>$198.09</td>\n",
       "      <td>$</td>\n",
       "      <td>198.09</td>\n",
       "      <td>USD</td>\n",
       "      <td>$198.09</td>\n",
       "      <td>$</td>\n",
       "      <td>198.09</td>\n",
       "      <td>USD</td>\n",
       "      <td>$198.09 - $198.09</td>\n",
       "    </tr>\n",
       "    <tr>\n",
       "      <th>22</th>\n",
       "      <td>23</td>\n",
       "      <td>23</td>\n",
       "      <td>CyberPowerPC Gamer Master Gaming PC, AMD Ryzen...</td>\n",
       "      <td>B07X31NT47</td>\n",
       "      <td>https://www.amazon.com/CyberpowerPC-Master-Gam...</td>\n",
       "      <td>https://images-na.ssl-images-amazon.com/images...</td>\n",
       "      <td>4.1</td>\n",
       "      <td>242</td>\n",
       "      <td>$</td>\n",
       "      <td>1099.99</td>\n",
       "      <td>USD</td>\n",
       "      <td>$1,099.99</td>\n",
       "      <td>$</td>\n",
       "      <td>1099.99</td>\n",
       "      <td>USD</td>\n",
       "      <td>$1,099.99</td>\n",
       "      <td>$</td>\n",
       "      <td>1099.99</td>\n",
       "      <td>USD</td>\n",
       "      <td>$1,099.99 - $1,099.99</td>\n",
       "    </tr>\n",
       "    <tr>\n",
       "      <th>23</th>\n",
       "      <td>24</td>\n",
       "      <td>24</td>\n",
       "      <td>HP Elite 6300 SFF Small Form Factor Business D...</td>\n",
       "      <td>B07CGBYBXM</td>\n",
       "      <td>https://www.amazon.com/HP-Quad-Core-Profession...</td>\n",
       "      <td>https://images-na.ssl-images-amazon.com/images...</td>\n",
       "      <td>4.4</td>\n",
       "      <td>258</td>\n",
       "      <td>$</td>\n",
       "      <td>288.89</td>\n",
       "      <td>USD</td>\n",
       "      <td>$288.89</td>\n",
       "      <td>$</td>\n",
       "      <td>288.89</td>\n",
       "      <td>USD</td>\n",
       "      <td>$288.89</td>\n",
       "      <td>$</td>\n",
       "      <td>288.89</td>\n",
       "      <td>USD</td>\n",
       "      <td>$288.89 - $288.89</td>\n",
       "    </tr>\n",
       "    <tr>\n",
       "      <th>24</th>\n",
       "      <td>25</td>\n",
       "      <td>25</td>\n",
       "      <td>Dell Optiplex 9020 Mini Tower Desktop PC, Inte...</td>\n",
       "      <td>B082QMTGW8</td>\n",
       "      <td>https://www.amazon.com/Dell-Optiplex-Desktop-i...</td>\n",
       "      <td>https://images-na.ssl-images-amazon.com/images...</td>\n",
       "      <td>3.9</td>\n",
       "      <td>107</td>\n",
       "      <td>$</td>\n",
       "      <td>579.97</td>\n",
       "      <td>USD</td>\n",
       "      <td>$579.97</td>\n",
       "      <td>$</td>\n",
       "      <td>579.97</td>\n",
       "      <td>USD</td>\n",
       "      <td>$579.97</td>\n",
       "      <td>$</td>\n",
       "      <td>579.97</td>\n",
       "      <td>USD</td>\n",
       "      <td>$579.97 - $579.97</td>\n",
       "    </tr>\n",
       "    <tr>\n",
       "      <th>25</th>\n",
       "      <td>26</td>\n",
       "      <td>26</td>\n",
       "      <td>Acer Aspire TC-885-UA91 Desktop, 9th Gen Intel...</td>\n",
       "      <td>B07R8WK8VP</td>\n",
       "      <td>https://www.amazon.com/Acer-TC-885-UA91-Deskto...</td>\n",
       "      <td>https://images-na.ssl-images-amazon.com/images...</td>\n",
       "      <td>4.5</td>\n",
       "      <td>399</td>\n",
       "      <td>$</td>\n",
       "      <td>419.99</td>\n",
       "      <td>USD</td>\n",
       "      <td>$419.99</td>\n",
       "      <td>$</td>\n",
       "      <td>419.99</td>\n",
       "      <td>USD</td>\n",
       "      <td>$419.99</td>\n",
       "      <td>$</td>\n",
       "      <td>419.99</td>\n",
       "      <td>USD</td>\n",
       "      <td>$419.99 - $419.99</td>\n",
       "    </tr>\n",
       "    <tr>\n",
       "      <th>26</th>\n",
       "      <td>27</td>\n",
       "      <td>27</td>\n",
       "      <td>Gaming PC Desktop Computer Intel i5 3.10GHz,8G...</td>\n",
       "      <td>B07YQCQBJK</td>\n",
       "      <td>https://www.amazon.com/Gaming-Desktop-Computer...</td>\n",
       "      <td>https://images-na.ssl-images-amazon.com/images...</td>\n",
       "      <td>3.5</td>\n",
       "      <td>166</td>\n",
       "      <td>NaN</td>\n",
       "      <td>NaN</td>\n",
       "      <td>NaN</td>\n",
       "      <td>NaN</td>\n",
       "      <td>NaN</td>\n",
       "      <td>NaN</td>\n",
       "      <td>NaN</td>\n",
       "      <td>NaN</td>\n",
       "      <td>NaN</td>\n",
       "      <td>NaN</td>\n",
       "      <td>NaN</td>\n",
       "      <td>NaN</td>\n",
       "    </tr>\n",
       "    <tr>\n",
       "      <th>27</th>\n",
       "      <td>28</td>\n",
       "      <td>28</td>\n",
       "      <td>HP Pavilion Gaming Desktop Computer, AMD Ryzen...</td>\n",
       "      <td>B07XV7YRSL</td>\n",
       "      <td>https://www.amazon.com/HP-Pavilion-Computer-Pr...</td>\n",
       "      <td>https://images-na.ssl-images-amazon.com/images...</td>\n",
       "      <td>4.7</td>\n",
       "      <td>17</td>\n",
       "      <td>$</td>\n",
       "      <td>682.43</td>\n",
       "      <td>USD</td>\n",
       "      <td>$682.43</td>\n",
       "      <td>$</td>\n",
       "      <td>682.43</td>\n",
       "      <td>USD</td>\n",
       "      <td>$682.43</td>\n",
       "      <td>$</td>\n",
       "      <td>682.43</td>\n",
       "      <td>USD</td>\n",
       "      <td>$682.43 - $682.43</td>\n",
       "    </tr>\n",
       "    <tr>\n",
       "      <th>28</th>\n",
       "      <td>29</td>\n",
       "      <td>29</td>\n",
       "      <td>(Renewed) HP Flagship Pro Desktop Computer, Co...</td>\n",
       "      <td>B07L7P3XYW</td>\n",
       "      <td>https://www.amazon.com/HP-Flagship-Pro-Bit-Mul...</td>\n",
       "      <td>https://images-na.ssl-images-amazon.com/images...</td>\n",
       "      <td>4.2</td>\n",
       "      <td>520</td>\n",
       "      <td>$</td>\n",
       "      <td>185.89</td>\n",
       "      <td>USD</td>\n",
       "      <td>$185.89</td>\n",
       "      <td>$</td>\n",
       "      <td>185.89</td>\n",
       "      <td>USD</td>\n",
       "      <td>$185.89</td>\n",
       "      <td>$</td>\n",
       "      <td>185.89</td>\n",
       "      <td>USD</td>\n",
       "      <td>$185.89 - $185.89</td>\n",
       "    </tr>\n",
       "    <tr>\n",
       "      <th>29</th>\n",
       "      <td>30</td>\n",
       "      <td>30</td>\n",
       "      <td>Dell Optiplex 7010 Small Form Factor Desktop C...</td>\n",
       "      <td>B077D4SFMF</td>\n",
       "      <td>https://www.amazon.com/Dell-Optiplex-7010-Quad...</td>\n",
       "      <td>https://images-na.ssl-images-amazon.com/images...</td>\n",
       "      <td>3.8</td>\n",
       "      <td>395</td>\n",
       "      <td>$</td>\n",
       "      <td>266.86</td>\n",
       "      <td>USD</td>\n",
       "      <td>$266.86</td>\n",
       "      <td>$</td>\n",
       "      <td>266.86</td>\n",
       "      <td>USD</td>\n",
       "      <td>$266.86</td>\n",
       "      <td>$</td>\n",
       "      <td>266.86</td>\n",
       "      <td>USD</td>\n",
       "      <td>$266.86 - $266.86</td>\n",
       "    </tr>\n",
       "    <tr>\n",
       "      <th>30</th>\n",
       "      <td>31</td>\n",
       "      <td>31</td>\n",
       "      <td>[Ryzen &amp; GTX 1050 Ti Edition] SkyTech Archange...</td>\n",
       "      <td>B077QDM2DP</td>\n",
       "      <td>https://www.amazon.com/SkyTech-ArchAngel-Gamin...</td>\n",
       "      <td>https://images-na.ssl-images-amazon.com/images...</td>\n",
       "      <td>4.4</td>\n",
       "      <td>1036</td>\n",
       "      <td>$</td>\n",
       "      <td>649.99</td>\n",
       "      <td>USD</td>\n",
       "      <td>$649.99</td>\n",
       "      <td>$</td>\n",
       "      <td>649.99</td>\n",
       "      <td>USD</td>\n",
       "      <td>$649.99</td>\n",
       "      <td>$</td>\n",
       "      <td>649.99</td>\n",
       "      <td>USD</td>\n",
       "      <td>$649.99 - $649.99</td>\n",
       "    </tr>\n",
       "    <tr>\n",
       "      <th>31</th>\n",
       "      <td>32</td>\n",
       "      <td>32</td>\n",
       "      <td>HP Elite PC Desktop Computer Package - Intel Q...</td>\n",
       "      <td>B07SHJN3R6</td>\n",
       "      <td>https://www.amazon.com/HP-Elite-Desktop-Comput...</td>\n",
       "      <td>https://images-na.ssl-images-amazon.com/images...</td>\n",
       "      <td>3.5</td>\n",
       "      <td>65</td>\n",
       "      <td>$</td>\n",
       "      <td>201.50</td>\n",
       "      <td>USD</td>\n",
       "      <td>$201.50</td>\n",
       "      <td>$</td>\n",
       "      <td>201.50</td>\n",
       "      <td>USD</td>\n",
       "      <td>$201.50</td>\n",
       "      <td>$</td>\n",
       "      <td>201.50</td>\n",
       "      <td>USD</td>\n",
       "      <td>$201.50 - $201.50</td>\n",
       "    </tr>\n",
       "    <tr>\n",
       "      <th>32</th>\n",
       "      <td>33</td>\n",
       "      <td>33</td>\n",
       "      <td>Dell Optiplex 9010 SFF Desktop PC - Intel Core...</td>\n",
       "      <td>B078WGWZ1X</td>\n",
       "      <td>https://www.amazon.com/Dell-Optiplex-9010-SFF-...</td>\n",
       "      <td>https://images-na.ssl-images-amazon.com/images...</td>\n",
       "      <td>4.3</td>\n",
       "      <td>89</td>\n",
       "      <td>$</td>\n",
       "      <td>205.89</td>\n",
       "      <td>USD</td>\n",
       "      <td>$205.89</td>\n",
       "      <td>$</td>\n",
       "      <td>205.89</td>\n",
       "      <td>USD</td>\n",
       "      <td>$205.89</td>\n",
       "      <td>$</td>\n",
       "      <td>205.89</td>\n",
       "      <td>USD</td>\n",
       "      <td>$205.89 - $205.89</td>\n",
       "    </tr>\n",
       "    <tr>\n",
       "      <th>33</th>\n",
       "      <td>34</td>\n",
       "      <td>34</td>\n",
       "      <td>[Ryzen &amp; GTX 1050 Ti Edition] SkyTech Shadow G...</td>\n",
       "      <td>B077QDRBF9</td>\n",
       "      <td>https://www.amazon.com/SkyTech-Gaming-Computer...</td>\n",
       "      <td>https://images-na.ssl-images-amazon.com/images...</td>\n",
       "      <td>4.4</td>\n",
       "      <td>515</td>\n",
       "      <td>$</td>\n",
       "      <td>649.99</td>\n",
       "      <td>USD</td>\n",
       "      <td>$649.99</td>\n",
       "      <td>$</td>\n",
       "      <td>649.99</td>\n",
       "      <td>USD</td>\n",
       "      <td>$649.99</td>\n",
       "      <td>$</td>\n",
       "      <td>649.99</td>\n",
       "      <td>USD</td>\n",
       "      <td>$649.99 - $649.99</td>\n",
       "    </tr>\n",
       "    <tr>\n",
       "      <th>34</th>\n",
       "      <td>35</td>\n",
       "      <td>35</td>\n",
       "      <td>HP Elite 8200 SFF Desktop PC - Intel Core i5-2...</td>\n",
       "      <td>B01HSJ2O0Y</td>\n",
       "      <td>https://www.amazon.com/HP-Elite-8200-SFF-Deskt...</td>\n",
       "      <td>https://images-na.ssl-images-amazon.com/images...</td>\n",
       "      <td>4.2</td>\n",
       "      <td>364</td>\n",
       "      <td>$</td>\n",
       "      <td>113.68</td>\n",
       "      <td>USD</td>\n",
       "      <td>$113.68</td>\n",
       "      <td>$</td>\n",
       "      <td>113.68</td>\n",
       "      <td>USD</td>\n",
       "      <td>$113.68</td>\n",
       "      <td>$</td>\n",
       "      <td>113.68</td>\n",
       "      <td>USD</td>\n",
       "      <td>$113.68 - $113.68</td>\n",
       "    </tr>\n",
       "    <tr>\n",
       "      <th>35</th>\n",
       "      <td>36</td>\n",
       "      <td>36</td>\n",
       "      <td>HP Elite Desktop Computer, Intel Core i5 3.2 G...</td>\n",
       "      <td>B07R6NWGHK</td>\n",
       "      <td>https://www.amazon.com/HP-Desktop-Computer-Key...</td>\n",
       "      <td>https://images-na.ssl-images-amazon.com/images...</td>\n",
       "      <td>3.9</td>\n",
       "      <td>105</td>\n",
       "      <td>$</td>\n",
       "      <td>276.97</td>\n",
       "      <td>USD</td>\n",
       "      <td>$276.97</td>\n",
       "      <td>$</td>\n",
       "      <td>276.97</td>\n",
       "      <td>USD</td>\n",
       "      <td>$276.97</td>\n",
       "      <td>$</td>\n",
       "      <td>276.97</td>\n",
       "      <td>USD</td>\n",
       "      <td>$276.97 - $276.97</td>\n",
       "    </tr>\n",
       "    <tr>\n",
       "      <th>36</th>\n",
       "      <td>37</td>\n",
       "      <td>37</td>\n",
       "      <td>Mini PC Intel Celeron N4000(up to 2.6GHz), DDR...</td>\n",
       "      <td>B082VVCFNG</td>\n",
       "      <td>https://www.amazon.com/Celeron-Fanless-Compute...</td>\n",
       "      <td>https://images-na.ssl-images-amazon.com/images...</td>\n",
       "      <td>4.4</td>\n",
       "      <td>46</td>\n",
       "      <td>$</td>\n",
       "      <td>169.99</td>\n",
       "      <td>USD</td>\n",
       "      <td>$169.99</td>\n",
       "      <td>$</td>\n",
       "      <td>169.99</td>\n",
       "      <td>USD</td>\n",
       "      <td>$169.99</td>\n",
       "      <td>$</td>\n",
       "      <td>169.99</td>\n",
       "      <td>USD</td>\n",
       "      <td>$169.99 - $169.99</td>\n",
       "    </tr>\n",
       "    <tr>\n",
       "      <th>37</th>\n",
       "      <td>38</td>\n",
       "      <td>38</td>\n",
       "      <td>HP Elite 8200 Mini-Tower Workstation - Core i7...</td>\n",
       "      <td>B01K5TZMNA</td>\n",
       "      <td>https://www.amazon.com/HP-Elite-8200-Mini-Towe...</td>\n",
       "      <td>https://images-na.ssl-images-amazon.com/images...</td>\n",
       "      <td>3.5</td>\n",
       "      <td>57</td>\n",
       "      <td>$</td>\n",
       "      <td>320.90</td>\n",
       "      <td>USD</td>\n",
       "      <td>$320.90</td>\n",
       "      <td>$</td>\n",
       "      <td>320.90</td>\n",
       "      <td>USD</td>\n",
       "      <td>$320.90</td>\n",
       "      <td>$</td>\n",
       "      <td>320.90</td>\n",
       "      <td>USD</td>\n",
       "      <td>$320.90 - $320.90</td>\n",
       "    </tr>\n",
       "    <tr>\n",
       "      <th>38</th>\n",
       "      <td>39</td>\n",
       "      <td>39</td>\n",
       "      <td>(Renewed) Dell Optiplex 7010 Desktop Computer ...</td>\n",
       "      <td>B07RNMXDRF</td>\n",
       "      <td>https://www.amazon.com/Dell-Optiplex-7010-Desk...</td>\n",
       "      <td>https://images-na.ssl-images-amazon.com/images...</td>\n",
       "      <td>3.9</td>\n",
       "      <td>126</td>\n",
       "      <td>$</td>\n",
       "      <td>349.00</td>\n",
       "      <td>USD</td>\n",
       "      <td>$349.00</td>\n",
       "      <td>$</td>\n",
       "      <td>349.00</td>\n",
       "      <td>USD</td>\n",
       "      <td>$349.00</td>\n",
       "      <td>$</td>\n",
       "      <td>349.00</td>\n",
       "      <td>USD</td>\n",
       "      <td>$349.00 - $349.00</td>\n",
       "    </tr>\n",
       "    <tr>\n",
       "      <th>39</th>\n",
       "      <td>40</td>\n",
       "      <td>40</td>\n",
       "      <td>New Apple iMac (21.5-inch, 8GB RAM, 1TB Storage)</td>\n",
       "      <td>B07Q1P5SB5</td>\n",
       "      <td>https://www.amazon.com/Apple-21-5-inch-quad-co...</td>\n",
       "      <td>https://images-na.ssl-images-amazon.com/images...</td>\n",
       "      <td>4.2</td>\n",
       "      <td>183</td>\n",
       "      <td>$</td>\n",
       "      <td>1229.99</td>\n",
       "      <td>USD</td>\n",
       "      <td>$1,229.99</td>\n",
       "      <td>$</td>\n",
       "      <td>1229.99</td>\n",
       "      <td>USD</td>\n",
       "      <td>$1,229.99</td>\n",
       "      <td>$</td>\n",
       "      <td>1229.99</td>\n",
       "      <td>USD</td>\n",
       "      <td>$1,229.99 - $1,229.99</td>\n",
       "    </tr>\n",
       "    <tr>\n",
       "      <th>40</th>\n",
       "      <td>41</td>\n",
       "      <td>41</td>\n",
       "      <td>Mini PC Fanless Intel Atom Quad Core CPU 4GB D...</td>\n",
       "      <td>B07QY8LDGX</td>\n",
       "      <td>https://www.amazon.com/Fanless-Desktop-Compute...</td>\n",
       "      <td>https://images-na.ssl-images-amazon.com/images...</td>\n",
       "      <td>4.1</td>\n",
       "      <td>225</td>\n",
       "      <td>$</td>\n",
       "      <td>149.99</td>\n",
       "      <td>USD</td>\n",
       "      <td>$149.99</td>\n",
       "      <td>$</td>\n",
       "      <td>149.99</td>\n",
       "      <td>USD</td>\n",
       "      <td>$149.99</td>\n",
       "      <td>$</td>\n",
       "      <td>149.99</td>\n",
       "      <td>USD</td>\n",
       "      <td>$149.99 - $149.99</td>\n",
       "    </tr>\n",
       "    <tr>\n",
       "      <th>41</th>\n",
       "      <td>42</td>\n",
       "      <td>42</td>\n",
       "      <td>Apple iMac (21.5-inch, Previous Model, 8GB RAM...</td>\n",
       "      <td>B072QGX65K</td>\n",
       "      <td>https://www.amazon.com/Apple-2-3GHz-dual-core-...</td>\n",
       "      <td>https://images-na.ssl-images-amazon.com/images...</td>\n",
       "      <td>4.2</td>\n",
       "      <td>83</td>\n",
       "      <td>$</td>\n",
       "      <td>999.99</td>\n",
       "      <td>USD</td>\n",
       "      <td>$999.99</td>\n",
       "      <td>$</td>\n",
       "      <td>999.99</td>\n",
       "      <td>USD</td>\n",
       "      <td>$999.99</td>\n",
       "      <td>$</td>\n",
       "      <td>999.99</td>\n",
       "      <td>USD</td>\n",
       "      <td>$999.99 - $999.99</td>\n",
       "    </tr>\n",
       "    <tr>\n",
       "      <th>42</th>\n",
       "      <td>43</td>\n",
       "      <td>43</td>\n",
       "      <td>Dell Optiplex 7020 Desktop Computer, Intel Qua...</td>\n",
       "      <td>B07TWJCW6H</td>\n",
       "      <td>https://www.amazon.com/Dell-Optiplex-Computer-...</td>\n",
       "      <td>https://images-na.ssl-images-amazon.com/images...</td>\n",
       "      <td>4.0</td>\n",
       "      <td>70</td>\n",
       "      <td>$</td>\n",
       "      <td>399.00</td>\n",
       "      <td>USD</td>\n",
       "      <td>$399.00</td>\n",
       "      <td>$</td>\n",
       "      <td>399.00</td>\n",
       "      <td>USD</td>\n",
       "      <td>$399.00</td>\n",
       "      <td>$</td>\n",
       "      <td>399.00</td>\n",
       "      <td>USD</td>\n",
       "      <td>$399.00 - $399.00</td>\n",
       "    </tr>\n",
       "    <tr>\n",
       "      <th>43</th>\n",
       "      <td>44</td>\n",
       "      <td>44</td>\n",
       "      <td>Skytech Archangel Gaming Computer PC Desktop –...</td>\n",
       "      <td>B07WCLNZWR</td>\n",
       "      <td>https://www.amazon.com/Skytech-Archangel-Gamin...</td>\n",
       "      <td>https://images-na.ssl-images-amazon.com/images...</td>\n",
       "      <td>4.4</td>\n",
       "      <td>127</td>\n",
       "      <td>$</td>\n",
       "      <td>899.99</td>\n",
       "      <td>USD</td>\n",
       "      <td>$899.99</td>\n",
       "      <td>$</td>\n",
       "      <td>899.99</td>\n",
       "      <td>USD</td>\n",
       "      <td>$899.99</td>\n",
       "      <td>$</td>\n",
       "      <td>899.99</td>\n",
       "      <td>USD</td>\n",
       "      <td>$899.99 - $899.99</td>\n",
       "    </tr>\n",
       "    <tr>\n",
       "      <th>44</th>\n",
       "      <td>45</td>\n",
       "      <td>45</td>\n",
       "      <td>New Apple iMac (27-inch, 8GB RAM, 1TB Storage)</td>\n",
       "      <td>B07Q1NBCVB</td>\n",
       "      <td>https://www.amazon.com/Apple-27-inch-display-8...</td>\n",
       "      <td>https://images-na.ssl-images-amazon.com/images...</td>\n",
       "      <td>4.7</td>\n",
       "      <td>241</td>\n",
       "      <td>$</td>\n",
       "      <td>1799.00</td>\n",
       "      <td>USD</td>\n",
       "      <td>$1,799.00</td>\n",
       "      <td>$</td>\n",
       "      <td>1799.00</td>\n",
       "      <td>USD</td>\n",
       "      <td>$1,799.00</td>\n",
       "      <td>$</td>\n",
       "      <td>1799.00</td>\n",
       "      <td>USD</td>\n",
       "      <td>$1,799.00 - $1,799.00</td>\n",
       "    </tr>\n",
       "    <tr>\n",
       "      <th>45</th>\n",
       "      <td>46</td>\n",
       "      <td>46</td>\n",
       "      <td>ASUS CHROMEBOX 3-N017U Mini PC with Intel Cele...</td>\n",
       "      <td>B07CLQZHF9</td>\n",
       "      <td>https://www.amazon.com/CHROMEBOX-3-N017U-Intel...</td>\n",
       "      <td>https://images-na.ssl-images-amazon.com/images...</td>\n",
       "      <td>4.3</td>\n",
       "      <td>228</td>\n",
       "      <td>$</td>\n",
       "      <td>262.94</td>\n",
       "      <td>USD</td>\n",
       "      <td>$262.94</td>\n",
       "      <td>$</td>\n",
       "      <td>262.94</td>\n",
       "      <td>USD</td>\n",
       "      <td>$262.94</td>\n",
       "      <td>$</td>\n",
       "      <td>262.94</td>\n",
       "      <td>USD</td>\n",
       "      <td>$262.94 - $262.94</td>\n",
       "    </tr>\n",
       "    <tr>\n",
       "      <th>46</th>\n",
       "      <td>47</td>\n",
       "      <td>47</td>\n",
       "      <td>New Alienware Aurora R10 Gaming Desktop, AMD R...</td>\n",
       "      <td>B084GSGQZQ</td>\n",
       "      <td>https://www.amazon.com/Alienware-Aurora-Deskto...</td>\n",
       "      <td>https://images-na.ssl-images-amazon.com/images...</td>\n",
       "      <td>4.0</td>\n",
       "      <td>11</td>\n",
       "      <td>$</td>\n",
       "      <td>1408.64</td>\n",
       "      <td>USD</td>\n",
       "      <td>$1,408.64</td>\n",
       "      <td>$</td>\n",
       "      <td>1408.64</td>\n",
       "      <td>USD</td>\n",
       "      <td>$1,408.64</td>\n",
       "      <td>$</td>\n",
       "      <td>1408.64</td>\n",
       "      <td>USD</td>\n",
       "      <td>$1,408.64 - $1,408.64</td>\n",
       "    </tr>\n",
       "    <tr>\n",
       "      <th>47</th>\n",
       "      <td>48</td>\n",
       "      <td>48</td>\n",
       "      <td>Skytech Archangel Gaming Computer PC Desktop –...</td>\n",
       "      <td>B085X2DCBT</td>\n",
       "      <td>https://www.amazon.com/Skytech-Archangel-Gamin...</td>\n",
       "      <td>https://images-na.ssl-images-amazon.com/images...</td>\n",
       "      <td>4.4</td>\n",
       "      <td>127</td>\n",
       "      <td>$</td>\n",
       "      <td>1199.99</td>\n",
       "      <td>USD</td>\n",
       "      <td>$1,199.99</td>\n",
       "      <td>$</td>\n",
       "      <td>1199.99</td>\n",
       "      <td>USD</td>\n",
       "      <td>$1,199.99</td>\n",
       "      <td>$</td>\n",
       "      <td>1199.99</td>\n",
       "      <td>USD</td>\n",
       "      <td>$1,199.99 - $1,199.99</td>\n",
       "    </tr>\n",
       "    <tr>\n",
       "      <th>48</th>\n",
       "      <td>49</td>\n",
       "      <td>49</td>\n",
       "      <td>CHUWI CoreBox Windows 10 Mini PC,Intel Core i5...</td>\n",
       "      <td>B07T5BNF14</td>\n",
       "      <td>https://www.amazon.com/CHUWI-Windows-Office-Ex...</td>\n",
       "      <td>https://images-na.ssl-images-amazon.com/images...</td>\n",
       "      <td>4.3</td>\n",
       "      <td>45</td>\n",
       "      <td>$</td>\n",
       "      <td>299.99</td>\n",
       "      <td>USD</td>\n",
       "      <td>$299.99</td>\n",
       "      <td>$</td>\n",
       "      <td>299.99</td>\n",
       "      <td>USD</td>\n",
       "      <td>$299.99</td>\n",
       "      <td>$</td>\n",
       "      <td>299.99</td>\n",
       "      <td>USD</td>\n",
       "      <td>$299.99 - $299.99</td>\n",
       "    </tr>\n",
       "    <tr>\n",
       "      <th>49</th>\n",
       "      <td>50</td>\n",
       "      <td>50</td>\n",
       "      <td>HP 22-inch All-in-One Desktop Computer, AMD At...</td>\n",
       "      <td>B0849P8D69</td>\n",
       "      <td>https://www.amazon.com/HP-22-inch-Computer-Pro...</td>\n",
       "      <td>https://images-na.ssl-images-amazon.com/images...</td>\n",
       "      <td>4.1</td>\n",
       "      <td>216</td>\n",
       "      <td>$</td>\n",
       "      <td>460.14</td>\n",
       "      <td>USD</td>\n",
       "      <td>$460.14</td>\n",
       "      <td>$</td>\n",
       "      <td>460.14</td>\n",
       "      <td>USD</td>\n",
       "      <td>$460.14</td>\n",
       "      <td>$</td>\n",
       "      <td>460.14</td>\n",
       "      <td>USD</td>\n",
       "      <td>$460.14 - $460.14</td>\n",
       "    </tr>\n",
       "  </tbody>\n",
       "</table>\n",
       "</div>"
      ],
      "text/plain": [
       "    rank  position                                              title  \\\n",
       "0      1         1  CYBERPOWERPC Gamer Xtreme VR Gaming PC, Intel ...   \n",
       "1      2         2  SkyTech Blaze II Gaming Computer PC Desktop – ...   \n",
       "2      3         3  Acer Aspire TC-885-UA92 Desktop, 9th Gen Intel...   \n",
       "3      4         4  (Renewed) Dell Optiplex 7010 Business Desktop ...   \n",
       "4      5         5  (Renewed) HP 8300 Elite Small Form Factor Desk...   \n",
       "5      6         6  Acer Aspire Z24-890-UA91 AIO Desktop, 23.8 inc...   \n",
       "6      7         7  (Renewed) Dell Optiplex 7010 Business Desktop ...   \n",
       "7      8         8  iBUYPOWER Gaming PC Computer Desktop Element 9...   \n",
       "8      9         9  Dell OptiPlex 9020-SFF, Intel Core i5-4570 3.2...   \n",
       "9     10        10  Skytech Archangel Gaming Computer PC Desktop –...   \n",
       "10    11        11  HP Elite Desktop PC Computer Intel Core i5 3.1...   \n",
       "11    12        12  DELL Optiplex Desktop with 22in LCD Monitor (C...   \n",
       "12    13        13  CYBERPOWERPC Gamer Xtreme VR Gaming PC, Intel ...   \n",
       "13    14        14  Dell Optiplex 790 Core i5 3.1GHz, 1TB Hard Dri...   \n",
       "14    15        15  Dell Optiplex 7010 Business Desktop Computer (...   \n",
       "15    16        16  Apple Mac Mini (3.6GHz Quad-core 8th-Generatio...   \n",
       "16    17        17  (Renewed) HP ProDesk 600 G1 SFF Slim Business ...   \n",
       "17    18        18  Dell OptiPlex Desktop Complete Computer Packag...   \n",
       "18    19        19  HP 21.5-Inch All-in-One Computer, AMD A4-9125,...   \n",
       "19    20        20  SkyTech Blaze II Gaming Computer PC Desktop – ...   \n",
       "20    21        21  (Renewed) HP Elite 8300 Ultra Small Slim High ...   \n",
       "21    22        22  HP EliteDesk 800 G1 Small Form Desktop Compute...   \n",
       "22    23        23  CyberPowerPC Gamer Master Gaming PC, AMD Ryzen...   \n",
       "23    24        24  HP Elite 6300 SFF Small Form Factor Business D...   \n",
       "24    25        25  Dell Optiplex 9020 Mini Tower Desktop PC, Inte...   \n",
       "25    26        26  Acer Aspire TC-885-UA91 Desktop, 9th Gen Intel...   \n",
       "26    27        27  Gaming PC Desktop Computer Intel i5 3.10GHz,8G...   \n",
       "27    28        28  HP Pavilion Gaming Desktop Computer, AMD Ryzen...   \n",
       "28    29        29  (Renewed) HP Flagship Pro Desktop Computer, Co...   \n",
       "29    30        30  Dell Optiplex 7010 Small Form Factor Desktop C...   \n",
       "30    31        31  [Ryzen & GTX 1050 Ti Edition] SkyTech Archange...   \n",
       "31    32        32  HP Elite PC Desktop Computer Package - Intel Q...   \n",
       "32    33        33  Dell Optiplex 9010 SFF Desktop PC - Intel Core...   \n",
       "33    34        34  [Ryzen & GTX 1050 Ti Edition] SkyTech Shadow G...   \n",
       "34    35        35  HP Elite 8200 SFF Desktop PC - Intel Core i5-2...   \n",
       "35    36        36  HP Elite Desktop Computer, Intel Core i5 3.2 G...   \n",
       "36    37        37  Mini PC Intel Celeron N4000(up to 2.6GHz), DDR...   \n",
       "37    38        38  HP Elite 8200 Mini-Tower Workstation - Core i7...   \n",
       "38    39        39  (Renewed) Dell Optiplex 7010 Desktop Computer ...   \n",
       "39    40        40   New Apple iMac (21.5-inch, 8GB RAM, 1TB Storage)   \n",
       "40    41        41  Mini PC Fanless Intel Atom Quad Core CPU 4GB D...   \n",
       "41    42        42  Apple iMac (21.5-inch, Previous Model, 8GB RAM...   \n",
       "42    43        43  Dell Optiplex 7020 Desktop Computer, Intel Qua...   \n",
       "43    44        44  Skytech Archangel Gaming Computer PC Desktop –...   \n",
       "44    45        45     New Apple iMac (27-inch, 8GB RAM, 1TB Storage)   \n",
       "45    46        46  ASUS CHROMEBOX 3-N017U Mini PC with Intel Cele...   \n",
       "46    47        47  New Alienware Aurora R10 Gaming Desktop, AMD R...   \n",
       "47    48        48  Skytech Archangel Gaming Computer PC Desktop –...   \n",
       "48    49        49  CHUWI CoreBox Windows 10 Mini PC,Intel Core i5...   \n",
       "49    50        50  HP 22-inch All-in-One Desktop Computer, AMD At...   \n",
       "\n",
       "          asin                                               link  \\\n",
       "0   B07VGJDKZ4  https://www.amazon.com/CYBERPOWERPC-Xtreme-i5-...   \n",
       "1   B07RHBLV7F  https://www.amazon.com/SkyTech-Blaze-II-Gaming...   \n",
       "2   B07R8WJMW6  https://www.amazon.com/Acer-TC-885-UA92-Deskto...   \n",
       "3   B01LKOZEF0  https://www.amazon.com/Dell-Optiplex-7010-Prof...   \n",
       "4   B01CV9G1BO  https://www.amazon.com/HP-8300-Elite-Computer-...   \n",
       "5   B07R4PQJNM  https://www.amazon.com/Acer-Z24-890-UA91-i5-94...   \n",
       "6   B07SYC6HRK  https://www.amazon.com/Dell-Optiplex-7010-Busi...   \n",
       "7   B07V34QQ3C  https://www.amazon.com/iBUYPOWER-Computer-Elem...   \n",
       "8   B07TB9G2R6  https://www.amazon.com/Dell-OptiPlex-9020-SFF-...   \n",
       "9   B088W1QJP1  https://www.amazon.com/Skytech-Archangel-Gamin...   \n",
       "10  B07SBK9LRY  https://www.amazon.com/HP-Desktop-Computer-Pac...   \n",
       "11  B01LY0WLCT  https://www.amazon.com/Optiplex-Desktop-Monito...   \n",
       "12  B07PKXQBHN  https://www.amazon.com/CyberpowerPC-Xtreme-i5-...   \n",
       "13  B07HB9R7ZC  https://www.amazon.com/Dell-Optiplex-Monitors-...   \n",
       "14  B0725BFYV6  https://www.amazon.com/Dell-Optiplex-Business-...   \n",
       "15  B086394KV1  https://www.amazon.com/Apple-Quad-core-8th-Gen...   \n",
       "16  B07BCGW85X  https://www.amazon.com/HP-ProDesk-600-G1-SFF/d...   \n",
       "17  B00IOTZGOE  https://www.amazon.com/Dell-OptiPlex-Desktop-C...   \n",
       "18  B07VDJ5RVF  https://www.amazon.com/HP-21-5-Inch-Computer-A...   \n",
       "19  B085F2BFWR  https://www.amazon.com/SkyTech-Blaze-Gaming-Co...   \n",
       "20  B074T2L4CC  https://www.amazon.com/Elite-8300-Performance-...   \n",
       "21  B0784F3NHF  https://www.amazon.com/HP-EliteDesk-800-G1-Ref...   \n",
       "22  B07X31NT47  https://www.amazon.com/CyberpowerPC-Master-Gam...   \n",
       "23  B07CGBYBXM  https://www.amazon.com/HP-Quad-Core-Profession...   \n",
       "24  B082QMTGW8  https://www.amazon.com/Dell-Optiplex-Desktop-i...   \n",
       "25  B07R8WK8VP  https://www.amazon.com/Acer-TC-885-UA91-Deskto...   \n",
       "26  B07YQCQBJK  https://www.amazon.com/Gaming-Desktop-Computer...   \n",
       "27  B07XV7YRSL  https://www.amazon.com/HP-Pavilion-Computer-Pr...   \n",
       "28  B07L7P3XYW  https://www.amazon.com/HP-Flagship-Pro-Bit-Mul...   \n",
       "29  B077D4SFMF  https://www.amazon.com/Dell-Optiplex-7010-Quad...   \n",
       "30  B077QDM2DP  https://www.amazon.com/SkyTech-ArchAngel-Gamin...   \n",
       "31  B07SHJN3R6  https://www.amazon.com/HP-Elite-Desktop-Comput...   \n",
       "32  B078WGWZ1X  https://www.amazon.com/Dell-Optiplex-9010-SFF-...   \n",
       "33  B077QDRBF9  https://www.amazon.com/SkyTech-Gaming-Computer...   \n",
       "34  B01HSJ2O0Y  https://www.amazon.com/HP-Elite-8200-SFF-Deskt...   \n",
       "35  B07R6NWGHK  https://www.amazon.com/HP-Desktop-Computer-Key...   \n",
       "36  B082VVCFNG  https://www.amazon.com/Celeron-Fanless-Compute...   \n",
       "37  B01K5TZMNA  https://www.amazon.com/HP-Elite-8200-Mini-Towe...   \n",
       "38  B07RNMXDRF  https://www.amazon.com/Dell-Optiplex-7010-Desk...   \n",
       "39  B07Q1P5SB5  https://www.amazon.com/Apple-21-5-inch-quad-co...   \n",
       "40  B07QY8LDGX  https://www.amazon.com/Fanless-Desktop-Compute...   \n",
       "41  B072QGX65K  https://www.amazon.com/Apple-2-3GHz-dual-core-...   \n",
       "42  B07TWJCW6H  https://www.amazon.com/Dell-Optiplex-Computer-...   \n",
       "43  B07WCLNZWR  https://www.amazon.com/Skytech-Archangel-Gamin...   \n",
       "44  B07Q1NBCVB  https://www.amazon.com/Apple-27-inch-display-8...   \n",
       "45  B07CLQZHF9  https://www.amazon.com/CHROMEBOX-3-N017U-Intel...   \n",
       "46  B084GSGQZQ  https://www.amazon.com/Alienware-Aurora-Deskto...   \n",
       "47  B085X2DCBT  https://www.amazon.com/Skytech-Archangel-Gamin...   \n",
       "48  B07T5BNF14  https://www.amazon.com/CHUWI-Windows-Office-Ex...   \n",
       "49  B0849P8D69  https://www.amazon.com/HP-22-inch-Computer-Pro...   \n",
       "\n",
       "                                                image  rating  ratings_total  \\\n",
       "0   https://images-na.ssl-images-amazon.com/images...     4.5           2108   \n",
       "1   https://images-na.ssl-images-amazon.com/images...     4.5            549   \n",
       "2   https://images-na.ssl-images-amazon.com/images...     4.3            750   \n",
       "3   https://images-na.ssl-images-amazon.com/images...     4.0            973   \n",
       "4   https://images-na.ssl-images-amazon.com/images...     4.0           2210   \n",
       "5   https://images-na.ssl-images-amazon.com/images...     4.4            473   \n",
       "6   https://images-na.ssl-images-amazon.com/images...     4.1            393   \n",
       "7   https://images-na.ssl-images-amazon.com/images...     4.3           1564   \n",
       "8   https://images-na.ssl-images-amazon.com/images...     4.3            157   \n",
       "9   https://images-na.ssl-images-amazon.com/images...     4.3             39   \n",
       "10  https://images-na.ssl-images-amazon.com/images...     3.7            109   \n",
       "11  https://images-na.ssl-images-amazon.com/images...     3.6            539   \n",
       "12  https://images-na.ssl-images-amazon.com/images...     4.6           1129   \n",
       "13  https://images-na.ssl-images-amazon.com/images...     3.8            316   \n",
       "14  https://images-na.ssl-images-amazon.com/images...     4.4            193   \n",
       "15  https://images-na.ssl-images-amazon.com/images...     3.9             37   \n",
       "16  https://images-na.ssl-images-amazon.com/images...     4.2            569   \n",
       "17  https://images-na.ssl-images-amazon.com/images...     3.4            918   \n",
       "18  https://images-na.ssl-images-amazon.com/images...     4.1            216   \n",
       "19  https://images-na.ssl-images-amazon.com/images...     4.5            549   \n",
       "20  https://images-na.ssl-images-amazon.com/images...     4.1            367   \n",
       "21  https://images-na.ssl-images-amazon.com/images...     4.0            154   \n",
       "22  https://images-na.ssl-images-amazon.com/images...     4.1            242   \n",
       "23  https://images-na.ssl-images-amazon.com/images...     4.4            258   \n",
       "24  https://images-na.ssl-images-amazon.com/images...     3.9            107   \n",
       "25  https://images-na.ssl-images-amazon.com/images...     4.5            399   \n",
       "26  https://images-na.ssl-images-amazon.com/images...     3.5            166   \n",
       "27  https://images-na.ssl-images-amazon.com/images...     4.7             17   \n",
       "28  https://images-na.ssl-images-amazon.com/images...     4.2            520   \n",
       "29  https://images-na.ssl-images-amazon.com/images...     3.8            395   \n",
       "30  https://images-na.ssl-images-amazon.com/images...     4.4           1036   \n",
       "31  https://images-na.ssl-images-amazon.com/images...     3.5             65   \n",
       "32  https://images-na.ssl-images-amazon.com/images...     4.3             89   \n",
       "33  https://images-na.ssl-images-amazon.com/images...     4.4            515   \n",
       "34  https://images-na.ssl-images-amazon.com/images...     4.2            364   \n",
       "35  https://images-na.ssl-images-amazon.com/images...     3.9            105   \n",
       "36  https://images-na.ssl-images-amazon.com/images...     4.4             46   \n",
       "37  https://images-na.ssl-images-amazon.com/images...     3.5             57   \n",
       "38  https://images-na.ssl-images-amazon.com/images...     3.9            126   \n",
       "39  https://images-na.ssl-images-amazon.com/images...     4.2            183   \n",
       "40  https://images-na.ssl-images-amazon.com/images...     4.1            225   \n",
       "41  https://images-na.ssl-images-amazon.com/images...     4.2             83   \n",
       "42  https://images-na.ssl-images-amazon.com/images...     4.0             70   \n",
       "43  https://images-na.ssl-images-amazon.com/images...     4.4            127   \n",
       "44  https://images-na.ssl-images-amazon.com/images...     4.7            241   \n",
       "45  https://images-na.ssl-images-amazon.com/images...     4.3            228   \n",
       "46  https://images-na.ssl-images-amazon.com/images...     4.0             11   \n",
       "47  https://images-na.ssl-images-amazon.com/images...     4.4            127   \n",
       "48  https://images-na.ssl-images-amazon.com/images...     4.3             45   \n",
       "49  https://images-na.ssl-images-amazon.com/images...     4.1            216   \n",
       "\n",
       "   price_lower.symbol  price_lower.value price_lower.currency price_lower.raw  \\\n",
       "0                   $             890.39                  USD         $890.39   \n",
       "1                   $             749.99                  USD         $749.99   \n",
       "2                   $             549.99                  USD         $549.99   \n",
       "3                   $             198.43                  USD         $198.43   \n",
       "4                   $             139.97                  USD         $139.97   \n",
       "5                   $             799.99                  USD         $799.99   \n",
       "6                   $             217.30                  USD         $217.30   \n",
       "7                   $             999.99                  USD         $999.99   \n",
       "8                   $             262.65                  USD         $262.65   \n",
       "9                   $             999.99                  USD         $999.99   \n",
       "10                  $             224.99                  USD         $224.99   \n",
       "11                  $             185.00                  USD         $185.00   \n",
       "12                  $             919.99                  USD         $919.99   \n",
       "13                  $             339.97                  USD         $339.97   \n",
       "14                  $             264.84                  USD         $264.84   \n",
       "15                  $             759.00                  USD         $759.00   \n",
       "16                  $             147.99                  USD         $147.99   \n",
       "17                  $             174.50                  USD         $174.50   \n",
       "18                  $             423.47                  USD         $423.47   \n",
       "19                  $             899.99                  USD         $899.99   \n",
       "20                  $             146.96                  USD         $146.96   \n",
       "21                  $             198.09                  USD         $198.09   \n",
       "22                  $            1099.99                  USD       $1,099.99   \n",
       "23                  $             288.89                  USD         $288.89   \n",
       "24                  $             579.97                  USD         $579.97   \n",
       "25                  $             419.99                  USD         $419.99   \n",
       "26                NaN                NaN                  NaN             NaN   \n",
       "27                  $             682.43                  USD         $682.43   \n",
       "28                  $             185.89                  USD         $185.89   \n",
       "29                  $             266.86                  USD         $266.86   \n",
       "30                  $             649.99                  USD         $649.99   \n",
       "31                  $             201.50                  USD         $201.50   \n",
       "32                  $             205.89                  USD         $205.89   \n",
       "33                  $             649.99                  USD         $649.99   \n",
       "34                  $             113.68                  USD         $113.68   \n",
       "35                  $             276.97                  USD         $276.97   \n",
       "36                  $             169.99                  USD         $169.99   \n",
       "37                  $             320.90                  USD         $320.90   \n",
       "38                  $             349.00                  USD         $349.00   \n",
       "39                  $            1229.99                  USD       $1,229.99   \n",
       "40                  $             149.99                  USD         $149.99   \n",
       "41                  $             999.99                  USD         $999.99   \n",
       "42                  $             399.00                  USD         $399.00   \n",
       "43                  $             899.99                  USD         $899.99   \n",
       "44                  $            1799.00                  USD       $1,799.00   \n",
       "45                  $             262.94                  USD         $262.94   \n",
       "46                  $            1408.64                  USD       $1,408.64   \n",
       "47                  $            1199.99                  USD       $1,199.99   \n",
       "48                  $             299.99                  USD         $299.99   \n",
       "49                  $             460.14                  USD         $460.14   \n",
       "\n",
       "   price_upper.symbol  price_upper.value price_upper.currency price_upper.raw  \\\n",
       "0                   $             890.39                  USD         $890.39   \n",
       "1                   $             749.99                  USD         $749.99   \n",
       "2                   $             549.99                  USD         $549.99   \n",
       "3                   $             198.43                  USD         $198.43   \n",
       "4                   $             139.97                  USD         $139.97   \n",
       "5                   $             799.99                  USD         $799.99   \n",
       "6                   $             217.30                  USD         $217.30   \n",
       "7                   $             999.99                  USD         $999.99   \n",
       "8                   $             262.65                  USD         $262.65   \n",
       "9                   $             999.99                  USD         $999.99   \n",
       "10                  $             224.99                  USD         $224.99   \n",
       "11                  $             185.00                  USD         $185.00   \n",
       "12                  $             919.99                  USD         $919.99   \n",
       "13                  $             339.97                  USD         $339.97   \n",
       "14                  $             264.84                  USD         $264.84   \n",
       "15                  $             759.00                  USD         $759.00   \n",
       "16                  $             147.99                  USD         $147.99   \n",
       "17                  $             174.50                  USD         $174.50   \n",
       "18                  $             423.47                  USD         $423.47   \n",
       "19                  $             899.99                  USD         $899.99   \n",
       "20                  $             146.96                  USD         $146.96   \n",
       "21                  $             198.09                  USD         $198.09   \n",
       "22                  $            1099.99                  USD       $1,099.99   \n",
       "23                  $             288.89                  USD         $288.89   \n",
       "24                  $             579.97                  USD         $579.97   \n",
       "25                  $             419.99                  USD         $419.99   \n",
       "26                NaN                NaN                  NaN             NaN   \n",
       "27                  $             682.43                  USD         $682.43   \n",
       "28                  $             185.89                  USD         $185.89   \n",
       "29                  $             266.86                  USD         $266.86   \n",
       "30                  $             649.99                  USD         $649.99   \n",
       "31                  $             201.50                  USD         $201.50   \n",
       "32                  $             205.89                  USD         $205.89   \n",
       "33                  $             649.99                  USD         $649.99   \n",
       "34                  $             113.68                  USD         $113.68   \n",
       "35                  $             276.97                  USD         $276.97   \n",
       "36                  $             169.99                  USD         $169.99   \n",
       "37                  $             320.90                  USD         $320.90   \n",
       "38                  $             349.00                  USD         $349.00   \n",
       "39                  $            1229.99                  USD       $1,229.99   \n",
       "40                  $             149.99                  USD         $149.99   \n",
       "41                  $             999.99                  USD         $999.99   \n",
       "42                  $             399.00                  USD         $399.00   \n",
       "43                  $             899.99                  USD         $899.99   \n",
       "44                  $            1799.00                  USD       $1,799.00   \n",
       "45                  $             262.94                  USD         $262.94   \n",
       "46                  $            1408.64                  USD       $1,408.64   \n",
       "47                  $            1199.99                  USD       $1,199.99   \n",
       "48                  $             299.99                  USD         $299.99   \n",
       "49                  $             460.14                  USD         $460.14   \n",
       "\n",
       "   price.symbol  price.value price.currency              price.raw  \n",
       "0             $       890.39            USD      $890.39 - $890.39  \n",
       "1             $       749.99            USD      $749.99 - $749.99  \n",
       "2             $       549.99            USD      $549.99 - $549.99  \n",
       "3             $       198.43            USD      $198.43 - $198.43  \n",
       "4             $       139.97            USD      $139.97 - $139.97  \n",
       "5             $       799.99            USD      $799.99 - $799.99  \n",
       "6             $       217.30            USD      $217.30 - $217.30  \n",
       "7             $       999.99            USD      $999.99 - $999.99  \n",
       "8             $       262.65            USD      $262.65 - $262.65  \n",
       "9             $       999.99            USD      $999.99 - $999.99  \n",
       "10            $       224.99            USD      $224.99 - $224.99  \n",
       "11            $       185.00            USD      $185.00 - $185.00  \n",
       "12            $       919.99            USD      $919.99 - $919.99  \n",
       "13            $       339.97            USD      $339.97 - $339.97  \n",
       "14            $       264.84            USD      $264.84 - $264.84  \n",
       "15            $       759.00            USD      $759.00 - $759.00  \n",
       "16            $       147.99            USD      $147.99 - $147.99  \n",
       "17            $       174.50            USD      $174.50 - $174.50  \n",
       "18            $       423.47            USD      $423.47 - $423.47  \n",
       "19            $       899.99            USD      $899.99 - $899.99  \n",
       "20            $       146.96            USD      $146.96 - $146.96  \n",
       "21            $       198.09            USD      $198.09 - $198.09  \n",
       "22            $      1099.99            USD  $1,099.99 - $1,099.99  \n",
       "23            $       288.89            USD      $288.89 - $288.89  \n",
       "24            $       579.97            USD      $579.97 - $579.97  \n",
       "25            $       419.99            USD      $419.99 - $419.99  \n",
       "26          NaN          NaN            NaN                    NaN  \n",
       "27            $       682.43            USD      $682.43 - $682.43  \n",
       "28            $       185.89            USD      $185.89 - $185.89  \n",
       "29            $       266.86            USD      $266.86 - $266.86  \n",
       "30            $       649.99            USD      $649.99 - $649.99  \n",
       "31            $       201.50            USD      $201.50 - $201.50  \n",
       "32            $       205.89            USD      $205.89 - $205.89  \n",
       "33            $       649.99            USD      $649.99 - $649.99  \n",
       "34            $       113.68            USD      $113.68 - $113.68  \n",
       "35            $       276.97            USD      $276.97 - $276.97  \n",
       "36            $       169.99            USD      $169.99 - $169.99  \n",
       "37            $       320.90            USD      $320.90 - $320.90  \n",
       "38            $       349.00            USD      $349.00 - $349.00  \n",
       "39            $      1229.99            USD  $1,229.99 - $1,229.99  \n",
       "40            $       149.99            USD      $149.99 - $149.99  \n",
       "41            $       999.99            USD      $999.99 - $999.99  \n",
       "42            $       399.00            USD      $399.00 - $399.00  \n",
       "43            $       899.99            USD      $899.99 - $899.99  \n",
       "44            $      1799.00            USD  $1,799.00 - $1,799.00  \n",
       "45            $       262.94            USD      $262.94 - $262.94  \n",
       "46            $      1408.64            USD  $1,408.64 - $1,408.64  \n",
       "47            $      1199.99            USD  $1,199.99 - $1,199.99  \n",
       "48            $       299.99            USD      $299.99 - $299.99  \n",
       "49            $       460.14            USD      $460.14 - $460.14  "
      ]
     },
     "execution_count": 6,
     "metadata": {},
     "output_type": "execute_result"
    }
   ],
   "source": [
    "df = pd.json_normalize(api_result.json()['bestsellers'])\n",
    "df"
   ]
  },
  {
   "cell_type": "markdown",
   "metadata": {},
   "source": [
    "## For loop for desktops"
   ]
  },
  {
   "cell_type": "code",
   "execution_count": 53,
   "metadata": {},
   "outputs": [
    {
     "data": {
      "text/html": [
       "<div>\n",
       "<style scoped>\n",
       "    .dataframe tbody tr th:only-of-type {\n",
       "        vertical-align: middle;\n",
       "    }\n",
       "\n",
       "    .dataframe tbody tr th {\n",
       "        vertical-align: top;\n",
       "    }\n",
       "\n",
       "    .dataframe thead th {\n",
       "        text-align: right;\n",
       "    }\n",
       "</style>\n",
       "<table border=\"1\" class=\"dataframe\">\n",
       "  <thead>\n",
       "    <tr style=\"text-align: right;\">\n",
       "      <th></th>\n",
       "      <th>rank</th>\n",
       "      <th>position</th>\n",
       "      <th>title</th>\n",
       "      <th>asin</th>\n",
       "      <th>link</th>\n",
       "      <th>image</th>\n",
       "      <th>rating</th>\n",
       "      <th>ratings_total</th>\n",
       "      <th>price_lower.symbol</th>\n",
       "      <th>price_lower.value</th>\n",
       "      <th>price_lower.currency</th>\n",
       "      <th>price_lower.raw</th>\n",
       "      <th>price_upper.symbol</th>\n",
       "      <th>price_upper.value</th>\n",
       "      <th>price_upper.currency</th>\n",
       "      <th>price_upper.raw</th>\n",
       "      <th>price.symbol</th>\n",
       "      <th>price.value</th>\n",
       "      <th>price.currency</th>\n",
       "      <th>price.raw</th>\n",
       "    </tr>\n",
       "  </thead>\n",
       "  <tbody>\n",
       "    <tr>\n",
       "      <th>0</th>\n",
       "      <td>1</td>\n",
       "      <td>1</td>\n",
       "      <td>CYBERPOWERPC Gamer Xtreme VR Gaming PC, Intel ...</td>\n",
       "      <td>B07VGJDKZ4</td>\n",
       "      <td>https://www.amazon.com/CYBERPOWERPC-Xtreme-i5-...</td>\n",
       "      <td>https://images-na.ssl-images-amazon.com/images...</td>\n",
       "      <td>4.5</td>\n",
       "      <td>2108.0</td>\n",
       "      <td>$</td>\n",
       "      <td>890.39</td>\n",
       "      <td>USD</td>\n",
       "      <td>$890.39</td>\n",
       "      <td>$</td>\n",
       "      <td>890.39</td>\n",
       "      <td>USD</td>\n",
       "      <td>$890.39</td>\n",
       "      <td>$</td>\n",
       "      <td>890.39</td>\n",
       "      <td>USD</td>\n",
       "      <td>$890.39 - $890.39</td>\n",
       "    </tr>\n",
       "    <tr>\n",
       "      <th>1</th>\n",
       "      <td>2</td>\n",
       "      <td>2</td>\n",
       "      <td>SkyTech Blaze II Gaming Computer PC Desktop – ...</td>\n",
       "      <td>B07RHBLV7F</td>\n",
       "      <td>https://www.amazon.com/SkyTech-Blaze-Gaming-Co...</td>\n",
       "      <td>https://images-na.ssl-images-amazon.com/images...</td>\n",
       "      <td>4.5</td>\n",
       "      <td>549.0</td>\n",
       "      <td>$</td>\n",
       "      <td>749.99</td>\n",
       "      <td>USD</td>\n",
       "      <td>$749.99</td>\n",
       "      <td>$</td>\n",
       "      <td>749.99</td>\n",
       "      <td>USD</td>\n",
       "      <td>$749.99</td>\n",
       "      <td>$</td>\n",
       "      <td>749.99</td>\n",
       "      <td>USD</td>\n",
       "      <td>$749.99 - $749.99</td>\n",
       "    </tr>\n",
       "    <tr>\n",
       "      <th>2</th>\n",
       "      <td>3</td>\n",
       "      <td>3</td>\n",
       "      <td>(Renewed) Dell Optiplex 7010 Business Desktop ...</td>\n",
       "      <td>B01LKOZEF0</td>\n",
       "      <td>https://www.amazon.com/Dell-Optiplex-7010-Prof...</td>\n",
       "      <td>https://images-na.ssl-images-amazon.com/images...</td>\n",
       "      <td>4.0</td>\n",
       "      <td>973.0</td>\n",
       "      <td>$</td>\n",
       "      <td>198.43</td>\n",
       "      <td>USD</td>\n",
       "      <td>$198.43</td>\n",
       "      <td>$</td>\n",
       "      <td>198.43</td>\n",
       "      <td>USD</td>\n",
       "      <td>$198.43</td>\n",
       "      <td>$</td>\n",
       "      <td>198.43</td>\n",
       "      <td>USD</td>\n",
       "      <td>$198.43 - $198.43</td>\n",
       "    </tr>\n",
       "    <tr>\n",
       "      <th>3</th>\n",
       "      <td>4</td>\n",
       "      <td>4</td>\n",
       "      <td>Acer Aspire TC-885-UA92 Desktop, 9th Gen Intel...</td>\n",
       "      <td>B07R8WJMW6</td>\n",
       "      <td>https://www.amazon.com/Acer-Ordenador-escritor...</td>\n",
       "      <td>https://images-na.ssl-images-amazon.com/images...</td>\n",
       "      <td>4.3</td>\n",
       "      <td>750.0</td>\n",
       "      <td>$</td>\n",
       "      <td>549.99</td>\n",
       "      <td>USD</td>\n",
       "      <td>$549.99</td>\n",
       "      <td>$</td>\n",
       "      <td>549.99</td>\n",
       "      <td>USD</td>\n",
       "      <td>$549.99</td>\n",
       "      <td>$</td>\n",
       "      <td>549.99</td>\n",
       "      <td>USD</td>\n",
       "      <td>$549.99 - $549.99</td>\n",
       "    </tr>\n",
       "    <tr>\n",
       "      <th>4</th>\n",
       "      <td>5</td>\n",
       "      <td>5</td>\n",
       "      <td>(Renewed) HP 8300 Elite Small Form Factor Desk...</td>\n",
       "      <td>B01CV9G1BO</td>\n",
       "      <td>https://www.amazon.com/HP-8300-Elite-Computer-...</td>\n",
       "      <td>https://images-na.ssl-images-amazon.com/images...</td>\n",
       "      <td>4.0</td>\n",
       "      <td>2210.0</td>\n",
       "      <td>$</td>\n",
       "      <td>139.97</td>\n",
       "      <td>USD</td>\n",
       "      <td>$139.97</td>\n",
       "      <td>$</td>\n",
       "      <td>139.97</td>\n",
       "      <td>USD</td>\n",
       "      <td>$139.97</td>\n",
       "      <td>$</td>\n",
       "      <td>139.97</td>\n",
       "      <td>USD</td>\n",
       "      <td>$139.97 - $139.97</td>\n",
       "    </tr>\n",
       "    <tr>\n",
       "      <th>...</th>\n",
       "      <td>...</td>\n",
       "      <td>...</td>\n",
       "      <td>...</td>\n",
       "      <td>...</td>\n",
       "      <td>...</td>\n",
       "      <td>...</td>\n",
       "      <td>...</td>\n",
       "      <td>...</td>\n",
       "      <td>...</td>\n",
       "      <td>...</td>\n",
       "      <td>...</td>\n",
       "      <td>...</td>\n",
       "      <td>...</td>\n",
       "      <td>...</td>\n",
       "      <td>...</td>\n",
       "      <td>...</td>\n",
       "      <td>...</td>\n",
       "      <td>...</td>\n",
       "      <td>...</td>\n",
       "      <td>...</td>\n",
       "    </tr>\n",
       "    <tr>\n",
       "      <th>45</th>\n",
       "      <td>96</td>\n",
       "      <td>46</td>\n",
       "      <td>Samsung SSD 860 EVO 250GB 2.5 Inch SATA III In...</td>\n",
       "      <td>B07864WMK8</td>\n",
       "      <td>https://www.amazon.com/Samsung-250GB-Internal-...</td>\n",
       "      <td>https://images-na.ssl-images-amazon.com/images...</td>\n",
       "      <td>4.8</td>\n",
       "      <td>21228.0</td>\n",
       "      <td>$</td>\n",
       "      <td>49.99</td>\n",
       "      <td>USD</td>\n",
       "      <td>$49.99</td>\n",
       "      <td>$</td>\n",
       "      <td>49.99</td>\n",
       "      <td>USD</td>\n",
       "      <td>$49.99</td>\n",
       "      <td>$</td>\n",
       "      <td>49.99</td>\n",
       "      <td>USD</td>\n",
       "      <td>$49.99 - $49.99</td>\n",
       "    </tr>\n",
       "    <tr>\n",
       "      <th>46</th>\n",
       "      <td>97</td>\n",
       "      <td>47</td>\n",
       "      <td>Seagate BarraCuda 1TB Internal Hard Drive HDD ...</td>\n",
       "      <td>B07H28QRKN</td>\n",
       "      <td>https://www.amazon.com/Seagate-BarraCuda-Inter...</td>\n",
       "      <td>https://images-na.ssl-images-amazon.com/images...</td>\n",
       "      <td>4.6</td>\n",
       "      <td>1109.0</td>\n",
       "      <td>$</td>\n",
       "      <td>47.49</td>\n",
       "      <td>USD</td>\n",
       "      <td>$47.49</td>\n",
       "      <td>$</td>\n",
       "      <td>47.49</td>\n",
       "      <td>USD</td>\n",
       "      <td>$47.49</td>\n",
       "      <td>$</td>\n",
       "      <td>47.49</td>\n",
       "      <td>USD</td>\n",
       "      <td>$47.49 - $47.49</td>\n",
       "    </tr>\n",
       "    <tr>\n",
       "      <th>47</th>\n",
       "      <td>98</td>\n",
       "      <td>48</td>\n",
       "      <td>Elgato Video Capture - Digitize Video for Mac,...</td>\n",
       "      <td>B0029U2YSA</td>\n",
       "      <td>https://www.amazon.com/Elgato-Video-Capture-Di...</td>\n",
       "      <td>https://images-na.ssl-images-amazon.com/images...</td>\n",
       "      <td>4.4</td>\n",
       "      <td>4176.0</td>\n",
       "      <td>$</td>\n",
       "      <td>87.99</td>\n",
       "      <td>USD</td>\n",
       "      <td>$87.99</td>\n",
       "      <td>$</td>\n",
       "      <td>87.99</td>\n",
       "      <td>USD</td>\n",
       "      <td>$87.99</td>\n",
       "      <td>$</td>\n",
       "      <td>87.99</td>\n",
       "      <td>USD</td>\n",
       "      <td>$87.99 - $87.99</td>\n",
       "    </tr>\n",
       "    <tr>\n",
       "      <th>48</th>\n",
       "      <td>99</td>\n",
       "      <td>49</td>\n",
       "      <td>BlueAVS Audio Video Capture Cards HDMI to USB ...</td>\n",
       "      <td>B0876VWFH7</td>\n",
       "      <td>https://www.amazon.com/BlueAVS-Capture-USB2-0-...</td>\n",
       "      <td>https://images-na.ssl-images-amazon.com/images...</td>\n",
       "      <td>4.4</td>\n",
       "      <td>111.0</td>\n",
       "      <td>$</td>\n",
       "      <td>29.99</td>\n",
       "      <td>USD</td>\n",
       "      <td>$29.99</td>\n",
       "      <td>$</td>\n",
       "      <td>29.99</td>\n",
       "      <td>USD</td>\n",
       "      <td>$29.99</td>\n",
       "      <td>$</td>\n",
       "      <td>29.99</td>\n",
       "      <td>USD</td>\n",
       "      <td>$29.99 - $29.99</td>\n",
       "    </tr>\n",
       "    <tr>\n",
       "      <th>49</th>\n",
       "      <td>100</td>\n",
       "      <td>50</td>\n",
       "      <td>Sabrent Rocket Q 1TB NVMe PCIe M.2 2280 Intern...</td>\n",
       "      <td>B07ZZYWTBP</td>\n",
       "      <td>https://www.amazon.com/Sabrent-Rocket-Internal...</td>\n",
       "      <td>https://images-na.ssl-images-amazon.com/images...</td>\n",
       "      <td>4.7</td>\n",
       "      <td>873.0</td>\n",
       "      <td>$</td>\n",
       "      <td>119.98</td>\n",
       "      <td>USD</td>\n",
       "      <td>$119.98</td>\n",
       "      <td>$</td>\n",
       "      <td>119.98</td>\n",
       "      <td>USD</td>\n",
       "      <td>$119.98</td>\n",
       "      <td>$</td>\n",
       "      <td>119.98</td>\n",
       "      <td>USD</td>\n",
       "      <td>$119.98 - $119.98</td>\n",
       "    </tr>\n",
       "  </tbody>\n",
       "</table>\n",
       "<p>1100 rows × 20 columns</p>\n",
       "</div>"
      ],
      "text/plain": [
       "    rank  position                                              title  \\\n",
       "0      1         1  CYBERPOWERPC Gamer Xtreme VR Gaming PC, Intel ...   \n",
       "1      2         2  SkyTech Blaze II Gaming Computer PC Desktop – ...   \n",
       "2      3         3  (Renewed) Dell Optiplex 7010 Business Desktop ...   \n",
       "3      4         4  Acer Aspire TC-885-UA92 Desktop, 9th Gen Intel...   \n",
       "4      5         5  (Renewed) HP 8300 Elite Small Form Factor Desk...   \n",
       "..   ...       ...                                                ...   \n",
       "45    96        46  Samsung SSD 860 EVO 250GB 2.5 Inch SATA III In...   \n",
       "46    97        47  Seagate BarraCuda 1TB Internal Hard Drive HDD ...   \n",
       "47    98        48  Elgato Video Capture - Digitize Video for Mac,...   \n",
       "48    99        49  BlueAVS Audio Video Capture Cards HDMI to USB ...   \n",
       "49   100        50  Sabrent Rocket Q 1TB NVMe PCIe M.2 2280 Intern...   \n",
       "\n",
       "          asin                                               link  \\\n",
       "0   B07VGJDKZ4  https://www.amazon.com/CYBERPOWERPC-Xtreme-i5-...   \n",
       "1   B07RHBLV7F  https://www.amazon.com/SkyTech-Blaze-Gaming-Co...   \n",
       "2   B01LKOZEF0  https://www.amazon.com/Dell-Optiplex-7010-Prof...   \n",
       "3   B07R8WJMW6  https://www.amazon.com/Acer-Ordenador-escritor...   \n",
       "4   B01CV9G1BO  https://www.amazon.com/HP-8300-Elite-Computer-...   \n",
       "..         ...                                                ...   \n",
       "45  B07864WMK8  https://www.amazon.com/Samsung-250GB-Internal-...   \n",
       "46  B07H28QRKN  https://www.amazon.com/Seagate-BarraCuda-Inter...   \n",
       "47  B0029U2YSA  https://www.amazon.com/Elgato-Video-Capture-Di...   \n",
       "48  B0876VWFH7  https://www.amazon.com/BlueAVS-Capture-USB2-0-...   \n",
       "49  B07ZZYWTBP  https://www.amazon.com/Sabrent-Rocket-Internal...   \n",
       "\n",
       "                                                image  rating  ratings_total  \\\n",
       "0   https://images-na.ssl-images-amazon.com/images...     4.5         2108.0   \n",
       "1   https://images-na.ssl-images-amazon.com/images...     4.5          549.0   \n",
       "2   https://images-na.ssl-images-amazon.com/images...     4.0          973.0   \n",
       "3   https://images-na.ssl-images-amazon.com/images...     4.3          750.0   \n",
       "4   https://images-na.ssl-images-amazon.com/images...     4.0         2210.0   \n",
       "..                                                ...     ...            ...   \n",
       "45  https://images-na.ssl-images-amazon.com/images...     4.8        21228.0   \n",
       "46  https://images-na.ssl-images-amazon.com/images...     4.6         1109.0   \n",
       "47  https://images-na.ssl-images-amazon.com/images...     4.4         4176.0   \n",
       "48  https://images-na.ssl-images-amazon.com/images...     4.4          111.0   \n",
       "49  https://images-na.ssl-images-amazon.com/images...     4.7          873.0   \n",
       "\n",
       "   price_lower.symbol  price_lower.value price_lower.currency price_lower.raw  \\\n",
       "0                   $             890.39                  USD         $890.39   \n",
       "1                   $             749.99                  USD         $749.99   \n",
       "2                   $             198.43                  USD         $198.43   \n",
       "3                   $             549.99                  USD         $549.99   \n",
       "4                   $             139.97                  USD         $139.97   \n",
       "..                ...                ...                  ...             ...   \n",
       "45                  $              49.99                  USD          $49.99   \n",
       "46                  $              47.49                  USD          $47.49   \n",
       "47                  $              87.99                  USD          $87.99   \n",
       "48                  $              29.99                  USD          $29.99   \n",
       "49                  $             119.98                  USD         $119.98   \n",
       "\n",
       "   price_upper.symbol  price_upper.value price_upper.currency price_upper.raw  \\\n",
       "0                   $             890.39                  USD         $890.39   \n",
       "1                   $             749.99                  USD         $749.99   \n",
       "2                   $             198.43                  USD         $198.43   \n",
       "3                   $             549.99                  USD         $549.99   \n",
       "4                   $             139.97                  USD         $139.97   \n",
       "..                ...                ...                  ...             ...   \n",
       "45                  $              49.99                  USD          $49.99   \n",
       "46                  $              47.49                  USD          $47.49   \n",
       "47                  $              87.99                  USD          $87.99   \n",
       "48                  $              29.99                  USD          $29.99   \n",
       "49                  $             119.98                  USD         $119.98   \n",
       "\n",
       "   price.symbol  price.value price.currency          price.raw  \n",
       "0             $       890.39            USD  $890.39 - $890.39  \n",
       "1             $       749.99            USD  $749.99 - $749.99  \n",
       "2             $       198.43            USD  $198.43 - $198.43  \n",
       "3             $       549.99            USD  $549.99 - $549.99  \n",
       "4             $       139.97            USD  $139.97 - $139.97  \n",
       "..          ...          ...            ...                ...  \n",
       "45            $        49.99            USD    $49.99 - $49.99  \n",
       "46            $        47.49            USD    $47.49 - $47.49  \n",
       "47            $        87.99            USD    $87.99 - $87.99  \n",
       "48            $        29.99            USD    $29.99 - $29.99  \n",
       "49            $       119.98            USD  $119.98 - $119.98  \n",
       "\n",
       "[1100 rows x 20 columns]"
      ]
     },
     "execution_count": 53,
     "metadata": {},
     "output_type": "execute_result"
    }
   ],
   "source": [
    "url_list = [\n",
    "    'https://www.amazon.com/Best-Sellers-Electronics-Desktop-Computers/zgbs/electronics/565098/ref=zg_bs_pg_1?_encoding=UTF8&pg=1',\n",
    "           'https://www.amazon.com/Best-Sellers-Electronics-Desktop-Computers/zgbs/electronics/565098/ref=zg_bs_pg_2?_encoding=UTF8&pg=2',\n",
    "           'https://www.amazon.com/Best-Sellers-Electronics-Laptop-Computers/zgbs/electronics/565108/ref=zg_bs_pg_1?_encoding=UTF8&pg=1',\n",
    "            'https://www.amazon.com/Best-Sellers-Electronics-Laptop-Computers/zgbs/electronics/565108/ref=zg_bs_pg_2?_encoding=UTF8&pg=2',\n",
    "            'https://www.amazon.com/Best-Sellers-Electronics-Computer-Tablets/zgbs/electronics/1232597011/ref=zg_bs_pg_1?_encoding=UTF8&pg=1',\n",
    "            'https://www.amazon.com/Best-Sellers-Electronics-Computer-Tablets/zgbs/electronics/1232597011/ref=zg_bs_pg_2?_encoding=UTF8&pg=2',\n",
    "            'https://www.amazon.com/Best-Sellers-Electronics-Computer-Servers/zgbs/electronics/11036071/ref=zg_bs_pg_1?_encoding=UTF8&pg=1',\n",
    "            'https://www.amazon.com/Best-Sellers-Electronics-Computer-Servers/zgbs/electronics/11036071/ref=zg_bs_pg_2?_encoding=UTF8&pg=2',\n",
    "            'https://www.amazon.com/Best-Sellers-Computers-Accessories-Computer-Routers/zgbs/pc/300189/ref=zg_bs_pg_1?_encoding=UTF8&pg=1',\n",
    "            'https://www.amazon.com/Best-Sellers-Computers-Accessories-Computer-Routers/zgbs/pc/300189/ref=zg_bs_pg_2?_encoding=UTF8&pg=2',\n",
    "            'https://www.amazon.com/Best-Sellers-Electronics-Data-Storage/zgbs/electronics/1292110011/ref=zg_bs_pg_1?_encoding=UTF8&pg=1',\n",
    "            'https://www.amazon.com/Best-Sellers-Electronics-Data-Storage/zgbs/electronics/1292110011/ref=zg_bs_pg_2?_encoding=UTF8&pg=2',\n",
    "            'https://www.amazon.com/Best-Sellers-Electronics-Computer-Networking/zgbs/electronics/172504/ref=zg_bs_pg_1?_encoding=UTF8&pg=1',\n",
    "            'https://www.amazon.com/Best-Sellers-Electronics-Computer-Networking/zgbs/electronics/172504/ref=zg_bs_pg_2?_encoding=UTF8&pg=2',\n",
    "            'https://www.amazon.com/Best-Sellers-Office-Products-Computer-Printers/zgbs/office-products/172635/ref=zg_bs_pg_1?_encoding=UTF8&pg=1',\n",
    "            'https://www.amazon.com/Best-Sellers-Office-Products-Computer-Printers/zgbs/office-products/172635/ref=zg_bs_pg_2?_encoding=UTF8&pg=2',\n",
    "            'https://www.amazon.com/Best-Sellers-Office-Products-Computer-Scanners/zgbs/office-products/172584/ref=zg_bs_pg_1?_encoding=UTF8&pg=1',\n",
    "            'https://www.amazon.com/Best-Sellers-Office-Products-Computer-Scanners/zgbs/office-products/172584/ref=zg_bs_pg_2?_encoding=UTF8&pg=2',\n",
    "            'https://www.amazon.com/Best-Sellers-Electronics-Computer-Monitors/zgbs/electronics/1292115011/ref=zg_bs_pg_1?_encoding=UTF8&pg=1',\n",
    "            'https://www.amazon.com/Best-Sellers-Electronics-Computer-Monitors/zgbs/electronics/1292115011/ref=zg_bs_pg_2?_encoding=UTF8&pg=2',\n",
    "           'https://www.amazon.com/Best-Sellers-Electronics-Computer-Components/zgbs/electronics/193870011/ref=zg_bs_pg_1?_encoding=UTF8&pg=1',\n",
    "            'https://www.amazon.com/Best-Sellers-Electronics-Computer-Components/zgbs/electronics/193870011/ref=zg_bs_pg_2?_encoding=UTF8&pg=2'\n",
    "           \n",
    "           ]\n",
    "\n",
    "dfs = []\n",
    "\n",
    "for url in url_list_trial:\n",
    "    params = {\n",
    "  'api_key': '1011DCD5DDD145908232408370D246DD',\n",
    "  'type': 'bestsellers',\n",
    "  'url': url,\n",
    "    }\n",
    "    response = requests.get('https://api.rainforestapi.com/request', params)\n",
    "    #normalize the data \n",
    "    #create a dataframe\n",
    "    #then append the df to dfs list\n",
    "    dfs.append(pd.json_normalize(response.json()['bestsellers'])) \n",
    "\n",
    "#creat a list of all categories   \n",
    "Category_list = ['desktop','desktop','Laptops','Laptops','Tablets','Tablets','Servers','Servers','Routers','Routers',\n",
    "                 'Data Storage','Data Storage', 'Networking', 'Networking','Printers'\n",
    "                 'Printers', 'Scanners','Scanners', 'Monitors','Monitors', 'Components','Components']\n",
    "\n",
    "#add a new column to each dataframe \n",
    "#to distinguish between the data frames and also for further analysis\n",
    "for i in range(len(Category_list)):\n",
    "    dfs[i]['Category'] = Category_list[i]\n",
    "    \n",
    "# #concatenate the data frames into one: df_combined    \n",
    "df_combined = pd.concat(dfs)\n",
    "df_combined\n",
    "\n",
    "\n",
    "#set the rank as the index column"
   ]
  },
  {
   "cell_type": "code",
   "execution_count": 54,
   "metadata": {},
   "outputs": [
    {
     "data": {
      "text/plain": [
       "(1100, 20)"
      ]
     },
     "execution_count": 54,
     "metadata": {},
     "output_type": "execute_result"
    }
   ],
   "source": [
    "df_combined.shape"
   ]
  },
  {
   "cell_type": "code",
   "execution_count": 55,
   "metadata": {},
   "outputs": [
    {
     "data": {
      "text/plain": [
       "rank                     0\n",
       "position                 0\n",
       "title                    0\n",
       "asin                     0\n",
       "link                     0\n",
       "image                    0\n",
       "rating                  45\n",
       "ratings_total           45\n",
       "price_lower.symbol      11\n",
       "price_lower.value       11\n",
       "price_lower.currency    11\n",
       "price_lower.raw         11\n",
       "price_upper.symbol      11\n",
       "price_upper.value       11\n",
       "price_upper.currency    11\n",
       "price_upper.raw         11\n",
       "price.symbol            11\n",
       "price.value             11\n",
       "price.currency          11\n",
       "price.raw               11\n",
       "dtype: int64"
      ]
     },
     "execution_count": 55,
     "metadata": {},
     "output_type": "execute_result"
    }
   ],
   "source": [
    "df_combined.isnull().sum()"
   ]
  },
  {
   "cell_type": "code",
   "execution_count": 56,
   "metadata": {},
   "outputs": [],
   "source": [
    "amazon_bs = df_combined.copy()\n"
   ]
  },
  {
   "cell_type": "code",
   "execution_count": null,
   "metadata": {},
   "outputs": [],
   "source": []
  },
  {
   "cell_type": "code",
   "execution_count": 57,
   "metadata": {},
   "outputs": [],
   "source": [
    "col_drop=(['position','price_lower.symbol','price_lower.value','price_lower.currency','price_lower.raw','price_upper.symbol','price_upper.value','price_upper.currency','price_upper.raw','price.symbol','price.currency', 'price.raw'])"
   ]
  },
  {
   "cell_type": "code",
   "execution_count": 60,
   "metadata": {},
   "outputs": [],
   "source": [
    "amazon_bs = amazon_bs.drop(col_drop, axis=1)"
   ]
  },
  {
   "cell_type": "code",
   "execution_count": 61,
   "metadata": {
    "scrolled": true
   },
   "outputs": [
    {
     "data": {
      "text/html": [
       "<div>\n",
       "<style scoped>\n",
       "    .dataframe tbody tr th:only-of-type {\n",
       "        vertical-align: middle;\n",
       "    }\n",
       "\n",
       "    .dataframe tbody tr th {\n",
       "        vertical-align: top;\n",
       "    }\n",
       "\n",
       "    .dataframe thead th {\n",
       "        text-align: right;\n",
       "    }\n",
       "</style>\n",
       "<table border=\"1\" class=\"dataframe\">\n",
       "  <thead>\n",
       "    <tr style=\"text-align: right;\">\n",
       "      <th></th>\n",
       "      <th>rank</th>\n",
       "      <th>title</th>\n",
       "      <th>asin</th>\n",
       "      <th>link</th>\n",
       "      <th>image</th>\n",
       "      <th>rating</th>\n",
       "      <th>ratings_total</th>\n",
       "      <th>price.value</th>\n",
       "    </tr>\n",
       "  </thead>\n",
       "  <tbody>\n",
       "    <tr>\n",
       "      <th>0</th>\n",
       "      <td>1</td>\n",
       "      <td>CYBERPOWERPC Gamer Xtreme VR Gaming PC, Intel ...</td>\n",
       "      <td>B07VGJDKZ4</td>\n",
       "      <td>https://www.amazon.com/CYBERPOWERPC-Xtreme-i5-...</td>\n",
       "      <td>https://images-na.ssl-images-amazon.com/images...</td>\n",
       "      <td>4.5</td>\n",
       "      <td>2108.0</td>\n",
       "      <td>890.39</td>\n",
       "    </tr>\n",
       "    <tr>\n",
       "      <th>1</th>\n",
       "      <td>2</td>\n",
       "      <td>SkyTech Blaze II Gaming Computer PC Desktop – ...</td>\n",
       "      <td>B07RHBLV7F</td>\n",
       "      <td>https://www.amazon.com/SkyTech-Blaze-Gaming-Co...</td>\n",
       "      <td>https://images-na.ssl-images-amazon.com/images...</td>\n",
       "      <td>4.5</td>\n",
       "      <td>549.0</td>\n",
       "      <td>749.99</td>\n",
       "    </tr>\n",
       "    <tr>\n",
       "      <th>2</th>\n",
       "      <td>3</td>\n",
       "      <td>(Renewed) Dell Optiplex 7010 Business Desktop ...</td>\n",
       "      <td>B01LKOZEF0</td>\n",
       "      <td>https://www.amazon.com/Dell-Optiplex-7010-Prof...</td>\n",
       "      <td>https://images-na.ssl-images-amazon.com/images...</td>\n",
       "      <td>4.0</td>\n",
       "      <td>973.0</td>\n",
       "      <td>198.43</td>\n",
       "    </tr>\n",
       "    <tr>\n",
       "      <th>3</th>\n",
       "      <td>4</td>\n",
       "      <td>Acer Aspire TC-885-UA92 Desktop, 9th Gen Intel...</td>\n",
       "      <td>B07R8WJMW6</td>\n",
       "      <td>https://www.amazon.com/Acer-Ordenador-escritor...</td>\n",
       "      <td>https://images-na.ssl-images-amazon.com/images...</td>\n",
       "      <td>4.3</td>\n",
       "      <td>750.0</td>\n",
       "      <td>549.99</td>\n",
       "    </tr>\n",
       "    <tr>\n",
       "      <th>4</th>\n",
       "      <td>5</td>\n",
       "      <td>(Renewed) HP 8300 Elite Small Form Factor Desk...</td>\n",
       "      <td>B01CV9G1BO</td>\n",
       "      <td>https://www.amazon.com/HP-8300-Elite-Computer-...</td>\n",
       "      <td>https://images-na.ssl-images-amazon.com/images...</td>\n",
       "      <td>4.0</td>\n",
       "      <td>2210.0</td>\n",
       "      <td>139.97</td>\n",
       "    </tr>\n",
       "  </tbody>\n",
       "</table>\n",
       "</div>"
      ],
      "text/plain": [
       "   rank                                              title        asin  \\\n",
       "0     1  CYBERPOWERPC Gamer Xtreme VR Gaming PC, Intel ...  B07VGJDKZ4   \n",
       "1     2  SkyTech Blaze II Gaming Computer PC Desktop – ...  B07RHBLV7F   \n",
       "2     3  (Renewed) Dell Optiplex 7010 Business Desktop ...  B01LKOZEF0   \n",
       "3     4  Acer Aspire TC-885-UA92 Desktop, 9th Gen Intel...  B07R8WJMW6   \n",
       "4     5  (Renewed) HP 8300 Elite Small Form Factor Desk...  B01CV9G1BO   \n",
       "\n",
       "                                                link  \\\n",
       "0  https://www.amazon.com/CYBERPOWERPC-Xtreme-i5-...   \n",
       "1  https://www.amazon.com/SkyTech-Blaze-Gaming-Co...   \n",
       "2  https://www.amazon.com/Dell-Optiplex-7010-Prof...   \n",
       "3  https://www.amazon.com/Acer-Ordenador-escritor...   \n",
       "4  https://www.amazon.com/HP-8300-Elite-Computer-...   \n",
       "\n",
       "                                               image  rating  ratings_total  \\\n",
       "0  https://images-na.ssl-images-amazon.com/images...     4.5         2108.0   \n",
       "1  https://images-na.ssl-images-amazon.com/images...     4.5          549.0   \n",
       "2  https://images-na.ssl-images-amazon.com/images...     4.0          973.0   \n",
       "3  https://images-na.ssl-images-amazon.com/images...     4.3          750.0   \n",
       "4  https://images-na.ssl-images-amazon.com/images...     4.0         2210.0   \n",
       "\n",
       "   price.value  \n",
       "0       890.39  \n",
       "1       749.99  \n",
       "2       198.43  \n",
       "3       549.99  \n",
       "4       139.97  "
      ]
     },
     "execution_count": 61,
     "metadata": {},
     "output_type": "execute_result"
    }
   ],
   "source": [
    "amazon_bs.head()"
   ]
  },
  {
   "cell_type": "code",
   "execution_count": 62,
   "metadata": {},
   "outputs": [
    {
     "data": {
      "text/html": [
       "<div>\n",
       "<style scoped>\n",
       "    .dataframe tbody tr th:only-of-type {\n",
       "        vertical-align: middle;\n",
       "    }\n",
       "\n",
       "    .dataframe tbody tr th {\n",
       "        vertical-align: top;\n",
       "    }\n",
       "\n",
       "    .dataframe thead th {\n",
       "        text-align: right;\n",
       "    }\n",
       "</style>\n",
       "<table border=\"1\" class=\"dataframe\">\n",
       "  <thead>\n",
       "    <tr style=\"text-align: right;\">\n",
       "      <th></th>\n",
       "      <th>rank</th>\n",
       "      <th>title</th>\n",
       "      <th>asin</th>\n",
       "      <th>link</th>\n",
       "      <th>image</th>\n",
       "      <th>rating</th>\n",
       "      <th>ratings_total</th>\n",
       "      <th>price.value</th>\n",
       "    </tr>\n",
       "  </thead>\n",
       "  <tbody>\n",
       "    <tr>\n",
       "      <th>45</th>\n",
       "      <td>96</td>\n",
       "      <td>Samsung SSD 860 EVO 250GB 2.5 Inch SATA III In...</td>\n",
       "      <td>B07864WMK8</td>\n",
       "      <td>https://www.amazon.com/Samsung-250GB-Internal-...</td>\n",
       "      <td>https://images-na.ssl-images-amazon.com/images...</td>\n",
       "      <td>4.8</td>\n",
       "      <td>21228.0</td>\n",
       "      <td>49.99</td>\n",
       "    </tr>\n",
       "    <tr>\n",
       "      <th>46</th>\n",
       "      <td>97</td>\n",
       "      <td>Seagate BarraCuda 1TB Internal Hard Drive HDD ...</td>\n",
       "      <td>B07H28QRKN</td>\n",
       "      <td>https://www.amazon.com/Seagate-BarraCuda-Inter...</td>\n",
       "      <td>https://images-na.ssl-images-amazon.com/images...</td>\n",
       "      <td>4.6</td>\n",
       "      <td>1109.0</td>\n",
       "      <td>47.49</td>\n",
       "    </tr>\n",
       "    <tr>\n",
       "      <th>47</th>\n",
       "      <td>98</td>\n",
       "      <td>Elgato Video Capture - Digitize Video for Mac,...</td>\n",
       "      <td>B0029U2YSA</td>\n",
       "      <td>https://www.amazon.com/Elgato-Video-Capture-Di...</td>\n",
       "      <td>https://images-na.ssl-images-amazon.com/images...</td>\n",
       "      <td>4.4</td>\n",
       "      <td>4176.0</td>\n",
       "      <td>87.99</td>\n",
       "    </tr>\n",
       "    <tr>\n",
       "      <th>48</th>\n",
       "      <td>99</td>\n",
       "      <td>BlueAVS Audio Video Capture Cards HDMI to USB ...</td>\n",
       "      <td>B0876VWFH7</td>\n",
       "      <td>https://www.amazon.com/BlueAVS-Capture-USB2-0-...</td>\n",
       "      <td>https://images-na.ssl-images-amazon.com/images...</td>\n",
       "      <td>4.4</td>\n",
       "      <td>111.0</td>\n",
       "      <td>29.99</td>\n",
       "    </tr>\n",
       "    <tr>\n",
       "      <th>49</th>\n",
       "      <td>100</td>\n",
       "      <td>Sabrent Rocket Q 1TB NVMe PCIe M.2 2280 Intern...</td>\n",
       "      <td>B07ZZYWTBP</td>\n",
       "      <td>https://www.amazon.com/Sabrent-Rocket-Internal...</td>\n",
       "      <td>https://images-na.ssl-images-amazon.com/images...</td>\n",
       "      <td>4.7</td>\n",
       "      <td>873.0</td>\n",
       "      <td>119.98</td>\n",
       "    </tr>\n",
       "  </tbody>\n",
       "</table>\n",
       "</div>"
      ],
      "text/plain": [
       "    rank                                              title        asin  \\\n",
       "45    96  Samsung SSD 860 EVO 250GB 2.5 Inch SATA III In...  B07864WMK8   \n",
       "46    97  Seagate BarraCuda 1TB Internal Hard Drive HDD ...  B07H28QRKN   \n",
       "47    98  Elgato Video Capture - Digitize Video for Mac,...  B0029U2YSA   \n",
       "48    99  BlueAVS Audio Video Capture Cards HDMI to USB ...  B0876VWFH7   \n",
       "49   100  Sabrent Rocket Q 1TB NVMe PCIe M.2 2280 Intern...  B07ZZYWTBP   \n",
       "\n",
       "                                                 link  \\\n",
       "45  https://www.amazon.com/Samsung-250GB-Internal-...   \n",
       "46  https://www.amazon.com/Seagate-BarraCuda-Inter...   \n",
       "47  https://www.amazon.com/Elgato-Video-Capture-Di...   \n",
       "48  https://www.amazon.com/BlueAVS-Capture-USB2-0-...   \n",
       "49  https://www.amazon.com/Sabrent-Rocket-Internal...   \n",
       "\n",
       "                                                image  rating  ratings_total  \\\n",
       "45  https://images-na.ssl-images-amazon.com/images...     4.8        21228.0   \n",
       "46  https://images-na.ssl-images-amazon.com/images...     4.6         1109.0   \n",
       "47  https://images-na.ssl-images-amazon.com/images...     4.4         4176.0   \n",
       "48  https://images-na.ssl-images-amazon.com/images...     4.4          111.0   \n",
       "49  https://images-na.ssl-images-amazon.com/images...     4.7          873.0   \n",
       "\n",
       "    price.value  \n",
       "45        49.99  \n",
       "46        47.49  \n",
       "47        87.99  \n",
       "48        29.99  \n",
       "49       119.98  "
      ]
     },
     "execution_count": 62,
     "metadata": {},
     "output_type": "execute_result"
    }
   ],
   "source": [
    "amazon_bs.tail()"
   ]
  },
  {
   "cell_type": "code",
   "execution_count": 63,
   "metadata": {},
   "outputs": [
    {
     "data": {
      "text/html": [
       "<div>\n",
       "<style scoped>\n",
       "    .dataframe tbody tr th:only-of-type {\n",
       "        vertical-align: middle;\n",
       "    }\n",
       "\n",
       "    .dataframe tbody tr th {\n",
       "        vertical-align: top;\n",
       "    }\n",
       "\n",
       "    .dataframe thead th {\n",
       "        text-align: right;\n",
       "    }\n",
       "</style>\n",
       "<table border=\"1\" class=\"dataframe\">\n",
       "  <thead>\n",
       "    <tr style=\"text-align: right;\">\n",
       "      <th></th>\n",
       "      <th>rank</th>\n",
       "      <th>rating</th>\n",
       "      <th>ratings_total</th>\n",
       "      <th>price.value</th>\n",
       "    </tr>\n",
       "  </thead>\n",
       "  <tbody>\n",
       "    <tr>\n",
       "      <th>count</th>\n",
       "      <td>1100.0000</td>\n",
       "      <td>1055.000000</td>\n",
       "      <td>1055.000000</td>\n",
       "      <td>1089.000000</td>\n",
       "    </tr>\n",
       "    <tr>\n",
       "      <th>mean</th>\n",
       "      <td>50.5000</td>\n",
       "      <td>4.309479</td>\n",
       "      <td>4948.361137</td>\n",
       "      <td>274.047612</td>\n",
       "    </tr>\n",
       "    <tr>\n",
       "      <th>std</th>\n",
       "      <td>28.8792</td>\n",
       "      <td>0.354217</td>\n",
       "      <td>13333.050938</td>\n",
       "      <td>379.943465</td>\n",
       "    </tr>\n",
       "    <tr>\n",
       "      <th>min</th>\n",
       "      <td>1.0000</td>\n",
       "      <td>2.500000</td>\n",
       "      <td>1.000000</td>\n",
       "      <td>0.480000</td>\n",
       "    </tr>\n",
       "    <tr>\n",
       "      <th>25%</th>\n",
       "      <td>25.7500</td>\n",
       "      <td>4.100000</td>\n",
       "      <td>154.500000</td>\n",
       "      <td>69.990000</td>\n",
       "    </tr>\n",
       "    <tr>\n",
       "      <th>50%</th>\n",
       "      <td>50.5000</td>\n",
       "      <td>4.300000</td>\n",
       "      <td>891.000000</td>\n",
       "      <td>149.950000</td>\n",
       "    </tr>\n",
       "    <tr>\n",
       "      <th>75%</th>\n",
       "      <td>75.2500</td>\n",
       "      <td>4.600000</td>\n",
       "      <td>3518.000000</td>\n",
       "      <td>299.890000</td>\n",
       "    </tr>\n",
       "    <tr>\n",
       "      <th>max</th>\n",
       "      <td>100.0000</td>\n",
       "      <td>5.000000</td>\n",
       "      <td>202702.000000</td>\n",
       "      <td>3899.000000</td>\n",
       "    </tr>\n",
       "  </tbody>\n",
       "</table>\n",
       "</div>"
      ],
      "text/plain": [
       "            rank       rating  ratings_total  price.value\n",
       "count  1100.0000  1055.000000    1055.000000  1089.000000\n",
       "mean     50.5000     4.309479    4948.361137   274.047612\n",
       "std      28.8792     0.354217   13333.050938   379.943465\n",
       "min       1.0000     2.500000       1.000000     0.480000\n",
       "25%      25.7500     4.100000     154.500000    69.990000\n",
       "50%      50.5000     4.300000     891.000000   149.950000\n",
       "75%      75.2500     4.600000    3518.000000   299.890000\n",
       "max     100.0000     5.000000  202702.000000  3899.000000"
      ]
     },
     "execution_count": 63,
     "metadata": {},
     "output_type": "execute_result"
    }
   ],
   "source": [
    "amazon_bs.describe()"
   ]
  },
  {
   "cell_type": "code",
   "execution_count": 64,
   "metadata": {},
   "outputs": [
    {
     "name": "stdout",
     "output_type": "stream",
     "text": [
      "<class 'pandas.core.frame.DataFrame'>\n",
      "Int64Index: 1100 entries, 0 to 49\n",
      "Data columns (total 8 columns):\n",
      " #   Column         Non-Null Count  Dtype  \n",
      "---  ------         --------------  -----  \n",
      " 0   rank           1100 non-null   int64  \n",
      " 1   title          1100 non-null   object \n",
      " 2   asin           1100 non-null   object \n",
      " 3   link           1100 non-null   object \n",
      " 4   image          1100 non-null   object \n",
      " 5   rating         1055 non-null   float64\n",
      " 6   ratings_total  1055 non-null   float64\n",
      " 7   price.value    1089 non-null   float64\n",
      "dtypes: float64(3), int64(1), object(4)\n",
      "memory usage: 77.3+ KB\n"
     ]
    }
   ],
   "source": [
    "amazon_bs.info()"
   ]
  },
  {
   "cell_type": "code",
   "execution_count": 65,
   "metadata": {},
   "outputs": [
    {
     "data": {
      "text/plain": [
       "1.0        17\n",
       "18952.0    12\n",
       "2.0        11\n",
       "46109.0    11\n",
       "49720.0     9\n",
       "           ..\n",
       "340.0       1\n",
       "93.0        1\n",
       "138.0       1\n",
       "776.0       1\n",
       "750.0       1\n",
       "Name: ratings_total, Length: 630, dtype: int64"
      ]
     },
     "execution_count": 65,
     "metadata": {},
     "output_type": "execute_result"
    }
   ],
   "source": [
    "amazon_bs.ratings_total.value_counts() "
   ]
  },
  {
   "cell_type": "code",
   "execution_count": 66,
   "metadata": {},
   "outputs": [
    {
     "data": {
      "text/html": [
       "        <script type=\"text/javascript\">\n",
       "        window.PlotlyConfig = {MathJaxConfig: 'local'};\n",
       "        if (window.MathJax) {MathJax.Hub.Config({SVG: {font: \"STIX-Web\"}});}\n",
       "        if (typeof require !== 'undefined') {\n",
       "        require.undef(\"plotly\");\n",
       "        requirejs.config({\n",
       "            paths: {\n",
       "                'plotly': ['https://cdn.plot.ly/plotly-latest.min']\n",
       "            }\n",
       "        });\n",
       "        require(['plotly'], function(Plotly) {\n",
       "            window._Plotly = Plotly;\n",
       "        });\n",
       "        }\n",
       "        </script>\n",
       "        "
      ]
     },
     "metadata": {},
     "output_type": "display_data"
    },
    {
     "data": {
      "text/html": [
       "        <script type=\"text/javascript\">\n",
       "        window.PlotlyConfig = {MathJaxConfig: 'local'};\n",
       "        if (window.MathJax) {MathJax.Hub.Config({SVG: {font: \"STIX-Web\"}});}\n",
       "        if (typeof require !== 'undefined') {\n",
       "        require.undef(\"plotly\");\n",
       "        requirejs.config({\n",
       "            paths: {\n",
       "                'plotly': ['https://cdn.plot.ly/plotly-latest.min']\n",
       "            }\n",
       "        });\n",
       "        require(['plotly'], function(Plotly) {\n",
       "            window._Plotly = Plotly;\n",
       "        });\n",
       "        }\n",
       "        </script>\n",
       "        "
      ]
     },
     "metadata": {},
     "output_type": "display_data"
    }
   ],
   "source": [
    "import numpy as np\n",
    "%matplotlib inline\n",
    "from plotly import __version__\n",
    "from plotly.offline import download_plotlyjs, init_notebook_mode, plot, iplot\n",
    "import cufflinks as cf\n",
    "from plotly.offline import iplot\n",
    "import chart_studio.plotly as py\n",
    "init_notebook_mode(connected=True)\n",
    "cf.go_offline()"
   ]
  },
  {
   "cell_type": "code",
   "execution_count": 67,
   "metadata": {},
   "outputs": [
    {
     "data": {
      "application/vnd.plotly.v1+json": {
       "config": {
        "plotlyServerURL": "https://plot.ly"
       },
       "data": [
        {
         "labels": [
          17,
          12,
          11,
          11,
          9,
          8,
          7,
          7,
          6,
          6,
          6,
          6,
          6,
          5,
          5,
          5,
          5,
          5,
          5,
          5,
          5,
          5,
          5,
          5,
          5,
          4,
          4,
          4,
          4,
          4,
          4,
          4,
          4,
          4,
          4,
          4,
          4,
          4,
          4,
          4,
          4,
          4,
          4,
          4,
          4,
          4,
          4,
          4,
          3,
          3,
          3,
          3,
          3,
          3,
          3,
          3,
          3,
          3,
          3,
          3,
          3,
          3,
          3,
          3,
          3,
          3,
          3,
          3,
          3,
          3,
          3,
          3,
          3,
          3,
          3,
          3,
          3,
          3,
          3,
          3,
          3,
          3,
          3,
          3,
          3,
          3,
          3,
          3,
          3,
          3,
          3,
          3,
          3,
          3,
          3,
          3,
          2,
          2,
          2,
          2,
          2,
          2,
          2,
          2,
          2,
          2,
          2,
          2,
          2,
          2,
          2,
          2,
          2,
          2,
          2,
          2,
          2,
          2,
          2,
          2,
          2,
          2,
          2,
          2,
          2,
          2,
          2,
          2,
          2,
          2,
          2,
          2,
          2,
          2,
          2,
          2,
          2,
          2,
          2,
          2,
          2,
          2,
          2,
          2,
          2,
          2,
          2,
          2,
          2,
          2,
          2,
          2,
          2,
          2,
          2,
          2,
          2,
          2,
          2,
          2,
          2,
          2,
          2,
          2,
          2,
          2,
          2,
          2,
          2,
          2,
          2,
          2,
          2,
          2,
          2,
          2,
          2,
          2,
          2,
          2,
          2,
          2,
          2,
          2,
          2,
          2,
          2,
          2,
          2,
          2,
          2,
          2,
          2,
          2,
          2,
          2,
          2,
          2,
          2,
          2,
          2,
          2,
          2,
          2,
          2,
          2,
          2,
          2,
          2,
          1,
          1,
          1,
          1,
          1,
          1,
          1,
          1,
          1,
          1,
          1,
          1,
          1,
          1,
          1,
          1,
          1,
          1,
          1,
          1,
          1,
          1,
          1,
          1,
          1,
          1,
          1,
          1,
          1,
          1,
          1,
          1,
          1,
          1,
          1,
          1,
          1,
          1,
          1,
          1,
          1,
          1,
          1,
          1,
          1,
          1,
          1,
          1,
          1,
          1,
          1,
          1,
          1,
          1,
          1,
          1,
          1,
          1,
          1,
          1,
          1,
          1,
          1,
          1,
          1,
          1,
          1,
          1,
          1,
          1,
          1,
          1,
          1,
          1,
          1,
          1,
          1,
          1,
          1,
          1,
          1,
          1,
          1,
          1,
          1,
          1,
          1,
          1,
          1,
          1,
          1,
          1,
          1,
          1,
          1,
          1,
          1,
          1,
          1,
          1,
          1,
          1,
          1,
          1,
          1,
          1,
          1,
          1,
          1,
          1,
          1,
          1,
          1,
          1,
          1,
          1,
          1,
          1,
          1,
          1,
          1,
          1,
          1,
          1,
          1,
          1,
          1,
          1,
          1,
          1,
          1,
          1,
          1,
          1,
          1,
          1,
          1,
          1,
          1,
          1,
          1,
          1,
          1,
          1,
          1,
          1,
          1,
          1,
          1,
          1,
          1,
          1,
          1,
          1,
          1,
          1,
          1,
          1,
          1,
          1,
          1,
          1,
          1,
          1,
          1,
          1,
          1,
          1,
          1,
          1,
          1,
          1,
          1,
          1,
          1,
          1,
          1,
          1,
          1,
          1,
          1,
          1,
          1,
          1,
          1,
          1,
          1,
          1,
          1,
          1,
          1,
          1,
          1,
          1,
          1,
          1,
          1,
          1,
          1,
          1,
          1,
          1,
          1,
          1,
          1,
          1,
          1,
          1,
          1,
          1,
          1,
          1,
          1,
          1,
          1,
          1,
          1,
          1,
          1,
          1,
          1,
          1,
          1,
          1,
          1,
          1,
          1,
          1,
          1,
          1,
          1,
          1,
          1,
          1,
          1,
          1,
          1,
          1,
          1,
          1,
          1,
          1,
          1,
          1,
          1,
          1,
          1,
          1,
          1,
          1,
          1,
          1,
          1,
          1,
          1,
          1,
          1,
          1,
          1,
          1,
          1,
          1,
          1,
          1,
          1,
          1,
          1,
          1,
          1,
          1,
          1,
          1,
          1,
          1,
          1,
          1,
          1,
          1,
          1,
          1,
          1,
          1,
          1,
          1,
          1,
          1,
          1,
          1,
          1,
          1,
          1,
          1,
          1,
          1,
          1,
          1,
          1,
          1,
          1,
          1,
          1,
          1,
          1,
          1,
          1,
          1,
          1,
          1,
          1,
          1,
          1,
          1,
          1,
          1,
          1,
          1,
          1,
          1,
          1,
          1,
          1,
          1,
          1,
          1,
          1,
          1,
          1,
          1,
          1,
          1,
          1,
          1,
          1,
          1,
          1,
          1,
          1,
          1,
          1,
          1,
          1,
          1,
          1,
          1,
          1,
          1,
          1,
          1,
          1,
          1,
          1,
          1,
          1,
          1,
          1,
          1,
          1,
          1,
          1,
          1,
          1,
          1,
          1,
          1,
          1,
          1,
          1,
          1,
          1,
          1,
          1,
          1,
          1,
          1,
          1,
          1,
          1,
          1,
          1,
          1,
          1,
          1,
          1,
          1,
          1,
          1,
          1,
          1,
          1,
          1,
          1,
          1,
          1,
          1,
          1,
          1,
          1,
          1,
          1,
          1,
          1,
          1,
          1,
          1,
          1,
          1,
          1,
          1,
          1,
          1,
          1,
          1,
          1,
          1,
          1,
          1,
          1,
          1,
          1,
          1,
          1
         ],
         "type": "pie"
        }
       ],
       "layout": {
        "template": {
         "data": {
          "bar": [
           {
            "error_x": {
             "color": "#2a3f5f"
            },
            "error_y": {
             "color": "#2a3f5f"
            },
            "marker": {
             "line": {
              "color": "#E5ECF6",
              "width": 0.5
             }
            },
            "type": "bar"
           }
          ],
          "barpolar": [
           {
            "marker": {
             "line": {
              "color": "#E5ECF6",
              "width": 0.5
             }
            },
            "type": "barpolar"
           }
          ],
          "carpet": [
           {
            "aaxis": {
             "endlinecolor": "#2a3f5f",
             "gridcolor": "white",
             "linecolor": "white",
             "minorgridcolor": "white",
             "startlinecolor": "#2a3f5f"
            },
            "baxis": {
             "endlinecolor": "#2a3f5f",
             "gridcolor": "white",
             "linecolor": "white",
             "minorgridcolor": "white",
             "startlinecolor": "#2a3f5f"
            },
            "type": "carpet"
           }
          ],
          "choropleth": [
           {
            "colorbar": {
             "outlinewidth": 0,
             "ticks": ""
            },
            "type": "choropleth"
           }
          ],
          "contour": [
           {
            "colorbar": {
             "outlinewidth": 0,
             "ticks": ""
            },
            "colorscale": [
             [
              0,
              "#0d0887"
             ],
             [
              0.1111111111111111,
              "#46039f"
             ],
             [
              0.2222222222222222,
              "#7201a8"
             ],
             [
              0.3333333333333333,
              "#9c179e"
             ],
             [
              0.4444444444444444,
              "#bd3786"
             ],
             [
              0.5555555555555556,
              "#d8576b"
             ],
             [
              0.6666666666666666,
              "#ed7953"
             ],
             [
              0.7777777777777778,
              "#fb9f3a"
             ],
             [
              0.8888888888888888,
              "#fdca26"
             ],
             [
              1,
              "#f0f921"
             ]
            ],
            "type": "contour"
           }
          ],
          "contourcarpet": [
           {
            "colorbar": {
             "outlinewidth": 0,
             "ticks": ""
            },
            "type": "contourcarpet"
           }
          ],
          "heatmap": [
           {
            "colorbar": {
             "outlinewidth": 0,
             "ticks": ""
            },
            "colorscale": [
             [
              0,
              "#0d0887"
             ],
             [
              0.1111111111111111,
              "#46039f"
             ],
             [
              0.2222222222222222,
              "#7201a8"
             ],
             [
              0.3333333333333333,
              "#9c179e"
             ],
             [
              0.4444444444444444,
              "#bd3786"
             ],
             [
              0.5555555555555556,
              "#d8576b"
             ],
             [
              0.6666666666666666,
              "#ed7953"
             ],
             [
              0.7777777777777778,
              "#fb9f3a"
             ],
             [
              0.8888888888888888,
              "#fdca26"
             ],
             [
              1,
              "#f0f921"
             ]
            ],
            "type": "heatmap"
           }
          ],
          "heatmapgl": [
           {
            "colorbar": {
             "outlinewidth": 0,
             "ticks": ""
            },
            "colorscale": [
             [
              0,
              "#0d0887"
             ],
             [
              0.1111111111111111,
              "#46039f"
             ],
             [
              0.2222222222222222,
              "#7201a8"
             ],
             [
              0.3333333333333333,
              "#9c179e"
             ],
             [
              0.4444444444444444,
              "#bd3786"
             ],
             [
              0.5555555555555556,
              "#d8576b"
             ],
             [
              0.6666666666666666,
              "#ed7953"
             ],
             [
              0.7777777777777778,
              "#fb9f3a"
             ],
             [
              0.8888888888888888,
              "#fdca26"
             ],
             [
              1,
              "#f0f921"
             ]
            ],
            "type": "heatmapgl"
           }
          ],
          "histogram": [
           {
            "marker": {
             "colorbar": {
              "outlinewidth": 0,
              "ticks": ""
             }
            },
            "type": "histogram"
           }
          ],
          "histogram2d": [
           {
            "colorbar": {
             "outlinewidth": 0,
             "ticks": ""
            },
            "colorscale": [
             [
              0,
              "#0d0887"
             ],
             [
              0.1111111111111111,
              "#46039f"
             ],
             [
              0.2222222222222222,
              "#7201a8"
             ],
             [
              0.3333333333333333,
              "#9c179e"
             ],
             [
              0.4444444444444444,
              "#bd3786"
             ],
             [
              0.5555555555555556,
              "#d8576b"
             ],
             [
              0.6666666666666666,
              "#ed7953"
             ],
             [
              0.7777777777777778,
              "#fb9f3a"
             ],
             [
              0.8888888888888888,
              "#fdca26"
             ],
             [
              1,
              "#f0f921"
             ]
            ],
            "type": "histogram2d"
           }
          ],
          "histogram2dcontour": [
           {
            "colorbar": {
             "outlinewidth": 0,
             "ticks": ""
            },
            "colorscale": [
             [
              0,
              "#0d0887"
             ],
             [
              0.1111111111111111,
              "#46039f"
             ],
             [
              0.2222222222222222,
              "#7201a8"
             ],
             [
              0.3333333333333333,
              "#9c179e"
             ],
             [
              0.4444444444444444,
              "#bd3786"
             ],
             [
              0.5555555555555556,
              "#d8576b"
             ],
             [
              0.6666666666666666,
              "#ed7953"
             ],
             [
              0.7777777777777778,
              "#fb9f3a"
             ],
             [
              0.8888888888888888,
              "#fdca26"
             ],
             [
              1,
              "#f0f921"
             ]
            ],
            "type": "histogram2dcontour"
           }
          ],
          "mesh3d": [
           {
            "colorbar": {
             "outlinewidth": 0,
             "ticks": ""
            },
            "type": "mesh3d"
           }
          ],
          "parcoords": [
           {
            "line": {
             "colorbar": {
              "outlinewidth": 0,
              "ticks": ""
             }
            },
            "type": "parcoords"
           }
          ],
          "pie": [
           {
            "automargin": true,
            "type": "pie"
           }
          ],
          "scatter": [
           {
            "marker": {
             "colorbar": {
              "outlinewidth": 0,
              "ticks": ""
             }
            },
            "type": "scatter"
           }
          ],
          "scatter3d": [
           {
            "line": {
             "colorbar": {
              "outlinewidth": 0,
              "ticks": ""
             }
            },
            "marker": {
             "colorbar": {
              "outlinewidth": 0,
              "ticks": ""
             }
            },
            "type": "scatter3d"
           }
          ],
          "scattercarpet": [
           {
            "marker": {
             "colorbar": {
              "outlinewidth": 0,
              "ticks": ""
             }
            },
            "type": "scattercarpet"
           }
          ],
          "scattergeo": [
           {
            "marker": {
             "colorbar": {
              "outlinewidth": 0,
              "ticks": ""
             }
            },
            "type": "scattergeo"
           }
          ],
          "scattergl": [
           {
            "marker": {
             "colorbar": {
              "outlinewidth": 0,
              "ticks": ""
             }
            },
            "type": "scattergl"
           }
          ],
          "scattermapbox": [
           {
            "marker": {
             "colorbar": {
              "outlinewidth": 0,
              "ticks": ""
             }
            },
            "type": "scattermapbox"
           }
          ],
          "scatterpolar": [
           {
            "marker": {
             "colorbar": {
              "outlinewidth": 0,
              "ticks": ""
             }
            },
            "type": "scatterpolar"
           }
          ],
          "scatterpolargl": [
           {
            "marker": {
             "colorbar": {
              "outlinewidth": 0,
              "ticks": ""
             }
            },
            "type": "scatterpolargl"
           }
          ],
          "scatterternary": [
           {
            "marker": {
             "colorbar": {
              "outlinewidth": 0,
              "ticks": ""
             }
            },
            "type": "scatterternary"
           }
          ],
          "surface": [
           {
            "colorbar": {
             "outlinewidth": 0,
             "ticks": ""
            },
            "colorscale": [
             [
              0,
              "#0d0887"
             ],
             [
              0.1111111111111111,
              "#46039f"
             ],
             [
              0.2222222222222222,
              "#7201a8"
             ],
             [
              0.3333333333333333,
              "#9c179e"
             ],
             [
              0.4444444444444444,
              "#bd3786"
             ],
             [
              0.5555555555555556,
              "#d8576b"
             ],
             [
              0.6666666666666666,
              "#ed7953"
             ],
             [
              0.7777777777777778,
              "#fb9f3a"
             ],
             [
              0.8888888888888888,
              "#fdca26"
             ],
             [
              1,
              "#f0f921"
             ]
            ],
            "type": "surface"
           }
          ],
          "table": [
           {
            "cells": {
             "fill": {
              "color": "#EBF0F8"
             },
             "line": {
              "color": "white"
             }
            },
            "header": {
             "fill": {
              "color": "#C8D4E3"
             },
             "line": {
              "color": "white"
             }
            },
            "type": "table"
           }
          ]
         },
         "layout": {
          "annotationdefaults": {
           "arrowcolor": "#2a3f5f",
           "arrowhead": 0,
           "arrowwidth": 1
          },
          "coloraxis": {
           "colorbar": {
            "outlinewidth": 0,
            "ticks": ""
           }
          },
          "colorscale": {
           "diverging": [
            [
             0,
             "#8e0152"
            ],
            [
             0.1,
             "#c51b7d"
            ],
            [
             0.2,
             "#de77ae"
            ],
            [
             0.3,
             "#f1b6da"
            ],
            [
             0.4,
             "#fde0ef"
            ],
            [
             0.5,
             "#f7f7f7"
            ],
            [
             0.6,
             "#e6f5d0"
            ],
            [
             0.7,
             "#b8e186"
            ],
            [
             0.8,
             "#7fbc41"
            ],
            [
             0.9,
             "#4d9221"
            ],
            [
             1,
             "#276419"
            ]
           ],
           "sequential": [
            [
             0,
             "#0d0887"
            ],
            [
             0.1111111111111111,
             "#46039f"
            ],
            [
             0.2222222222222222,
             "#7201a8"
            ],
            [
             0.3333333333333333,
             "#9c179e"
            ],
            [
             0.4444444444444444,
             "#bd3786"
            ],
            [
             0.5555555555555556,
             "#d8576b"
            ],
            [
             0.6666666666666666,
             "#ed7953"
            ],
            [
             0.7777777777777778,
             "#fb9f3a"
            ],
            [
             0.8888888888888888,
             "#fdca26"
            ],
            [
             1,
             "#f0f921"
            ]
           ],
           "sequentialminus": [
            [
             0,
             "#0d0887"
            ],
            [
             0.1111111111111111,
             "#46039f"
            ],
            [
             0.2222222222222222,
             "#7201a8"
            ],
            [
             0.3333333333333333,
             "#9c179e"
            ],
            [
             0.4444444444444444,
             "#bd3786"
            ],
            [
             0.5555555555555556,
             "#d8576b"
            ],
            [
             0.6666666666666666,
             "#ed7953"
            ],
            [
             0.7777777777777778,
             "#fb9f3a"
            ],
            [
             0.8888888888888888,
             "#fdca26"
            ],
            [
             1,
             "#f0f921"
            ]
           ]
          },
          "colorway": [
           "#636efa",
           "#EF553B",
           "#00cc96",
           "#ab63fa",
           "#FFA15A",
           "#19d3f3",
           "#FF6692",
           "#B6E880",
           "#FF97FF",
           "#FECB52"
          ],
          "font": {
           "color": "#2a3f5f"
          },
          "geo": {
           "bgcolor": "white",
           "lakecolor": "white",
           "landcolor": "#E5ECF6",
           "showlakes": true,
           "showland": true,
           "subunitcolor": "white"
          },
          "hoverlabel": {
           "align": "left"
          },
          "hovermode": "closest",
          "mapbox": {
           "style": "light"
          },
          "paper_bgcolor": "white",
          "plot_bgcolor": "#E5ECF6",
          "polar": {
           "angularaxis": {
            "gridcolor": "white",
            "linecolor": "white",
            "ticks": ""
           },
           "bgcolor": "#E5ECF6",
           "radialaxis": {
            "gridcolor": "white",
            "linecolor": "white",
            "ticks": ""
           }
          },
          "scene": {
           "xaxis": {
            "backgroundcolor": "#E5ECF6",
            "gridcolor": "white",
            "gridwidth": 2,
            "linecolor": "white",
            "showbackground": true,
            "ticks": "",
            "zerolinecolor": "white"
           },
           "yaxis": {
            "backgroundcolor": "#E5ECF6",
            "gridcolor": "white",
            "gridwidth": 2,
            "linecolor": "white",
            "showbackground": true,
            "ticks": "",
            "zerolinecolor": "white"
           },
           "zaxis": {
            "backgroundcolor": "#E5ECF6",
            "gridcolor": "white",
            "gridwidth": 2,
            "linecolor": "white",
            "showbackground": true,
            "ticks": "",
            "zerolinecolor": "white"
           }
          },
          "shapedefaults": {
           "line": {
            "color": "#2a3f5f"
           }
          },
          "ternary": {
           "aaxis": {
            "gridcolor": "white",
            "linecolor": "white",
            "ticks": ""
           },
           "baxis": {
            "gridcolor": "white",
            "linecolor": "white",
            "ticks": ""
           },
           "bgcolor": "#E5ECF6",
           "caxis": {
            "gridcolor": "white",
            "linecolor": "white",
            "ticks": ""
           }
          },
          "title": {
           "x": 0.05
          },
          "xaxis": {
           "automargin": true,
           "gridcolor": "white",
           "linecolor": "white",
           "ticks": "",
           "title": {
            "standoff": 15
           },
           "zerolinecolor": "white",
           "zerolinewidth": 2
          },
          "yaxis": {
           "automargin": true,
           "gridcolor": "white",
           "linecolor": "white",
           "ticks": "",
           "title": {
            "standoff": 15
           },
           "zerolinecolor": "white",
           "zerolinewidth": 2
          }
         }
        }
       }
      },
      "text/html": [
       "<div>\n",
       "        \n",
       "        \n",
       "            <div id=\"7d2fca3d-65e7-41c6-85b0-00ea045e37c9\" class=\"plotly-graph-div\" style=\"height:525px; width:100%;\"></div>\n",
       "            <script type=\"text/javascript\">\n",
       "                require([\"plotly\"], function(Plotly) {\n",
       "                    window.PLOTLYENV=window.PLOTLYENV || {};\n",
       "                    \n",
       "                if (document.getElementById(\"7d2fca3d-65e7-41c6-85b0-00ea045e37c9\")) {\n",
       "                    Plotly.newPlot(\n",
       "                        '7d2fca3d-65e7-41c6-85b0-00ea045e37c9',\n",
       "                        [{\"labels\": [17, 12, 11, 11, 9, 8, 7, 7, 6, 6, 6, 6, 6, 5, 5, 5, 5, 5, 5, 5, 5, 5, 5, 5, 5, 4, 4, 4, 4, 4, 4, 4, 4, 4, 4, 4, 4, 4, 4, 4, 4, 4, 4, 4, 4, 4, 4, 4, 3, 3, 3, 3, 3, 3, 3, 3, 3, 3, 3, 3, 3, 3, 3, 3, 3, 3, 3, 3, 3, 3, 3, 3, 3, 3, 3, 3, 3, 3, 3, 3, 3, 3, 3, 3, 3, 3, 3, 3, 3, 3, 3, 3, 3, 3, 3, 3, 2, 2, 2, 2, 2, 2, 2, 2, 2, 2, 2, 2, 2, 2, 2, 2, 2, 2, 2, 2, 2, 2, 2, 2, 2, 2, 2, 2, 2, 2, 2, 2, 2, 2, 2, 2, 2, 2, 2, 2, 2, 2, 2, 2, 2, 2, 2, 2, 2, 2, 2, 2, 2, 2, 2, 2, 2, 2, 2, 2, 2, 2, 2, 2, 2, 2, 2, 2, 2, 2, 2, 2, 2, 2, 2, 2, 2, 2, 2, 2, 2, 2, 2, 2, 2, 2, 2, 2, 2, 2, 2, 2, 2, 2, 2, 2, 2, 2, 2, 2, 2, 2, 2, 2, 2, 2, 2, 2, 2, 2, 2, 2, 2, 1, 1, 1, 1, 1, 1, 1, 1, 1, 1, 1, 1, 1, 1, 1, 1, 1, 1, 1, 1, 1, 1, 1, 1, 1, 1, 1, 1, 1, 1, 1, 1, 1, 1, 1, 1, 1, 1, 1, 1, 1, 1, 1, 1, 1, 1, 1, 1, 1, 1, 1, 1, 1, 1, 1, 1, 1, 1, 1, 1, 1, 1, 1, 1, 1, 1, 1, 1, 1, 1, 1, 1, 1, 1, 1, 1, 1, 1, 1, 1, 1, 1, 1, 1, 1, 1, 1, 1, 1, 1, 1, 1, 1, 1, 1, 1, 1, 1, 1, 1, 1, 1, 1, 1, 1, 1, 1, 1, 1, 1, 1, 1, 1, 1, 1, 1, 1, 1, 1, 1, 1, 1, 1, 1, 1, 1, 1, 1, 1, 1, 1, 1, 1, 1, 1, 1, 1, 1, 1, 1, 1, 1, 1, 1, 1, 1, 1, 1, 1, 1, 1, 1, 1, 1, 1, 1, 1, 1, 1, 1, 1, 1, 1, 1, 1, 1, 1, 1, 1, 1, 1, 1, 1, 1, 1, 1, 1, 1, 1, 1, 1, 1, 1, 1, 1, 1, 1, 1, 1, 1, 1, 1, 1, 1, 1, 1, 1, 1, 1, 1, 1, 1, 1, 1, 1, 1, 1, 1, 1, 1, 1, 1, 1, 1, 1, 1, 1, 1, 1, 1, 1, 1, 1, 1, 1, 1, 1, 1, 1, 1, 1, 1, 1, 1, 1, 1, 1, 1, 1, 1, 1, 1, 1, 1, 1, 1, 1, 1, 1, 1, 1, 1, 1, 1, 1, 1, 1, 1, 1, 1, 1, 1, 1, 1, 1, 1, 1, 1, 1, 1, 1, 1, 1, 1, 1, 1, 1, 1, 1, 1, 1, 1, 1, 1, 1, 1, 1, 1, 1, 1, 1, 1, 1, 1, 1, 1, 1, 1, 1, 1, 1, 1, 1, 1, 1, 1, 1, 1, 1, 1, 1, 1, 1, 1, 1, 1, 1, 1, 1, 1, 1, 1, 1, 1, 1, 1, 1, 1, 1, 1, 1, 1, 1, 1, 1, 1, 1, 1, 1, 1, 1, 1, 1, 1, 1, 1, 1, 1, 1, 1, 1, 1, 1, 1, 1, 1, 1, 1, 1, 1, 1, 1, 1, 1, 1, 1, 1, 1, 1, 1, 1, 1, 1, 1, 1, 1, 1, 1, 1, 1, 1, 1, 1, 1, 1, 1, 1, 1, 1, 1, 1, 1, 1, 1, 1, 1, 1, 1, 1, 1, 1, 1, 1, 1, 1, 1, 1, 1, 1, 1, 1, 1, 1, 1, 1, 1, 1, 1, 1, 1, 1], \"type\": \"pie\"}],\n",
       "                        {\"template\": {\"data\": {\"bar\": [{\"error_x\": {\"color\": \"#2a3f5f\"}, \"error_y\": {\"color\": \"#2a3f5f\"}, \"marker\": {\"line\": {\"color\": \"#E5ECF6\", \"width\": 0.5}}, \"type\": \"bar\"}], \"barpolar\": [{\"marker\": {\"line\": {\"color\": \"#E5ECF6\", \"width\": 0.5}}, \"type\": \"barpolar\"}], \"carpet\": [{\"aaxis\": {\"endlinecolor\": \"#2a3f5f\", \"gridcolor\": \"white\", \"linecolor\": \"white\", \"minorgridcolor\": \"white\", \"startlinecolor\": \"#2a3f5f\"}, \"baxis\": {\"endlinecolor\": \"#2a3f5f\", \"gridcolor\": \"white\", \"linecolor\": \"white\", \"minorgridcolor\": \"white\", \"startlinecolor\": \"#2a3f5f\"}, \"type\": \"carpet\"}], \"choropleth\": [{\"colorbar\": {\"outlinewidth\": 0, \"ticks\": \"\"}, \"type\": \"choropleth\"}], \"contour\": [{\"colorbar\": {\"outlinewidth\": 0, \"ticks\": \"\"}, \"colorscale\": [[0.0, \"#0d0887\"], [0.1111111111111111, \"#46039f\"], [0.2222222222222222, \"#7201a8\"], [0.3333333333333333, \"#9c179e\"], [0.4444444444444444, \"#bd3786\"], [0.5555555555555556, \"#d8576b\"], [0.6666666666666666, \"#ed7953\"], [0.7777777777777778, \"#fb9f3a\"], [0.8888888888888888, \"#fdca26\"], [1.0, \"#f0f921\"]], \"type\": \"contour\"}], \"contourcarpet\": [{\"colorbar\": {\"outlinewidth\": 0, \"ticks\": \"\"}, \"type\": \"contourcarpet\"}], \"heatmap\": [{\"colorbar\": {\"outlinewidth\": 0, \"ticks\": \"\"}, \"colorscale\": [[0.0, \"#0d0887\"], [0.1111111111111111, \"#46039f\"], [0.2222222222222222, \"#7201a8\"], [0.3333333333333333, \"#9c179e\"], [0.4444444444444444, \"#bd3786\"], [0.5555555555555556, \"#d8576b\"], [0.6666666666666666, \"#ed7953\"], [0.7777777777777778, \"#fb9f3a\"], [0.8888888888888888, \"#fdca26\"], [1.0, \"#f0f921\"]], \"type\": \"heatmap\"}], \"heatmapgl\": [{\"colorbar\": {\"outlinewidth\": 0, \"ticks\": \"\"}, \"colorscale\": [[0.0, \"#0d0887\"], [0.1111111111111111, \"#46039f\"], [0.2222222222222222, \"#7201a8\"], [0.3333333333333333, \"#9c179e\"], [0.4444444444444444, \"#bd3786\"], [0.5555555555555556, \"#d8576b\"], [0.6666666666666666, \"#ed7953\"], [0.7777777777777778, \"#fb9f3a\"], [0.8888888888888888, \"#fdca26\"], [1.0, \"#f0f921\"]], \"type\": \"heatmapgl\"}], \"histogram\": [{\"marker\": {\"colorbar\": {\"outlinewidth\": 0, \"ticks\": \"\"}}, \"type\": \"histogram\"}], \"histogram2d\": [{\"colorbar\": {\"outlinewidth\": 0, \"ticks\": \"\"}, \"colorscale\": [[0.0, \"#0d0887\"], [0.1111111111111111, \"#46039f\"], [0.2222222222222222, \"#7201a8\"], [0.3333333333333333, \"#9c179e\"], [0.4444444444444444, \"#bd3786\"], [0.5555555555555556, \"#d8576b\"], [0.6666666666666666, \"#ed7953\"], [0.7777777777777778, \"#fb9f3a\"], [0.8888888888888888, \"#fdca26\"], [1.0, \"#f0f921\"]], \"type\": \"histogram2d\"}], \"histogram2dcontour\": [{\"colorbar\": {\"outlinewidth\": 0, \"ticks\": \"\"}, \"colorscale\": [[0.0, \"#0d0887\"], [0.1111111111111111, \"#46039f\"], [0.2222222222222222, \"#7201a8\"], [0.3333333333333333, \"#9c179e\"], [0.4444444444444444, \"#bd3786\"], [0.5555555555555556, \"#d8576b\"], [0.6666666666666666, \"#ed7953\"], [0.7777777777777778, \"#fb9f3a\"], [0.8888888888888888, \"#fdca26\"], [1.0, \"#f0f921\"]], \"type\": \"histogram2dcontour\"}], \"mesh3d\": [{\"colorbar\": {\"outlinewidth\": 0, \"ticks\": \"\"}, \"type\": \"mesh3d\"}], \"parcoords\": [{\"line\": {\"colorbar\": {\"outlinewidth\": 0, \"ticks\": \"\"}}, \"type\": \"parcoords\"}], \"pie\": [{\"automargin\": true, \"type\": \"pie\"}], \"scatter\": [{\"marker\": {\"colorbar\": {\"outlinewidth\": 0, \"ticks\": \"\"}}, \"type\": \"scatter\"}], \"scatter3d\": [{\"line\": {\"colorbar\": {\"outlinewidth\": 0, \"ticks\": \"\"}}, \"marker\": {\"colorbar\": {\"outlinewidth\": 0, \"ticks\": \"\"}}, \"type\": \"scatter3d\"}], \"scattercarpet\": [{\"marker\": {\"colorbar\": {\"outlinewidth\": 0, \"ticks\": \"\"}}, \"type\": \"scattercarpet\"}], \"scattergeo\": [{\"marker\": {\"colorbar\": {\"outlinewidth\": 0, \"ticks\": \"\"}}, \"type\": \"scattergeo\"}], \"scattergl\": [{\"marker\": {\"colorbar\": {\"outlinewidth\": 0, \"ticks\": \"\"}}, \"type\": \"scattergl\"}], \"scattermapbox\": [{\"marker\": {\"colorbar\": {\"outlinewidth\": 0, \"ticks\": \"\"}}, \"type\": \"scattermapbox\"}], \"scatterpolar\": [{\"marker\": {\"colorbar\": {\"outlinewidth\": 0, \"ticks\": \"\"}}, \"type\": \"scatterpolar\"}], \"scatterpolargl\": [{\"marker\": {\"colorbar\": {\"outlinewidth\": 0, \"ticks\": \"\"}}, \"type\": \"scatterpolargl\"}], \"scatterternary\": [{\"marker\": {\"colorbar\": {\"outlinewidth\": 0, \"ticks\": \"\"}}, \"type\": \"scatterternary\"}], \"surface\": [{\"colorbar\": {\"outlinewidth\": 0, \"ticks\": \"\"}, \"colorscale\": [[0.0, \"#0d0887\"], [0.1111111111111111, \"#46039f\"], [0.2222222222222222, \"#7201a8\"], [0.3333333333333333, \"#9c179e\"], [0.4444444444444444, \"#bd3786\"], [0.5555555555555556, \"#d8576b\"], [0.6666666666666666, \"#ed7953\"], [0.7777777777777778, \"#fb9f3a\"], [0.8888888888888888, \"#fdca26\"], [1.0, \"#f0f921\"]], \"type\": \"surface\"}], \"table\": [{\"cells\": {\"fill\": {\"color\": \"#EBF0F8\"}, \"line\": {\"color\": \"white\"}}, \"header\": {\"fill\": {\"color\": \"#C8D4E3\"}, \"line\": {\"color\": \"white\"}}, \"type\": \"table\"}]}, \"layout\": {\"annotationdefaults\": {\"arrowcolor\": \"#2a3f5f\", \"arrowhead\": 0, \"arrowwidth\": 1}, \"coloraxis\": {\"colorbar\": {\"outlinewidth\": 0, \"ticks\": \"\"}}, \"colorscale\": {\"diverging\": [[0, \"#8e0152\"], [0.1, \"#c51b7d\"], [0.2, \"#de77ae\"], [0.3, \"#f1b6da\"], [0.4, \"#fde0ef\"], [0.5, \"#f7f7f7\"], [0.6, \"#e6f5d0\"], [0.7, \"#b8e186\"], [0.8, \"#7fbc41\"], [0.9, \"#4d9221\"], [1, \"#276419\"]], \"sequential\": [[0.0, \"#0d0887\"], [0.1111111111111111, \"#46039f\"], [0.2222222222222222, \"#7201a8\"], [0.3333333333333333, \"#9c179e\"], [0.4444444444444444, \"#bd3786\"], [0.5555555555555556, \"#d8576b\"], [0.6666666666666666, \"#ed7953\"], [0.7777777777777778, \"#fb9f3a\"], [0.8888888888888888, \"#fdca26\"], [1.0, \"#f0f921\"]], \"sequentialminus\": [[0.0, \"#0d0887\"], [0.1111111111111111, \"#46039f\"], [0.2222222222222222, \"#7201a8\"], [0.3333333333333333, \"#9c179e\"], [0.4444444444444444, \"#bd3786\"], [0.5555555555555556, \"#d8576b\"], [0.6666666666666666, \"#ed7953\"], [0.7777777777777778, \"#fb9f3a\"], [0.8888888888888888, \"#fdca26\"], [1.0, \"#f0f921\"]]}, \"colorway\": [\"#636efa\", \"#EF553B\", \"#00cc96\", \"#ab63fa\", \"#FFA15A\", \"#19d3f3\", \"#FF6692\", \"#B6E880\", \"#FF97FF\", \"#FECB52\"], \"font\": {\"color\": \"#2a3f5f\"}, \"geo\": {\"bgcolor\": \"white\", \"lakecolor\": \"white\", \"landcolor\": \"#E5ECF6\", \"showlakes\": true, \"showland\": true, \"subunitcolor\": \"white\"}, \"hoverlabel\": {\"align\": \"left\"}, \"hovermode\": \"closest\", \"mapbox\": {\"style\": \"light\"}, \"paper_bgcolor\": \"white\", \"plot_bgcolor\": \"#E5ECF6\", \"polar\": {\"angularaxis\": {\"gridcolor\": \"white\", \"linecolor\": \"white\", \"ticks\": \"\"}, \"bgcolor\": \"#E5ECF6\", \"radialaxis\": {\"gridcolor\": \"white\", \"linecolor\": \"white\", \"ticks\": \"\"}}, \"scene\": {\"xaxis\": {\"backgroundcolor\": \"#E5ECF6\", \"gridcolor\": \"white\", \"gridwidth\": 2, \"linecolor\": \"white\", \"showbackground\": true, \"ticks\": \"\", \"zerolinecolor\": \"white\"}, \"yaxis\": {\"backgroundcolor\": \"#E5ECF6\", \"gridcolor\": \"white\", \"gridwidth\": 2, \"linecolor\": \"white\", \"showbackground\": true, \"ticks\": \"\", \"zerolinecolor\": \"white\"}, \"zaxis\": {\"backgroundcolor\": \"#E5ECF6\", \"gridcolor\": \"white\", \"gridwidth\": 2, \"linecolor\": \"white\", \"showbackground\": true, \"ticks\": \"\", \"zerolinecolor\": \"white\"}}, \"shapedefaults\": {\"line\": {\"color\": \"#2a3f5f\"}}, \"ternary\": {\"aaxis\": {\"gridcolor\": \"white\", \"linecolor\": \"white\", \"ticks\": \"\"}, \"baxis\": {\"gridcolor\": \"white\", \"linecolor\": \"white\", \"ticks\": \"\"}, \"bgcolor\": \"#E5ECF6\", \"caxis\": {\"gridcolor\": \"white\", \"linecolor\": \"white\", \"ticks\": \"\"}}, \"title\": {\"x\": 0.05}, \"xaxis\": {\"automargin\": true, \"gridcolor\": \"white\", \"linecolor\": \"white\", \"ticks\": \"\", \"title\": {\"standoff\": 15}, \"zerolinecolor\": \"white\", \"zerolinewidth\": 2}, \"yaxis\": {\"automargin\": true, \"gridcolor\": \"white\", \"linecolor\": \"white\", \"ticks\": \"\", \"title\": {\"standoff\": 15}, \"zerolinecolor\": \"white\", \"zerolinewidth\": 2}}}},\n",
       "                        {\"responsive\": true}\n",
       "                    ).then(function(){\n",
       "                            \n",
       "var gd = document.getElementById('7d2fca3d-65e7-41c6-85b0-00ea045e37c9');\n",
       "var x = new MutationObserver(function (mutations, observer) {{\n",
       "        var display = window.getComputedStyle(gd).display;\n",
       "        if (!display || display === 'none') {{\n",
       "            console.log([gd, 'removed!']);\n",
       "            Plotly.purge(gd);\n",
       "            observer.disconnect();\n",
       "        }}\n",
       "}});\n",
       "\n",
       "// Listen for the removal of the full notebook cells\n",
       "var notebookContainer = gd.closest('#notebook-container');\n",
       "if (notebookContainer) {{\n",
       "    x.observe(notebookContainer, {childList: true});\n",
       "}}\n",
       "\n",
       "// Listen for the clearing of the current output cell\n",
       "var outputEl = gd.closest('.output');\n",
       "if (outputEl) {{\n",
       "    x.observe(outputEl, {childList: true});\n",
       "}}\n",
       "\n",
       "                        })\n",
       "                };\n",
       "                });\n",
       "            </script>\n",
       "        </div>"
      ]
     },
     "metadata": {},
     "output_type": "display_data"
    }
   ],
   "source": [
    "import plotly.graph_objects as go\n",
    "labels = amazon_bs.ratings_total.value_counts()\n",
    "\n",
    "fig = go.Figure(data=[go.Pie(labels=labels)])\n",
    "fig.show()"
   ]
  },
  {
   "cell_type": "code",
   "execution_count": 114,
   "metadata": {},
   "outputs": [
    {
     "data": {
      "text/plain": [
       "rank              0\n",
       "title             0\n",
       "asin              0\n",
       "link              0\n",
       "image             0\n",
       "rating           45\n",
       "ratings_total    45\n",
       "price.value      11\n",
       "dtype: int64"
      ]
     },
     "execution_count": 114,
     "metadata": {},
     "output_type": "execute_result"
    }
   ],
   "source": [
    "amazon_bs.isnull().sum()"
   ]
  },
  {
   "cell_type": "code",
   "execution_count": 115,
   "metadata": {},
   "outputs": [],
   "source": [
    "import matplotlib.pyplot as plt\n",
    "import seaborn as sns"
   ]
  },
  {
   "cell_type": "code",
   "execution_count": 116,
   "metadata": {},
   "outputs": [
    {
     "data": {
      "text/plain": [
       "<matplotlib.axes._subplots.AxesSubplot at 0x2139f464288>"
      ]
     },
     "execution_count": 116,
     "metadata": {},
     "output_type": "execute_result"
    },
    {
     "data": {
      "image/png": "[encoded data removed]",
      "text/plain": [
       "<Figure size 432x288 with 1 Axes>"
      ]
     },
     "metadata": {
      "needs_background": "light"
     },
     "output_type": "display_data"
    }
   ],
   "source": [
    "sns.heatmap(amazon_bs.isnull(), cbar=False)"
   ]
  },
  {
   "cell_type": "code",
   "execution_count": 69,
   "metadata": {},
   "outputs": [
    {
     "data": {
      "text/plain": [
       "B07VNTFHD5    2\n",
       "B00KWHMR6G    2\n",
       "B079D359S6    2\n",
       "B07CRG94G3    2\n",
       "B07BN4NJ2J    2\n",
       "             ..\n",
       "B07VTWX8MN    1\n",
       "B081QVGVS2    1\n",
       "B002M1LGJ4    1\n",
       "B087BK4GXX    1\n",
       "B00C6MNQ92    1\n",
       "Name: asin, Length: 1040, dtype: int64"
      ]
     },
     "execution_count": 69,
     "metadata": {},
     "output_type": "execute_result"
    }
   ],
   "source": [
    "amazon_bs['asin'].value_counts()"
   ]
  },
  {
   "cell_type": "code",
   "execution_count": 79,
   "metadata": {},
   "outputs": [
    {
     "data": {
      "text/plain": [
       "60"
      ]
     },
     "execution_count": 79,
     "metadata": {},
     "output_type": "execute_result"
    }
   ],
   "source": [
    "len(amazon_bs['asin'].value_counts()[amazon_bs['asin'].value_counts()==2])"
   ]
  },
  {
   "cell_type": "code",
   "execution_count": 82,
   "metadata": {},
   "outputs": [
    {
     "data": {
      "text/html": [
       "<div>\n",
       "<style scoped>\n",
       "    .dataframe tbody tr th:only-of-type {\n",
       "        vertical-align: middle;\n",
       "    }\n",
       "\n",
       "    .dataframe tbody tr th {\n",
       "        vertical-align: top;\n",
       "    }\n",
       "\n",
       "    .dataframe thead th {\n",
       "        text-align: right;\n",
       "    }\n",
       "</style>\n",
       "<table border=\"1\" class=\"dataframe\">\n",
       "  <thead>\n",
       "    <tr style=\"text-align: right;\">\n",
       "      <th></th>\n",
       "      <th>rank</th>\n",
       "      <th>title</th>\n",
       "      <th>asin</th>\n",
       "      <th>link</th>\n",
       "      <th>image</th>\n",
       "      <th>rating</th>\n",
       "      <th>ratings_total</th>\n",
       "      <th>price.value</th>\n",
       "    </tr>\n",
       "  </thead>\n",
       "  <tbody>\n",
       "    <tr>\n",
       "      <th>0</th>\n",
       "      <td>1</td>\n",
       "      <td>CYBERPOWERPC Gamer Xtreme VR Gaming PC, Intel ...</td>\n",
       "      <td>B07VGJDKZ4</td>\n",
       "      <td>https://www.amazon.com/CYBERPOWERPC-Xtreme-i5-...</td>\n",
       "      <td>https://images-na.ssl-images-amazon.com/images...</td>\n",
       "      <td>4.5</td>\n",
       "      <td>2108.0</td>\n",
       "      <td>890.39</td>\n",
       "    </tr>\n",
       "    <tr>\n",
       "      <th>1</th>\n",
       "      <td>2</td>\n",
       "      <td>SkyTech Blaze II Gaming Computer PC Desktop – ...</td>\n",
       "      <td>B07RHBLV7F</td>\n",
       "      <td>https://www.amazon.com/SkyTech-Blaze-Gaming-Co...</td>\n",
       "      <td>https://images-na.ssl-images-amazon.com/images...</td>\n",
       "      <td>4.5</td>\n",
       "      <td>549.0</td>\n",
       "      <td>749.99</td>\n",
       "    </tr>\n",
       "    <tr>\n",
       "      <th>2</th>\n",
       "      <td>3</td>\n",
       "      <td>(Renewed) Dell Optiplex 7010 Business Desktop ...</td>\n",
       "      <td>B01LKOZEF0</td>\n",
       "      <td>https://www.amazon.com/Dell-Optiplex-7010-Prof...</td>\n",
       "      <td>https://images-na.ssl-images-amazon.com/images...</td>\n",
       "      <td>4.0</td>\n",
       "      <td>973.0</td>\n",
       "      <td>198.43</td>\n",
       "    </tr>\n",
       "    <tr>\n",
       "      <th>3</th>\n",
       "      <td>4</td>\n",
       "      <td>Acer Aspire TC-885-UA92 Desktop, 9th Gen Intel...</td>\n",
       "      <td>B07R8WJMW6</td>\n",
       "      <td>https://www.amazon.com/Acer-Ordenador-escritor...</td>\n",
       "      <td>https://images-na.ssl-images-amazon.com/images...</td>\n",
       "      <td>4.3</td>\n",
       "      <td>750.0</td>\n",
       "      <td>549.99</td>\n",
       "    </tr>\n",
       "    <tr>\n",
       "      <th>4</th>\n",
       "      <td>5</td>\n",
       "      <td>(Renewed) HP 8300 Elite Small Form Factor Desk...</td>\n",
       "      <td>B01CV9G1BO</td>\n",
       "      <td>https://www.amazon.com/HP-8300-Elite-Computer-...</td>\n",
       "      <td>https://images-na.ssl-images-amazon.com/images...</td>\n",
       "      <td>4.0</td>\n",
       "      <td>2210.0</td>\n",
       "      <td>139.97</td>\n",
       "    </tr>\n",
       "    <tr>\n",
       "      <th>...</th>\n",
       "      <td>...</td>\n",
       "      <td>...</td>\n",
       "      <td>...</td>\n",
       "      <td>...</td>\n",
       "      <td>...</td>\n",
       "      <td>...</td>\n",
       "      <td>...</td>\n",
       "      <td>...</td>\n",
       "    </tr>\n",
       "    <tr>\n",
       "      <th>45</th>\n",
       "      <td>96</td>\n",
       "      <td>Samsung SSD 860 EVO 250GB 2.5 Inch SATA III In...</td>\n",
       "      <td>B07864WMK8</td>\n",
       "      <td>https://www.amazon.com/Samsung-250GB-Internal-...</td>\n",
       "      <td>https://images-na.ssl-images-amazon.com/images...</td>\n",
       "      <td>4.8</td>\n",
       "      <td>21228.0</td>\n",
       "      <td>49.99</td>\n",
       "    </tr>\n",
       "    <tr>\n",
       "      <th>46</th>\n",
       "      <td>97</td>\n",
       "      <td>Seagate BarraCuda 1TB Internal Hard Drive HDD ...</td>\n",
       "      <td>B07H28QRKN</td>\n",
       "      <td>https://www.amazon.com/Seagate-BarraCuda-Inter...</td>\n",
       "      <td>https://images-na.ssl-images-amazon.com/images...</td>\n",
       "      <td>4.6</td>\n",
       "      <td>1109.0</td>\n",
       "      <td>47.49</td>\n",
       "    </tr>\n",
       "    <tr>\n",
       "      <th>47</th>\n",
       "      <td>98</td>\n",
       "      <td>Elgato Video Capture - Digitize Video for Mac,...</td>\n",
       "      <td>B0029U2YSA</td>\n",
       "      <td>https://www.amazon.com/Elgato-Video-Capture-Di...</td>\n",
       "      <td>https://images-na.ssl-images-amazon.com/images...</td>\n",
       "      <td>4.4</td>\n",
       "      <td>4176.0</td>\n",
       "      <td>87.99</td>\n",
       "    </tr>\n",
       "    <tr>\n",
       "      <th>48</th>\n",
       "      <td>99</td>\n",
       "      <td>BlueAVS Audio Video Capture Cards HDMI to USB ...</td>\n",
       "      <td>B0876VWFH7</td>\n",
       "      <td>https://www.amazon.com/BlueAVS-Capture-USB2-0-...</td>\n",
       "      <td>https://images-na.ssl-images-amazon.com/images...</td>\n",
       "      <td>4.4</td>\n",
       "      <td>111.0</td>\n",
       "      <td>29.99</td>\n",
       "    </tr>\n",
       "    <tr>\n",
       "      <th>49</th>\n",
       "      <td>100</td>\n",
       "      <td>Sabrent Rocket Q 1TB NVMe PCIe M.2 2280 Intern...</td>\n",
       "      <td>B07ZZYWTBP</td>\n",
       "      <td>https://www.amazon.com/Sabrent-Rocket-Internal...</td>\n",
       "      <td>https://images-na.ssl-images-amazon.com/images...</td>\n",
       "      <td>4.7</td>\n",
       "      <td>873.0</td>\n",
       "      <td>119.98</td>\n",
       "    </tr>\n",
       "  </tbody>\n",
       "</table>\n",
       "<p>1100 rows × 8 columns</p>\n",
       "</div>"
      ],
      "text/plain": [
       "    rank                                              title        asin  \\\n",
       "0      1  CYBERPOWERPC Gamer Xtreme VR Gaming PC, Intel ...  B07VGJDKZ4   \n",
       "1      2  SkyTech Blaze II Gaming Computer PC Desktop – ...  B07RHBLV7F   \n",
       "2      3  (Renewed) Dell Optiplex 7010 Business Desktop ...  B01LKOZEF0   \n",
       "3      4  Acer Aspire TC-885-UA92 Desktop, 9th Gen Intel...  B07R8WJMW6   \n",
       "4      5  (Renewed) HP 8300 Elite Small Form Factor Desk...  B01CV9G1BO   \n",
       "..   ...                                                ...         ...   \n",
       "45    96  Samsung SSD 860 EVO 250GB 2.5 Inch SATA III In...  B07864WMK8   \n",
       "46    97  Seagate BarraCuda 1TB Internal Hard Drive HDD ...  B07H28QRKN   \n",
       "47    98  Elgato Video Capture - Digitize Video for Mac,...  B0029U2YSA   \n",
       "48    99  BlueAVS Audio Video Capture Cards HDMI to USB ...  B0876VWFH7   \n",
       "49   100  Sabrent Rocket Q 1TB NVMe PCIe M.2 2280 Intern...  B07ZZYWTBP   \n",
       "\n",
       "                                                 link  \\\n",
       "0   https://www.amazon.com/CYBERPOWERPC-Xtreme-i5-...   \n",
       "1   https://www.amazon.com/SkyTech-Blaze-Gaming-Co...   \n",
       "2   https://www.amazon.com/Dell-Optiplex-7010-Prof...   \n",
       "3   https://www.amazon.com/Acer-Ordenador-escritor...   \n",
       "4   https://www.amazon.com/HP-8300-Elite-Computer-...   \n",
       "..                                                ...   \n",
       "45  https://www.amazon.com/Samsung-250GB-Internal-...   \n",
       "46  https://www.amazon.com/Seagate-BarraCuda-Inter...   \n",
       "47  https://www.amazon.com/Elgato-Video-Capture-Di...   \n",
       "48  https://www.amazon.com/BlueAVS-Capture-USB2-0-...   \n",
       "49  https://www.amazon.com/Sabrent-Rocket-Internal...   \n",
       "\n",
       "                                                image  rating  ratings_total  \\\n",
       "0   https://images-na.ssl-images-amazon.com/images...     4.5         2108.0   \n",
       "1   https://images-na.ssl-images-amazon.com/images...     4.5          549.0   \n",
       "2   https://images-na.ssl-images-amazon.com/images...     4.0          973.0   \n",
       "3   https://images-na.ssl-images-amazon.com/images...     4.3          750.0   \n",
       "4   https://images-na.ssl-images-amazon.com/images...     4.0         2210.0   \n",
       "..                                                ...     ...            ...   \n",
       "45  https://images-na.ssl-images-amazon.com/images...     4.8        21228.0   \n",
       "46  https://images-na.ssl-images-amazon.com/images...     4.6         1109.0   \n",
       "47  https://images-na.ssl-images-amazon.com/images...     4.4         4176.0   \n",
       "48  https://images-na.ssl-images-amazon.com/images...     4.4          111.0   \n",
       "49  https://images-na.ssl-images-amazon.com/images...     4.7          873.0   \n",
       "\n",
       "    price.value  \n",
       "0        890.39  \n",
       "1        749.99  \n",
       "2        198.43  \n",
       "3        549.99  \n",
       "4        139.97  \n",
       "..          ...  \n",
       "45        49.99  \n",
       "46        47.49  \n",
       "47        87.99  \n",
       "48        29.99  \n",
       "49       119.98  \n",
       "\n",
       "[1100 rows x 8 columns]"
      ]
     },
     "execution_count": 82,
     "metadata": {},
     "output_type": "execute_result"
    }
   ],
   "source": [
    "amazon_bs.drop_duplicates()"
   ]
  },
  {
   "cell_type": "code",
   "execution_count": 84,
   "metadata": {},
   "outputs": [
    {
     "data": {
      "text/plain": [
       "60"
      ]
     },
     "execution_count": 84,
     "metadata": {},
     "output_type": "execute_result"
    }
   ],
   "source": [
    "len(amazon_bs['asin'].value_counts()[amazon_bs['asin'].value_counts()==2])"
   ]
  },
  {
   "cell_type": "code",
   "execution_count": 88,
   "metadata": {},
   "outputs": [
    {
     "data": {
      "application/vnd.plotly.v1+json": {
       "config": {
        "linkText": "Export to plot.ly",
        "plotlyServerURL": "https://plot.ly",
        "showLink": true
       },
       "data": [
        {
         "marker": {
          "color": "rgba(255, 153, 51, 0.6)",
          "line": {
           "color": "rgba(255, 153, 51, 1.0)",
           "width": 1
          }
         },
         "name": "rating",
         "orientation": "v",
         "text": "",
         "type": "bar",
         "x": [
          4.3,
          4.4,
          4.5,
          4.6,
          4.2,
          4.1,
          4,
          4.7,
          4.8,
          3.9,
          3.8,
          5,
          3.7,
          3.5,
          3.6,
          3.4,
          3.3,
          3.2,
          4.9,
          3,
          3.1,
          2.5,
          2.9
         ],
         "y": [
          129,
          125,
          123,
          110,
          102,
          81,
          72,
          65,
          58,
          51,
          35,
          33,
          20,
          15,
          15,
          7,
          3,
          3,
          3,
          2,
          1,
          1,
          1
         ]
        }
       ],
       "layout": {
        "legend": {
         "bgcolor": "#F5F6F9",
         "font": {
          "color": "#4D5663"
         }
        },
        "paper_bgcolor": "#F5F6F9",
        "plot_bgcolor": "#F5F6F9",
        "template": {
         "data": {
          "bar": [
           {
            "error_x": {
             "color": "#2a3f5f"
            },
            "error_y": {
             "color": "#2a3f5f"
            },
            "marker": {
             "line": {
              "color": "#E5ECF6",
              "width": 0.5
             }
            },
            "type": "bar"
           }
          ],
          "barpolar": [
           {
            "marker": {
             "line": {
              "color": "#E5ECF6",
              "width": 0.5
             }
            },
            "type": "barpolar"
           }
          ],
          "carpet": [
           {
            "aaxis": {
             "endlinecolor": "#2a3f5f",
             "gridcolor": "white",
             "linecolor": "white",
             "minorgridcolor": "white",
             "startlinecolor": "#2a3f5f"
            },
            "baxis": {
             "endlinecolor": "#2a3f5f",
             "gridcolor": "white",
             "linecolor": "white",
             "minorgridcolor": "white",
             "startlinecolor": "#2a3f5f"
            },
            "type": "carpet"
           }
          ],
          "choropleth": [
           {
            "colorbar": {
             "outlinewidth": 0,
             "ticks": ""
            },
            "type": "choropleth"
           }
          ],
          "contour": [
           {
            "colorbar": {
             "outlinewidth": 0,
             "ticks": ""
            },
            "colorscale": [
             [
              0,
              "#0d0887"
             ],
             [
              0.1111111111111111,
              "#46039f"
             ],
             [
              0.2222222222222222,
              "#7201a8"
             ],
             [
              0.3333333333333333,
              "#9c179e"
             ],
             [
              0.4444444444444444,
              "#bd3786"
             ],
             [
              0.5555555555555556,
              "#d8576b"
             ],
             [
              0.6666666666666666,
              "#ed7953"
             ],
             [
              0.7777777777777778,
              "#fb9f3a"
             ],
             [
              0.8888888888888888,
              "#fdca26"
             ],
             [
              1,
              "#f0f921"
             ]
            ],
            "type": "contour"
           }
          ],
          "contourcarpet": [
           {
            "colorbar": {
             "outlinewidth": 0,
             "ticks": ""
            },
            "type": "contourcarpet"
           }
          ],
          "heatmap": [
           {
            "colorbar": {
             "outlinewidth": 0,
             "ticks": ""
            },
            "colorscale": [
             [
              0,
              "#0d0887"
             ],
             [
              0.1111111111111111,
              "#46039f"
             ],
             [
              0.2222222222222222,
              "#7201a8"
             ],
             [
              0.3333333333333333,
              "#9c179e"
             ],
             [
              0.4444444444444444,
              "#bd3786"
             ],
             [
              0.5555555555555556,
              "#d8576b"
             ],
             [
              0.6666666666666666,
              "#ed7953"
             ],
             [
              0.7777777777777778,
              "#fb9f3a"
             ],
             [
              0.8888888888888888,
              "#fdca26"
             ],
             [
              1,
              "#f0f921"
             ]
            ],
            "type": "heatmap"
           }
          ],
          "heatmapgl": [
           {
            "colorbar": {
             "outlinewidth": 0,
             "ticks": ""
            },
            "colorscale": [
             [
              0,
              "#0d0887"
             ],
             [
              0.1111111111111111,
              "#46039f"
             ],
             [
              0.2222222222222222,
              "#7201a8"
             ],
             [
              0.3333333333333333,
              "#9c179e"
             ],
             [
              0.4444444444444444,
              "#bd3786"
             ],
             [
              0.5555555555555556,
              "#d8576b"
             ],
             [
              0.6666666666666666,
              "#ed7953"
             ],
             [
              0.7777777777777778,
              "#fb9f3a"
             ],
             [
              0.8888888888888888,
              "#fdca26"
             ],
             [
              1,
              "#f0f921"
             ]
            ],
            "type": "heatmapgl"
           }
          ],
          "histogram": [
           {
            "marker": {
             "colorbar": {
              "outlinewidth": 0,
              "ticks": ""
             }
            },
            "type": "histogram"
           }
          ],
          "histogram2d": [
           {
            "colorbar": {
             "outlinewidth": 0,
             "ticks": ""
            },
            "colorscale": [
             [
              0,
              "#0d0887"
             ],
             [
              0.1111111111111111,
              "#46039f"
             ],
             [
              0.2222222222222222,
              "#7201a8"
             ],
             [
              0.3333333333333333,
              "#9c179e"
             ],
             [
              0.4444444444444444,
              "#bd3786"
             ],
             [
              0.5555555555555556,
              "#d8576b"
             ],
             [
              0.6666666666666666,
              "#ed7953"
             ],
             [
              0.7777777777777778,
              "#fb9f3a"
             ],
             [
              0.8888888888888888,
              "#fdca26"
             ],
             [
              1,
              "#f0f921"
             ]
            ],
            "type": "histogram2d"
           }
          ],
          "histogram2dcontour": [
           {
            "colorbar": {
             "outlinewidth": 0,
             "ticks": ""
            },
            "colorscale": [
             [
              0,
              "#0d0887"
             ],
             [
              0.1111111111111111,
              "#46039f"
             ],
             [
              0.2222222222222222,
              "#7201a8"
             ],
             [
              0.3333333333333333,
              "#9c179e"
             ],
             [
              0.4444444444444444,
              "#bd3786"
             ],
             [
              0.5555555555555556,
              "#d8576b"
             ],
             [
              0.6666666666666666,
              "#ed7953"
             ],
             [
              0.7777777777777778,
              "#fb9f3a"
             ],
             [
              0.8888888888888888,
              "#fdca26"
             ],
             [
              1,
              "#f0f921"
             ]
            ],
            "type": "histogram2dcontour"
           }
          ],
          "mesh3d": [
           {
            "colorbar": {
             "outlinewidth": 0,
             "ticks": ""
            },
            "type": "mesh3d"
           }
          ],
          "parcoords": [
           {
            "line": {
             "colorbar": {
              "outlinewidth": 0,
              "ticks": ""
             }
            },
            "type": "parcoords"
           }
          ],
          "pie": [
           {
            "automargin": true,
            "type": "pie"
           }
          ],
          "scatter": [
           {
            "marker": {
             "colorbar": {
              "outlinewidth": 0,
              "ticks": ""
             }
            },
            "type": "scatter"
           }
          ],
          "scatter3d": [
           {
            "line": {
             "colorbar": {
              "outlinewidth": 0,
              "ticks": ""
             }
            },
            "marker": {
             "colorbar": {
              "outlinewidth": 0,
              "ticks": ""
             }
            },
            "type": "scatter3d"
           }
          ],
          "scattercarpet": [
           {
            "marker": {
             "colorbar": {
              "outlinewidth": 0,
              "ticks": ""
             }
            },
            "type": "scattercarpet"
           }
          ],
          "scattergeo": [
           {
            "marker": {
             "colorbar": {
              "outlinewidth": 0,
              "ticks": ""
             }
            },
            "type": "scattergeo"
           }
          ],
          "scattergl": [
           {
            "marker": {
             "colorbar": {
              "outlinewidth": 0,
              "ticks": ""
             }
            },
            "type": "scattergl"
           }
          ],
          "scattermapbox": [
           {
            "marker": {
             "colorbar": {
              "outlinewidth": 0,
              "ticks": ""
             }
            },
            "type": "scattermapbox"
           }
          ],
          "scatterpolar": [
           {
            "marker": {
             "colorbar": {
              "outlinewidth": 0,
              "ticks": ""
             }
            },
            "type": "scatterpolar"
           }
          ],
          "scatterpolargl": [
           {
            "marker": {
             "colorbar": {
              "outlinewidth": 0,
              "ticks": ""
             }
            },
            "type": "scatterpolargl"
           }
          ],
          "scatterternary": [
           {
            "marker": {
             "colorbar": {
              "outlinewidth": 0,
              "ticks": ""
             }
            },
            "type": "scatterternary"
           }
          ],
          "surface": [
           {
            "colorbar": {
             "outlinewidth": 0,
             "ticks": ""
            },
            "colorscale": [
             [
              0,
              "#0d0887"
             ],
             [
              0.1111111111111111,
              "#46039f"
             ],
             [
              0.2222222222222222,
              "#7201a8"
             ],
             [
              0.3333333333333333,
              "#9c179e"
             ],
             [
              0.4444444444444444,
              "#bd3786"
             ],
             [
              0.5555555555555556,
              "#d8576b"
             ],
             [
              0.6666666666666666,
              "#ed7953"
             ],
             [
              0.7777777777777778,
              "#fb9f3a"
             ],
             [
              0.8888888888888888,
              "#fdca26"
             ],
             [
              1,
              "#f0f921"
             ]
            ],
            "type": "surface"
           }
          ],
          "table": [
           {
            "cells": {
             "fill": {
              "color": "#EBF0F8"
             },
             "line": {
              "color": "white"
             }
            },
            "header": {
             "fill": {
              "color": "#C8D4E3"
             },
             "line": {
              "color": "white"
             }
            },
            "type": "table"
           }
          ]
         },
         "layout": {
          "annotationdefaults": {
           "arrowcolor": "#2a3f5f",
           "arrowhead": 0,
           "arrowwidth": 1
          },
          "coloraxis": {
           "colorbar": {
            "outlinewidth": 0,
            "ticks": ""
           }
          },
          "colorscale": {
           "diverging": [
            [
             0,
             "#8e0152"
            ],
            [
             0.1,
             "#c51b7d"
            ],
            [
             0.2,
             "#de77ae"
            ],
            [
             0.3,
             "#f1b6da"
            ],
            [
             0.4,
             "#fde0ef"
            ],
            [
             0.5,
             "#f7f7f7"
            ],
            [
             0.6,
             "#e6f5d0"
            ],
            [
             0.7,
             "#b8e186"
            ],
            [
             0.8,
             "#7fbc41"
            ],
            [
             0.9,
             "#4d9221"
            ],
            [
             1,
             "#276419"
            ]
           ],
           "sequential": [
            [
             0,
             "#0d0887"
            ],
            [
             0.1111111111111111,
             "#46039f"
            ],
            [
             0.2222222222222222,
             "#7201a8"
            ],
            [
             0.3333333333333333,
             "#9c179e"
            ],
            [
             0.4444444444444444,
             "#bd3786"
            ],
            [
             0.5555555555555556,
             "#d8576b"
            ],
            [
             0.6666666666666666,
             "#ed7953"
            ],
            [
             0.7777777777777778,
             "#fb9f3a"
            ],
            [
             0.8888888888888888,
             "#fdca26"
            ],
            [
             1,
             "#f0f921"
            ]
           ],
           "sequentialminus": [
            [
             0,
             "#0d0887"
            ],
            [
             0.1111111111111111,
             "#46039f"
            ],
            [
             0.2222222222222222,
             "#7201a8"
            ],
            [
             0.3333333333333333,
             "#9c179e"
            ],
            [
             0.4444444444444444,
             "#bd3786"
            ],
            [
             0.5555555555555556,
             "#d8576b"
            ],
            [
             0.6666666666666666,
             "#ed7953"
            ],
            [
             0.7777777777777778,
             "#fb9f3a"
            ],
            [
             0.8888888888888888,
             "#fdca26"
            ],
            [
             1,
             "#f0f921"
            ]
           ]
          },
          "colorway": [
           "#636efa",
           "#EF553B",
           "#00cc96",
           "#ab63fa",
           "#FFA15A",
           "#19d3f3",
           "#FF6692",
           "#B6E880",
           "#FF97FF",
           "#FECB52"
          ],
          "font": {
           "color": "#2a3f5f"
          },
          "geo": {
           "bgcolor": "white",
           "lakecolor": "white",
           "landcolor": "#E5ECF6",
           "showlakes": true,
           "showland": true,
           "subunitcolor": "white"
          },
          "hoverlabel": {
           "align": "left"
          },
          "hovermode": "closest",
          "mapbox": {
           "style": "light"
          },
          "paper_bgcolor": "white",
          "plot_bgcolor": "#E5ECF6",
          "polar": {
           "angularaxis": {
            "gridcolor": "white",
            "linecolor": "white",
            "ticks": ""
           },
           "bgcolor": "#E5ECF6",
           "radialaxis": {
            "gridcolor": "white",
            "linecolor": "white",
            "ticks": ""
           }
          },
          "scene": {
           "xaxis": {
            "backgroundcolor": "#E5ECF6",
            "gridcolor": "white",
            "gridwidth": 2,
            "linecolor": "white",
            "showbackground": true,
            "ticks": "",
            "zerolinecolor": "white"
           },
           "yaxis": {
            "backgroundcolor": "#E5ECF6",
            "gridcolor": "white",
            "gridwidth": 2,
            "linecolor": "white",
            "showbackground": true,
            "ticks": "",
            "zerolinecolor": "white"
           },
           "zaxis": {
            "backgroundcolor": "#E5ECF6",
            "gridcolor": "white",
            "gridwidth": 2,
            "linecolor": "white",
            "showbackground": true,
            "ticks": "",
            "zerolinecolor": "white"
           }
          },
          "shapedefaults": {
           "line": {
            "color": "#2a3f5f"
           }
          },
          "ternary": {
           "aaxis": {
            "gridcolor": "white",
            "linecolor": "white",
            "ticks": ""
           },
           "baxis": {
            "gridcolor": "white",
            "linecolor": "white",
            "ticks": ""
           },
           "bgcolor": "#E5ECF6",
           "caxis": {
            "gridcolor": "white",
            "linecolor": "white",
            "ticks": ""
           }
          },
          "title": {
           "x": 0.05
          },
          "xaxis": {
           "automargin": true,
           "gridcolor": "white",
           "linecolor": "white",
           "ticks": "",
           "title": {
            "standoff": 15
           },
           "zerolinecolor": "white",
           "zerolinewidth": 2
          },
          "yaxis": {
           "automargin": true,
           "gridcolor": "white",
           "linecolor": "white",
           "ticks": "",
           "title": {
            "standoff": 15
           },
           "zerolinecolor": "white",
           "zerolinewidth": 2
          }
         }
        },
        "title": {
         "font": {
          "color": "#4D5663"
         }
        },
        "xaxis": {
         "gridcolor": "#E1E5ED",
         "showgrid": true,
         "tickfont": {
          "color": "#4D5663"
         },
         "title": {
          "font": {
           "color": "#4D5663"
          },
          "text": ""
         },
         "zerolinecolor": "#E1E5ED"
        },
        "yaxis": {
         "gridcolor": "#E1E5ED",
         "showgrid": true,
         "tickfont": {
          "color": "#4D5663"
         },
         "title": {
          "font": {
           "color": "#4D5663"
          },
          "text": ""
         },
         "zerolinecolor": "#E1E5ED"
        }
       }
      },
      "text/html": [
       "<div>\n",
       "        \n",
       "        \n",
       "            <div id=\"bdfbe473-6b74-4d6f-bc62-95aced634077\" class=\"plotly-graph-div\" style=\"height:525px; width:100%;\"></div>\n",
       "            <script type=\"text/javascript\">\n",
       "                require([\"plotly\"], function(Plotly) {\n",
       "                    window.PLOTLYENV=window.PLOTLYENV || {};\n",
       "                    window.PLOTLYENV.BASE_URL='https://plot.ly';\n",
       "                    \n",
       "                if (document.getElementById(\"bdfbe473-6b74-4d6f-bc62-95aced634077\")) {\n",
       "                    Plotly.newPlot(\n",
       "                        'bdfbe473-6b74-4d6f-bc62-95aced634077',\n",
       "                        [{\"marker\": {\"color\": \"rgba(255, 153, 51, 0.6)\", \"line\": {\"color\": \"rgba(255, 153, 51, 1.0)\", \"width\": 1}}, \"name\": \"rating\", \"orientation\": \"v\", \"text\": \"\", \"type\": \"bar\", \"x\": [4.3, 4.4, 4.5, 4.6, 4.2, 4.1, 4.0, 4.7, 4.8, 3.9, 3.8, 5.0, 3.7, 3.5, 3.6, 3.4, 3.3, 3.2, 4.9, 3.0, 3.1, 2.5, 2.9], \"y\": [129, 125, 123, 110, 102, 81, 72, 65, 58, 51, 35, 33, 20, 15, 15, 7, 3, 3, 3, 2, 1, 1, 1]}],\n",
       "                        {\"legend\": {\"bgcolor\": \"#F5F6F9\", \"font\": {\"color\": \"#4D5663\"}}, \"paper_bgcolor\": \"#F5F6F9\", \"plot_bgcolor\": \"#F5F6F9\", \"template\": {\"data\": {\"bar\": [{\"error_x\": {\"color\": \"#2a3f5f\"}, \"error_y\": {\"color\": \"#2a3f5f\"}, \"marker\": {\"line\": {\"color\": \"#E5ECF6\", \"width\": 0.5}}, \"type\": \"bar\"}], \"barpolar\": [{\"marker\": {\"line\": {\"color\": \"#E5ECF6\", \"width\": 0.5}}, \"type\": \"barpolar\"}], \"carpet\": [{\"aaxis\": {\"endlinecolor\": \"#2a3f5f\", \"gridcolor\": \"white\", \"linecolor\": \"white\", \"minorgridcolor\": \"white\", \"startlinecolor\": \"#2a3f5f\"}, \"baxis\": {\"endlinecolor\": \"#2a3f5f\", \"gridcolor\": \"white\", \"linecolor\": \"white\", \"minorgridcolor\": \"white\", \"startlinecolor\": \"#2a3f5f\"}, \"type\": \"carpet\"}], \"choropleth\": [{\"colorbar\": {\"outlinewidth\": 0, \"ticks\": \"\"}, \"type\": \"choropleth\"}], \"contour\": [{\"colorbar\": {\"outlinewidth\": 0, \"ticks\": \"\"}, \"colorscale\": [[0.0, \"#0d0887\"], [0.1111111111111111, \"#46039f\"], [0.2222222222222222, \"#7201a8\"], [0.3333333333333333, \"#9c179e\"], [0.4444444444444444, \"#bd3786\"], [0.5555555555555556, \"#d8576b\"], [0.6666666666666666, \"#ed7953\"], [0.7777777777777778, \"#fb9f3a\"], [0.8888888888888888, \"#fdca26\"], [1.0, \"#f0f921\"]], \"type\": \"contour\"}], \"contourcarpet\": [{\"colorbar\": {\"outlinewidth\": 0, \"ticks\": \"\"}, \"type\": \"contourcarpet\"}], \"heatmap\": [{\"colorbar\": {\"outlinewidth\": 0, \"ticks\": \"\"}, \"colorscale\": [[0.0, \"#0d0887\"], [0.1111111111111111, \"#46039f\"], [0.2222222222222222, \"#7201a8\"], [0.3333333333333333, \"#9c179e\"], [0.4444444444444444, \"#bd3786\"], [0.5555555555555556, \"#d8576b\"], [0.6666666666666666, \"#ed7953\"], [0.7777777777777778, \"#fb9f3a\"], [0.8888888888888888, \"#fdca26\"], [1.0, \"#f0f921\"]], \"type\": \"heatmap\"}], \"heatmapgl\": [{\"colorbar\": {\"outlinewidth\": 0, \"ticks\": \"\"}, \"colorscale\": [[0.0, \"#0d0887\"], [0.1111111111111111, \"#46039f\"], [0.2222222222222222, \"#7201a8\"], [0.3333333333333333, \"#9c179e\"], [0.4444444444444444, \"#bd3786\"], [0.5555555555555556, \"#d8576b\"], [0.6666666666666666, \"#ed7953\"], [0.7777777777777778, \"#fb9f3a\"], [0.8888888888888888, \"#fdca26\"], [1.0, \"#f0f921\"]], \"type\": \"heatmapgl\"}], \"histogram\": [{\"marker\": {\"colorbar\": {\"outlinewidth\": 0, \"ticks\": \"\"}}, \"type\": \"histogram\"}], \"histogram2d\": [{\"colorbar\": {\"outlinewidth\": 0, \"ticks\": \"\"}, \"colorscale\": [[0.0, \"#0d0887\"], [0.1111111111111111, \"#46039f\"], [0.2222222222222222, \"#7201a8\"], [0.3333333333333333, \"#9c179e\"], [0.4444444444444444, \"#bd3786\"], [0.5555555555555556, \"#d8576b\"], [0.6666666666666666, \"#ed7953\"], [0.7777777777777778, \"#fb9f3a\"], [0.8888888888888888, \"#fdca26\"], [1.0, \"#f0f921\"]], \"type\": \"histogram2d\"}], \"histogram2dcontour\": [{\"colorbar\": {\"outlinewidth\": 0, \"ticks\": \"\"}, \"colorscale\": [[0.0, \"#0d0887\"], [0.1111111111111111, \"#46039f\"], [0.2222222222222222, \"#7201a8\"], [0.3333333333333333, \"#9c179e\"], [0.4444444444444444, \"#bd3786\"], [0.5555555555555556, \"#d8576b\"], [0.6666666666666666, \"#ed7953\"], [0.7777777777777778, \"#fb9f3a\"], [0.8888888888888888, \"#fdca26\"], [1.0, \"#f0f921\"]], \"type\": \"histogram2dcontour\"}], \"mesh3d\": [{\"colorbar\": {\"outlinewidth\": 0, \"ticks\": \"\"}, \"type\": \"mesh3d\"}], \"parcoords\": [{\"line\": {\"colorbar\": {\"outlinewidth\": 0, \"ticks\": \"\"}}, \"type\": \"parcoords\"}], \"pie\": [{\"automargin\": true, \"type\": \"pie\"}], \"scatter\": [{\"marker\": {\"colorbar\": {\"outlinewidth\": 0, \"ticks\": \"\"}}, \"type\": \"scatter\"}], \"scatter3d\": [{\"line\": {\"colorbar\": {\"outlinewidth\": 0, \"ticks\": \"\"}}, \"marker\": {\"colorbar\": {\"outlinewidth\": 0, \"ticks\": \"\"}}, \"type\": \"scatter3d\"}], \"scattercarpet\": [{\"marker\": {\"colorbar\": {\"outlinewidth\": 0, \"ticks\": \"\"}}, \"type\": \"scattercarpet\"}], \"scattergeo\": [{\"marker\": {\"colorbar\": {\"outlinewidth\": 0, \"ticks\": \"\"}}, \"type\": \"scattergeo\"}], \"scattergl\": [{\"marker\": {\"colorbar\": {\"outlinewidth\": 0, \"ticks\": \"\"}}, \"type\": \"scattergl\"}], \"scattermapbox\": [{\"marker\": {\"colorbar\": {\"outlinewidth\": 0, \"ticks\": \"\"}}, \"type\": \"scattermapbox\"}], \"scatterpolar\": [{\"marker\": {\"colorbar\": {\"outlinewidth\": 0, \"ticks\": \"\"}}, \"type\": \"scatterpolar\"}], \"scatterpolargl\": [{\"marker\": {\"colorbar\": {\"outlinewidth\": 0, \"ticks\": \"\"}}, \"type\": \"scatterpolargl\"}], \"scatterternary\": [{\"marker\": {\"colorbar\": {\"outlinewidth\": 0, \"ticks\": \"\"}}, \"type\": \"scatterternary\"}], \"surface\": [{\"colorbar\": {\"outlinewidth\": 0, \"ticks\": \"\"}, \"colorscale\": [[0.0, \"#0d0887\"], [0.1111111111111111, \"#46039f\"], [0.2222222222222222, \"#7201a8\"], [0.3333333333333333, \"#9c179e\"], [0.4444444444444444, \"#bd3786\"], [0.5555555555555556, \"#d8576b\"], [0.6666666666666666, \"#ed7953\"], [0.7777777777777778, \"#fb9f3a\"], [0.8888888888888888, \"#fdca26\"], [1.0, \"#f0f921\"]], \"type\": \"surface\"}], \"table\": [{\"cells\": {\"fill\": {\"color\": \"#EBF0F8\"}, \"line\": {\"color\": \"white\"}}, \"header\": {\"fill\": {\"color\": \"#C8D4E3\"}, \"line\": {\"color\": \"white\"}}, \"type\": \"table\"}]}, \"layout\": {\"annotationdefaults\": {\"arrowcolor\": \"#2a3f5f\", \"arrowhead\": 0, \"arrowwidth\": 1}, \"coloraxis\": {\"colorbar\": {\"outlinewidth\": 0, \"ticks\": \"\"}}, \"colorscale\": {\"diverging\": [[0, \"#8e0152\"], [0.1, \"#c51b7d\"], [0.2, \"#de77ae\"], [0.3, \"#f1b6da\"], [0.4, \"#fde0ef\"], [0.5, \"#f7f7f7\"], [0.6, \"#e6f5d0\"], [0.7, \"#b8e186\"], [0.8, \"#7fbc41\"], [0.9, \"#4d9221\"], [1, \"#276419\"]], \"sequential\": [[0.0, \"#0d0887\"], [0.1111111111111111, \"#46039f\"], [0.2222222222222222, \"#7201a8\"], [0.3333333333333333, \"#9c179e\"], [0.4444444444444444, \"#bd3786\"], [0.5555555555555556, \"#d8576b\"], [0.6666666666666666, \"#ed7953\"], [0.7777777777777778, \"#fb9f3a\"], [0.8888888888888888, \"#fdca26\"], [1.0, \"#f0f921\"]], \"sequentialminus\": [[0.0, \"#0d0887\"], [0.1111111111111111, \"#46039f\"], [0.2222222222222222, \"#7201a8\"], [0.3333333333333333, \"#9c179e\"], [0.4444444444444444, \"#bd3786\"], [0.5555555555555556, \"#d8576b\"], [0.6666666666666666, \"#ed7953\"], [0.7777777777777778, \"#fb9f3a\"], [0.8888888888888888, \"#fdca26\"], [1.0, \"#f0f921\"]]}, \"colorway\": [\"#636efa\", \"#EF553B\", \"#00cc96\", \"#ab63fa\", \"#FFA15A\", \"#19d3f3\", \"#FF6692\", \"#B6E880\", \"#FF97FF\", \"#FECB52\"], \"font\": {\"color\": \"#2a3f5f\"}, \"geo\": {\"bgcolor\": \"white\", \"lakecolor\": \"white\", \"landcolor\": \"#E5ECF6\", \"showlakes\": true, \"showland\": true, \"subunitcolor\": \"white\"}, \"hoverlabel\": {\"align\": \"left\"}, \"hovermode\": \"closest\", \"mapbox\": {\"style\": \"light\"}, \"paper_bgcolor\": \"white\", \"plot_bgcolor\": \"#E5ECF6\", \"polar\": {\"angularaxis\": {\"gridcolor\": \"white\", \"linecolor\": \"white\", \"ticks\": \"\"}, \"bgcolor\": \"#E5ECF6\", \"radialaxis\": {\"gridcolor\": \"white\", \"linecolor\": \"white\", \"ticks\": \"\"}}, \"scene\": {\"xaxis\": {\"backgroundcolor\": \"#E5ECF6\", \"gridcolor\": \"white\", \"gridwidth\": 2, \"linecolor\": \"white\", \"showbackground\": true, \"ticks\": \"\", \"zerolinecolor\": \"white\"}, \"yaxis\": {\"backgroundcolor\": \"#E5ECF6\", \"gridcolor\": \"white\", \"gridwidth\": 2, \"linecolor\": \"white\", \"showbackground\": true, \"ticks\": \"\", \"zerolinecolor\": \"white\"}, \"zaxis\": {\"backgroundcolor\": \"#E5ECF6\", \"gridcolor\": \"white\", \"gridwidth\": 2, \"linecolor\": \"white\", \"showbackground\": true, \"ticks\": \"\", \"zerolinecolor\": \"white\"}}, \"shapedefaults\": {\"line\": {\"color\": \"#2a3f5f\"}}, \"ternary\": {\"aaxis\": {\"gridcolor\": \"white\", \"linecolor\": \"white\", \"ticks\": \"\"}, \"baxis\": {\"gridcolor\": \"white\", \"linecolor\": \"white\", \"ticks\": \"\"}, \"bgcolor\": \"#E5ECF6\", \"caxis\": {\"gridcolor\": \"white\", \"linecolor\": \"white\", \"ticks\": \"\"}}, \"title\": {\"x\": 0.05}, \"xaxis\": {\"automargin\": true, \"gridcolor\": \"white\", \"linecolor\": \"white\", \"ticks\": \"\", \"title\": {\"standoff\": 15}, \"zerolinecolor\": \"white\", \"zerolinewidth\": 2}, \"yaxis\": {\"automargin\": true, \"gridcolor\": \"white\", \"linecolor\": \"white\", \"ticks\": \"\", \"title\": {\"standoff\": 15}, \"zerolinecolor\": \"white\", \"zerolinewidth\": 2}}}, \"title\": {\"font\": {\"color\": \"#4D5663\"}}, \"xaxis\": {\"gridcolor\": \"#E1E5ED\", \"showgrid\": true, \"tickfont\": {\"color\": \"#4D5663\"}, \"title\": {\"font\": {\"color\": \"#4D5663\"}, \"text\": \"\"}, \"zerolinecolor\": \"#E1E5ED\"}, \"yaxis\": {\"gridcolor\": \"#E1E5ED\", \"showgrid\": true, \"tickfont\": {\"color\": \"#4D5663\"}, \"title\": {\"font\": {\"color\": \"#4D5663\"}, \"text\": \"\"}, \"zerolinecolor\": \"#E1E5ED\"}},\n",
       "                        {\"showLink\": true, \"linkText\": \"Export to plot.ly\", \"plotlyServerURL\": \"https://plot.ly\", \"responsive\": true}\n",
       "                    ).then(function(){\n",
       "                            \n",
       "var gd = document.getElementById('bdfbe473-6b74-4d6f-bc62-95aced634077');\n",
       "var x = new MutationObserver(function (mutations, observer) {{\n",
       "        var display = window.getComputedStyle(gd).display;\n",
       "        if (!display || display === 'none') {{\n",
       "            console.log([gd, 'removed!']);\n",
       "            Plotly.purge(gd);\n",
       "            observer.disconnect();\n",
       "        }}\n",
       "}});\n",
       "\n",
       "// Listen for the removal of the full notebook cells\n",
       "var notebookContainer = gd.closest('#notebook-container');\n",
       "if (notebookContainer) {{\n",
       "    x.observe(notebookContainer, {childList: true});\n",
       "}}\n",
       "\n",
       "// Listen for the clearing of the current output cell\n",
       "var outputEl = gd.closest('.output');\n",
       "if (outputEl) {{\n",
       "    x.observe(outputEl, {childList: true});\n",
       "}}\n",
       "\n",
       "                        })\n",
       "                };\n",
       "                });\n",
       "            </script>\n",
       "        </div>"
      ]
     },
     "metadata": {},
     "output_type": "display_data"
    }
   ],
   "source": [
    "amazon_bs['rating'].value_counts().iplot(kind=\"bar\")"
   ]
  },
  {
   "cell_type": "code",
   "execution_count": 93,
   "metadata": {},
   "outputs": [
    {
     "data": {
      "text/html": [
       "<div>\n",
       "<style scoped>\n",
       "    .dataframe tbody tr th:only-of-type {\n",
       "        vertical-align: middle;\n",
       "    }\n",
       "\n",
       "    .dataframe tbody tr th {\n",
       "        vertical-align: top;\n",
       "    }\n",
       "\n",
       "    .dataframe thead th {\n",
       "        text-align: right;\n",
       "    }\n",
       "</style>\n",
       "<table border=\"1\" class=\"dataframe\">\n",
       "  <thead>\n",
       "    <tr style=\"text-align: right;\">\n",
       "      <th></th>\n",
       "      <th>rating</th>\n",
       "      <th>ratings_total</th>\n",
       "      <th>price.value</th>\n",
       "    </tr>\n",
       "    <tr>\n",
       "      <th>rank</th>\n",
       "      <th></th>\n",
       "      <th></th>\n",
       "      <th></th>\n",
       "    </tr>\n",
       "  </thead>\n",
       "  <tbody>\n",
       "    <tr>\n",
       "      <th>1</th>\n",
       "      <td>4.418182</td>\n",
       "      <td>28940.000000</td>\n",
       "      <td>227.018182</td>\n",
       "    </tr>\n",
       "    <tr>\n",
       "      <th>2</th>\n",
       "      <td>4.390909</td>\n",
       "      <td>32680.636364</td>\n",
       "      <td>231.073636</td>\n",
       "    </tr>\n",
       "    <tr>\n",
       "      <th>3</th>\n",
       "      <td>4.300000</td>\n",
       "      <td>12686.000000</td>\n",
       "      <td>149.712727</td>\n",
       "    </tr>\n",
       "    <tr>\n",
       "      <th>4</th>\n",
       "      <td>4.445455</td>\n",
       "      <td>7083.818182</td>\n",
       "      <td>255.059091</td>\n",
       "    </tr>\n",
       "    <tr>\n",
       "      <th>5</th>\n",
       "      <td>4.318182</td>\n",
       "      <td>4900.818182</td>\n",
       "      <td>176.209091</td>\n",
       "    </tr>\n",
       "    <tr>\n",
       "      <th>...</th>\n",
       "      <td>...</td>\n",
       "      <td>...</td>\n",
       "      <td>...</td>\n",
       "    </tr>\n",
       "    <tr>\n",
       "      <th>96</th>\n",
       "      <td>4.327273</td>\n",
       "      <td>3384.909091</td>\n",
       "      <td>464.513636</td>\n",
       "    </tr>\n",
       "    <tr>\n",
       "      <th>97</th>\n",
       "      <td>4.245455</td>\n",
       "      <td>787.909091</td>\n",
       "      <td>266.978182</td>\n",
       "    </tr>\n",
       "    <tr>\n",
       "      <th>98</th>\n",
       "      <td>4.245455</td>\n",
       "      <td>7285.272727</td>\n",
       "      <td>229.450909</td>\n",
       "    </tr>\n",
       "    <tr>\n",
       "      <th>99</th>\n",
       "      <td>4.290000</td>\n",
       "      <td>345.100000</td>\n",
       "      <td>266.988182</td>\n",
       "    </tr>\n",
       "    <tr>\n",
       "      <th>100</th>\n",
       "      <td>4.360000</td>\n",
       "      <td>1759.000000</td>\n",
       "      <td>335.261818</td>\n",
       "    </tr>\n",
       "  </tbody>\n",
       "</table>\n",
       "<p>100 rows × 3 columns</p>\n",
       "</div>"
      ],
      "text/plain": [
       "        rating  ratings_total  price.value\n",
       "rank                                      \n",
       "1     4.418182   28940.000000   227.018182\n",
       "2     4.390909   32680.636364   231.073636\n",
       "3     4.300000   12686.000000   149.712727\n",
       "4     4.445455    7083.818182   255.059091\n",
       "5     4.318182    4900.818182   176.209091\n",
       "...        ...            ...          ...\n",
       "96    4.327273    3384.909091   464.513636\n",
       "97    4.245455     787.909091   266.978182\n",
       "98    4.245455    7285.272727   229.450909\n",
       "99    4.290000     345.100000   266.988182\n",
       "100   4.360000    1759.000000   335.261818\n",
       "\n",
       "[100 rows x 3 columns]"
      ]
     },
     "execution_count": 93,
     "metadata": {},
     "output_type": "execute_result"
    }
   ],
   "source": [
    "amazon_bs.groupby('rank').agg('mean')"
   ]
  },
  {
   "cell_type": "code",
   "execution_count": 95,
   "metadata": {},
   "outputs": [
    {
     "data": {
      "application/vnd.plotly.v1+json": {
       "config": {
        "linkText": "Export to plot.ly",
        "plotlyServerURL": "https://plot.ly",
        "showLink": true
       },
       "data": [
        {
         "marker": {
          "color": "rgba(255, 153, 51, 0.6)",
          "line": {
           "color": "rgba(255, 153, 51, 1.0)",
           "width": 1
          }
         },
         "name": "rating",
         "orientation": "v",
         "text": "",
         "type": "bar",
         "x": [
          1,
          2,
          3,
          4,
          5,
          6,
          7,
          8,
          9,
          10,
          11,
          12,
          13,
          14,
          15,
          16,
          17,
          18,
          19,
          20,
          21,
          22,
          23,
          24,
          25,
          26,
          27,
          28,
          29,
          30,
          31,
          32,
          33,
          34,
          35,
          36,
          37,
          38,
          39,
          40,
          41,
          42,
          43,
          44,
          45,
          46,
          47,
          48,
          49,
          50,
          51,
          52,
          53,
          54,
          55,
          56,
          57,
          58,
          59,
          60,
          61,
          62,
          63,
          64,
          65,
          66,
          67,
          68,
          69,
          70,
          71,
          72,
          73,
          74,
          75,
          76,
          77,
          78,
          79,
          80,
          81,
          82,
          83,
          84,
          85,
          86,
          87,
          88,
          89,
          90,
          91,
          92,
          93,
          94,
          95,
          96,
          97,
          98,
          99,
          100
         ],
         "y": [
          4.418181818181819,
          4.390909090909091,
          4.300000000000001,
          4.445454545454544,
          4.3181818181818175,
          4.250000000000001,
          4.4818181818181815,
          4.4363636363636365,
          4.380000000000001,
          4.359999999999999,
          4.34,
          4.581818181818182,
          4.381818181818182,
          4.279999999999999,
          4.3999999999999995,
          4.4399999999999995,
          4.327272727272727,
          4.3090909090909095,
          4.222222222222222,
          4.37,
          4.27,
          4.36,
          4.27,
          4.209999999999999,
          4.430000000000001,
          4.339999999999999,
          4.345454545454545,
          4.418181818181818,
          4.39,
          4.38,
          4.299999999999999,
          4.363636363636363,
          4.181818181818182,
          4.218181818181818,
          4.3181818181818175,
          4.454545454545455,
          4.35,
          4.254545454545454,
          4.263636363636365,
          4.272727272727273,
          4.463636363636364,
          4.254545454545455,
          4.263636363636364,
          4.1,
          4.445454545454545,
          4.372727272727273,
          4.263636363636365,
          4.359999999999999,
          4.254545454545455,
          4.3090909090909095,
          4.24,
          4.381818181818182,
          4.209090909090909,
          4.34,
          4.181818181818182,
          4.427272727272728,
          4.4,
          4.045454545454546,
          4.380000000000001,
          4.209090909090909,
          4.260000000000001,
          4.25,
          4.472727272727273,
          4.34,
          4.345454545454545,
          4.35,
          4.327272727272727,
          4.136363636363637,
          4.2700000000000005,
          4.081818181818181,
          4.4363636363636365,
          4.22,
          4.24,
          4.354545454545455,
          4.4363636363636365,
          4.172727272727273,
          4.281818181818182,
          4.27,
          4.290000000000001,
          4.027272727272727,
          4.24,
          4.172727272727273,
          4.37,
          4.39,
          4.2272727272727275,
          4.24,
          4.180000000000001,
          4.380000000000001,
          4.345454545454545,
          4.236363636363635,
          4.340000000000001,
          4.345454545454546,
          4.26,
          4.2700000000000005,
          4.20909090909091,
          4.327272727272727,
          4.245454545454546,
          4.245454545454546,
          4.289999999999999,
          4.360000000000001
         ]
        },
        {
         "marker": {
          "color": "rgba(55, 128, 191, 0.6)",
          "line": {
           "color": "rgba(55, 128, 191, 1.0)",
           "width": 1
          }
         },
         "name": "ratings_total",
         "orientation": "v",
         "text": "",
         "type": "bar",
         "x": [
          1,
          2,
          3,
          4,
          5,
          6,
          7,
          8,
          9,
          10,
          11,
          12,
          13,
          14,
          15,
          16,
          17,
          18,
          19,
          20,
          21,
          22,
          23,
          24,
          25,
          26,
          27,
          28,
          29,
          30,
          31,
          32,
          33,
          34,
          35,
          36,
          37,
          38,
          39,
          40,
          41,
          42,
          43,
          44,
          45,
          46,
          47,
          48,
          49,
          50,
          51,
          52,
          53,
          54,
          55,
          56,
          57,
          58,
          59,
          60,
          61,
          62,
          63,
          64,
          65,
          66,
          67,
          68,
          69,
          70,
          71,
          72,
          73,
          74,
          75,
          76,
          77,
          78,
          79,
          80,
          81,
          82,
          83,
          84,
          85,
          86,
          87,
          88,
          89,
          90,
          91,
          92,
          93,
          94,
          95,
          96,
          97,
          98,
          99,
          100
         ],
         "y": [
          28940,
          32680.636363636364,
          12686,
          7083.818181818182,
          4900.818181818182,
          4125.7,
          9199.818181818182,
          11308,
          7967.9,
          9060.4,
          9298.5,
          3572.909090909091,
          8457.363636363636,
          1865.8,
          2744.7,
          6997.5,
          4109.636363636364,
          3708.909090909091,
          5805.555555555556,
          11602.4,
          3177,
          6319.2,
          9515.4,
          4095.3,
          1566.9,
          3884.5,
          5302.181818181818,
          6836.363636363636,
          9448.4,
          3200.4,
          2804.6,
          4998.909090909091,
          7765.636363636364,
          1831,
          17947.454545454544,
          4396.727272727273,
          2762.3,
          7922.545454545455,
          8018.181818181818,
          4506.909090909091,
          2973.4545454545455,
          1803.3636363636363,
          4770.181818181818,
          3042.6363636363635,
          3165.818181818182,
          1172,
          2301.7272727272725,
          4803.6,
          6483.727272727273,
          5051.272727272727,
          1691.8,
          935.1818181818181,
          3592.909090909091,
          1143.3,
          1691.8181818181818,
          1260.7272727272727,
          15288.8,
          2391.3636363636365,
          2119.8,
          2872.909090909091,
          3330,
          1317.1,
          2548.5454545454545,
          3617.1,
          3746.909090909091,
          4189,
          1388.4545454545455,
          10952.363636363636,
          487.7,
          4361.909090909091,
          1554.909090909091,
          4439.9,
          3044.4,
          4287.181818181818,
          1868.1818181818182,
          1671.6363636363637,
          603,
          5481.7,
          1295.8,
          966.4545454545455,
          495,
          920.3636363636364,
          2278.7,
          956.2,
          1207,
          2450.6,
          5101.4,
          4472.8,
          1711.7272727272727,
          8316.181818181818,
          4145,
          3135.090909090909,
          2903.8,
          3339.7,
          4976.272727272727,
          3384.909090909091,
          787.9090909090909,
          7285.272727272727,
          345.1,
          1759
         ]
        },
        {
         "marker": {
          "color": "rgba(50, 171, 96, 0.6)",
          "line": {
           "color": "rgba(50, 171, 96, 1.0)",
           "width": 1
          }
         },
         "name": "price.value",
         "orientation": "v",
         "text": "",
         "type": "bar",
         "x": [
          1,
          2,
          3,
          4,
          5,
          6,
          7,
          8,
          9,
          10,
          11,
          12,
          13,
          14,
          15,
          16,
          17,
          18,
          19,
          20,
          21,
          22,
          23,
          24,
          25,
          26,
          27,
          28,
          29,
          30,
          31,
          32,
          33,
          34,
          35,
          36,
          37,
          38,
          39,
          40,
          41,
          42,
          43,
          44,
          45,
          46,
          47,
          48,
          49,
          50,
          51,
          52,
          53,
          54,
          55,
          56,
          57,
          58,
          59,
          60,
          61,
          62,
          63,
          64,
          65,
          66,
          67,
          68,
          69,
          70,
          71,
          72,
          73,
          74,
          75,
          76,
          77,
          78,
          79,
          80,
          81,
          82,
          83,
          84,
          85,
          86,
          87,
          88,
          89,
          90,
          91,
          92,
          93,
          94,
          95,
          96,
          97,
          98,
          99,
          100
         ],
         "y": [
          227.0181818181818,
          231.07363636363635,
          149.71272727272728,
          255.05909090909088,
          176.20909090909092,
          367.8172727272727,
          189.792,
          206.08,
          303.5063636363635,
          223.08272727272717,
          197.63545454545454,
          312.2681818181818,
          280.6227272727272,
          207.35545454545453,
          263.8536363636363,
          257.63181818181806,
          212.5972727272727,
          158.86727272727273,
          248.03272727272716,
          208.85363636363635,
          161.4418181818182,
          162.6563636363636,
          353.23090909090905,
          284.4479999999999,
          358.7254545454545,
          217.88636363636363,
          268.918,
          117.57500000000002,
          552.7672727272726,
          213.56454545454542,
          499.11818181818177,
          211.78999999999996,
          199.70999999999995,
          202.41909090909095,
          258.3827272727272,
          195.79000000000002,
          307.36999999999995,
          175.272,
          229.05818181818177,
          177.88454545454547,
          205.3563636363636,
          184.41727272727275,
          218.7136363636363,
          310.65636363636366,
          308.5789999999999,
          222.7990909090909,
          324.5545454545454,
          474.6045454545454,
          347.3445454545453,
          367.69545454545454,
          167.91545454545454,
          309.5854545454545,
          291.78181818181815,
          281.7645454545454,
          224.1654545454545,
          206.01,
          452.40636363636355,
          267.5418181818182,
          503.7363636363636,
          228.15181818181816,
          230.90909090909088,
          262.94545454545454,
          303.7245454545454,
          340.0899999999999,
          289.03727272727264,
          198.27545454545452,
          423.61999999999995,
          230.40090909090898,
          321.95,
          450.9019999999999,
          227.4772727272727,
          329.1390909090908,
          413.93363636363625,
          108.60181818181819,
          327.49818181818176,
          320.05909090909086,
          221.20454545454547,
          345.0036363636363,
          265.66499999999996,
          365.17454545454535,
          249.298,
          232.5981818181818,
          335.89727272727265,
          261.94272727272727,
          400.9263636363636,
          173.73363636363638,
          158.4327272727273,
          167.66454545454545,
          407.1254545454545,
          214.71,
          365.3945454545454,
          252.1009090909091,
          224.24090909090907,
          270.05545454545444,
          401.4990909090908,
          464.51363636363624,
          266.9781818181818,
          229.45090909090902,
          266.9881818181818,
          335.26181818181806
         ]
        }
       ],
       "layout": {
        "legend": {
         "bgcolor": "#F5F6F9",
         "font": {
          "color": "#4D5663"
         }
        },
        "paper_bgcolor": "#F5F6F9",
        "plot_bgcolor": "#F5F6F9",
        "template": {
         "data": {
          "bar": [
           {
            "error_x": {
             "color": "#2a3f5f"
            },
            "error_y": {
             "color": "#2a3f5f"
            },
            "marker": {
             "line": {
              "color": "#E5ECF6",
              "width": 0.5
             }
            },
            "type": "bar"
           }
          ],
          "barpolar": [
           {
            "marker": {
             "line": {
              "color": "#E5ECF6",
              "width": 0.5
             }
            },
            "type": "barpolar"
           }
          ],
          "carpet": [
           {
            "aaxis": {
             "endlinecolor": "#2a3f5f",
             "gridcolor": "white",
             "linecolor": "white",
             "minorgridcolor": "white",
             "startlinecolor": "#2a3f5f"
            },
            "baxis": {
             "endlinecolor": "#2a3f5f",
             "gridcolor": "white",
             "linecolor": "white",
             "minorgridcolor": "white",
             "startlinecolor": "#2a3f5f"
            },
            "type": "carpet"
           }
          ],
          "choropleth": [
           {
            "colorbar": {
             "outlinewidth": 0,
             "ticks": ""
            },
            "type": "choropleth"
           }
          ],
          "contour": [
           {
            "colorbar": {
             "outlinewidth": 0,
             "ticks": ""
            },
            "colorscale": [
             [
              0,
              "#0d0887"
             ],
             [
              0.1111111111111111,
              "#46039f"
             ],
             [
              0.2222222222222222,
              "#7201a8"
             ],
             [
              0.3333333333333333,
              "#9c179e"
             ],
             [
              0.4444444444444444,
              "#bd3786"
             ],
             [
              0.5555555555555556,
              "#d8576b"
             ],
             [
              0.6666666666666666,
              "#ed7953"
             ],
             [
              0.7777777777777778,
              "#fb9f3a"
             ],
             [
              0.8888888888888888,
              "#fdca26"
             ],
             [
              1,
              "#f0f921"
             ]
            ],
            "type": "contour"
           }
          ],
          "contourcarpet": [
           {
            "colorbar": {
             "outlinewidth": 0,
             "ticks": ""
            },
            "type": "contourcarpet"
           }
          ],
          "heatmap": [
           {
            "colorbar": {
             "outlinewidth": 0,
             "ticks": ""
            },
            "colorscale": [
             [
              0,
              "#0d0887"
             ],
             [
              0.1111111111111111,
              "#46039f"
             ],
             [
              0.2222222222222222,
              "#7201a8"
             ],
             [
              0.3333333333333333,
              "#9c179e"
             ],
             [
              0.4444444444444444,
              "#bd3786"
             ],
             [
              0.5555555555555556,
              "#d8576b"
             ],
             [
              0.6666666666666666,
              "#ed7953"
             ],
             [
              0.7777777777777778,
              "#fb9f3a"
             ],
             [
              0.8888888888888888,
              "#fdca26"
             ],
             [
              1,
              "#f0f921"
             ]
            ],
            "type": "heatmap"
           }
          ],
          "heatmapgl": [
           {
            "colorbar": {
             "outlinewidth": 0,
             "ticks": ""
            },
            "colorscale": [
             [
              0,
              "#0d0887"
             ],
             [
              0.1111111111111111,
              "#46039f"
             ],
             [
              0.2222222222222222,
              "#7201a8"
             ],
             [
              0.3333333333333333,
              "#9c179e"
             ],
             [
              0.4444444444444444,
              "#bd3786"
             ],
             [
              0.5555555555555556,
              "#d8576b"
             ],
             [
              0.6666666666666666,
              "#ed7953"
             ],
             [
              0.7777777777777778,
              "#fb9f3a"
             ],
             [
              0.8888888888888888,
              "#fdca26"
             ],
             [
              1,
              "#f0f921"
             ]
            ],
            "type": "heatmapgl"
           }
          ],
          "histogram": [
           {
            "marker": {
             "colorbar": {
              "outlinewidth": 0,
              "ticks": ""
             }
            },
            "type": "histogram"
           }
          ],
          "histogram2d": [
           {
            "colorbar": {
             "outlinewidth": 0,
             "ticks": ""
            },
            "colorscale": [
             [
              0,
              "#0d0887"
             ],
             [
              0.1111111111111111,
              "#46039f"
             ],
             [
              0.2222222222222222,
              "#7201a8"
             ],
             [
              0.3333333333333333,
              "#9c179e"
             ],
             [
              0.4444444444444444,
              "#bd3786"
             ],
             [
              0.5555555555555556,
              "#d8576b"
             ],
             [
              0.6666666666666666,
              "#ed7953"
             ],
             [
              0.7777777777777778,
              "#fb9f3a"
             ],
             [
              0.8888888888888888,
              "#fdca26"
             ],
             [
              1,
              "#f0f921"
             ]
            ],
            "type": "histogram2d"
           }
          ],
          "histogram2dcontour": [
           {
            "colorbar": {
             "outlinewidth": 0,
             "ticks": ""
            },
            "colorscale": [
             [
              0,
              "#0d0887"
             ],
             [
              0.1111111111111111,
              "#46039f"
             ],
             [
              0.2222222222222222,
              "#7201a8"
             ],
             [
              0.3333333333333333,
              "#9c179e"
             ],
             [
              0.4444444444444444,
              "#bd3786"
             ],
             [
              0.5555555555555556,
              "#d8576b"
             ],
             [
              0.6666666666666666,
              "#ed7953"
             ],
             [
              0.7777777777777778,
              "#fb9f3a"
             ],
             [
              0.8888888888888888,
              "#fdca26"
             ],
             [
              1,
              "#f0f921"
             ]
            ],
            "type": "histogram2dcontour"
           }
          ],
          "mesh3d": [
           {
            "colorbar": {
             "outlinewidth": 0,
             "ticks": ""
            },
            "type": "mesh3d"
           }
          ],
          "parcoords": [
           {
            "line": {
             "colorbar": {
              "outlinewidth": 0,
              "ticks": ""
             }
            },
            "type": "parcoords"
           }
          ],
          "pie": [
           {
            "automargin": true,
            "type": "pie"
           }
          ],
          "scatter": [
           {
            "marker": {
             "colorbar": {
              "outlinewidth": 0,
              "ticks": ""
             }
            },
            "type": "scatter"
           }
          ],
          "scatter3d": [
           {
            "line": {
             "colorbar": {
              "outlinewidth": 0,
              "ticks": ""
             }
            },
            "marker": {
             "colorbar": {
              "outlinewidth": 0,
              "ticks": ""
             }
            },
            "type": "scatter3d"
           }
          ],
          "scattercarpet": [
           {
            "marker": {
             "colorbar": {
              "outlinewidth": 0,
              "ticks": ""
             }
            },
            "type": "scattercarpet"
           }
          ],
          "scattergeo": [
           {
            "marker": {
             "colorbar": {
              "outlinewidth": 0,
              "ticks": ""
             }
            },
            "type": "scattergeo"
           }
          ],
          "scattergl": [
           {
            "marker": {
             "colorbar": {
              "outlinewidth": 0,
              "ticks": ""
             }
            },
            "type": "scattergl"
           }
          ],
          "scattermapbox": [
           {
            "marker": {
             "colorbar": {
              "outlinewidth": 0,
              "ticks": ""
             }
            },
            "type": "scattermapbox"
           }
          ],
          "scatterpolar": [
           {
            "marker": {
             "colorbar": {
              "outlinewidth": 0,
              "ticks": ""
             }
            },
            "type": "scatterpolar"
           }
          ],
          "scatterpolargl": [
           {
            "marker": {
             "colorbar": {
              "outlinewidth": 0,
              "ticks": ""
             }
            },
            "type": "scatterpolargl"
           }
          ],
          "scatterternary": [
           {
            "marker": {
             "colorbar": {
              "outlinewidth": 0,
              "ticks": ""
             }
            },
            "type": "scatterternary"
           }
          ],
          "surface": [
           {
            "colorbar": {
             "outlinewidth": 0,
             "ticks": ""
            },
            "colorscale": [
             [
              0,
              "#0d0887"
             ],
             [
              0.1111111111111111,
              "#46039f"
             ],
             [
              0.2222222222222222,
              "#7201a8"
             ],
             [
              0.3333333333333333,
              "#9c179e"
             ],
             [
              0.4444444444444444,
              "#bd3786"
             ],
             [
              0.5555555555555556,
              "#d8576b"
             ],
             [
              0.6666666666666666,
              "#ed7953"
             ],
             [
              0.7777777777777778,
              "#fb9f3a"
             ],
             [
              0.8888888888888888,
              "#fdca26"
             ],
             [
              1,
              "#f0f921"
             ]
            ],
            "type": "surface"
           }
          ],
          "table": [
           {
            "cells": {
             "fill": {
              "color": "#EBF0F8"
             },
             "line": {
              "color": "white"
             }
            },
            "header": {
             "fill": {
              "color": "#C8D4E3"
             },
             "line": {
              "color": "white"
             }
            },
            "type": "table"
           }
          ]
         },
         "layout": {
          "annotationdefaults": {
           "arrowcolor": "#2a3f5f",
           "arrowhead": 0,
           "arrowwidth": 1
          },
          "coloraxis": {
           "colorbar": {
            "outlinewidth": 0,
            "ticks": ""
           }
          },
          "colorscale": {
           "diverging": [
            [
             0,
             "#8e0152"
            ],
            [
             0.1,
             "#c51b7d"
            ],
            [
             0.2,
             "#de77ae"
            ],
            [
             0.3,
             "#f1b6da"
            ],
            [
             0.4,
             "#fde0ef"
            ],
            [
             0.5,
             "#f7f7f7"
            ],
            [
             0.6,
             "#e6f5d0"
            ],
            [
             0.7,
             "#b8e186"
            ],
            [
             0.8,
             "#7fbc41"
            ],
            [
             0.9,
             "#4d9221"
            ],
            [
             1,
             "#276419"
            ]
           ],
           "sequential": [
            [
             0,
             "#0d0887"
            ],
            [
             0.1111111111111111,
             "#46039f"
            ],
            [
             0.2222222222222222,
             "#7201a8"
            ],
            [
             0.3333333333333333,
             "#9c179e"
            ],
            [
             0.4444444444444444,
             "#bd3786"
            ],
            [
             0.5555555555555556,
             "#d8576b"
            ],
            [
             0.6666666666666666,
             "#ed7953"
            ],
            [
             0.7777777777777778,
             "#fb9f3a"
            ],
            [
             0.8888888888888888,
             "#fdca26"
            ],
            [
             1,
             "#f0f921"
            ]
           ],
           "sequentialminus": [
            [
             0,
             "#0d0887"
            ],
            [
             0.1111111111111111,
             "#46039f"
            ],
            [
             0.2222222222222222,
             "#7201a8"
            ],
            [
             0.3333333333333333,
             "#9c179e"
            ],
            [
             0.4444444444444444,
             "#bd3786"
            ],
            [
             0.5555555555555556,
             "#d8576b"
            ],
            [
             0.6666666666666666,
             "#ed7953"
            ],
            [
             0.7777777777777778,
             "#fb9f3a"
            ],
            [
             0.8888888888888888,
             "#fdca26"
            ],
            [
             1,
             "#f0f921"
            ]
           ]
          },
          "colorway": [
           "#636efa",
           "#EF553B",
           "#00cc96",
           "#ab63fa",
           "#FFA15A",
           "#19d3f3",
           "#FF6692",
           "#B6E880",
           "#FF97FF",
           "#FECB52"
          ],
          "font": {
           "color": "#2a3f5f"
          },
          "geo": {
           "bgcolor": "white",
           "lakecolor": "white",
           "landcolor": "#E5ECF6",
           "showlakes": true,
           "showland": true,
           "subunitcolor": "white"
          },
          "hoverlabel": {
           "align": "left"
          },
          "hovermode": "closest",
          "mapbox": {
           "style": "light"
          },
          "paper_bgcolor": "white",
          "plot_bgcolor": "#E5ECF6",
          "polar": {
           "angularaxis": {
            "gridcolor": "white",
            "linecolor": "white",
            "ticks": ""
           },
           "bgcolor": "#E5ECF6",
           "radialaxis": {
            "gridcolor": "white",
            "linecolor": "white",
            "ticks": ""
           }
          },
          "scene": {
           "xaxis": {
            "backgroundcolor": "#E5ECF6",
            "gridcolor": "white",
            "gridwidth": 2,
            "linecolor": "white",
            "showbackground": true,
            "ticks": "",
            "zerolinecolor": "white"
           },
           "yaxis": {
            "backgroundcolor": "#E5ECF6",
            "gridcolor": "white",
            "gridwidth": 2,
            "linecolor": "white",
            "showbackground": true,
            "ticks": "",
            "zerolinecolor": "white"
           },
           "zaxis": {
            "backgroundcolor": "#E5ECF6",
            "gridcolor": "white",
            "gridwidth": 2,
            "linecolor": "white",
            "showbackground": true,
            "ticks": "",
            "zerolinecolor": "white"
           }
          },
          "shapedefaults": {
           "line": {
            "color": "#2a3f5f"
           }
          },
          "ternary": {
           "aaxis": {
            "gridcolor": "white",
            "linecolor": "white",
            "ticks": ""
           },
           "baxis": {
            "gridcolor": "white",
            "linecolor": "white",
            "ticks": ""
           },
           "bgcolor": "#E5ECF6",
           "caxis": {
            "gridcolor": "white",
            "linecolor": "white",
            "ticks": ""
           }
          },
          "title": {
           "x": 0.05
          },
          "xaxis": {
           "automargin": true,
           "gridcolor": "white",
           "linecolor": "white",
           "ticks": "",
           "title": {
            "standoff": 15
           },
           "zerolinecolor": "white",
           "zerolinewidth": 2
          },
          "yaxis": {
           "automargin": true,
           "gridcolor": "white",
           "linecolor": "white",
           "ticks": "",
           "title": {
            "standoff": 15
           },
           "zerolinecolor": "white",
           "zerolinewidth": 2
          }
         }
        },
        "title": {
         "font": {
          "color": "#4D5663"
         }
        },
        "xaxis": {
         "gridcolor": "#E1E5ED",
         "showgrid": true,
         "tickfont": {
          "color": "#4D5663"
         },
         "title": {
          "font": {
           "color": "#4D5663"
          },
          "text": ""
         },
         "zerolinecolor": "#E1E5ED"
        },
        "yaxis": {
         "gridcolor": "#E1E5ED",
         "showgrid": true,
         "tickfont": {
          "color": "#4D5663"
         },
         "title": {
          "font": {
           "color": "#4D5663"
          },
          "text": ""
         },
         "zerolinecolor": "#E1E5ED"
        }
       }
      },
      "text/html": [
       "<div>\n",
       "        \n",
       "        \n",
       "            <div id=\"0ac21dee-1ebe-4566-a993-64d327184937\" class=\"plotly-graph-div\" style=\"height:525px; width:100%;\"></div>\n",
       "            <script type=\"text/javascript\">\n",
       "                require([\"plotly\"], function(Plotly) {\n",
       "                    window.PLOTLYENV=window.PLOTLYENV || {};\n",
       "                    window.PLOTLYENV.BASE_URL='https://plot.ly';\n",
       "                    \n",
       "                if (document.getElementById(\"0ac21dee-1ebe-4566-a993-64d327184937\")) {\n",
       "                    Plotly.newPlot(\n",
       "                        '0ac21dee-1ebe-4566-a993-64d327184937',\n",
       "                        [{\"marker\": {\"color\": \"rgba(255, 153, 51, 0.6)\", \"line\": {\"color\": \"rgba(255, 153, 51, 1.0)\", \"width\": 1}}, \"name\": \"rating\", \"orientation\": \"v\", \"text\": \"\", \"type\": \"bar\", \"x\": [1, 2, 3, 4, 5, 6, 7, 8, 9, 10, 11, 12, 13, 14, 15, 16, 17, 18, 19, 20, 21, 22, 23, 24, 25, 26, 27, 28, 29, 30, 31, 32, 33, 34, 35, 36, 37, 38, 39, 40, 41, 42, 43, 44, 45, 46, 47, 48, 49, 50, 51, 52, 53, 54, 55, 56, 57, 58, 59, 60, 61, 62, 63, 64, 65, 66, 67, 68, 69, 70, 71, 72, 73, 74, 75, 76, 77, 78, 79, 80, 81, 82, 83, 84, 85, 86, 87, 88, 89, 90, 91, 92, 93, 94, 95, 96, 97, 98, 99, 100], \"y\": [4.418181818181819, 4.390909090909091, 4.300000000000001, 4.445454545454544, 4.3181818181818175, 4.250000000000001, 4.4818181818181815, 4.4363636363636365, 4.380000000000001, 4.359999999999999, 4.34, 4.581818181818182, 4.381818181818182, 4.279999999999999, 4.3999999999999995, 4.4399999999999995, 4.327272727272727, 4.3090909090909095, 4.222222222222222, 4.37, 4.27, 4.36, 4.27, 4.209999999999999, 4.430000000000001, 4.339999999999999, 4.345454545454545, 4.418181818181818, 4.39, 4.38, 4.299999999999999, 4.363636363636363, 4.181818181818182, 4.218181818181818, 4.3181818181818175, 4.454545454545455, 4.35, 4.254545454545454, 4.263636363636365, 4.272727272727273, 4.463636363636364, 4.254545454545455, 4.263636363636364, 4.1, 4.445454545454545, 4.372727272727273, 4.263636363636365, 4.359999999999999, 4.254545454545455, 4.3090909090909095, 4.24, 4.381818181818182, 4.209090909090909, 4.34, 4.181818181818182, 4.427272727272728, 4.4, 4.045454545454546, 4.380000000000001, 4.209090909090909, 4.260000000000001, 4.25, 4.472727272727273, 4.34, 4.345454545454545, 4.35, 4.327272727272727, 4.136363636363637, 4.2700000000000005, 4.081818181818181, 4.4363636363636365, 4.22, 4.24, 4.354545454545455, 4.4363636363636365, 4.172727272727273, 4.281818181818182, 4.27, 4.290000000000001, 4.027272727272727, 4.24, 4.172727272727273, 4.37, 4.39, 4.2272727272727275, 4.24, 4.180000000000001, 4.380000000000001, 4.345454545454545, 4.236363636363635, 4.340000000000001, 4.345454545454546, 4.26, 4.2700000000000005, 4.20909090909091, 4.327272727272727, 4.245454545454546, 4.245454545454546, 4.289999999999999, 4.360000000000001]}, {\"marker\": {\"color\": \"rgba(55, 128, 191, 0.6)\", \"line\": {\"color\": \"rgba(55, 128, 191, 1.0)\", \"width\": 1}}, \"name\": \"ratings_total\", \"orientation\": \"v\", \"text\": \"\", \"type\": \"bar\", \"x\": [1, 2, 3, 4, 5, 6, 7, 8, 9, 10, 11, 12, 13, 14, 15, 16, 17, 18, 19, 20, 21, 22, 23, 24, 25, 26, 27, 28, 29, 30, 31, 32, 33, 34, 35, 36, 37, 38, 39, 40, 41, 42, 43, 44, 45, 46, 47, 48, 49, 50, 51, 52, 53, 54, 55, 56, 57, 58, 59, 60, 61, 62, 63, 64, 65, 66, 67, 68, 69, 70, 71, 72, 73, 74, 75, 76, 77, 78, 79, 80, 81, 82, 83, 84, 85, 86, 87, 88, 89, 90, 91, 92, 93, 94, 95, 96, 97, 98, 99, 100], \"y\": [28940.0, 32680.636363636364, 12686.0, 7083.818181818182, 4900.818181818182, 4125.7, 9199.818181818182, 11308.0, 7967.9, 9060.4, 9298.5, 3572.909090909091, 8457.363636363636, 1865.8, 2744.7, 6997.5, 4109.636363636364, 3708.909090909091, 5805.555555555556, 11602.4, 3177.0, 6319.2, 9515.4, 4095.3, 1566.9, 3884.5, 5302.181818181818, 6836.363636363636, 9448.4, 3200.4, 2804.6, 4998.909090909091, 7765.636363636364, 1831.0, 17947.454545454544, 4396.727272727273, 2762.3, 7922.545454545455, 8018.181818181818, 4506.909090909091, 2973.4545454545455, 1803.3636363636363, 4770.181818181818, 3042.6363636363635, 3165.818181818182, 1172.0, 2301.7272727272725, 4803.6, 6483.727272727273, 5051.272727272727, 1691.8, 935.1818181818181, 3592.909090909091, 1143.3, 1691.8181818181818, 1260.7272727272727, 15288.8, 2391.3636363636365, 2119.8, 2872.909090909091, 3330.0, 1317.1, 2548.5454545454545, 3617.1, 3746.909090909091, 4189.0, 1388.4545454545455, 10952.363636363636, 487.7, 4361.909090909091, 1554.909090909091, 4439.9, 3044.4, 4287.181818181818, 1868.1818181818182, 1671.6363636363637, 603.0, 5481.7, 1295.8, 966.4545454545455, 495.0, 920.3636363636364, 2278.7, 956.2, 1207.0, 2450.6, 5101.4, 4472.8, 1711.7272727272727, 8316.181818181818, 4145.0, 3135.090909090909, 2903.8, 3339.7, 4976.272727272727, 3384.909090909091, 787.9090909090909, 7285.272727272727, 345.1, 1759.0]}, {\"marker\": {\"color\": \"rgba(50, 171, 96, 0.6)\", \"line\": {\"color\": \"rgba(50, 171, 96, 1.0)\", \"width\": 1}}, \"name\": \"price.value\", \"orientation\": \"v\", \"text\": \"\", \"type\": \"bar\", \"x\": [1, 2, 3, 4, 5, 6, 7, 8, 9, 10, 11, 12, 13, 14, 15, 16, 17, 18, 19, 20, 21, 22, 23, 24, 25, 26, 27, 28, 29, 30, 31, 32, 33, 34, 35, 36, 37, 38, 39, 40, 41, 42, 43, 44, 45, 46, 47, 48, 49, 50, 51, 52, 53, 54, 55, 56, 57, 58, 59, 60, 61, 62, 63, 64, 65, 66, 67, 68, 69, 70, 71, 72, 73, 74, 75, 76, 77, 78, 79, 80, 81, 82, 83, 84, 85, 86, 87, 88, 89, 90, 91, 92, 93, 94, 95, 96, 97, 98, 99, 100], \"y\": [227.0181818181818, 231.07363636363635, 149.71272727272728, 255.05909090909088, 176.20909090909092, 367.8172727272727, 189.792, 206.08, 303.5063636363635, 223.08272727272717, 197.63545454545454, 312.2681818181818, 280.6227272727272, 207.35545454545453, 263.8536363636363, 257.63181818181806, 212.5972727272727, 158.86727272727273, 248.03272727272716, 208.85363636363635, 161.4418181818182, 162.6563636363636, 353.23090909090905, 284.4479999999999, 358.7254545454545, 217.88636363636363, 268.918, 117.57500000000002, 552.7672727272726, 213.56454545454542, 499.11818181818177, 211.78999999999996, 199.70999999999995, 202.41909090909095, 258.3827272727272, 195.79000000000002, 307.36999999999995, 175.272, 229.05818181818177, 177.88454545454547, 205.3563636363636, 184.41727272727275, 218.7136363636363, 310.65636363636366, 308.5789999999999, 222.7990909090909, 324.5545454545454, 474.6045454545454, 347.3445454545453, 367.69545454545454, 167.91545454545454, 309.5854545454545, 291.78181818181815, 281.7645454545454, 224.1654545454545, 206.01, 452.40636363636355, 267.5418181818182, 503.7363636363636, 228.15181818181816, 230.90909090909088, 262.94545454545454, 303.7245454545454, 340.0899999999999, 289.03727272727264, 198.27545454545452, 423.61999999999995, 230.40090909090898, 321.95, 450.9019999999999, 227.4772727272727, 329.1390909090908, 413.93363636363625, 108.60181818181819, 327.49818181818176, 320.05909090909086, 221.20454545454547, 345.0036363636363, 265.66499999999996, 365.17454545454535, 249.298, 232.5981818181818, 335.89727272727265, 261.94272727272727, 400.9263636363636, 173.73363636363638, 158.4327272727273, 167.66454545454545, 407.1254545454545, 214.71, 365.3945454545454, 252.1009090909091, 224.24090909090907, 270.05545454545444, 401.4990909090908, 464.51363636363624, 266.9781818181818, 229.45090909090902, 266.9881818181818, 335.26181818181806]}],\n",
       "                        {\"legend\": {\"bgcolor\": \"#F5F6F9\", \"font\": {\"color\": \"#4D5663\"}}, \"paper_bgcolor\": \"#F5F6F9\", \"plot_bgcolor\": \"#F5F6F9\", \"template\": {\"data\": {\"bar\": [{\"error_x\": {\"color\": \"#2a3f5f\"}, \"error_y\": {\"color\": \"#2a3f5f\"}, \"marker\": {\"line\": {\"color\": \"#E5ECF6\", \"width\": 0.5}}, \"type\": \"bar\"}], \"barpolar\": [{\"marker\": {\"line\": {\"color\": \"#E5ECF6\", \"width\": 0.5}}, \"type\": \"barpolar\"}], \"carpet\": [{\"aaxis\": {\"endlinecolor\": \"#2a3f5f\", \"gridcolor\": \"white\", \"linecolor\": \"white\", \"minorgridcolor\": \"white\", \"startlinecolor\": \"#2a3f5f\"}, \"baxis\": {\"endlinecolor\": \"#2a3f5f\", \"gridcolor\": \"white\", \"linecolor\": \"white\", \"minorgridcolor\": \"white\", \"startlinecolor\": \"#2a3f5f\"}, \"type\": \"carpet\"}], \"choropleth\": [{\"colorbar\": {\"outlinewidth\": 0, \"ticks\": \"\"}, \"type\": \"choropleth\"}], \"contour\": [{\"colorbar\": {\"outlinewidth\": 0, \"ticks\": \"\"}, \"colorscale\": [[0.0, \"#0d0887\"], [0.1111111111111111, \"#46039f\"], [0.2222222222222222, \"#7201a8\"], [0.3333333333333333, \"#9c179e\"], [0.4444444444444444, \"#bd3786\"], [0.5555555555555556, \"#d8576b\"], [0.6666666666666666, \"#ed7953\"], [0.7777777777777778, \"#fb9f3a\"], [0.8888888888888888, \"#fdca26\"], [1.0, \"#f0f921\"]], \"type\": \"contour\"}], \"contourcarpet\": [{\"colorbar\": {\"outlinewidth\": 0, \"ticks\": \"\"}, \"type\": \"contourcarpet\"}], \"heatmap\": [{\"colorbar\": {\"outlinewidth\": 0, \"ticks\": \"\"}, \"colorscale\": [[0.0, \"#0d0887\"], [0.1111111111111111, \"#46039f\"], [0.2222222222222222, \"#7201a8\"], [0.3333333333333333, \"#9c179e\"], [0.4444444444444444, \"#bd3786\"], [0.5555555555555556, \"#d8576b\"], [0.6666666666666666, \"#ed7953\"], [0.7777777777777778, \"#fb9f3a\"], [0.8888888888888888, \"#fdca26\"], [1.0, \"#f0f921\"]], \"type\": \"heatmap\"}], \"heatmapgl\": [{\"colorbar\": {\"outlinewidth\": 0, \"ticks\": \"\"}, \"colorscale\": [[0.0, \"#0d0887\"], [0.1111111111111111, \"#46039f\"], [0.2222222222222222, \"#7201a8\"], [0.3333333333333333, \"#9c179e\"], [0.4444444444444444, \"#bd3786\"], [0.5555555555555556, \"#d8576b\"], [0.6666666666666666, \"#ed7953\"], [0.7777777777777778, \"#fb9f3a\"], [0.8888888888888888, \"#fdca26\"], [1.0, \"#f0f921\"]], \"type\": \"heatmapgl\"}], \"histogram\": [{\"marker\": {\"colorbar\": {\"outlinewidth\": 0, \"ticks\": \"\"}}, \"type\": \"histogram\"}], \"histogram2d\": [{\"colorbar\": {\"outlinewidth\": 0, \"ticks\": \"\"}, \"colorscale\": [[0.0, \"#0d0887\"], [0.1111111111111111, \"#46039f\"], [0.2222222222222222, \"#7201a8\"], [0.3333333333333333, \"#9c179e\"], [0.4444444444444444, \"#bd3786\"], [0.5555555555555556, \"#d8576b\"], [0.6666666666666666, \"#ed7953\"], [0.7777777777777778, \"#fb9f3a\"], [0.8888888888888888, \"#fdca26\"], [1.0, \"#f0f921\"]], \"type\": \"histogram2d\"}], \"histogram2dcontour\": [{\"colorbar\": {\"outlinewidth\": 0, \"ticks\": \"\"}, \"colorscale\": [[0.0, \"#0d0887\"], [0.1111111111111111, \"#46039f\"], [0.2222222222222222, \"#7201a8\"], [0.3333333333333333, \"#9c179e\"], [0.4444444444444444, \"#bd3786\"], [0.5555555555555556, \"#d8576b\"], [0.6666666666666666, \"#ed7953\"], [0.7777777777777778, \"#fb9f3a\"], [0.8888888888888888, \"#fdca26\"], [1.0, \"#f0f921\"]], \"type\": \"histogram2dcontour\"}], \"mesh3d\": [{\"colorbar\": {\"outlinewidth\": 0, \"ticks\": \"\"}, \"type\": \"mesh3d\"}], \"parcoords\": [{\"line\": {\"colorbar\": {\"outlinewidth\": 0, \"ticks\": \"\"}}, \"type\": \"parcoords\"}], \"pie\": [{\"automargin\": true, \"type\": \"pie\"}], \"scatter\": [{\"marker\": {\"colorbar\": {\"outlinewidth\": 0, \"ticks\": \"\"}}, \"type\": \"scatter\"}], \"scatter3d\": [{\"line\": {\"colorbar\": {\"outlinewidth\": 0, \"ticks\": \"\"}}, \"marker\": {\"colorbar\": {\"outlinewidth\": 0, \"ticks\": \"\"}}, \"type\": \"scatter3d\"}], \"scattercarpet\": [{\"marker\": {\"colorbar\": {\"outlinewidth\": 0, \"ticks\": \"\"}}, \"type\": \"scattercarpet\"}], \"scattergeo\": [{\"marker\": {\"colorbar\": {\"outlinewidth\": 0, \"ticks\": \"\"}}, \"type\": \"scattergeo\"}], \"scattergl\": [{\"marker\": {\"colorbar\": {\"outlinewidth\": 0, \"ticks\": \"\"}}, \"type\": \"scattergl\"}], \"scattermapbox\": [{\"marker\": {\"colorbar\": {\"outlinewidth\": 0, \"ticks\": \"\"}}, \"type\": \"scattermapbox\"}], \"scatterpolar\": [{\"marker\": {\"colorbar\": {\"outlinewidth\": 0, \"ticks\": \"\"}}, \"type\": \"scatterpolar\"}], \"scatterpolargl\": [{\"marker\": {\"colorbar\": {\"outlinewidth\": 0, \"ticks\": \"\"}}, \"type\": \"scatterpolargl\"}], \"scatterternary\": [{\"marker\": {\"colorbar\": {\"outlinewidth\": 0, \"ticks\": \"\"}}, \"type\": \"scatterternary\"}], \"surface\": [{\"colorbar\": {\"outlinewidth\": 0, \"ticks\": \"\"}, \"colorscale\": [[0.0, \"#0d0887\"], [0.1111111111111111, \"#46039f\"], [0.2222222222222222, \"#7201a8\"], [0.3333333333333333, \"#9c179e\"], [0.4444444444444444, \"#bd3786\"], [0.5555555555555556, \"#d8576b\"], [0.6666666666666666, \"#ed7953\"], [0.7777777777777778, \"#fb9f3a\"], [0.8888888888888888, \"#fdca26\"], [1.0, \"#f0f921\"]], \"type\": \"surface\"}], \"table\": [{\"cells\": {\"fill\": {\"color\": \"#EBF0F8\"}, \"line\": {\"color\": \"white\"}}, \"header\": {\"fill\": {\"color\": \"#C8D4E3\"}, \"line\": {\"color\": \"white\"}}, \"type\": \"table\"}]}, \"layout\": {\"annotationdefaults\": {\"arrowcolor\": \"#2a3f5f\", \"arrowhead\": 0, \"arrowwidth\": 1}, \"coloraxis\": {\"colorbar\": {\"outlinewidth\": 0, \"ticks\": \"\"}}, \"colorscale\": {\"diverging\": [[0, \"#8e0152\"], [0.1, \"#c51b7d\"], [0.2, \"#de77ae\"], [0.3, \"#f1b6da\"], [0.4, \"#fde0ef\"], [0.5, \"#f7f7f7\"], [0.6, \"#e6f5d0\"], [0.7, \"#b8e186\"], [0.8, \"#7fbc41\"], [0.9, \"#4d9221\"], [1, \"#276419\"]], \"sequential\": [[0.0, \"#0d0887\"], [0.1111111111111111, \"#46039f\"], [0.2222222222222222, \"#7201a8\"], [0.3333333333333333, \"#9c179e\"], [0.4444444444444444, \"#bd3786\"], [0.5555555555555556, \"#d8576b\"], [0.6666666666666666, \"#ed7953\"], [0.7777777777777778, \"#fb9f3a\"], [0.8888888888888888, \"#fdca26\"], [1.0, \"#f0f921\"]], \"sequentialminus\": [[0.0, \"#0d0887\"], [0.1111111111111111, \"#46039f\"], [0.2222222222222222, \"#7201a8\"], [0.3333333333333333, \"#9c179e\"], [0.4444444444444444, \"#bd3786\"], [0.5555555555555556, \"#d8576b\"], [0.6666666666666666, \"#ed7953\"], [0.7777777777777778, \"#fb9f3a\"], [0.8888888888888888, \"#fdca26\"], [1.0, \"#f0f921\"]]}, \"colorway\": [\"#636efa\", \"#EF553B\", \"#00cc96\", \"#ab63fa\", \"#FFA15A\", \"#19d3f3\", \"#FF6692\", \"#B6E880\", \"#FF97FF\", \"#FECB52\"], \"font\": {\"color\": \"#2a3f5f\"}, \"geo\": {\"bgcolor\": \"white\", \"lakecolor\": \"white\", \"landcolor\": \"#E5ECF6\", \"showlakes\": true, \"showland\": true, \"subunitcolor\": \"white\"}, \"hoverlabel\": {\"align\": \"left\"}, \"hovermode\": \"closest\", \"mapbox\": {\"style\": \"light\"}, \"paper_bgcolor\": \"white\", \"plot_bgcolor\": \"#E5ECF6\", \"polar\": {\"angularaxis\": {\"gridcolor\": \"white\", \"linecolor\": \"white\", \"ticks\": \"\"}, \"bgcolor\": \"#E5ECF6\", \"radialaxis\": {\"gridcolor\": \"white\", \"linecolor\": \"white\", \"ticks\": \"\"}}, \"scene\": {\"xaxis\": {\"backgroundcolor\": \"#E5ECF6\", \"gridcolor\": \"white\", \"gridwidth\": 2, \"linecolor\": \"white\", \"showbackground\": true, \"ticks\": \"\", \"zerolinecolor\": \"white\"}, \"yaxis\": {\"backgroundcolor\": \"#E5ECF6\", \"gridcolor\": \"white\", \"gridwidth\": 2, \"linecolor\": \"white\", \"showbackground\": true, \"ticks\": \"\", \"zerolinecolor\": \"white\"}, \"zaxis\": {\"backgroundcolor\": \"#E5ECF6\", \"gridcolor\": \"white\", \"gridwidth\": 2, \"linecolor\": \"white\", \"showbackground\": true, \"ticks\": \"\", \"zerolinecolor\": \"white\"}}, \"shapedefaults\": {\"line\": {\"color\": \"#2a3f5f\"}}, \"ternary\": {\"aaxis\": {\"gridcolor\": \"white\", \"linecolor\": \"white\", \"ticks\": \"\"}, \"baxis\": {\"gridcolor\": \"white\", \"linecolor\": \"white\", \"ticks\": \"\"}, \"bgcolor\": \"#E5ECF6\", \"caxis\": {\"gridcolor\": \"white\", \"linecolor\": \"white\", \"ticks\": \"\"}}, \"title\": {\"x\": 0.05}, \"xaxis\": {\"automargin\": true, \"gridcolor\": \"white\", \"linecolor\": \"white\", \"ticks\": \"\", \"title\": {\"standoff\": 15}, \"zerolinecolor\": \"white\", \"zerolinewidth\": 2}, \"yaxis\": {\"automargin\": true, \"gridcolor\": \"white\", \"linecolor\": \"white\", \"ticks\": \"\", \"title\": {\"standoff\": 15}, \"zerolinecolor\": \"white\", \"zerolinewidth\": 2}}}, \"title\": {\"font\": {\"color\": \"#4D5663\"}}, \"xaxis\": {\"gridcolor\": \"#E1E5ED\", \"showgrid\": true, \"tickfont\": {\"color\": \"#4D5663\"}, \"title\": {\"font\": {\"color\": \"#4D5663\"}, \"text\": \"\"}, \"zerolinecolor\": \"#E1E5ED\"}, \"yaxis\": {\"gridcolor\": \"#E1E5ED\", \"showgrid\": true, \"tickfont\": {\"color\": \"#4D5663\"}, \"title\": {\"font\": {\"color\": \"#4D5663\"}, \"text\": \"\"}, \"zerolinecolor\": \"#E1E5ED\"}},\n",
       "                        {\"showLink\": true, \"linkText\": \"Export to plot.ly\", \"plotlyServerURL\": \"https://plot.ly\", \"responsive\": true}\n",
       "                    ).then(function(){\n",
       "                            \n",
       "var gd = document.getElementById('0ac21dee-1ebe-4566-a993-64d327184937');\n",
       "var x = new MutationObserver(function (mutations, observer) {{\n",
       "        var display = window.getComputedStyle(gd).display;\n",
       "        if (!display || display === 'none') {{\n",
       "            console.log([gd, 'removed!']);\n",
       "            Plotly.purge(gd);\n",
       "            observer.disconnect();\n",
       "        }}\n",
       "}});\n",
       "\n",
       "// Listen for the removal of the full notebook cells\n",
       "var notebookContainer = gd.closest('#notebook-container');\n",
       "if (notebookContainer) {{\n",
       "    x.observe(notebookContainer, {childList: true});\n",
       "}}\n",
       "\n",
       "// Listen for the clearing of the current output cell\n",
       "var outputEl = gd.closest('.output');\n",
       "if (outputEl) {{\n",
       "    x.observe(outputEl, {childList: true});\n",
       "}}\n",
       "\n",
       "                        })\n",
       "                };\n",
       "                });\n",
       "            </script>\n",
       "        </div>"
      ]
     },
     "metadata": {},
     "output_type": "display_data"
    }
   ],
   "source": [
    "amazon_bs.groupby('rank').agg('mean').iplot(kind=\"bar\")"
   ]
  },
  {
   "cell_type": "markdown",
   "metadata": {},
   "source": [
    "We can see that when the rank high, the number of people who rated the product are also high. "
   ]
  },
  {
   "cell_type": "code",
   "execution_count": 94,
   "metadata": {},
   "outputs": [
    {
     "data": {
      "application/vnd.plotly.v1+json": {
       "config": {
        "linkText": "Export to plot.ly",
        "plotlyServerURL": "https://plot.ly",
        "showLink": true
       },
       "data": [
        {
         "marker": {
          "color": "rgba(255, 153, 51, 0.6)",
          "line": {
           "color": "rgba(255, 153, 51, 1.0)",
           "width": 1
          }
         },
         "name": "rating",
         "orientation": "v",
         "text": "",
         "type": "bar",
         "x": [
          1,
          2,
          3,
          4,
          5,
          6,
          7,
          8,
          9,
          10,
          11,
          12,
          13,
          14,
          15,
          16,
          17,
          18,
          19,
          20,
          21,
          22,
          23,
          24,
          25,
          26,
          27,
          28,
          29,
          30,
          31,
          32,
          33,
          34,
          35,
          36,
          37,
          38,
          39,
          40,
          41,
          42,
          43,
          44,
          45,
          46,
          47,
          48,
          49,
          50,
          51,
          52,
          53,
          54,
          55,
          56,
          57,
          58,
          59,
          60,
          61,
          62,
          63,
          64,
          65,
          66,
          67,
          68,
          69,
          70,
          71,
          72,
          73,
          74,
          75,
          76,
          77,
          78,
          79,
          80,
          81,
          82,
          83,
          84,
          85,
          86,
          87,
          88,
          89,
          90,
          91,
          92,
          93,
          94,
          95,
          96,
          97,
          98,
          99,
          100
         ],
         "y": [
          4.418181818181819,
          4.390909090909091,
          4.300000000000001,
          4.445454545454544,
          4.3181818181818175,
          4.250000000000001,
          4.4818181818181815,
          4.4363636363636365,
          4.380000000000001,
          4.359999999999999,
          4.34,
          4.581818181818182,
          4.381818181818182,
          4.279999999999999,
          4.3999999999999995,
          4.4399999999999995,
          4.327272727272727,
          4.3090909090909095,
          4.222222222222222,
          4.37,
          4.27,
          4.36,
          4.27,
          4.209999999999999,
          4.430000000000001,
          4.339999999999999,
          4.345454545454545,
          4.418181818181818,
          4.39,
          4.38,
          4.299999999999999,
          4.363636363636363,
          4.181818181818182,
          4.218181818181818,
          4.3181818181818175,
          4.454545454545455,
          4.35,
          4.254545454545454,
          4.263636363636365,
          4.272727272727273,
          4.463636363636364,
          4.254545454545455,
          4.263636363636364,
          4.1,
          4.445454545454545,
          4.372727272727273,
          4.263636363636365,
          4.359999999999999,
          4.254545454545455,
          4.3090909090909095,
          4.24,
          4.381818181818182,
          4.209090909090909,
          4.34,
          4.181818181818182,
          4.427272727272728,
          4.4,
          4.045454545454546,
          4.380000000000001,
          4.209090909090909,
          4.260000000000001,
          4.25,
          4.472727272727273,
          4.34,
          4.345454545454545,
          4.35,
          4.327272727272727,
          4.136363636363637,
          4.2700000000000005,
          4.081818181818181,
          4.4363636363636365,
          4.22,
          4.24,
          4.354545454545455,
          4.4363636363636365,
          4.172727272727273,
          4.281818181818182,
          4.27,
          4.290000000000001,
          4.027272727272727,
          4.24,
          4.172727272727273,
          4.37,
          4.39,
          4.2272727272727275,
          4.24,
          4.180000000000001,
          4.380000000000001,
          4.345454545454545,
          4.236363636363635,
          4.340000000000001,
          4.345454545454546,
          4.26,
          4.2700000000000005,
          4.20909090909091,
          4.327272727272727,
          4.245454545454546,
          4.245454545454546,
          4.289999999999999,
          4.360000000000001
         ]
        }
       ],
       "layout": {
        "legend": {
         "bgcolor": "#F5F6F9",
         "font": {
          "color": "#4D5663"
         }
        },
        "paper_bgcolor": "#F5F6F9",
        "plot_bgcolor": "#F5F6F9",
        "template": {
         "data": {
          "bar": [
           {
            "error_x": {
             "color": "#2a3f5f"
            },
            "error_y": {
             "color": "#2a3f5f"
            },
            "marker": {
             "line": {
              "color": "#E5ECF6",
              "width": 0.5
             }
            },
            "type": "bar"
           }
          ],
          "barpolar": [
           {
            "marker": {
             "line": {
              "color": "#E5ECF6",
              "width": 0.5
             }
            },
            "type": "barpolar"
           }
          ],
          "carpet": [
           {
            "aaxis": {
             "endlinecolor": "#2a3f5f",
             "gridcolor": "white",
             "linecolor": "white",
             "minorgridcolor": "white",
             "startlinecolor": "#2a3f5f"
            },
            "baxis": {
             "endlinecolor": "#2a3f5f",
             "gridcolor": "white",
             "linecolor": "white",
             "minorgridcolor": "white",
             "startlinecolor": "#2a3f5f"
            },
            "type": "carpet"
           }
          ],
          "choropleth": [
           {
            "colorbar": {
             "outlinewidth": 0,
             "ticks": ""
            },
            "type": "choropleth"
           }
          ],
          "contour": [
           {
            "colorbar": {
             "outlinewidth": 0,
             "ticks": ""
            },
            "colorscale": [
             [
              0,
              "#0d0887"
             ],
             [
              0.1111111111111111,
              "#46039f"
             ],
             [
              0.2222222222222222,
              "#7201a8"
             ],
             [
              0.3333333333333333,
              "#9c179e"
             ],
             [
              0.4444444444444444,
              "#bd3786"
             ],
             [
              0.5555555555555556,
              "#d8576b"
             ],
             [
              0.6666666666666666,
              "#ed7953"
             ],
             [
              0.7777777777777778,
              "#fb9f3a"
             ],
             [
              0.8888888888888888,
              "#fdca26"
             ],
             [
              1,
              "#f0f921"
             ]
            ],
            "type": "contour"
           }
          ],
          "contourcarpet": [
           {
            "colorbar": {
             "outlinewidth": 0,
             "ticks": ""
            },
            "type": "contourcarpet"
           }
          ],
          "heatmap": [
           {
            "colorbar": {
             "outlinewidth": 0,
             "ticks": ""
            },
            "colorscale": [
             [
              0,
              "#0d0887"
             ],
             [
              0.1111111111111111,
              "#46039f"
             ],
             [
              0.2222222222222222,
              "#7201a8"
             ],
             [
              0.3333333333333333,
              "#9c179e"
             ],
             [
              0.4444444444444444,
              "#bd3786"
             ],
             [
              0.5555555555555556,
              "#d8576b"
             ],
             [
              0.6666666666666666,
              "#ed7953"
             ],
             [
              0.7777777777777778,
              "#fb9f3a"
             ],
             [
              0.8888888888888888,
              "#fdca26"
             ],
             [
              1,
              "#f0f921"
             ]
            ],
            "type": "heatmap"
           }
          ],
          "heatmapgl": [
           {
            "colorbar": {
             "outlinewidth": 0,
             "ticks": ""
            },
            "colorscale": [
             [
              0,
              "#0d0887"
             ],
             [
              0.1111111111111111,
              "#46039f"
             ],
             [
              0.2222222222222222,
              "#7201a8"
             ],
             [
              0.3333333333333333,
              "#9c179e"
             ],
             [
              0.4444444444444444,
              "#bd3786"
             ],
             [
              0.5555555555555556,
              "#d8576b"
             ],
             [
              0.6666666666666666,
              "#ed7953"
             ],
             [
              0.7777777777777778,
              "#fb9f3a"
             ],
             [
              0.8888888888888888,
              "#fdca26"
             ],
             [
              1,
              "#f0f921"
             ]
            ],
            "type": "heatmapgl"
           }
          ],
          "histogram": [
           {
            "marker": {
             "colorbar": {
              "outlinewidth": 0,
              "ticks": ""
             }
            },
            "type": "histogram"
           }
          ],
          "histogram2d": [
           {
            "colorbar": {
             "outlinewidth": 0,
             "ticks": ""
            },
            "colorscale": [
             [
              0,
              "#0d0887"
             ],
             [
              0.1111111111111111,
              "#46039f"
             ],
             [
              0.2222222222222222,
              "#7201a8"
             ],
             [
              0.3333333333333333,
              "#9c179e"
             ],
             [
              0.4444444444444444,
              "#bd3786"
             ],
             [
              0.5555555555555556,
              "#d8576b"
             ],
             [
              0.6666666666666666,
              "#ed7953"
             ],
             [
              0.7777777777777778,
              "#fb9f3a"
             ],
             [
              0.8888888888888888,
              "#fdca26"
             ],
             [
              1,
              "#f0f921"
             ]
            ],
            "type": "histogram2d"
           }
          ],
          "histogram2dcontour": [
           {
            "colorbar": {
             "outlinewidth": 0,
             "ticks": ""
            },
            "colorscale": [
             [
              0,
              "#0d0887"
             ],
             [
              0.1111111111111111,
              "#46039f"
             ],
             [
              0.2222222222222222,
              "#7201a8"
             ],
             [
              0.3333333333333333,
              "#9c179e"
             ],
             [
              0.4444444444444444,
              "#bd3786"
             ],
             [
              0.5555555555555556,
              "#d8576b"
             ],
             [
              0.6666666666666666,
              "#ed7953"
             ],
             [
              0.7777777777777778,
              "#fb9f3a"
             ],
             [
              0.8888888888888888,
              "#fdca26"
             ],
             [
              1,
              "#f0f921"
             ]
            ],
            "type": "histogram2dcontour"
           }
          ],
          "mesh3d": [
           {
            "colorbar": {
             "outlinewidth": 0,
             "ticks": ""
            },
            "type": "mesh3d"
           }
          ],
          "parcoords": [
           {
            "line": {
             "colorbar": {
              "outlinewidth": 0,
              "ticks": ""
             }
            },
            "type": "parcoords"
           }
          ],
          "pie": [
           {
            "automargin": true,
            "type": "pie"
           }
          ],
          "scatter": [
           {
            "marker": {
             "colorbar": {
              "outlinewidth": 0,
              "ticks": ""
             }
            },
            "type": "scatter"
           }
          ],
          "scatter3d": [
           {
            "line": {
             "colorbar": {
              "outlinewidth": 0,
              "ticks": ""
             }
            },
            "marker": {
             "colorbar": {
              "outlinewidth": 0,
              "ticks": ""
             }
            },
            "type": "scatter3d"
           }
          ],
          "scattercarpet": [
           {
            "marker": {
             "colorbar": {
              "outlinewidth": 0,
              "ticks": ""
             }
            },
            "type": "scattercarpet"
           }
          ],
          "scattergeo": [
           {
            "marker": {
             "colorbar": {
              "outlinewidth": 0,
              "ticks": ""
             }
            },
            "type": "scattergeo"
           }
          ],
          "scattergl": [
           {
            "marker": {
             "colorbar": {
              "outlinewidth": 0,
              "ticks": ""
             }
            },
            "type": "scattergl"
           }
          ],
          "scattermapbox": [
           {
            "marker": {
             "colorbar": {
              "outlinewidth": 0,
              "ticks": ""
             }
            },
            "type": "scattermapbox"
           }
          ],
          "scatterpolar": [
           {
            "marker": {
             "colorbar": {
              "outlinewidth": 0,
              "ticks": ""
             }
            },
            "type": "scatterpolar"
           }
          ],
          "scatterpolargl": [
           {
            "marker": {
             "colorbar": {
              "outlinewidth": 0,
              "ticks": ""
             }
            },
            "type": "scatterpolargl"
           }
          ],
          "scatterternary": [
           {
            "marker": {
             "colorbar": {
              "outlinewidth": 0,
              "ticks": ""
             }
            },
            "type": "scatterternary"
           }
          ],
          "surface": [
           {
            "colorbar": {
             "outlinewidth": 0,
             "ticks": ""
            },
            "colorscale": [
             [
              0,
              "#0d0887"
             ],
             [
              0.1111111111111111,
              "#46039f"
             ],
             [
              0.2222222222222222,
              "#7201a8"
             ],
             [
              0.3333333333333333,
              "#9c179e"
             ],
             [
              0.4444444444444444,
              "#bd3786"
             ],
             [
              0.5555555555555556,
              "#d8576b"
             ],
             [
              0.6666666666666666,
              "#ed7953"
             ],
             [
              0.7777777777777778,
              "#fb9f3a"
             ],
             [
              0.8888888888888888,
              "#fdca26"
             ],
             [
              1,
              "#f0f921"
             ]
            ],
            "type": "surface"
           }
          ],
          "table": [
           {
            "cells": {
             "fill": {
              "color": "#EBF0F8"
             },
             "line": {
              "color": "white"
             }
            },
            "header": {
             "fill": {
              "color": "#C8D4E3"
             },
             "line": {
              "color": "white"
             }
            },
            "type": "table"
           }
          ]
         },
         "layout": {
          "annotationdefaults": {
           "arrowcolor": "#2a3f5f",
           "arrowhead": 0,
           "arrowwidth": 1
          },
          "coloraxis": {
           "colorbar": {
            "outlinewidth": 0,
            "ticks": ""
           }
          },
          "colorscale": {
           "diverging": [
            [
             0,
             "#8e0152"
            ],
            [
             0.1,
             "#c51b7d"
            ],
            [
             0.2,
             "#de77ae"
            ],
            [
             0.3,
             "#f1b6da"
            ],
            [
             0.4,
             "#fde0ef"
            ],
            [
             0.5,
             "#f7f7f7"
            ],
            [
             0.6,
             "#e6f5d0"
            ],
            [
             0.7,
             "#b8e186"
            ],
            [
             0.8,
             "#7fbc41"
            ],
            [
             0.9,
             "#4d9221"
            ],
            [
             1,
             "#276419"
            ]
           ],
           "sequential": [
            [
             0,
             "#0d0887"
            ],
            [
             0.1111111111111111,
             "#46039f"
            ],
            [
             0.2222222222222222,
             "#7201a8"
            ],
            [
             0.3333333333333333,
             "#9c179e"
            ],
            [
             0.4444444444444444,
             "#bd3786"
            ],
            [
             0.5555555555555556,
             "#d8576b"
            ],
            [
             0.6666666666666666,
             "#ed7953"
            ],
            [
             0.7777777777777778,
             "#fb9f3a"
            ],
            [
             0.8888888888888888,
             "#fdca26"
            ],
            [
             1,
             "#f0f921"
            ]
           ],
           "sequentialminus": [
            [
             0,
             "#0d0887"
            ],
            [
             0.1111111111111111,
             "#46039f"
            ],
            [
             0.2222222222222222,
             "#7201a8"
            ],
            [
             0.3333333333333333,
             "#9c179e"
            ],
            [
             0.4444444444444444,
             "#bd3786"
            ],
            [
             0.5555555555555556,
             "#d8576b"
            ],
            [
             0.6666666666666666,
             "#ed7953"
            ],
            [
             0.7777777777777778,
             "#fb9f3a"
            ],
            [
             0.8888888888888888,
             "#fdca26"
            ],
            [
             1,
             "#f0f921"
            ]
           ]
          },
          "colorway": [
           "#636efa",
           "#EF553B",
           "#00cc96",
           "#ab63fa",
           "#FFA15A",
           "#19d3f3",
           "#FF6692",
           "#B6E880",
           "#FF97FF",
           "#FECB52"
          ],
          "font": {
           "color": "#2a3f5f"
          },
          "geo": {
           "bgcolor": "white",
           "lakecolor": "white",
           "landcolor": "#E5ECF6",
           "showlakes": true,
           "showland": true,
           "subunitcolor": "white"
          },
          "hoverlabel": {
           "align": "left"
          },
          "hovermode": "closest",
          "mapbox": {
           "style": "light"
          },
          "paper_bgcolor": "white",
          "plot_bgcolor": "#E5ECF6",
          "polar": {
           "angularaxis": {
            "gridcolor": "white",
            "linecolor": "white",
            "ticks": ""
           },
           "bgcolor": "#E5ECF6",
           "radialaxis": {
            "gridcolor": "white",
            "linecolor": "white",
            "ticks": ""
           }
          },
          "scene": {
           "xaxis": {
            "backgroundcolor": "#E5ECF6",
            "gridcolor": "white",
            "gridwidth": 2,
            "linecolor": "white",
            "showbackground": true,
            "ticks": "",
            "zerolinecolor": "white"
           },
           "yaxis": {
            "backgroundcolor": "#E5ECF6",
            "gridcolor": "white",
            "gridwidth": 2,
            "linecolor": "white",
            "showbackground": true,
            "ticks": "",
            "zerolinecolor": "white"
           },
           "zaxis": {
            "backgroundcolor": "#E5ECF6",
            "gridcolor": "white",
            "gridwidth": 2,
            "linecolor": "white",
            "showbackground": true,
            "ticks": "",
            "zerolinecolor": "white"
           }
          },
          "shapedefaults": {
           "line": {
            "color": "#2a3f5f"
           }
          },
          "ternary": {
           "aaxis": {
            "gridcolor": "white",
            "linecolor": "white",
            "ticks": ""
           },
           "baxis": {
            "gridcolor": "white",
            "linecolor": "white",
            "ticks": ""
           },
           "bgcolor": "#E5ECF6",
           "caxis": {
            "gridcolor": "white",
            "linecolor": "white",
            "ticks": ""
           }
          },
          "title": {
           "x": 0.05
          },
          "xaxis": {
           "automargin": true,
           "gridcolor": "white",
           "linecolor": "white",
           "ticks": "",
           "title": {
            "standoff": 15
           },
           "zerolinecolor": "white",
           "zerolinewidth": 2
          },
          "yaxis": {
           "automargin": true,
           "gridcolor": "white",
           "linecolor": "white",
           "ticks": "",
           "title": {
            "standoff": 15
           },
           "zerolinecolor": "white",
           "zerolinewidth": 2
          }
         }
        },
        "title": {
         "font": {
          "color": "#4D5663"
         }
        },
        "xaxis": {
         "gridcolor": "#E1E5ED",
         "showgrid": true,
         "tickfont": {
          "color": "#4D5663"
         },
         "title": {
          "font": {
           "color": "#4D5663"
          },
          "text": ""
         },
         "zerolinecolor": "#E1E5ED"
        },
        "yaxis": {
         "gridcolor": "#E1E5ED",
         "showgrid": true,
         "tickfont": {
          "color": "#4D5663"
         },
         "title": {
          "font": {
           "color": "#4D5663"
          },
          "text": ""
         },
         "zerolinecolor": "#E1E5ED"
        }
       }
      },
      "text/html": [
       "<div>\n",
       "        \n",
       "        \n",
       "            <div id=\"7eb11558-672c-475d-9f41-08aea71191a5\" class=\"plotly-graph-div\" style=\"height:525px; width:100%;\"></div>\n",
       "            <script type=\"text/javascript\">\n",
       "                require([\"plotly\"], function(Plotly) {\n",
       "                    window.PLOTLYENV=window.PLOTLYENV || {};\n",
       "                    window.PLOTLYENV.BASE_URL='https://plot.ly';\n",
       "                    \n",
       "                if (document.getElementById(\"7eb11558-672c-475d-9f41-08aea71191a5\")) {\n",
       "                    Plotly.newPlot(\n",
       "                        '7eb11558-672c-475d-9f41-08aea71191a5',\n",
       "                        [{\"marker\": {\"color\": \"rgba(255, 153, 51, 0.6)\", \"line\": {\"color\": \"rgba(255, 153, 51, 1.0)\", \"width\": 1}}, \"name\": \"rating\", \"orientation\": \"v\", \"text\": \"\", \"type\": \"bar\", \"x\": [1, 2, 3, 4, 5, 6, 7, 8, 9, 10, 11, 12, 13, 14, 15, 16, 17, 18, 19, 20, 21, 22, 23, 24, 25, 26, 27, 28, 29, 30, 31, 32, 33, 34, 35, 36, 37, 38, 39, 40, 41, 42, 43, 44, 45, 46, 47, 48, 49, 50, 51, 52, 53, 54, 55, 56, 57, 58, 59, 60, 61, 62, 63, 64, 65, 66, 67, 68, 69, 70, 71, 72, 73, 74, 75, 76, 77, 78, 79, 80, 81, 82, 83, 84, 85, 86, 87, 88, 89, 90, 91, 92, 93, 94, 95, 96, 97, 98, 99, 100], \"y\": [4.418181818181819, 4.390909090909091, 4.300000000000001, 4.445454545454544, 4.3181818181818175, 4.250000000000001, 4.4818181818181815, 4.4363636363636365, 4.380000000000001, 4.359999999999999, 4.34, 4.581818181818182, 4.381818181818182, 4.279999999999999, 4.3999999999999995, 4.4399999999999995, 4.327272727272727, 4.3090909090909095, 4.222222222222222, 4.37, 4.27, 4.36, 4.27, 4.209999999999999, 4.430000000000001, 4.339999999999999, 4.345454545454545, 4.418181818181818, 4.39, 4.38, 4.299999999999999, 4.363636363636363, 4.181818181818182, 4.218181818181818, 4.3181818181818175, 4.454545454545455, 4.35, 4.254545454545454, 4.263636363636365, 4.272727272727273, 4.463636363636364, 4.254545454545455, 4.263636363636364, 4.1, 4.445454545454545, 4.372727272727273, 4.263636363636365, 4.359999999999999, 4.254545454545455, 4.3090909090909095, 4.24, 4.381818181818182, 4.209090909090909, 4.34, 4.181818181818182, 4.427272727272728, 4.4, 4.045454545454546, 4.380000000000001, 4.209090909090909, 4.260000000000001, 4.25, 4.472727272727273, 4.34, 4.345454545454545, 4.35, 4.327272727272727, 4.136363636363637, 4.2700000000000005, 4.081818181818181, 4.4363636363636365, 4.22, 4.24, 4.354545454545455, 4.4363636363636365, 4.172727272727273, 4.281818181818182, 4.27, 4.290000000000001, 4.027272727272727, 4.24, 4.172727272727273, 4.37, 4.39, 4.2272727272727275, 4.24, 4.180000000000001, 4.380000000000001, 4.345454545454545, 4.236363636363635, 4.340000000000001, 4.345454545454546, 4.26, 4.2700000000000005, 4.20909090909091, 4.327272727272727, 4.245454545454546, 4.245454545454546, 4.289999999999999, 4.360000000000001]}],\n",
       "                        {\"legend\": {\"bgcolor\": \"#F5F6F9\", \"font\": {\"color\": \"#4D5663\"}}, \"paper_bgcolor\": \"#F5F6F9\", \"plot_bgcolor\": \"#F5F6F9\", \"template\": {\"data\": {\"bar\": [{\"error_x\": {\"color\": \"#2a3f5f\"}, \"error_y\": {\"color\": \"#2a3f5f\"}, \"marker\": {\"line\": {\"color\": \"#E5ECF6\", \"width\": 0.5}}, \"type\": \"bar\"}], \"barpolar\": [{\"marker\": {\"line\": {\"color\": \"#E5ECF6\", \"width\": 0.5}}, \"type\": \"barpolar\"}], \"carpet\": [{\"aaxis\": {\"endlinecolor\": \"#2a3f5f\", \"gridcolor\": \"white\", \"linecolor\": \"white\", \"minorgridcolor\": \"white\", \"startlinecolor\": \"#2a3f5f\"}, \"baxis\": {\"endlinecolor\": \"#2a3f5f\", \"gridcolor\": \"white\", \"linecolor\": \"white\", \"minorgridcolor\": \"white\", \"startlinecolor\": \"#2a3f5f\"}, \"type\": \"carpet\"}], \"choropleth\": [{\"colorbar\": {\"outlinewidth\": 0, \"ticks\": \"\"}, \"type\": \"choropleth\"}], \"contour\": [{\"colorbar\": {\"outlinewidth\": 0, \"ticks\": \"\"}, \"colorscale\": [[0.0, \"#0d0887\"], [0.1111111111111111, \"#46039f\"], [0.2222222222222222, \"#7201a8\"], [0.3333333333333333, \"#9c179e\"], [0.4444444444444444, \"#bd3786\"], [0.5555555555555556, \"#d8576b\"], [0.6666666666666666, \"#ed7953\"], [0.7777777777777778, \"#fb9f3a\"], [0.8888888888888888, \"#fdca26\"], [1.0, \"#f0f921\"]], \"type\": \"contour\"}], \"contourcarpet\": [{\"colorbar\": {\"outlinewidth\": 0, \"ticks\": \"\"}, \"type\": \"contourcarpet\"}], \"heatmap\": [{\"colorbar\": {\"outlinewidth\": 0, \"ticks\": \"\"}, \"colorscale\": [[0.0, \"#0d0887\"], [0.1111111111111111, \"#46039f\"], [0.2222222222222222, \"#7201a8\"], [0.3333333333333333, \"#9c179e\"], [0.4444444444444444, \"#bd3786\"], [0.5555555555555556, \"#d8576b\"], [0.6666666666666666, \"#ed7953\"], [0.7777777777777778, \"#fb9f3a\"], [0.8888888888888888, \"#fdca26\"], [1.0, \"#f0f921\"]], \"type\": \"heatmap\"}], \"heatmapgl\": [{\"colorbar\": {\"outlinewidth\": 0, \"ticks\": \"\"}, \"colorscale\": [[0.0, \"#0d0887\"], [0.1111111111111111, \"#46039f\"], [0.2222222222222222, \"#7201a8\"], [0.3333333333333333, \"#9c179e\"], [0.4444444444444444, \"#bd3786\"], [0.5555555555555556, \"#d8576b\"], [0.6666666666666666, \"#ed7953\"], [0.7777777777777778, \"#fb9f3a\"], [0.8888888888888888, \"#fdca26\"], [1.0, \"#f0f921\"]], \"type\": \"heatmapgl\"}], \"histogram\": [{\"marker\": {\"colorbar\": {\"outlinewidth\": 0, \"ticks\": \"\"}}, \"type\": \"histogram\"}], \"histogram2d\": [{\"colorbar\": {\"outlinewidth\": 0, \"ticks\": \"\"}, \"colorscale\": [[0.0, \"#0d0887\"], [0.1111111111111111, \"#46039f\"], [0.2222222222222222, \"#7201a8\"], [0.3333333333333333, \"#9c179e\"], [0.4444444444444444, \"#bd3786\"], [0.5555555555555556, \"#d8576b\"], [0.6666666666666666, \"#ed7953\"], [0.7777777777777778, \"#fb9f3a\"], [0.8888888888888888, \"#fdca26\"], [1.0, \"#f0f921\"]], \"type\": \"histogram2d\"}], \"histogram2dcontour\": [{\"colorbar\": {\"outlinewidth\": 0, \"ticks\": \"\"}, \"colorscale\": [[0.0, \"#0d0887\"], [0.1111111111111111, \"#46039f\"], [0.2222222222222222, \"#7201a8\"], [0.3333333333333333, \"#9c179e\"], [0.4444444444444444, \"#bd3786\"], [0.5555555555555556, \"#d8576b\"], [0.6666666666666666, \"#ed7953\"], [0.7777777777777778, \"#fb9f3a\"], [0.8888888888888888, \"#fdca26\"], [1.0, \"#f0f921\"]], \"type\": \"histogram2dcontour\"}], \"mesh3d\": [{\"colorbar\": {\"outlinewidth\": 0, \"ticks\": \"\"}, \"type\": \"mesh3d\"}], \"parcoords\": [{\"line\": {\"colorbar\": {\"outlinewidth\": 0, \"ticks\": \"\"}}, \"type\": \"parcoords\"}], \"pie\": [{\"automargin\": true, \"type\": \"pie\"}], \"scatter\": [{\"marker\": {\"colorbar\": {\"outlinewidth\": 0, \"ticks\": \"\"}}, \"type\": \"scatter\"}], \"scatter3d\": [{\"line\": {\"colorbar\": {\"outlinewidth\": 0, \"ticks\": \"\"}}, \"marker\": {\"colorbar\": {\"outlinewidth\": 0, \"ticks\": \"\"}}, \"type\": \"scatter3d\"}], \"scattercarpet\": [{\"marker\": {\"colorbar\": {\"outlinewidth\": 0, \"ticks\": \"\"}}, \"type\": \"scattercarpet\"}], \"scattergeo\": [{\"marker\": {\"colorbar\": {\"outlinewidth\": 0, \"ticks\": \"\"}}, \"type\": \"scattergeo\"}], \"scattergl\": [{\"marker\": {\"colorbar\": {\"outlinewidth\": 0, \"ticks\": \"\"}}, \"type\": \"scattergl\"}], \"scattermapbox\": [{\"marker\": {\"colorbar\": {\"outlinewidth\": 0, \"ticks\": \"\"}}, \"type\": \"scattermapbox\"}], \"scatterpolar\": [{\"marker\": {\"colorbar\": {\"outlinewidth\": 0, \"ticks\": \"\"}}, \"type\": \"scatterpolar\"}], \"scatterpolargl\": [{\"marker\": {\"colorbar\": {\"outlinewidth\": 0, \"ticks\": \"\"}}, \"type\": \"scatterpolargl\"}], \"scatterternary\": [{\"marker\": {\"colorbar\": {\"outlinewidth\": 0, \"ticks\": \"\"}}, \"type\": \"scatterternary\"}], \"surface\": [{\"colorbar\": {\"outlinewidth\": 0, \"ticks\": \"\"}, \"colorscale\": [[0.0, \"#0d0887\"], [0.1111111111111111, \"#46039f\"], [0.2222222222222222, \"#7201a8\"], [0.3333333333333333, \"#9c179e\"], [0.4444444444444444, \"#bd3786\"], [0.5555555555555556, \"#d8576b\"], [0.6666666666666666, \"#ed7953\"], [0.7777777777777778, \"#fb9f3a\"], [0.8888888888888888, \"#fdca26\"], [1.0, \"#f0f921\"]], \"type\": \"surface\"}], \"table\": [{\"cells\": {\"fill\": {\"color\": \"#EBF0F8\"}, \"line\": {\"color\": \"white\"}}, \"header\": {\"fill\": {\"color\": \"#C8D4E3\"}, \"line\": {\"color\": \"white\"}}, \"type\": \"table\"}]}, \"layout\": {\"annotationdefaults\": {\"arrowcolor\": \"#2a3f5f\", \"arrowhead\": 0, \"arrowwidth\": 1}, \"coloraxis\": {\"colorbar\": {\"outlinewidth\": 0, \"ticks\": \"\"}}, \"colorscale\": {\"diverging\": [[0, \"#8e0152\"], [0.1, \"#c51b7d\"], [0.2, \"#de77ae\"], [0.3, \"#f1b6da\"], [0.4, \"#fde0ef\"], [0.5, \"#f7f7f7\"], [0.6, \"#e6f5d0\"], [0.7, \"#b8e186\"], [0.8, \"#7fbc41\"], [0.9, \"#4d9221\"], [1, \"#276419\"]], \"sequential\": [[0.0, \"#0d0887\"], [0.1111111111111111, \"#46039f\"], [0.2222222222222222, \"#7201a8\"], [0.3333333333333333, \"#9c179e\"], [0.4444444444444444, \"#bd3786\"], [0.5555555555555556, \"#d8576b\"], [0.6666666666666666, \"#ed7953\"], [0.7777777777777778, \"#fb9f3a\"], [0.8888888888888888, \"#fdca26\"], [1.0, \"#f0f921\"]], \"sequentialminus\": [[0.0, \"#0d0887\"], [0.1111111111111111, \"#46039f\"], [0.2222222222222222, \"#7201a8\"], [0.3333333333333333, \"#9c179e\"], [0.4444444444444444, \"#bd3786\"], [0.5555555555555556, \"#d8576b\"], [0.6666666666666666, \"#ed7953\"], [0.7777777777777778, \"#fb9f3a\"], [0.8888888888888888, \"#fdca26\"], [1.0, \"#f0f921\"]]}, \"colorway\": [\"#636efa\", \"#EF553B\", \"#00cc96\", \"#ab63fa\", \"#FFA15A\", \"#19d3f3\", \"#FF6692\", \"#B6E880\", \"#FF97FF\", \"#FECB52\"], \"font\": {\"color\": \"#2a3f5f\"}, \"geo\": {\"bgcolor\": \"white\", \"lakecolor\": \"white\", \"landcolor\": \"#E5ECF6\", \"showlakes\": true, \"showland\": true, \"subunitcolor\": \"white\"}, \"hoverlabel\": {\"align\": \"left\"}, \"hovermode\": \"closest\", \"mapbox\": {\"style\": \"light\"}, \"paper_bgcolor\": \"white\", \"plot_bgcolor\": \"#E5ECF6\", \"polar\": {\"angularaxis\": {\"gridcolor\": \"white\", \"linecolor\": \"white\", \"ticks\": \"\"}, \"bgcolor\": \"#E5ECF6\", \"radialaxis\": {\"gridcolor\": \"white\", \"linecolor\": \"white\", \"ticks\": \"\"}}, \"scene\": {\"xaxis\": {\"backgroundcolor\": \"#E5ECF6\", \"gridcolor\": \"white\", \"gridwidth\": 2, \"linecolor\": \"white\", \"showbackground\": true, \"ticks\": \"\", \"zerolinecolor\": \"white\"}, \"yaxis\": {\"backgroundcolor\": \"#E5ECF6\", \"gridcolor\": \"white\", \"gridwidth\": 2, \"linecolor\": \"white\", \"showbackground\": true, \"ticks\": \"\", \"zerolinecolor\": \"white\"}, \"zaxis\": {\"backgroundcolor\": \"#E5ECF6\", \"gridcolor\": \"white\", \"gridwidth\": 2, \"linecolor\": \"white\", \"showbackground\": true, \"ticks\": \"\", \"zerolinecolor\": \"white\"}}, \"shapedefaults\": {\"line\": {\"color\": \"#2a3f5f\"}}, \"ternary\": {\"aaxis\": {\"gridcolor\": \"white\", \"linecolor\": \"white\", \"ticks\": \"\"}, \"baxis\": {\"gridcolor\": \"white\", \"linecolor\": \"white\", \"ticks\": \"\"}, \"bgcolor\": \"#E5ECF6\", \"caxis\": {\"gridcolor\": \"white\", \"linecolor\": \"white\", \"ticks\": \"\"}}, \"title\": {\"x\": 0.05}, \"xaxis\": {\"automargin\": true, \"gridcolor\": \"white\", \"linecolor\": \"white\", \"ticks\": \"\", \"title\": {\"standoff\": 15}, \"zerolinecolor\": \"white\", \"zerolinewidth\": 2}, \"yaxis\": {\"automargin\": true, \"gridcolor\": \"white\", \"linecolor\": \"white\", \"ticks\": \"\", \"title\": {\"standoff\": 15}, \"zerolinecolor\": \"white\", \"zerolinewidth\": 2}}}, \"title\": {\"font\": {\"color\": \"#4D5663\"}}, \"xaxis\": {\"gridcolor\": \"#E1E5ED\", \"showgrid\": true, \"tickfont\": {\"color\": \"#4D5663\"}, \"title\": {\"font\": {\"color\": \"#4D5663\"}, \"text\": \"\"}, \"zerolinecolor\": \"#E1E5ED\"}, \"yaxis\": {\"gridcolor\": \"#E1E5ED\", \"showgrid\": true, \"tickfont\": {\"color\": \"#4D5663\"}, \"title\": {\"font\": {\"color\": \"#4D5663\"}, \"text\": \"\"}, \"zerolinecolor\": \"#E1E5ED\"}},\n",
       "                        {\"showLink\": true, \"linkText\": \"Export to plot.ly\", \"plotlyServerURL\": \"https://plot.ly\", \"responsive\": true}\n",
       "                    ).then(function(){\n",
       "                            \n",
       "var gd = document.getElementById('7eb11558-672c-475d-9f41-08aea71191a5');\n",
       "var x = new MutationObserver(function (mutations, observer) {{\n",
       "        var display = window.getComputedStyle(gd).display;\n",
       "        if (!display || display === 'none') {{\n",
       "            console.log([gd, 'removed!']);\n",
       "            Plotly.purge(gd);\n",
       "            observer.disconnect();\n",
       "        }}\n",
       "}});\n",
       "\n",
       "// Listen for the removal of the full notebook cells\n",
       "var notebookContainer = gd.closest('#notebook-container');\n",
       "if (notebookContainer) {{\n",
       "    x.observe(notebookContainer, {childList: true});\n",
       "}}\n",
       "\n",
       "// Listen for the clearing of the current output cell\n",
       "var outputEl = gd.closest('.output');\n",
       "if (outputEl) {{\n",
       "    x.observe(outputEl, {childList: true});\n",
       "}}\n",
       "\n",
       "                        })\n",
       "                };\n",
       "                });\n",
       "            </script>\n",
       "        </div>"
      ]
     },
     "metadata": {},
     "output_type": "display_data"
    }
   ],
   "source": [
    "amazon_bs.groupby('rank').agg('mean')['rating'].iplot(kind=\"bar\")"
   ]
  },
  {
   "cell_type": "code",
   "execution_count": 99,
   "metadata": {},
   "outputs": [
    {
     "data": {
      "text/html": [
       "<div>\n",
       "<style scoped>\n",
       "    .dataframe tbody tr th:only-of-type {\n",
       "        vertical-align: middle;\n",
       "    }\n",
       "\n",
       "    .dataframe tbody tr th {\n",
       "        vertical-align: top;\n",
       "    }\n",
       "\n",
       "    .dataframe thead th {\n",
       "        text-align: right;\n",
       "    }\n",
       "</style>\n",
       "<table border=\"1\" class=\"dataframe\">\n",
       "  <thead>\n",
       "    <tr style=\"text-align: right;\">\n",
       "      <th></th>\n",
       "      <th>rank</th>\n",
       "      <th>ratings_total</th>\n",
       "      <th>price.value</th>\n",
       "    </tr>\n",
       "    <tr>\n",
       "      <th>rating</th>\n",
       "      <th></th>\n",
       "      <th></th>\n",
       "      <th></th>\n",
       "    </tr>\n",
       "  </thead>\n",
       "  <tbody>\n",
       "    <tr>\n",
       "      <th>2.5</th>\n",
       "      <td>97.000000</td>\n",
       "      <td>3.000000</td>\n",
       "      <td>949.990000</td>\n",
       "    </tr>\n",
       "    <tr>\n",
       "      <th>2.9</th>\n",
       "      <td>70.000000</td>\n",
       "      <td>21.000000</td>\n",
       "      <td>NaN</td>\n",
       "    </tr>\n",
       "    <tr>\n",
       "      <th>3.0</th>\n",
       "      <td>51.000000</td>\n",
       "      <td>1.500000</td>\n",
       "      <td>200.635000</td>\n",
       "    </tr>\n",
       "    <tr>\n",
       "      <th>3.1</th>\n",
       "      <td>98.000000</td>\n",
       "      <td>7.000000</td>\n",
       "      <td>290.000000</td>\n",
       "    </tr>\n",
       "    <tr>\n",
       "      <th>3.2</th>\n",
       "      <td>59.000000</td>\n",
       "      <td>1632.000000</td>\n",
       "      <td>52.543333</td>\n",
       "    </tr>\n",
       "    <tr>\n",
       "      <th>3.3</th>\n",
       "      <td>80.333333</td>\n",
       "      <td>923.666667</td>\n",
       "      <td>144.476667</td>\n",
       "    </tr>\n",
       "    <tr>\n",
       "      <th>3.4</th>\n",
       "      <td>46.571429</td>\n",
       "      <td>956.285714</td>\n",
       "      <td>150.050000</td>\n",
       "    </tr>\n",
       "    <tr>\n",
       "      <th>3.5</th>\n",
       "      <td>64.533333</td>\n",
       "      <td>290.200000</td>\n",
       "      <td>134.856429</td>\n",
       "    </tr>\n",
       "    <tr>\n",
       "      <th>3.6</th>\n",
       "      <td>47.000000</td>\n",
       "      <td>730.533333</td>\n",
       "      <td>174.276429</td>\n",
       "    </tr>\n",
       "    <tr>\n",
       "      <th>3.7</th>\n",
       "      <td>66.250000</td>\n",
       "      <td>727.200000</td>\n",
       "      <td>132.951500</td>\n",
       "    </tr>\n",
       "    <tr>\n",
       "      <th>3.8</th>\n",
       "      <td>52.857143</td>\n",
       "      <td>5767.428571</td>\n",
       "      <td>162.911143</td>\n",
       "    </tr>\n",
       "    <tr>\n",
       "      <th>3.9</th>\n",
       "      <td>54.254902</td>\n",
       "      <td>1241.039216</td>\n",
       "      <td>272.732157</td>\n",
       "    </tr>\n",
       "    <tr>\n",
       "      <th>4.0</th>\n",
       "      <td>56.666667</td>\n",
       "      <td>2845.791667</td>\n",
       "      <td>305.279571</td>\n",
       "    </tr>\n",
       "    <tr>\n",
       "      <th>4.1</th>\n",
       "      <td>50.592593</td>\n",
       "      <td>3618.185185</td>\n",
       "      <td>248.627089</td>\n",
       "    </tr>\n",
       "    <tr>\n",
       "      <th>4.2</th>\n",
       "      <td>51.049020</td>\n",
       "      <td>1846.696078</td>\n",
       "      <td>252.834216</td>\n",
       "    </tr>\n",
       "    <tr>\n",
       "      <th>4.3</th>\n",
       "      <td>46.589147</td>\n",
       "      <td>6930.403101</td>\n",
       "      <td>269.250620</td>\n",
       "    </tr>\n",
       "    <tr>\n",
       "      <th>4.4</th>\n",
       "      <td>49.920000</td>\n",
       "      <td>2881.552000</td>\n",
       "      <td>262.719680</td>\n",
       "    </tr>\n",
       "    <tr>\n",
       "      <th>4.5</th>\n",
       "      <td>45.325203</td>\n",
       "      <td>10570.243902</td>\n",
       "      <td>322.979426</td>\n",
       "    </tr>\n",
       "    <tr>\n",
       "      <th>4.6</th>\n",
       "      <td>50.018182</td>\n",
       "      <td>6655.554545</td>\n",
       "      <td>198.518991</td>\n",
       "    </tr>\n",
       "    <tr>\n",
       "      <th>4.7</th>\n",
       "      <td>54.830769</td>\n",
       "      <td>7829.676923</td>\n",
       "      <td>268.121692</td>\n",
       "    </tr>\n",
       "    <tr>\n",
       "      <th>4.8</th>\n",
       "      <td>34.982759</td>\n",
       "      <td>7364.586207</td>\n",
       "      <td>207.273966</td>\n",
       "    </tr>\n",
       "    <tr>\n",
       "      <th>4.9</th>\n",
       "      <td>7.333333</td>\n",
       "      <td>694.333333</td>\n",
       "      <td>320.083333</td>\n",
       "    </tr>\n",
       "    <tr>\n",
       "      <th>5.0</th>\n",
       "      <td>67.000000</td>\n",
       "      <td>4.848485</td>\n",
       "      <td>397.180000</td>\n",
       "    </tr>\n",
       "  </tbody>\n",
       "</table>\n",
       "</div>"
      ],
      "text/plain": [
       "             rank  ratings_total  price.value\n",
       "rating                                       \n",
       "2.5     97.000000       3.000000   949.990000\n",
       "2.9     70.000000      21.000000          NaN\n",
       "3.0     51.000000       1.500000   200.635000\n",
       "3.1     98.000000       7.000000   290.000000\n",
       "3.2     59.000000    1632.000000    52.543333\n",
       "3.3     80.333333     923.666667   144.476667\n",
       "3.4     46.571429     956.285714   150.050000\n",
       "3.5     64.533333     290.200000   134.856429\n",
       "3.6     47.000000     730.533333   174.276429\n",
       "3.7     66.250000     727.200000   132.951500\n",
       "3.8     52.857143    5767.428571   162.911143\n",
       "3.9     54.254902    1241.039216   272.732157\n",
       "4.0     56.666667    2845.791667   305.279571\n",
       "4.1     50.592593    3618.185185   248.627089\n",
       "4.2     51.049020    1846.696078   252.834216\n",
       "4.3     46.589147    6930.403101   269.250620\n",
       "4.4     49.920000    2881.552000   262.719680\n",
       "4.5     45.325203   10570.243902   322.979426\n",
       "4.6     50.018182    6655.554545   198.518991\n",
       "4.7     54.830769    7829.676923   268.121692\n",
       "4.8     34.982759    7364.586207   207.273966\n",
       "4.9      7.333333     694.333333   320.083333\n",
       "5.0     67.000000       4.848485   397.180000"
      ]
     },
     "execution_count": 99,
     "metadata": {},
     "output_type": "execute_result"
    }
   ],
   "source": [
    "amazon_bs.groupby('rating').agg('mean')"
   ]
  },
  {
   "cell_type": "code",
   "execution_count": 100,
   "metadata": {},
   "outputs": [
    {
     "data": {
      "application/vnd.plotly.v1+json": {
       "config": {
        "linkText": "Export to plot.ly",
        "plotlyServerURL": "https://plot.ly",
        "showLink": true
       },
       "data": [
        {
         "marker": {
          "color": "rgba(255, 153, 51, 0.6)",
          "line": {
           "color": "rgba(255, 153, 51, 1.0)",
           "width": 1
          }
         },
         "name": "ratings_total",
         "orientation": "v",
         "text": "",
         "type": "bar",
         "x": [
          2.5,
          2.9,
          3,
          3.1,
          3.2,
          3.3,
          3.4,
          3.5,
          3.6,
          3.7,
          3.8,
          3.9,
          4,
          4.1,
          4.2,
          4.3,
          4.4,
          4.5,
          4.6,
          4.7,
          4.8,
          4.9,
          5
         ],
         "y": [
          3,
          21,
          1.5,
          7,
          1632,
          923.6666666666666,
          956.2857142857143,
          290.2,
          730.5333333333333,
          727.2,
          5767.428571428572,
          1241.0392156862745,
          2845.7916666666665,
          3618.185185185185,
          1846.6960784313726,
          6930.403100775194,
          2881.552,
          10570.243902439024,
          6655.554545454545,
          7829.676923076923,
          7364.586206896552,
          694.3333333333334,
          4.848484848484849
         ]
        }
       ],
       "layout": {
        "legend": {
         "bgcolor": "#F5F6F9",
         "font": {
          "color": "#4D5663"
         }
        },
        "paper_bgcolor": "#F5F6F9",
        "plot_bgcolor": "#F5F6F9",
        "template": {
         "data": {
          "bar": [
           {
            "error_x": {
             "color": "#2a3f5f"
            },
            "error_y": {
             "color": "#2a3f5f"
            },
            "marker": {
             "line": {
              "color": "#E5ECF6",
              "width": 0.5
             }
            },
            "type": "bar"
           }
          ],
          "barpolar": [
           {
            "marker": {
             "line": {
              "color": "#E5ECF6",
              "width": 0.5
             }
            },
            "type": "barpolar"
           }
          ],
          "carpet": [
           {
            "aaxis": {
             "endlinecolor": "#2a3f5f",
             "gridcolor": "white",
             "linecolor": "white",
             "minorgridcolor": "white",
             "startlinecolor": "#2a3f5f"
            },
            "baxis": {
             "endlinecolor": "#2a3f5f",
             "gridcolor": "white",
             "linecolor": "white",
             "minorgridcolor": "white",
             "startlinecolor": "#2a3f5f"
            },
            "type": "carpet"
           }
          ],
          "choropleth": [
           {
            "colorbar": {
             "outlinewidth": 0,
             "ticks": ""
            },
            "type": "choropleth"
           }
          ],
          "contour": [
           {
            "colorbar": {
             "outlinewidth": 0,
             "ticks": ""
            },
            "colorscale": [
             [
              0,
              "#0d0887"
             ],
             [
              0.1111111111111111,
              "#46039f"
             ],
             [
              0.2222222222222222,
              "#7201a8"
             ],
             [
              0.3333333333333333,
              "#9c179e"
             ],
             [
              0.4444444444444444,
              "#bd3786"
             ],
             [
              0.5555555555555556,
              "#d8576b"
             ],
             [
              0.6666666666666666,
              "#ed7953"
             ],
             [
              0.7777777777777778,
              "#fb9f3a"
             ],
             [
              0.8888888888888888,
              "#fdca26"
             ],
             [
              1,
              "#f0f921"
             ]
            ],
            "type": "contour"
           }
          ],
          "contourcarpet": [
           {
            "colorbar": {
             "outlinewidth": 0,
             "ticks": ""
            },
            "type": "contourcarpet"
           }
          ],
          "heatmap": [
           {
            "colorbar": {
             "outlinewidth": 0,
             "ticks": ""
            },
            "colorscale": [
             [
              0,
              "#0d0887"
             ],
             [
              0.1111111111111111,
              "#46039f"
             ],
             [
              0.2222222222222222,
              "#7201a8"
             ],
             [
              0.3333333333333333,
              "#9c179e"
             ],
             [
              0.4444444444444444,
              "#bd3786"
             ],
             [
              0.5555555555555556,
              "#d8576b"
             ],
             [
              0.6666666666666666,
              "#ed7953"
             ],
             [
              0.7777777777777778,
              "#fb9f3a"
             ],
             [
              0.8888888888888888,
              "#fdca26"
             ],
             [
              1,
              "#f0f921"
             ]
            ],
            "type": "heatmap"
           }
          ],
          "heatmapgl": [
           {
            "colorbar": {
             "outlinewidth": 0,
             "ticks": ""
            },
            "colorscale": [
             [
              0,
              "#0d0887"
             ],
             [
              0.1111111111111111,
              "#46039f"
             ],
             [
              0.2222222222222222,
              "#7201a8"
             ],
             [
              0.3333333333333333,
              "#9c179e"
             ],
             [
              0.4444444444444444,
              "#bd3786"
             ],
             [
              0.5555555555555556,
              "#d8576b"
             ],
             [
              0.6666666666666666,
              "#ed7953"
             ],
             [
              0.7777777777777778,
              "#fb9f3a"
             ],
             [
              0.8888888888888888,
              "#fdca26"
             ],
             [
              1,
              "#f0f921"
             ]
            ],
            "type": "heatmapgl"
           }
          ],
          "histogram": [
           {
            "marker": {
             "colorbar": {
              "outlinewidth": 0,
              "ticks": ""
             }
            },
            "type": "histogram"
           }
          ],
          "histogram2d": [
           {
            "colorbar": {
             "outlinewidth": 0,
             "ticks": ""
            },
            "colorscale": [
             [
              0,
              "#0d0887"
             ],
             [
              0.1111111111111111,
              "#46039f"
             ],
             [
              0.2222222222222222,
              "#7201a8"
             ],
             [
              0.3333333333333333,
              "#9c179e"
             ],
             [
              0.4444444444444444,
              "#bd3786"
             ],
             [
              0.5555555555555556,
              "#d8576b"
             ],
             [
              0.6666666666666666,
              "#ed7953"
             ],
             [
              0.7777777777777778,
              "#fb9f3a"
             ],
             [
              0.8888888888888888,
              "#fdca26"
             ],
             [
              1,
              "#f0f921"
             ]
            ],
            "type": "histogram2d"
           }
          ],
          "histogram2dcontour": [
           {
            "colorbar": {
             "outlinewidth": 0,
             "ticks": ""
            },
            "colorscale": [
             [
              0,
              "#0d0887"
             ],
             [
              0.1111111111111111,
              "#46039f"
             ],
             [
              0.2222222222222222,
              "#7201a8"
             ],
             [
              0.3333333333333333,
              "#9c179e"
             ],
             [
              0.4444444444444444,
              "#bd3786"
             ],
             [
              0.5555555555555556,
              "#d8576b"
             ],
             [
              0.6666666666666666,
              "#ed7953"
             ],
             [
              0.7777777777777778,
              "#fb9f3a"
             ],
             [
              0.8888888888888888,
              "#fdca26"
             ],
             [
              1,
              "#f0f921"
             ]
            ],
            "type": "histogram2dcontour"
           }
          ],
          "mesh3d": [
           {
            "colorbar": {
             "outlinewidth": 0,
             "ticks": ""
            },
            "type": "mesh3d"
           }
          ],
          "parcoords": [
           {
            "line": {
             "colorbar": {
              "outlinewidth": 0,
              "ticks": ""
             }
            },
            "type": "parcoords"
           }
          ],
          "pie": [
           {
            "automargin": true,
            "type": "pie"
           }
          ],
          "scatter": [
           {
            "marker": {
             "colorbar": {
              "outlinewidth": 0,
              "ticks": ""
             }
            },
            "type": "scatter"
           }
          ],
          "scatter3d": [
           {
            "line": {
             "colorbar": {
              "outlinewidth": 0,
              "ticks": ""
             }
            },
            "marker": {
             "colorbar": {
              "outlinewidth": 0,
              "ticks": ""
             }
            },
            "type": "scatter3d"
           }
          ],
          "scattercarpet": [
           {
            "marker": {
             "colorbar": {
              "outlinewidth": 0,
              "ticks": ""
             }
            },
            "type": "scattercarpet"
           }
          ],
          "scattergeo": [
           {
            "marker": {
             "colorbar": {
              "outlinewidth": 0,
              "ticks": ""
             }
            },
            "type": "scattergeo"
           }
          ],
          "scattergl": [
           {
            "marker": {
             "colorbar": {
              "outlinewidth": 0,
              "ticks": ""
             }
            },
            "type": "scattergl"
           }
          ],
          "scattermapbox": [
           {
            "marker": {
             "colorbar": {
              "outlinewidth": 0,
              "ticks": ""
             }
            },
            "type": "scattermapbox"
           }
          ],
          "scatterpolar": [
           {
            "marker": {
             "colorbar": {
              "outlinewidth": 0,
              "ticks": ""
             }
            },
            "type": "scatterpolar"
           }
          ],
          "scatterpolargl": [
           {
            "marker": {
             "colorbar": {
              "outlinewidth": 0,
              "ticks": ""
             }
            },
            "type": "scatterpolargl"
           }
          ],
          "scatterternary": [
           {
            "marker": {
             "colorbar": {
              "outlinewidth": 0,
              "ticks": ""
             }
            },
            "type": "scatterternary"
           }
          ],
          "surface": [
           {
            "colorbar": {
             "outlinewidth": 0,
             "ticks": ""
            },
            "colorscale": [
             [
              0,
              "#0d0887"
             ],
             [
              0.1111111111111111,
              "#46039f"
             ],
             [
              0.2222222222222222,
              "#7201a8"
             ],
             [
              0.3333333333333333,
              "#9c179e"
             ],
             [
              0.4444444444444444,
              "#bd3786"
             ],
             [
              0.5555555555555556,
              "#d8576b"
             ],
             [
              0.6666666666666666,
              "#ed7953"
             ],
             [
              0.7777777777777778,
              "#fb9f3a"
             ],
             [
              0.8888888888888888,
              "#fdca26"
             ],
             [
              1,
              "#f0f921"
             ]
            ],
            "type": "surface"
           }
          ],
          "table": [
           {
            "cells": {
             "fill": {
              "color": "#EBF0F8"
             },
             "line": {
              "color": "white"
             }
            },
            "header": {
             "fill": {
              "color": "#C8D4E3"
             },
             "line": {
              "color": "white"
             }
            },
            "type": "table"
           }
          ]
         },
         "layout": {
          "annotationdefaults": {
           "arrowcolor": "#2a3f5f",
           "arrowhead": 0,
           "arrowwidth": 1
          },
          "coloraxis": {
           "colorbar": {
            "outlinewidth": 0,
            "ticks": ""
           }
          },
          "colorscale": {
           "diverging": [
            [
             0,
             "#8e0152"
            ],
            [
             0.1,
             "#c51b7d"
            ],
            [
             0.2,
             "#de77ae"
            ],
            [
             0.3,
             "#f1b6da"
            ],
            [
             0.4,
             "#fde0ef"
            ],
            [
             0.5,
             "#f7f7f7"
            ],
            [
             0.6,
             "#e6f5d0"
            ],
            [
             0.7,
             "#b8e186"
            ],
            [
             0.8,
             "#7fbc41"
            ],
            [
             0.9,
             "#4d9221"
            ],
            [
             1,
             "#276419"
            ]
           ],
           "sequential": [
            [
             0,
             "#0d0887"
            ],
            [
             0.1111111111111111,
             "#46039f"
            ],
            [
             0.2222222222222222,
             "#7201a8"
            ],
            [
             0.3333333333333333,
             "#9c179e"
            ],
            [
             0.4444444444444444,
             "#bd3786"
            ],
            [
             0.5555555555555556,
             "#d8576b"
            ],
            [
             0.6666666666666666,
             "#ed7953"
            ],
            [
             0.7777777777777778,
             "#fb9f3a"
            ],
            [
             0.8888888888888888,
             "#fdca26"
            ],
            [
             1,
             "#f0f921"
            ]
           ],
           "sequentialminus": [
            [
             0,
             "#0d0887"
            ],
            [
             0.1111111111111111,
             "#46039f"
            ],
            [
             0.2222222222222222,
             "#7201a8"
            ],
            [
             0.3333333333333333,
             "#9c179e"
            ],
            [
             0.4444444444444444,
             "#bd3786"
            ],
            [
             0.5555555555555556,
             "#d8576b"
            ],
            [
             0.6666666666666666,
             "#ed7953"
            ],
            [
             0.7777777777777778,
             "#fb9f3a"
            ],
            [
             0.8888888888888888,
             "#fdca26"
            ],
            [
             1,
             "#f0f921"
            ]
           ]
          },
          "colorway": [
           "#636efa",
           "#EF553B",
           "#00cc96",
           "#ab63fa",
           "#FFA15A",
           "#19d3f3",
           "#FF6692",
           "#B6E880",
           "#FF97FF",
           "#FECB52"
          ],
          "font": {
           "color": "#2a3f5f"
          },
          "geo": {
           "bgcolor": "white",
           "lakecolor": "white",
           "landcolor": "#E5ECF6",
           "showlakes": true,
           "showland": true,
           "subunitcolor": "white"
          },
          "hoverlabel": {
           "align": "left"
          },
          "hovermode": "closest",
          "mapbox": {
           "style": "light"
          },
          "paper_bgcolor": "white",
          "plot_bgcolor": "#E5ECF6",
          "polar": {
           "angularaxis": {
            "gridcolor": "white",
            "linecolor": "white",
            "ticks": ""
           },
           "bgcolor": "#E5ECF6",
           "radialaxis": {
            "gridcolor": "white",
            "linecolor": "white",
            "ticks": ""
           }
          },
          "scene": {
           "xaxis": {
            "backgroundcolor": "#E5ECF6",
            "gridcolor": "white",
            "gridwidth": 2,
            "linecolor": "white",
            "showbackground": true,
            "ticks": "",
            "zerolinecolor": "white"
           },
           "yaxis": {
            "backgroundcolor": "#E5ECF6",
            "gridcolor": "white",
            "gridwidth": 2,
            "linecolor": "white",
            "showbackground": true,
            "ticks": "",
            "zerolinecolor": "white"
           },
           "zaxis": {
            "backgroundcolor": "#E5ECF6",
            "gridcolor": "white",
            "gridwidth": 2,
            "linecolor": "white",
            "showbackground": true,
            "ticks": "",
            "zerolinecolor": "white"
           }
          },
          "shapedefaults": {
           "line": {
            "color": "#2a3f5f"
           }
          },
          "ternary": {
           "aaxis": {
            "gridcolor": "white",
            "linecolor": "white",
            "ticks": ""
           },
           "baxis": {
            "gridcolor": "white",
            "linecolor": "white",
            "ticks": ""
           },
           "bgcolor": "#E5ECF6",
           "caxis": {
            "gridcolor": "white",
            "linecolor": "white",
            "ticks": ""
           }
          },
          "title": {
           "x": 0.05
          },
          "xaxis": {
           "automargin": true,
           "gridcolor": "white",
           "linecolor": "white",
           "ticks": "",
           "title": {
            "standoff": 15
           },
           "zerolinecolor": "white",
           "zerolinewidth": 2
          },
          "yaxis": {
           "automargin": true,
           "gridcolor": "white",
           "linecolor": "white",
           "ticks": "",
           "title": {
            "standoff": 15
           },
           "zerolinecolor": "white",
           "zerolinewidth": 2
          }
         }
        },
        "title": {
         "font": {
          "color": "#4D5663"
         }
        },
        "xaxis": {
         "gridcolor": "#E1E5ED",
         "showgrid": true,
         "tickfont": {
          "color": "#4D5663"
         },
         "title": {
          "font": {
           "color": "#4D5663"
          },
          "text": ""
         },
         "zerolinecolor": "#E1E5ED"
        },
        "yaxis": {
         "gridcolor": "#E1E5ED",
         "showgrid": true,
         "tickfont": {
          "color": "#4D5663"
         },
         "title": {
          "font": {
           "color": "#4D5663"
          },
          "text": ""
         },
         "zerolinecolor": "#E1E5ED"
        }
       }
      },
      "text/html": [
       "<div>\n",
       "        \n",
       "        \n",
       "            <div id=\"0790ee75-a608-493c-b515-d99a74ce1937\" class=\"plotly-graph-div\" style=\"height:525px; width:100%;\"></div>\n",
       "            <script type=\"text/javascript\">\n",
       "                require([\"plotly\"], function(Plotly) {\n",
       "                    window.PLOTLYENV=window.PLOTLYENV || {};\n",
       "                    window.PLOTLYENV.BASE_URL='https://plot.ly';\n",
       "                    \n",
       "                if (document.getElementById(\"0790ee75-a608-493c-b515-d99a74ce1937\")) {\n",
       "                    Plotly.newPlot(\n",
       "                        '0790ee75-a608-493c-b515-d99a74ce1937',\n",
       "                        [{\"marker\": {\"color\": \"rgba(255, 153, 51, 0.6)\", \"line\": {\"color\": \"rgba(255, 153, 51, 1.0)\", \"width\": 1}}, \"name\": \"ratings_total\", \"orientation\": \"v\", \"text\": \"\", \"type\": \"bar\", \"x\": [2.5, 2.9, 3.0, 3.1, 3.2, 3.3, 3.4, 3.5, 3.6, 3.7, 3.8, 3.9, 4.0, 4.1, 4.2, 4.3, 4.4, 4.5, 4.6, 4.7, 4.8, 4.9, 5.0], \"y\": [3.0, 21.0, 1.5, 7.0, 1632.0, 923.6666666666666, 956.2857142857143, 290.2, 730.5333333333333, 727.2, 5767.428571428572, 1241.0392156862745, 2845.7916666666665, 3618.185185185185, 1846.6960784313726, 6930.403100775194, 2881.552, 10570.243902439024, 6655.554545454545, 7829.676923076923, 7364.586206896552, 694.3333333333334, 4.848484848484849]}],\n",
       "                        {\"legend\": {\"bgcolor\": \"#F5F6F9\", \"font\": {\"color\": \"#4D5663\"}}, \"paper_bgcolor\": \"#F5F6F9\", \"plot_bgcolor\": \"#F5F6F9\", \"template\": {\"data\": {\"bar\": [{\"error_x\": {\"color\": \"#2a3f5f\"}, \"error_y\": {\"color\": \"#2a3f5f\"}, \"marker\": {\"line\": {\"color\": \"#E5ECF6\", \"width\": 0.5}}, \"type\": \"bar\"}], \"barpolar\": [{\"marker\": {\"line\": {\"color\": \"#E5ECF6\", \"width\": 0.5}}, \"type\": \"barpolar\"}], \"carpet\": [{\"aaxis\": {\"endlinecolor\": \"#2a3f5f\", \"gridcolor\": \"white\", \"linecolor\": \"white\", \"minorgridcolor\": \"white\", \"startlinecolor\": \"#2a3f5f\"}, \"baxis\": {\"endlinecolor\": \"#2a3f5f\", \"gridcolor\": \"white\", \"linecolor\": \"white\", \"minorgridcolor\": \"white\", \"startlinecolor\": \"#2a3f5f\"}, \"type\": \"carpet\"}], \"choropleth\": [{\"colorbar\": {\"outlinewidth\": 0, \"ticks\": \"\"}, \"type\": \"choropleth\"}], \"contour\": [{\"colorbar\": {\"outlinewidth\": 0, \"ticks\": \"\"}, \"colorscale\": [[0.0, \"#0d0887\"], [0.1111111111111111, \"#46039f\"], [0.2222222222222222, \"#7201a8\"], [0.3333333333333333, \"#9c179e\"], [0.4444444444444444, \"#bd3786\"], [0.5555555555555556, \"#d8576b\"], [0.6666666666666666, \"#ed7953\"], [0.7777777777777778, \"#fb9f3a\"], [0.8888888888888888, \"#fdca26\"], [1.0, \"#f0f921\"]], \"type\": \"contour\"}], \"contourcarpet\": [{\"colorbar\": {\"outlinewidth\": 0, \"ticks\": \"\"}, \"type\": \"contourcarpet\"}], \"heatmap\": [{\"colorbar\": {\"outlinewidth\": 0, \"ticks\": \"\"}, \"colorscale\": [[0.0, \"#0d0887\"], [0.1111111111111111, \"#46039f\"], [0.2222222222222222, \"#7201a8\"], [0.3333333333333333, \"#9c179e\"], [0.4444444444444444, \"#bd3786\"], [0.5555555555555556, \"#d8576b\"], [0.6666666666666666, \"#ed7953\"], [0.7777777777777778, \"#fb9f3a\"], [0.8888888888888888, \"#fdca26\"], [1.0, \"#f0f921\"]], \"type\": \"heatmap\"}], \"heatmapgl\": [{\"colorbar\": {\"outlinewidth\": 0, \"ticks\": \"\"}, \"colorscale\": [[0.0, \"#0d0887\"], [0.1111111111111111, \"#46039f\"], [0.2222222222222222, \"#7201a8\"], [0.3333333333333333, \"#9c179e\"], [0.4444444444444444, \"#bd3786\"], [0.5555555555555556, \"#d8576b\"], [0.6666666666666666, \"#ed7953\"], [0.7777777777777778, \"#fb9f3a\"], [0.8888888888888888, \"#fdca26\"], [1.0, \"#f0f921\"]], \"type\": \"heatmapgl\"}], \"histogram\": [{\"marker\": {\"colorbar\": {\"outlinewidth\": 0, \"ticks\": \"\"}}, \"type\": \"histogram\"}], \"histogram2d\": [{\"colorbar\": {\"outlinewidth\": 0, \"ticks\": \"\"}, \"colorscale\": [[0.0, \"#0d0887\"], [0.1111111111111111, \"#46039f\"], [0.2222222222222222, \"#7201a8\"], [0.3333333333333333, \"#9c179e\"], [0.4444444444444444, \"#bd3786\"], [0.5555555555555556, \"#d8576b\"], [0.6666666666666666, \"#ed7953\"], [0.7777777777777778, \"#fb9f3a\"], [0.8888888888888888, \"#fdca26\"], [1.0, \"#f0f921\"]], \"type\": \"histogram2d\"}], \"histogram2dcontour\": [{\"colorbar\": {\"outlinewidth\": 0, \"ticks\": \"\"}, \"colorscale\": [[0.0, \"#0d0887\"], [0.1111111111111111, \"#46039f\"], [0.2222222222222222, \"#7201a8\"], [0.3333333333333333, \"#9c179e\"], [0.4444444444444444, \"#bd3786\"], [0.5555555555555556, \"#d8576b\"], [0.6666666666666666, \"#ed7953\"], [0.7777777777777778, \"#fb9f3a\"], [0.8888888888888888, \"#fdca26\"], [1.0, \"#f0f921\"]], \"type\": \"histogram2dcontour\"}], \"mesh3d\": [{\"colorbar\": {\"outlinewidth\": 0, \"ticks\": \"\"}, \"type\": \"mesh3d\"}], \"parcoords\": [{\"line\": {\"colorbar\": {\"outlinewidth\": 0, \"ticks\": \"\"}}, \"type\": \"parcoords\"}], \"pie\": [{\"automargin\": true, \"type\": \"pie\"}], \"scatter\": [{\"marker\": {\"colorbar\": {\"outlinewidth\": 0, \"ticks\": \"\"}}, \"type\": \"scatter\"}], \"scatter3d\": [{\"line\": {\"colorbar\": {\"outlinewidth\": 0, \"ticks\": \"\"}}, \"marker\": {\"colorbar\": {\"outlinewidth\": 0, \"ticks\": \"\"}}, \"type\": \"scatter3d\"}], \"scattercarpet\": [{\"marker\": {\"colorbar\": {\"outlinewidth\": 0, \"ticks\": \"\"}}, \"type\": \"scattercarpet\"}], \"scattergeo\": [{\"marker\": {\"colorbar\": {\"outlinewidth\": 0, \"ticks\": \"\"}}, \"type\": \"scattergeo\"}], \"scattergl\": [{\"marker\": {\"colorbar\": {\"outlinewidth\": 0, \"ticks\": \"\"}}, \"type\": \"scattergl\"}], \"scattermapbox\": [{\"marker\": {\"colorbar\": {\"outlinewidth\": 0, \"ticks\": \"\"}}, \"type\": \"scattermapbox\"}], \"scatterpolar\": [{\"marker\": {\"colorbar\": {\"outlinewidth\": 0, \"ticks\": \"\"}}, \"type\": \"scatterpolar\"}], \"scatterpolargl\": [{\"marker\": {\"colorbar\": {\"outlinewidth\": 0, \"ticks\": \"\"}}, \"type\": \"scatterpolargl\"}], \"scatterternary\": [{\"marker\": {\"colorbar\": {\"outlinewidth\": 0, \"ticks\": \"\"}}, \"type\": \"scatterternary\"}], \"surface\": [{\"colorbar\": {\"outlinewidth\": 0, \"ticks\": \"\"}, \"colorscale\": [[0.0, \"#0d0887\"], [0.1111111111111111, \"#46039f\"], [0.2222222222222222, \"#7201a8\"], [0.3333333333333333, \"#9c179e\"], [0.4444444444444444, \"#bd3786\"], [0.5555555555555556, \"#d8576b\"], [0.6666666666666666, \"#ed7953\"], [0.7777777777777778, \"#fb9f3a\"], [0.8888888888888888, \"#fdca26\"], [1.0, \"#f0f921\"]], \"type\": \"surface\"}], \"table\": [{\"cells\": {\"fill\": {\"color\": \"#EBF0F8\"}, \"line\": {\"color\": \"white\"}}, \"header\": {\"fill\": {\"color\": \"#C8D4E3\"}, \"line\": {\"color\": \"white\"}}, \"type\": \"table\"}]}, \"layout\": {\"annotationdefaults\": {\"arrowcolor\": \"#2a3f5f\", \"arrowhead\": 0, \"arrowwidth\": 1}, \"coloraxis\": {\"colorbar\": {\"outlinewidth\": 0, \"ticks\": \"\"}}, \"colorscale\": {\"diverging\": [[0, \"#8e0152\"], [0.1, \"#c51b7d\"], [0.2, \"#de77ae\"], [0.3, \"#f1b6da\"], [0.4, \"#fde0ef\"], [0.5, \"#f7f7f7\"], [0.6, \"#e6f5d0\"], [0.7, \"#b8e186\"], [0.8, \"#7fbc41\"], [0.9, \"#4d9221\"], [1, \"#276419\"]], \"sequential\": [[0.0, \"#0d0887\"], [0.1111111111111111, \"#46039f\"], [0.2222222222222222, \"#7201a8\"], [0.3333333333333333, \"#9c179e\"], [0.4444444444444444, \"#bd3786\"], [0.5555555555555556, \"#d8576b\"], [0.6666666666666666, \"#ed7953\"], [0.7777777777777778, \"#fb9f3a\"], [0.8888888888888888, \"#fdca26\"], [1.0, \"#f0f921\"]], \"sequentialminus\": [[0.0, \"#0d0887\"], [0.1111111111111111, \"#46039f\"], [0.2222222222222222, \"#7201a8\"], [0.3333333333333333, \"#9c179e\"], [0.4444444444444444, \"#bd3786\"], [0.5555555555555556, \"#d8576b\"], [0.6666666666666666, \"#ed7953\"], [0.7777777777777778, \"#fb9f3a\"], [0.8888888888888888, \"#fdca26\"], [1.0, \"#f0f921\"]]}, \"colorway\": [\"#636efa\", \"#EF553B\", \"#00cc96\", \"#ab63fa\", \"#FFA15A\", \"#19d3f3\", \"#FF6692\", \"#B6E880\", \"#FF97FF\", \"#FECB52\"], \"font\": {\"color\": \"#2a3f5f\"}, \"geo\": {\"bgcolor\": \"white\", \"lakecolor\": \"white\", \"landcolor\": \"#E5ECF6\", \"showlakes\": true, \"showland\": true, \"subunitcolor\": \"white\"}, \"hoverlabel\": {\"align\": \"left\"}, \"hovermode\": \"closest\", \"mapbox\": {\"style\": \"light\"}, \"paper_bgcolor\": \"white\", \"plot_bgcolor\": \"#E5ECF6\", \"polar\": {\"angularaxis\": {\"gridcolor\": \"white\", \"linecolor\": \"white\", \"ticks\": \"\"}, \"bgcolor\": \"#E5ECF6\", \"radialaxis\": {\"gridcolor\": \"white\", \"linecolor\": \"white\", \"ticks\": \"\"}}, \"scene\": {\"xaxis\": {\"backgroundcolor\": \"#E5ECF6\", \"gridcolor\": \"white\", \"gridwidth\": 2, \"linecolor\": \"white\", \"showbackground\": true, \"ticks\": \"\", \"zerolinecolor\": \"white\"}, \"yaxis\": {\"backgroundcolor\": \"#E5ECF6\", \"gridcolor\": \"white\", \"gridwidth\": 2, \"linecolor\": \"white\", \"showbackground\": true, \"ticks\": \"\", \"zerolinecolor\": \"white\"}, \"zaxis\": {\"backgroundcolor\": \"#E5ECF6\", \"gridcolor\": \"white\", \"gridwidth\": 2, \"linecolor\": \"white\", \"showbackground\": true, \"ticks\": \"\", \"zerolinecolor\": \"white\"}}, \"shapedefaults\": {\"line\": {\"color\": \"#2a3f5f\"}}, \"ternary\": {\"aaxis\": {\"gridcolor\": \"white\", \"linecolor\": \"white\", \"ticks\": \"\"}, \"baxis\": {\"gridcolor\": \"white\", \"linecolor\": \"white\", \"ticks\": \"\"}, \"bgcolor\": \"#E5ECF6\", \"caxis\": {\"gridcolor\": \"white\", \"linecolor\": \"white\", \"ticks\": \"\"}}, \"title\": {\"x\": 0.05}, \"xaxis\": {\"automargin\": true, \"gridcolor\": \"white\", \"linecolor\": \"white\", \"ticks\": \"\", \"title\": {\"standoff\": 15}, \"zerolinecolor\": \"white\", \"zerolinewidth\": 2}, \"yaxis\": {\"automargin\": true, \"gridcolor\": \"white\", \"linecolor\": \"white\", \"ticks\": \"\", \"title\": {\"standoff\": 15}, \"zerolinecolor\": \"white\", \"zerolinewidth\": 2}}}, \"title\": {\"font\": {\"color\": \"#4D5663\"}}, \"xaxis\": {\"gridcolor\": \"#E1E5ED\", \"showgrid\": true, \"tickfont\": {\"color\": \"#4D5663\"}, \"title\": {\"font\": {\"color\": \"#4D5663\"}, \"text\": \"\"}, \"zerolinecolor\": \"#E1E5ED\"}, \"yaxis\": {\"gridcolor\": \"#E1E5ED\", \"showgrid\": true, \"tickfont\": {\"color\": \"#4D5663\"}, \"title\": {\"font\": {\"color\": \"#4D5663\"}, \"text\": \"\"}, \"zerolinecolor\": \"#E1E5ED\"}},\n",
       "                        {\"showLink\": true, \"linkText\": \"Export to plot.ly\", \"plotlyServerURL\": \"https://plot.ly\", \"responsive\": true}\n",
       "                    ).then(function(){\n",
       "                            \n",
       "var gd = document.getElementById('0790ee75-a608-493c-b515-d99a74ce1937');\n",
       "var x = new MutationObserver(function (mutations, observer) {{\n",
       "        var display = window.getComputedStyle(gd).display;\n",
       "        if (!display || display === 'none') {{\n",
       "            console.log([gd, 'removed!']);\n",
       "            Plotly.purge(gd);\n",
       "            observer.disconnect();\n",
       "        }}\n",
       "}});\n",
       "\n",
       "// Listen for the removal of the full notebook cells\n",
       "var notebookContainer = gd.closest('#notebook-container');\n",
       "if (notebookContainer) {{\n",
       "    x.observe(notebookContainer, {childList: true});\n",
       "}}\n",
       "\n",
       "// Listen for the clearing of the current output cell\n",
       "var outputEl = gd.closest('.output');\n",
       "if (outputEl) {{\n",
       "    x.observe(outputEl, {childList: true});\n",
       "}}\n",
       "\n",
       "                        })\n",
       "                };\n",
       "                });\n",
       "            </script>\n",
       "        </div>"
      ]
     },
     "metadata": {},
     "output_type": "display_data"
    }
   ],
   "source": [
    "amazon_bs.groupby('rating').agg('mean')['ratings_total'].iplot(kind=\"bar\")"
   ]
  },
  {
   "cell_type": "code",
   "execution_count": 103,
   "metadata": {},
   "outputs": [
    {
     "data": {
      "text/plain": [
       "Index(['rank', 'title', 'asin', 'link', 'image', 'rating', 'ratings_total',\n",
       "       'price.value'],\n",
       "      dtype='object')"
      ]
     },
     "execution_count": 103,
     "metadata": {},
     "output_type": "execute_result"
    }
   ],
   "source": [
    "amazon_bs.columns"
   ]
  },
  {
   "cell_type": "code",
   "execution_count": 113,
   "metadata": {},
   "outputs": [
    {
     "data": {
      "application/vnd.plotly.v1+json": {
       "config": {
        "plotlyServerURL": "https://plot.ly"
       },
       "data": [
        {
         "type": "heatmap",
         "z": [
          [
           1,
           2,
           3,
           4,
           5,
           6,
           7,
           8,
           9,
           10,
           11,
           12,
           13,
           14,
           15,
           16,
           17,
           18,
           19,
           20,
           21,
           22,
           23,
           24,
           25,
           26,
           27,
           28,
           29,
           30,
           31,
           32,
           33,
           34,
           35,
           36,
           37,
           38,
           39,
           40,
           41,
           42,
           43,
           44,
           45,
           46,
           47,
           48,
           49,
           50,
           51,
           52,
           53,
           54,
           55,
           56,
           57,
           58,
           59,
           60,
           61,
           62,
           63,
           64,
           65,
           66,
           67,
           68,
           69,
           70,
           71,
           72,
           73,
           74,
           75,
           76,
           77,
           78,
           79,
           80,
           81,
           82,
           83,
           84,
           85,
           86,
           87,
           88,
           89,
           90,
           91,
           92,
           93,
           94,
           95,
           96,
           97,
           98,
           99,
           100,
           1,
           2,
           3,
           4,
           5,
           6,
           7,
           8,
           9,
           10,
           11,
           12,
           13,
           14,
           15,
           16,
           17,
           18,
           19,
           20,
           21,
           22,
           23,
           24,
           25,
           26,
           27,
           28,
           29,
           30,
           31,
           32,
           33,
           34,
           35,
           36,
           37,
           38,
           39,
           40,
           41,
           42,
           43,
           44,
           45,
           46,
           47,
           48,
           49,
           50,
           51,
           52,
           53,
           54,
           55,
           56,
           57,
           58,
           59,
           60,
           61,
           62,
           63,
           64,
           65,
           66,
           67,
           68,
           69,
           70,
           71,
           72,
           73,
           74,
           75,
           76,
           77,
           78,
           79,
           80,
           81,
           82,
           83,
           84,
           85,
           86,
           87,
           88,
           89,
           90,
           91,
           92,
           93,
           94,
           95,
           96,
           97,
           98,
           99,
           100,
           1,
           2,
           3,
           4,
           5,
           6,
           7,
           8,
           9,
           10,
           11,
           12,
           13,
           14,
           15,
           16,
           17,
           18,
           19,
           20,
           21,
           22,
           23,
           24,
           25,
           26,
           27,
           28,
           29,
           30,
           31,
           32,
           33,
           34,
           35,
           36,
           37,
           38,
           39,
           40,
           41,
           42,
           43,
           44,
           45,
           46,
           47,
           48,
           49,
           50,
           51,
           52,
           53,
           54,
           55,
           56,
           57,
           58,
           59,
           60,
           61,
           62,
           63,
           64,
           65,
           66,
           67,
           68,
           69,
           70,
           71,
           72,
           73,
           74,
           75,
           76,
           77,
           78,
           79,
           80,
           81,
           82,
           83,
           84,
           85,
           86,
           87,
           88,
           89,
           90,
           91,
           92,
           93,
           94,
           95,
           96,
           97,
           98,
           99,
           100,
           1,
           2,
           3,
           4,
           5,
           6,
           7,
           8,
           9,
           10,
           11,
           12,
           13,
           14,
           15,
           16,
           17,
           18,
           19,
           20,
           21,
           22,
           23,
           24,
           25,
           26,
           27,
           28,
           29,
           30,
           31,
           32,
           33,
           34,
           35,
           36,
           37,
           38,
           39,
           40,
           41,
           42,
           43,
           44,
           45,
           46,
           47,
           48,
           49,
           50,
           51,
           52,
           53,
           54,
           55,
           56,
           57,
           58,
           59,
           60,
           61,
           62,
           63,
           64,
           65,
           66,
           67,
           68,
           69,
           70,
           71,
           72,
           73,
           74,
           75,
           76,
           77,
           78,
           79,
           80,
           81,
           82,
           83,
           84,
           85,
           86,
           87,
           88,
           89,
           90,
           91,
           92,
           93,
           94,
           95,
           96,
           97,
           98,
           99,
           100,
           1,
           2,
           3,
           4,
           5,
           6,
           7,
           8,
           9,
           10,
           11,
           12,
           13,
           14,
           15,
           16,
           17,
           18,
           19,
           20,
           21,
           22,
           23,
           24,
           25,
           26,
           27,
           28,
           29,
           30,
           31,
           32,
           33,
           34,
           35,
           36,
           37,
           38,
           39,
           40,
           41,
           42,
           43,
           44,
           45,
           46,
           47,
           48,
           49,
           50,
           51,
           52,
           53,
           54,
           55,
           56,
           57,
           58,
           59,
           60,
           61,
           62,
           63,
           64,
           65,
           66,
           67,
           68,
           69,
           70,
           71,
           72,
           73,
           74,
           75,
           76,
           77,
           78,
           79,
           80,
           81,
           82,
           83,
           84,
           85,
           86,
           87,
           88,
           89,
           90,
           91,
           92,
           93,
           94,
           95,
           96,
           97,
           98,
           99,
           100,
           1,
           2,
           3,
           4,
           5,
           6,
           7,
           8,
           9,
           10,
           11,
           12,
           13,
           14,
           15,
           16,
           17,
           18,
           19,
           20,
           21,
           22,
           23,
           24,
           25,
           26,
           27,
           28,
           29,
           30,
           31,
           32,
           33,
           34,
           35,
           36,
           37,
           38,
           39,
           40,
           41,
           42,
           43,
           44,
           45,
           46,
           47,
           48,
           49,
           50,
           51,
           52,
           53,
           54,
           55,
           56,
           57,
           58,
           59,
           60,
           61,
           62,
           63,
           64,
           65,
           66,
           67,
           68,
           69,
           70,
           71,
           72,
           73,
           74,
           75,
           76,
           77,
           78,
           79,
           80,
           81,
           82,
           83,
           84,
           85,
           86,
           87,
           88,
           89,
           90,
           91,
           92,
           93,
           94,
           95,
           96,
           97,
           98,
           99,
           100,
           1,
           2,
           3,
           4,
           5,
           6,
           7,
           8,
           9,
           10,
           11,
           12,
           13,
           14,
           15,
           16,
           17,
           18,
           19,
           20,
           21,
           22,
           23,
           24,
           25,
           26,
           27,
           28,
           29,
           30,
           31,
           32,
           33,
           34,
           35,
           36,
           37,
           38,
           39,
           40,
           41,
           42,
           43,
           44,
           45,
           46,
           47,
           48,
           49,
           50,
           51,
           52,
           53,
           54,
           55,
           56,
           57,
           58,
           59,
           60,
           61,
           62,
           63,
           64,
           65,
           66,
           67,
           68,
           69,
           70,
           71,
           72,
           73,
           74,
           75,
           76,
           77,
           78,
           79,
           80,
           81,
           82,
           83,
           84,
           85,
           86,
           87,
           88,
           89,
           90,
           91,
           92,
           93,
           94,
           95,
           96,
           97,
           98,
           99,
           100,
           1,
           2,
           3,
           4,
           5,
           6,
           7,
           8,
           9,
           10,
           11,
           12,
           13,
           14,
           15,
           16,
           17,
           18,
           19,
           20,
           21,
           22,
           23,
           24,
           25,
           26,
           27,
           28,
           29,
           30,
           31,
           32,
           33,
           34,
           35,
           36,
           37,
           38,
           39,
           40,
           41,
           42,
           43,
           44,
           45,
           46,
           47,
           48,
           49,
           50,
           51,
           52,
           53,
           54,
           55,
           56,
           57,
           58,
           59,
           60,
           61,
           62,
           63,
           64,
           65,
           66,
           67,
           68,
           69,
           70,
           71,
           72,
           73,
           74,
           75,
           76,
           77,
           78,
           79,
           80,
           81,
           82,
           83,
           84,
           85,
           86,
           87,
           88,
           89,
           90,
           91,
           92,
           93,
           94,
           95,
           96,
           97,
           98,
           99,
           100,
           1,
           2,
           3,
           4,
           5,
           6,
           7,
           8,
           9,
           10,
           11,
           12,
           13,
           14,
           15,
           16,
           17,
           18,
           19,
           20,
           21,
           22,
           23,
           24,
           25,
           26,
           27,
           28,
           29,
           30,
           31,
           32,
           33,
           34,
           35,
           36,
           37,
           38,
           39,
           40,
           41,
           42,
           43,
           44,
           45,
           46,
           47,
           48,
           49,
           50,
           51,
           52,
           53,
           54,
           55,
           56,
           57,
           58,
           59,
           60,
           61,
           62,
           63,
           64,
           65,
           66,
           67,
           68,
           69,
           70,
           71,
           72,
           73,
           74,
           75,
           76,
           77,
           78,
           79,
           80,
           81,
           82,
           83,
           84,
           85,
           86,
           87,
           88,
           89,
           90,
           91,
           92,
           93,
           94,
           95,
           96,
           97,
           98,
           99,
           100,
           1,
           2,
           3,
           4,
           5,
           6,
           7,
           8,
           9,
           10,
           11,
           12,
           13,
           14,
           15,
           16,
           17,
           18,
           19,
           20,
           21,
           22,
           23,
           24,
           25,
           26,
           27,
           28,
           29,
           30,
           31,
           32,
           33,
           34,
           35,
           36,
           37,
           38,
           39,
           40,
           41,
           42,
           43,
           44,
           45,
           46,
           47,
           48,
           49,
           50,
           51,
           52,
           53,
           54,
           55,
           56,
           57,
           58,
           59,
           60,
           61,
           62,
           63,
           64,
           65,
           66,
           67,
           68,
           69,
           70,
           71,
           72,
           73,
           74,
           75,
           76,
           77,
           78,
           79,
           80,
           81,
           82,
           83,
           84,
           85,
           86,
           87,
           88,
           89,
           90,
           91,
           92,
           93,
           94,
           95,
           96,
           97,
           98,
           99,
           100,
           1,
           2,
           3,
           4,
           5,
           6,
           7,
           8,
           9,
           10,
           11,
           12,
           13,
           14,
           15,
           16,
           17,
           18,
           19,
           20,
           21,
           22,
           23,
           24,
           25,
           26,
           27,
           28,
           29,
           30,
           31,
           32,
           33,
           34,
           35,
           36,
           37,
           38,
           39,
           40,
           41,
           42,
           43,
           44,
           45,
           46,
           47,
           48,
           49,
           50,
           51,
           52,
           53,
           54,
           55,
           56,
           57,
           58,
           59,
           60,
           61,
           62,
           63,
           64,
           65,
           66,
           67,
           68,
           69,
           70,
           71,
           72,
           73,
           74,
           75,
           76,
           77,
           78,
           79,
           80,
           81,
           82,
           83,
           84,
           85,
           86,
           87,
           88,
           89,
           90,
           91,
           92,
           93,
           94,
           95,
           96,
           97,
           98,
           99,
           100
          ],
          [
           4.5,
           4.5,
           4,
           4.3,
           4,
           4.4,
           4.1,
           4.3,
           4.3,
           4.3,
           3.7,
           4.6,
           3.6,
           3.9,
           3.8,
           4.4,
           3.4,
           4.2,
           4.1,
           4.5,
           4.5,
           4.1,
           4,
           3.5,
           4.1,
           4.4,
           3.9,
           4.2,
           4.7,
           3.8,
           3.5,
           4.1,
           4.4,
           4.3,
           4.2,
           4.4,
           3.9,
           4.4,
           3.9,
           3.5,
           4.4,
           3.8,
           4,
           4.4,
           4.2,
           4.4,
           4.2,
           4.3,
           4.7,
           4.2,
           4.1,
           4.2,
           4,
           4.4,
           4.3,
           4.3,
           3.9,
           4.1,
           4.2,
           3.8,
           4.3,
           4.1,
           5,
           4.2,
           4.6,
           4.6,
           3.7,
           4.4,
           4,
           3.8,
           3.9,
           4.2,
           4.2,
           4.4,
           4.2,
           4.2,
           3.9,
           4.4,
           4,
           4.3,
           4.4,
           3.7,
           4.4,
           4.5,
           3.8,
           4.3,
           4.3,
           4,
           4.4,
           3.9,
           4.2,
           4.1,
           4.1,
           4.1,
           3.7,
           4.6,
           2.5,
           4.4,
           3.4,
           3.5,
           4.4,
           4.4,
           4.2,
           4.6,
           4.3,
           null,
           4.9,
           4.3,
           4.5,
           4.4,
           4.4,
           4.2,
           4.6,
           4.4,
           4.6,
           4.5,
           4.2,
           4.2,
           null,
           4.2,
           4.2,
           3.9,
           4.5,
           4.5,
           4.2,
           4.1,
           4.3,
           4.6,
           4.6,
           4.5,
           4.2,
           4,
           4.3,
           4.4,
           4.2,
           4.5,
           4.3,
           4.6,
           4.4,
           4.3,
           4.6,
           4.4,
           4,
           3.6,
           4.3,
           4.1,
           5,
           4.3,
           3.9,
           4.2,
           3.7,
           4.4,
           4.2,
           4.1,
           4.3,
           4.2,
           4.4,
           4,
           4.3,
           4.4,
           4.2,
           4.3,
           4.5,
           4.6,
           4.5,
           4.5,
           4.5,
           4.3,
           5,
           4.5,
           4.4,
           4.1,
           null,
           4,
           4.4,
           4.3,
           4.4,
           3.9,
           4.3,
           3.9,
           3.8,
           3.5,
           4.2,
           4,
           4.4,
           3.9,
           4.4,
           4.4,
           4.7,
           4.7,
           4.3,
           4,
           4.6,
           4.2,
           4.3,
           4.5,
           4.5,
           3.1,
           4.3,
           4.3,
           4.3,
           4.3,
           4.5,
           4.2,
           4.7,
           4.7,
           4.8,
           4.3,
           4.8,
           4.8,
           4.5,
           4.8,
           4.8,
           4.3,
           4.6,
           4.5,
           4.7,
           4.8,
           4.4,
           4.4,
           4.8,
           4.2,
           4.1,
           4.2,
           4.5,
           4.2,
           3.9,
           4.6,
           4.8,
           4.8,
           4.8,
           4.4,
           4.1,
           4.4,
           4.1,
           4.6,
           4.5,
           3.4,
           4.5,
           4.5,
           4.5,
           3.8,
           4.2,
           3.8,
           4.7,
           4.6,
           4.2,
           4.1,
           3.4,
           4.1,
           4,
           4.7,
           3.9,
           4.3,
           3.8,
           4.4,
           4.7,
           4.3,
           3.8,
           4.3,
           3.5,
           4,
           4.6,
           4.6,
           4.2,
           4.6,
           4.8,
           3.8,
           4.2,
           4.6,
           3.8,
           3.6,
           4.1,
           4.2,
           4.2,
           4.5,
           4.5,
           4.7,
           4.3,
           3.4,
           4,
           4.5,
           4.2,
           4.2,
           4.4,
           3.5,
           3.8,
           4.2,
           3.8,
           4.1,
           4.8,
           4,
           4.8,
           4.4,
           4,
           3.5,
           3.8,
           4.6,
           4.7,
           4.7,
           4.5,
           4.7,
           4.9,
           4.1,
           4.5,
           3.6,
           4.3,
           4.6,
           null,
           null,
           null,
           5,
           4.5,
           3.9,
           null,
           null,
           4.2,
           5,
           null,
           null,
           null,
           null,
           null,
           null,
           null,
           null,
           4.5,
           4.8,
           null,
           null,
           null,
           5,
           3.4,
           4,
           5,
           4.6,
           null,
           4.3,
           4.8,
           4.4,
           5,
           4.6,
           4.6,
           3,
           5,
           4,
           4,
           null,
           4.4,
           4,
           null,
           5,
           4,
           null,
           4.4,
           4,
           null,
           3,
           null,
           5,
           null,
           null,
           4.7,
           5,
           3.9,
           null,
           5,
           4.3,
           null,
           4,
           5,
           null,
           5,
           5,
           5,
           4,
           5,
           null,
           null,
           4,
           null,
           5,
           null,
           5,
           5,
           null,
           null,
           null,
           5,
           5,
           null,
           5,
           null,
           null,
           3.9,
           5,
           5,
           5,
           null,
           null,
           4.3,
           4.3,
           4.3,
           4.3,
           4.3,
           4,
           4.3,
           4.2,
           4.1,
           4.1,
           4.3,
           4.4,
           4.1,
           4.2,
           4.2,
           3.9,
           4.2,
           4.4,
           4.3,
           4.1,
           4.1,
           4.1,
           3.8,
           4,
           4.2,
           4.1,
           4.2,
           4.6,
           4.2,
           4.4,
           3.9,
           4.2,
           4.3,
           4.2,
           4.4,
           4.3,
           4.1,
           4.3,
           4.3,
           4.5,
           4.3,
           4.3,
           4.1,
           4.1,
           4,
           4.3,
           4.3,
           4.1,
           4.2,
           3.6,
           4.6,
           4.2,
           4.1,
           4.3,
           3.9,
           4.2,
           4.3,
           4.2,
           4.6,
           4.1,
           3.8,
           4.3,
           4.5,
           4.1,
           4,
           4.3,
           4.3,
           4.4,
           4.1,
           3.9,
           4.4,
           3.9,
           4,
           3.9,
           4,
           3.9,
           4.4,
           3.9,
           4.4,
           4.4,
           4.6,
           3.8,
           4.2,
           3.9,
           3.3,
           4.2,
           4.4,
           4.6,
           4.2,
           3.7,
           4,
           4.4,
           4.3,
           3.9,
           4.3,
           4.3,
           4.6,
           4.1,
           4.2,
           4.3,
           4.6,
           4.5,
           4.5,
           4.8,
           4.6,
           4.3,
           4.8,
           4.8,
           4.6,
           4.6,
           4.6,
           4.4,
           4.8,
           4.8,
           4.8,
           4.5,
           4.5,
           4.5,
           4.7,
           4.5,
           4.5,
           4.6,
           4.8,
           4.6,
           4.8,
           4.6,
           4.7,
           4.6,
           4.6,
           4.8,
           4.4,
           4.7,
           4.3,
           4.3,
           4.6,
           4.4,
           4.7,
           4.4,
           4.4,
           4.7,
           4.4,
           4.7,
           4.6,
           4.4,
           4.6,
           4.5,
           4.7,
           4.7,
           4.5,
           4.8,
           4.6,
           4.7,
           4.6,
           4.6,
           4.5,
           4.6,
           4.6,
           4.4,
           4.6,
           4.6,
           4.5,
           4.5,
           4.7,
           4.4,
           4.7,
           4.8,
           4.6,
           4.6,
           4.7,
           4.6,
           4.4,
           4.7,
           4.1,
           4.4,
           4.8,
           4.6,
           4.7,
           4.6,
           4.6,
           3.5,
           4.5,
           4.7,
           4.6,
           4.6,
           4.1,
           4.8,
           4.5,
           4.6,
           4.4,
           4.4,
           4.6,
           4.6,
           4.2,
           4.7,
           4.5,
           4.6,
           4.6,
           4.5,
           4.6,
           4.4,
           4.5,
           4.5,
           3.8,
           4.5,
           3.8,
           4.3,
           4.5,
           4.6,
           4.5,
           4.4,
           4.7,
           4.6,
           4.3,
           4.4,
           4.4,
           4.6,
           4.8,
           3.8,
           4.4,
           4.7,
           3.9,
           4.7,
           4.3,
           3.9,
           4.7,
           4.4,
           4.3,
           4.3,
           4.6,
           4.2,
           4.3,
           4.5,
           4.5,
           3.9,
           4,
           4.8,
           4.7,
           4.5,
           3.8,
           4.5,
           4.4,
           4.5,
           4.2,
           4.4,
           4.6,
           4.6,
           3.8,
           5,
           4.4,
           4.3,
           4.3,
           4.4,
           4.5,
           4.4,
           4,
           5,
           4.3,
           4.1,
           4.2,
           3.3,
           4.4,
           4.3,
           4.5,
           4.5,
           4.2,
           4.1,
           4.2,
           4,
           4.3,
           4,
           4.5,
           4.2,
           4.2,
           4.3,
           4.5,
           4,
           3.7,
           4.2,
           4.1,
           4.3,
           5,
           4.2,
           4.3,
           4.3,
           4.5,
           4.1,
           4,
           4.5,
           4.4,
           4.3,
           4.3,
           4.6,
           4.2,
           4,
           4.3,
           4.2,
           4.3,
           4.3,
           4.2,
           4.3,
           4.2,
           4.2,
           4,
           4.6,
           3.6,
           4.1,
           4.3,
           4.4,
           4.1,
           3.4,
           4.3,
           4.4,
           4.4,
           null,
           4.1,
           4.5,
           4.1,
           3.5,
           3.8,
           4.1,
           3.8,
           4.3,
           3.9,
           4.6,
           4.3,
           4.4,
           4.5,
           4,
           3.2,
           4,
           4.2,
           4.1,
           4,
           3.9,
           4.3,
           4,
           4.3,
           4.3,
           4.2,
           4,
           4.6,
           4,
           3.6,
           4.1,
           4.1,
           4.2,
           4.4,
           4,
           4.1,
           4.7,
           4,
           3.9,
           4.6,
           3.6,
           3.7,
           4.7,
           4.2,
           4,
           4.2,
           4,
           3.7,
           4.3,
           4.1,
           3.8,
           4.5,
           3.9,
           3.6,
           3.2,
           3.7,
           3.8,
           4.5,
           4,
           4,
           4.3,
           4.2,
           4.2,
           3.6,
           3.9,
           4,
           3.2,
           4.1,
           4,
           4.1,
           4.5,
           4.4,
           4.1,
           4,
           4.7,
           4,
           3.7,
           4.4,
           3.8,
           4,
           4.4,
           4.6,
           4.3,
           4.1,
           4.1,
           3.7,
           4.8,
           4.2,
           4.1,
           4,
           4.3,
           4.6,
           4,
           4.1,
           4,
           3.9,
           4.3,
           4.1,
           4.5,
           4.3,
           3.8,
           4.3,
           4.3,
           4.2,
           4.2,
           3.7,
           4.1,
           4,
           4.7,
           3.9,
           3.9,
           4.3,
           3.9,
           4.1,
           3.5,
           4.3,
           4.5,
           4.8,
           4.3,
           3.9,
           3.7,
           4,
           4.3,
           4,
           3.6,
           3.8,
           4.1,
           3.9,
           3.9,
           4.2,
           4,
           4.1,
           4.7,
           3.7,
           4.1,
           4.2,
           4.3,
           4.4,
           3.8,
           3.8,
           4.4,
           3.6,
           3.6,
           4.5,
           3.6,
           4.6,
           3.9,
           4.8,
           4.2,
           3.8,
           3.7,
           3.9,
           3.5,
           3.6,
           3.9,
           3.9,
           2.9,
           4.7,
           4.3,
           3.9,
           4.6,
           4.5,
           3.5,
           4,
           4.1,
           4.2,
           4.4,
           4.2,
           4.1,
           5,
           4.1,
           4,
           4.3,
           3.5,
           3.9,
           3.9,
           3.8,
           4.1,
           4,
           3.5,
           3.9,
           3.7,
           3.3,
           4.1,
           3.7,
           5,
           4.2,
           4.5,
           4.3,
           4.6,
           4.4,
           4.3,
           4.5,
           4.4,
           4.5,
           4.3,
           4.5,
           4.5,
           4.6,
           4.4,
           4.3,
           4.4,
           4.4,
           4.5,
           4.4,
           4.4,
           4.6,
           4.5,
           4.5,
           4.6,
           4.4,
           4.5,
           4.5,
           4.6,
           4.6,
           4.4,
           4.4,
           4.4,
           4.2,
           4.2,
           4.5,
           4.3,
           4.4,
           4.4,
           4.2,
           4.2,
           3.7,
           4.4,
           4.1,
           4.8,
           4.5,
           4.5,
           4.3,
           4.5,
           4.3,
           4.5,
           4.6,
           4.2,
           4.2,
           4.3,
           4.5,
           4.7,
           5,
           4.4,
           4.2,
           4.6,
           4.6,
           4.7,
           4.1,
           4.2,
           null,
           4.5,
           4.5,
           4.6,
           4.1,
           4.1,
           4.3,
           4.6,
           4.4,
           4.3,
           4.1,
           4.5,
           4.3,
           4.3,
           4.5,
           4.4,
           4.4,
           3.7,
           4,
           4,
           null,
           4.5,
           4.5,
           4.2,
           4.4,
           4.5,
           4.3,
           4.5,
           4.6,
           4.3,
           4.4,
           4.5,
           4.5,
           4.6,
           4.5,
           4.4,
           4.4,
           4.6,
           4.5,
           4.5,
           4.8,
           4.8,
           4.6,
           4.8,
           4.8,
           4.7,
           4.8,
           4.3,
           4.9,
           4.4,
           4.8,
           4.8,
           4.8,
           4.8,
           4.4,
           4.2,
           4.5,
           4.4,
           4.5,
           4.8,
           4.5,
           4.7,
           4.8,
           4.8,
           4.8,
           4.5,
           4.4,
           4.5,
           4.5,
           4.6,
           4.8,
           4.4,
           4.7,
           4.6,
           4.8,
           4.6,
           4.8,
           4.6,
           4.7,
           4.6,
           4.8,
           4.8,
           4.4,
           4.1,
           4.7,
           4.5,
           4.6,
           4.5,
           4.7,
           4.3,
           4.8,
           4.8,
           4.7,
           4.7,
           4.6,
           4.7,
           4.3,
           4.7,
           4.4,
           4.6,
           4.5,
           4.8,
           4.7,
           4.7,
           4.5,
           4.7,
           4.5,
           4.6,
           4.8,
           4.6,
           4.7,
           4.5,
           4.4,
           4.6,
           4.5,
           4.6,
           4.5,
           4.1,
           4.4,
           4.7,
           4.8,
           4.1,
           4.7,
           4.7,
           4.5,
           4.5,
           4.7,
           4.2,
           4.7,
           4.6,
           4.7,
           4.5,
           4.8,
           4.6,
           4.4,
           4.4,
           4.7
          ]
         ]
        }
       ],
       "layout": {
        "template": {
         "data": {
          "bar": [
           {
            "error_x": {
             "color": "#2a3f5f"
            },
            "error_y": {
             "color": "#2a3f5f"
            },
            "marker": {
             "line": {
              "color": "#E5ECF6",
              "width": 0.5
             }
            },
            "type": "bar"
           }
          ],
          "barpolar": [
           {
            "marker": {
             "line": {
              "color": "#E5ECF6",
              "width": 0.5
             }
            },
            "type": "barpolar"
           }
          ],
          "carpet": [
           {
            "aaxis": {
             "endlinecolor": "#2a3f5f",
             "gridcolor": "white",
             "linecolor": "white",
             "minorgridcolor": "white",
             "startlinecolor": "#2a3f5f"
            },
            "baxis": {
             "endlinecolor": "#2a3f5f",
             "gridcolor": "white",
             "linecolor": "white",
             "minorgridcolor": "white",
             "startlinecolor": "#2a3f5f"
            },
            "type": "carpet"
           }
          ],
          "choropleth": [
           {
            "colorbar": {
             "outlinewidth": 0,
             "ticks": ""
            },
            "type": "choropleth"
           }
          ],
          "contour": [
           {
            "colorbar": {
             "outlinewidth": 0,
             "ticks": ""
            },
            "colorscale": [
             [
              0,
              "#0d0887"
             ],
             [
              0.1111111111111111,
              "#46039f"
             ],
             [
              0.2222222222222222,
              "#7201a8"
             ],
             [
              0.3333333333333333,
              "#9c179e"
             ],
             [
              0.4444444444444444,
              "#bd3786"
             ],
             [
              0.5555555555555556,
              "#d8576b"
             ],
             [
              0.6666666666666666,
              "#ed7953"
             ],
             [
              0.7777777777777778,
              "#fb9f3a"
             ],
             [
              0.8888888888888888,
              "#fdca26"
             ],
             [
              1,
              "#f0f921"
             ]
            ],
            "type": "contour"
           }
          ],
          "contourcarpet": [
           {
            "colorbar": {
             "outlinewidth": 0,
             "ticks": ""
            },
            "type": "contourcarpet"
           }
          ],
          "heatmap": [
           {
            "colorbar": {
             "outlinewidth": 0,
             "ticks": ""
            },
            "colorscale": [
             [
              0,
              "#0d0887"
             ],
             [
              0.1111111111111111,
              "#46039f"
             ],
             [
              0.2222222222222222,
              "#7201a8"
             ],
             [
              0.3333333333333333,
              "#9c179e"
             ],
             [
              0.4444444444444444,
              "#bd3786"
             ],
             [
              0.5555555555555556,
              "#d8576b"
             ],
             [
              0.6666666666666666,
              "#ed7953"
             ],
             [
              0.7777777777777778,
              "#fb9f3a"
             ],
             [
              0.8888888888888888,
              "#fdca26"
             ],
             [
              1,
              "#f0f921"
             ]
            ],
            "type": "heatmap"
           }
          ],
          "heatmapgl": [
           {
            "colorbar": {
             "outlinewidth": 0,
             "ticks": ""
            },
            "colorscale": [
             [
              0,
              "#0d0887"
             ],
             [
              0.1111111111111111,
              "#46039f"
             ],
             [
              0.2222222222222222,
              "#7201a8"
             ],
             [
              0.3333333333333333,
              "#9c179e"
             ],
             [
              0.4444444444444444,
              "#bd3786"
             ],
             [
              0.5555555555555556,
              "#d8576b"
             ],
             [
              0.6666666666666666,
              "#ed7953"
             ],
             [
              0.7777777777777778,
              "#fb9f3a"
             ],
             [
              0.8888888888888888,
              "#fdca26"
             ],
             [
              1,
              "#f0f921"
             ]
            ],
            "type": "heatmapgl"
           }
          ],
          "histogram": [
           {
            "marker": {
             "colorbar": {
              "outlinewidth": 0,
              "ticks": ""
             }
            },
            "type": "histogram"
           }
          ],
          "histogram2d": [
           {
            "colorbar": {
             "outlinewidth": 0,
             "ticks": ""
            },
            "colorscale": [
             [
              0,
              "#0d0887"
             ],
             [
              0.1111111111111111,
              "#46039f"
             ],
             [
              0.2222222222222222,
              "#7201a8"
             ],
             [
              0.3333333333333333,
              "#9c179e"
             ],
             [
              0.4444444444444444,
              "#bd3786"
             ],
             [
              0.5555555555555556,
              "#d8576b"
             ],
             [
              0.6666666666666666,
              "#ed7953"
             ],
             [
              0.7777777777777778,
              "#fb9f3a"
             ],
             [
              0.8888888888888888,
              "#fdca26"
             ],
             [
              1,
              "#f0f921"
             ]
            ],
            "type": "histogram2d"
           }
          ],
          "histogram2dcontour": [
           {
            "colorbar": {
             "outlinewidth": 0,
             "ticks": ""
            },
            "colorscale": [
             [
              0,
              "#0d0887"
             ],
             [
              0.1111111111111111,
              "#46039f"
             ],
             [
              0.2222222222222222,
              "#7201a8"
             ],
             [
              0.3333333333333333,
              "#9c179e"
             ],
             [
              0.4444444444444444,
              "#bd3786"
             ],
             [
              0.5555555555555556,
              "#d8576b"
             ],
             [
              0.6666666666666666,
              "#ed7953"
             ],
             [
              0.7777777777777778,
              "#fb9f3a"
             ],
             [
              0.8888888888888888,
              "#fdca26"
             ],
             [
              1,
              "#f0f921"
             ]
            ],
            "type": "histogram2dcontour"
           }
          ],
          "mesh3d": [
           {
            "colorbar": {
             "outlinewidth": 0,
             "ticks": ""
            },
            "type": "mesh3d"
           }
          ],
          "parcoords": [
           {
            "line": {
             "colorbar": {
              "outlinewidth": 0,
              "ticks": ""
             }
            },
            "type": "parcoords"
           }
          ],
          "pie": [
           {
            "automargin": true,
            "type": "pie"
           }
          ],
          "scatter": [
           {
            "marker": {
             "colorbar": {
              "outlinewidth": 0,
              "ticks": ""
             }
            },
            "type": "scatter"
           }
          ],
          "scatter3d": [
           {
            "line": {
             "colorbar": {
              "outlinewidth": 0,
              "ticks": ""
             }
            },
            "marker": {
             "colorbar": {
              "outlinewidth": 0,
              "ticks": ""
             }
            },
            "type": "scatter3d"
           }
          ],
          "scattercarpet": [
           {
            "marker": {
             "colorbar": {
              "outlinewidth": 0,
              "ticks": ""
             }
            },
            "type": "scattercarpet"
           }
          ],
          "scattergeo": [
           {
            "marker": {
             "colorbar": {
              "outlinewidth": 0,
              "ticks": ""
             }
            },
            "type": "scattergeo"
           }
          ],
          "scattergl": [
           {
            "marker": {
             "colorbar": {
              "outlinewidth": 0,
              "ticks": ""
             }
            },
            "type": "scattergl"
           }
          ],
          "scattermapbox": [
           {
            "marker": {
             "colorbar": {
              "outlinewidth": 0,
              "ticks": ""
             }
            },
            "type": "scattermapbox"
           }
          ],
          "scatterpolar": [
           {
            "marker": {
             "colorbar": {
              "outlinewidth": 0,
              "ticks": ""
             }
            },
            "type": "scatterpolar"
           }
          ],
          "scatterpolargl": [
           {
            "marker": {
             "colorbar": {
              "outlinewidth": 0,
              "ticks": ""
             }
            },
            "type": "scatterpolargl"
           }
          ],
          "scatterternary": [
           {
            "marker": {
             "colorbar": {
              "outlinewidth": 0,
              "ticks": ""
             }
            },
            "type": "scatterternary"
           }
          ],
          "surface": [
           {
            "colorbar": {
             "outlinewidth": 0,
             "ticks": ""
            },
            "colorscale": [
             [
              0,
              "#0d0887"
             ],
             [
              0.1111111111111111,
              "#46039f"
             ],
             [
              0.2222222222222222,
              "#7201a8"
             ],
             [
              0.3333333333333333,
              "#9c179e"
             ],
             [
              0.4444444444444444,
              "#bd3786"
             ],
             [
              0.5555555555555556,
              "#d8576b"
             ],
             [
              0.6666666666666666,
              "#ed7953"
             ],
             [
              0.7777777777777778,
              "#fb9f3a"
             ],
             [
              0.8888888888888888,
              "#fdca26"
             ],
             [
              1,
              "#f0f921"
             ]
            ],
            "type": "surface"
           }
          ],
          "table": [
           {
            "cells": {
             "fill": {
              "color": "#EBF0F8"
             },
             "line": {
              "color": "white"
             }
            },
            "header": {
             "fill": {
              "color": "#C8D4E3"
             },
             "line": {
              "color": "white"
             }
            },
            "type": "table"
           }
          ]
         },
         "layout": {
          "annotationdefaults": {
           "arrowcolor": "#2a3f5f",
           "arrowhead": 0,
           "arrowwidth": 1
          },
          "coloraxis": {
           "colorbar": {
            "outlinewidth": 0,
            "ticks": ""
           }
          },
          "colorscale": {
           "diverging": [
            [
             0,
             "#8e0152"
            ],
            [
             0.1,
             "#c51b7d"
            ],
            [
             0.2,
             "#de77ae"
            ],
            [
             0.3,
             "#f1b6da"
            ],
            [
             0.4,
             "#fde0ef"
            ],
            [
             0.5,
             "#f7f7f7"
            ],
            [
             0.6,
             "#e6f5d0"
            ],
            [
             0.7,
             "#b8e186"
            ],
            [
             0.8,
             "#7fbc41"
            ],
            [
             0.9,
             "#4d9221"
            ],
            [
             1,
             "#276419"
            ]
           ],
           "sequential": [
            [
             0,
             "#0d0887"
            ],
            [
             0.1111111111111111,
             "#46039f"
            ],
            [
             0.2222222222222222,
             "#7201a8"
            ],
            [
             0.3333333333333333,
             "#9c179e"
            ],
            [
             0.4444444444444444,
             "#bd3786"
            ],
            [
             0.5555555555555556,
             "#d8576b"
            ],
            [
             0.6666666666666666,
             "#ed7953"
            ],
            [
             0.7777777777777778,
             "#fb9f3a"
            ],
            [
             0.8888888888888888,
             "#fdca26"
            ],
            [
             1,
             "#f0f921"
            ]
           ],
           "sequentialminus": [
            [
             0,
             "#0d0887"
            ],
            [
             0.1111111111111111,
             "#46039f"
            ],
            [
             0.2222222222222222,
             "#7201a8"
            ],
            [
             0.3333333333333333,
             "#9c179e"
            ],
            [
             0.4444444444444444,
             "#bd3786"
            ],
            [
             0.5555555555555556,
             "#d8576b"
            ],
            [
             0.6666666666666666,
             "#ed7953"
            ],
            [
             0.7777777777777778,
             "#fb9f3a"
            ],
            [
             0.8888888888888888,
             "#fdca26"
            ],
            [
             1,
             "#f0f921"
            ]
           ]
          },
          "colorway": [
           "#636efa",
           "#EF553B",
           "#00cc96",
           "#ab63fa",
           "#FFA15A",
           "#19d3f3",
           "#FF6692",
           "#B6E880",
           "#FF97FF",
           "#FECB52"
          ],
          "font": {
           "color": "#2a3f5f"
          },
          "geo": {
           "bgcolor": "white",
           "lakecolor": "white",
           "landcolor": "#E5ECF6",
           "showlakes": true,
           "showland": true,
           "subunitcolor": "white"
          },
          "hoverlabel": {
           "align": "left"
          },
          "hovermode": "closest",
          "mapbox": {
           "style": "light"
          },
          "paper_bgcolor": "white",
          "plot_bgcolor": "#E5ECF6",
          "polar": {
           "angularaxis": {
            "gridcolor": "white",
            "linecolor": "white",
            "ticks": ""
           },
           "bgcolor": "#E5ECF6",
           "radialaxis": {
            "gridcolor": "white",
            "linecolor": "white",
            "ticks": ""
           }
          },
          "scene": {
           "xaxis": {
            "backgroundcolor": "#E5ECF6",
            "gridcolor": "white",
            "gridwidth": 2,
            "linecolor": "white",
            "showbackground": true,
            "ticks": "",
            "zerolinecolor": "white"
           },
           "yaxis": {
            "backgroundcolor": "#E5ECF6",
            "gridcolor": "white",
            "gridwidth": 2,
            "linecolor": "white",
            "showbackground": true,
            "ticks": "",
            "zerolinecolor": "white"
           },
           "zaxis": {
            "backgroundcolor": "#E5ECF6",
            "gridcolor": "white",
            "gridwidth": 2,
            "linecolor": "white",
            "showbackground": true,
            "ticks": "",
            "zerolinecolor": "white"
           }
          },
          "shapedefaults": {
           "line": {
            "color": "#2a3f5f"
           }
          },
          "ternary": {
           "aaxis": {
            "gridcolor": "white",
            "linecolor": "white",
            "ticks": ""
           },
           "baxis": {
            "gridcolor": "white",
            "linecolor": "white",
            "ticks": ""
           },
           "bgcolor": "#E5ECF6",
           "caxis": {
            "gridcolor": "white",
            "linecolor": "white",
            "ticks": ""
           }
          },
          "title": {
           "x": 0.05
          },
          "xaxis": {
           "automargin": true,
           "gridcolor": "white",
           "linecolor": "white",
           "ticks": "",
           "title": {
            "standoff": 15
           },
           "zerolinecolor": "white",
           "zerolinewidth": 2
          },
          "yaxis": {
           "automargin": true,
           "gridcolor": "white",
           "linecolor": "white",
           "ticks": "",
           "title": {
            "standoff": 15
           },
           "zerolinecolor": "white",
           "zerolinewidth": 2
          }
         }
        }
       }
      },
      "text/html": [
       "<div>\n",
       "        \n",
       "        \n",
       "            <div id=\"bf6d4537-8e0e-47a2-98c5-a86303f98ceb\" class=\"plotly-graph-div\" style=\"height:525px; width:100%;\"></div>\n",
       "            <script type=\"text/javascript\">\n",
       "                require([\"plotly\"], function(Plotly) {\n",
       "                    window.PLOTLYENV=window.PLOTLYENV || {};\n",
       "                    \n",
       "                if (document.getElementById(\"bf6d4537-8e0e-47a2-98c5-a86303f98ceb\")) {\n",
       "                    Plotly.newPlot(\n",
       "                        'bf6d4537-8e0e-47a2-98c5-a86303f98ceb',\n",
       "                        [{\"type\": \"heatmap\", \"z\": [[1, 2, 3, 4, 5, 6, 7, 8, 9, 10, 11, 12, 13, 14, 15, 16, 17, 18, 19, 20, 21, 22, 23, 24, 25, 26, 27, 28, 29, 30, 31, 32, 33, 34, 35, 36, 37, 38, 39, 40, 41, 42, 43, 44, 45, 46, 47, 48, 49, 50, 51, 52, 53, 54, 55, 56, 57, 58, 59, 60, 61, 62, 63, 64, 65, 66, 67, 68, 69, 70, 71, 72, 73, 74, 75, 76, 77, 78, 79, 80, 81, 82, 83, 84, 85, 86, 87, 88, 89, 90, 91, 92, 93, 94, 95, 96, 97, 98, 99, 100, 1, 2, 3, 4, 5, 6, 7, 8, 9, 10, 11, 12, 13, 14, 15, 16, 17, 18, 19, 20, 21, 22, 23, 24, 25, 26, 27, 28, 29, 30, 31, 32, 33, 34, 35, 36, 37, 38, 39, 40, 41, 42, 43, 44, 45, 46, 47, 48, 49, 50, 51, 52, 53, 54, 55, 56, 57, 58, 59, 60, 61, 62, 63, 64, 65, 66, 67, 68, 69, 70, 71, 72, 73, 74, 75, 76, 77, 78, 79, 80, 81, 82, 83, 84, 85, 86, 87, 88, 89, 90, 91, 92, 93, 94, 95, 96, 97, 98, 99, 100, 1, 2, 3, 4, 5, 6, 7, 8, 9, 10, 11, 12, 13, 14, 15, 16, 17, 18, 19, 20, 21, 22, 23, 24, 25, 26, 27, 28, 29, 30, 31, 32, 33, 34, 35, 36, 37, 38, 39, 40, 41, 42, 43, 44, 45, 46, 47, 48, 49, 50, 51, 52, 53, 54, 55, 56, 57, 58, 59, 60, 61, 62, 63, 64, 65, 66, 67, 68, 69, 70, 71, 72, 73, 74, 75, 76, 77, 78, 79, 80, 81, 82, 83, 84, 85, 86, 87, 88, 89, 90, 91, 92, 93, 94, 95, 96, 97, 98, 99, 100, 1, 2, 3, 4, 5, 6, 7, 8, 9, 10, 11, 12, 13, 14, 15, 16, 17, 18, 19, 20, 21, 22, 23, 24, 25, 26, 27, 28, 29, 30, 31, 32, 33, 34, 35, 36, 37, 38, 39, 40, 41, 42, 43, 44, 45, 46, 47, 48, 49, 50, 51, 52, 53, 54, 55, 56, 57, 58, 59, 60, 61, 62, 63, 64, 65, 66, 67, 68, 69, 70, 71, 72, 73, 74, 75, 76, 77, 78, 79, 80, 81, 82, 83, 84, 85, 86, 87, 88, 89, 90, 91, 92, 93, 94, 95, 96, 97, 98, 99, 100, 1, 2, 3, 4, 5, 6, 7, 8, 9, 10, 11, 12, 13, 14, 15, 16, 17, 18, 19, 20, 21, 22, 23, 24, 25, 26, 27, 28, 29, 30, 31, 32, 33, 34, 35, 36, 37, 38, 39, 40, 41, 42, 43, 44, 45, 46, 47, 48, 49, 50, 51, 52, 53, 54, 55, 56, 57, 58, 59, 60, 61, 62, 63, 64, 65, 66, 67, 68, 69, 70, 71, 72, 73, 74, 75, 76, 77, 78, 79, 80, 81, 82, 83, 84, 85, 86, 87, 88, 89, 90, 91, 92, 93, 94, 95, 96, 97, 98, 99, 100, 1, 2, 3, 4, 5, 6, 7, 8, 9, 10, 11, 12, 13, 14, 15, 16, 17, 18, 19, 20, 21, 22, 23, 24, 25, 26, 27, 28, 29, 30, 31, 32, 33, 34, 35, 36, 37, 38, 39, 40, 41, 42, 43, 44, 45, 46, 47, 48, 49, 50, 51, 52, 53, 54, 55, 56, 57, 58, 59, 60, 61, 62, 63, 64, 65, 66, 67, 68, 69, 70, 71, 72, 73, 74, 75, 76, 77, 78, 79, 80, 81, 82, 83, 84, 85, 86, 87, 88, 89, 90, 91, 92, 93, 94, 95, 96, 97, 98, 99, 100, 1, 2, 3, 4, 5, 6, 7, 8, 9, 10, 11, 12, 13, 14, 15, 16, 17, 18, 19, 20, 21, 22, 23, 24, 25, 26, 27, 28, 29, 30, 31, 32, 33, 34, 35, 36, 37, 38, 39, 40, 41, 42, 43, 44, 45, 46, 47, 48, 49, 50, 51, 52, 53, 54, 55, 56, 57, 58, 59, 60, 61, 62, 63, 64, 65, 66, 67, 68, 69, 70, 71, 72, 73, 74, 75, 76, 77, 78, 79, 80, 81, 82, 83, 84, 85, 86, 87, 88, 89, 90, 91, 92, 93, 94, 95, 96, 97, 98, 99, 100, 1, 2, 3, 4, 5, 6, 7, 8, 9, 10, 11, 12, 13, 14, 15, 16, 17, 18, 19, 20, 21, 22, 23, 24, 25, 26, 27, 28, 29, 30, 31, 32, 33, 34, 35, 36, 37, 38, 39, 40, 41, 42, 43, 44, 45, 46, 47, 48, 49, 50, 51, 52, 53, 54, 55, 56, 57, 58, 59, 60, 61, 62, 63, 64, 65, 66, 67, 68, 69, 70, 71, 72, 73, 74, 75, 76, 77, 78, 79, 80, 81, 82, 83, 84, 85, 86, 87, 88, 89, 90, 91, 92, 93, 94, 95, 96, 97, 98, 99, 100, 1, 2, 3, 4, 5, 6, 7, 8, 9, 10, 11, 12, 13, 14, 15, 16, 17, 18, 19, 20, 21, 22, 23, 24, 25, 26, 27, 28, 29, 30, 31, 32, 33, 34, 35, 36, 37, 38, 39, 40, 41, 42, 43, 44, 45, 46, 47, 48, 49, 50, 51, 52, 53, 54, 55, 56, 57, 58, 59, 60, 61, 62, 63, 64, 65, 66, 67, 68, 69, 70, 71, 72, 73, 74, 75, 76, 77, 78, 79, 80, 81, 82, 83, 84, 85, 86, 87, 88, 89, 90, 91, 92, 93, 94, 95, 96, 97, 98, 99, 100, 1, 2, 3, 4, 5, 6, 7, 8, 9, 10, 11, 12, 13, 14, 15, 16, 17, 18, 19, 20, 21, 22, 23, 24, 25, 26, 27, 28, 29, 30, 31, 32, 33, 34, 35, 36, 37, 38, 39, 40, 41, 42, 43, 44, 45, 46, 47, 48, 49, 50, 51, 52, 53, 54, 55, 56, 57, 58, 59, 60, 61, 62, 63, 64, 65, 66, 67, 68, 69, 70, 71, 72, 73, 74, 75, 76, 77, 78, 79, 80, 81, 82, 83, 84, 85, 86, 87, 88, 89, 90, 91, 92, 93, 94, 95, 96, 97, 98, 99, 100, 1, 2, 3, 4, 5, 6, 7, 8, 9, 10, 11, 12, 13, 14, 15, 16, 17, 18, 19, 20, 21, 22, 23, 24, 25, 26, 27, 28, 29, 30, 31, 32, 33, 34, 35, 36, 37, 38, 39, 40, 41, 42, 43, 44, 45, 46, 47, 48, 49, 50, 51, 52, 53, 54, 55, 56, 57, 58, 59, 60, 61, 62, 63, 64, 65, 66, 67, 68, 69, 70, 71, 72, 73, 74, 75, 76, 77, 78, 79, 80, 81, 82, 83, 84, 85, 86, 87, 88, 89, 90, 91, 92, 93, 94, 95, 96, 97, 98, 99, 100], [4.5, 4.5, 4.0, 4.3, 4.0, 4.4, 4.1, 4.3, 4.3, 4.3, 3.7, 4.6, 3.6, 3.9, 3.8, 4.4, 3.4, 4.2, 4.1, 4.5, 4.5, 4.1, 4.0, 3.5, 4.1, 4.4, 3.9, 4.2, 4.7, 3.8, 3.5, 4.1, 4.4, 4.3, 4.2, 4.4, 3.9, 4.4, 3.9, 3.5, 4.4, 3.8, 4.0, 4.4, 4.2, 4.4, 4.2, 4.3, 4.7, 4.2, 4.1, 4.2, 4.0, 4.4, 4.3, 4.3, 3.9, 4.1, 4.2, 3.8, 4.3, 4.1, 5.0, 4.2, 4.6, 4.6, 3.7, 4.4, 4.0, 3.8, 3.9, 4.2, 4.2, 4.4, 4.2, 4.2, 3.9, 4.4, 4.0, 4.3, 4.4, 3.7, 4.4, 4.5, 3.8, 4.3, 4.3, 4.0, 4.4, 3.9, 4.2, 4.1, 4.1, 4.1, 3.7, 4.6, 2.5, 4.4, 3.4, 3.5, 4.4, 4.4, 4.2, 4.6, 4.3, null, 4.9, 4.3, 4.5, 4.4, 4.4, 4.2, 4.6, 4.4, 4.6, 4.5, 4.2, 4.2, null, 4.2, 4.2, 3.9, 4.5, 4.5, 4.2, 4.1, 4.3, 4.6, 4.6, 4.5, 4.2, 4.0, 4.3, 4.4, 4.2, 4.5, 4.3, 4.6, 4.4, 4.3, 4.6, 4.4, 4.0, 3.6, 4.3, 4.1, 5.0, 4.3, 3.9, 4.2, 3.7, 4.4, 4.2, 4.1, 4.3, 4.2, 4.4, 4.0, 4.3, 4.4, 4.2, 4.3, 4.5, 4.6, 4.5, 4.5, 4.5, 4.3, 5.0, 4.5, 4.4, 4.1, null, 4.0, 4.4, 4.3, 4.4, 3.9, 4.3, 3.9, 3.8, 3.5, 4.2, 4.0, 4.4, 3.9, 4.4, 4.4, 4.7, 4.7, 4.3, 4.0, 4.6, 4.2, 4.3, 4.5, 4.5, 3.1, 4.3, 4.3, 4.3, 4.3, 4.5, 4.2, 4.7, 4.7, 4.8, 4.3, 4.8, 4.8, 4.5, 4.8, 4.8, 4.3, 4.6, 4.5, 4.7, 4.8, 4.4, 4.4, 4.8, 4.2, 4.1, 4.2, 4.5, 4.2, 3.9, 4.6, 4.8, 4.8, 4.8, 4.4, 4.1, 4.4, 4.1, 4.6, 4.5, 3.4, 4.5, 4.5, 4.5, 3.8, 4.2, 3.8, 4.7, 4.6, 4.2, 4.1, 3.4, 4.1, 4.0, 4.7, 3.9, 4.3, 3.8, 4.4, 4.7, 4.3, 3.8, 4.3, 3.5, 4.0, 4.6, 4.6, 4.2, 4.6, 4.8, 3.8, 4.2, 4.6, 3.8, 3.6, 4.1, 4.2, 4.2, 4.5, 4.5, 4.7, 4.3, 3.4, 4.0, 4.5, 4.2, 4.2, 4.4, 3.5, 3.8, 4.2, 3.8, 4.1, 4.8, 4.0, 4.8, 4.4, 4.0, 3.5, 3.8, 4.6, 4.7, 4.7, 4.5, 4.7, 4.9, 4.1, 4.5, 3.6, 4.3, 4.6, null, null, null, 5.0, 4.5, 3.9, null, null, 4.2, 5.0, null, null, null, null, null, null, null, null, 4.5, 4.8, null, null, null, 5.0, 3.4, 4.0, 5.0, 4.6, null, 4.3, 4.8, 4.4, 5.0, 4.6, 4.6, 3.0, 5.0, 4.0, 4.0, null, 4.4, 4.0, null, 5.0, 4.0, null, 4.4, 4.0, null, 3.0, null, 5.0, null, null, 4.7, 5.0, 3.9, null, 5.0, 4.3, null, 4.0, 5.0, null, 5.0, 5.0, 5.0, 4.0, 5.0, null, null, 4.0, null, 5.0, null, 5.0, 5.0, null, null, null, 5.0, 5.0, null, 5.0, null, null, 3.9, 5.0, 5.0, 5.0, null, null, 4.3, 4.3, 4.3, 4.3, 4.3, 4.0, 4.3, 4.2, 4.1, 4.1, 4.3, 4.4, 4.1, 4.2, 4.2, 3.9, 4.2, 4.4, 4.3, 4.1, 4.1, 4.1, 3.8, 4.0, 4.2, 4.1, 4.2, 4.6, 4.2, 4.4, 3.9, 4.2, 4.3, 4.2, 4.4, 4.3, 4.1, 4.3, 4.3, 4.5, 4.3, 4.3, 4.1, 4.1, 4.0, 4.3, 4.3, 4.1, 4.2, 3.6, 4.6, 4.2, 4.1, 4.3, 3.9, 4.2, 4.3, 4.2, 4.6, 4.1, 3.8, 4.3, 4.5, 4.1, 4.0, 4.3, 4.3, 4.4, 4.1, 3.9, 4.4, 3.9, 4.0, 3.9, 4.0, 3.9, 4.4, 3.9, 4.4, 4.4, 4.6, 3.8, 4.2, 3.9, 3.3, 4.2, 4.4, 4.6, 4.2, 3.7, 4.0, 4.4, 4.3, 3.9, 4.3, 4.3, 4.6, 4.1, 4.2, 4.3, 4.6, 4.5, 4.5, 4.8, 4.6, 4.3, 4.8, 4.8, 4.6, 4.6, 4.6, 4.4, 4.8, 4.8, 4.8, 4.5, 4.5, 4.5, 4.7, 4.5, 4.5, 4.6, 4.8, 4.6, 4.8, 4.6, 4.7, 4.6, 4.6, 4.8, 4.4, 4.7, 4.3, 4.3, 4.6, 4.4, 4.7, 4.4, 4.4, 4.7, 4.4, 4.7, 4.6, 4.4, 4.6, 4.5, 4.7, 4.7, 4.5, 4.8, 4.6, 4.7, 4.6, 4.6, 4.5, 4.6, 4.6, 4.4, 4.6, 4.6, 4.5, 4.5, 4.7, 4.4, 4.7, 4.8, 4.6, 4.6, 4.7, 4.6, 4.4, 4.7, 4.1, 4.4, 4.8, 4.6, 4.7, 4.6, 4.6, 3.5, 4.5, 4.7, 4.6, 4.6, 4.1, 4.8, 4.5, 4.6, 4.4, 4.4, 4.6, 4.6, 4.2, 4.7, 4.5, 4.6, 4.6, 4.5, 4.6, 4.4, 4.5, 4.5, 3.8, 4.5, 3.8, 4.3, 4.5, 4.6, 4.5, 4.4, 4.7, 4.6, 4.3, 4.4, 4.4, 4.6, 4.8, 3.8, 4.4, 4.7, 3.9, 4.7, 4.3, 3.9, 4.7, 4.4, 4.3, 4.3, 4.6, 4.2, 4.3, 4.5, 4.5, 3.9, 4.0, 4.8, 4.7, 4.5, 3.8, 4.5, 4.4, 4.5, 4.2, 4.4, 4.6, 4.6, 3.8, 5.0, 4.4, 4.3, 4.3, 4.4, 4.5, 4.4, 4.0, 5.0, 4.3, 4.1, 4.2, 3.3, 4.4, 4.3, 4.5, 4.5, 4.2, 4.1, 4.2, 4.0, 4.3, 4.0, 4.5, 4.2, 4.2, 4.3, 4.5, 4.0, 3.7, 4.2, 4.1, 4.3, 5.0, 4.2, 4.3, 4.3, 4.5, 4.1, 4.0, 4.5, 4.4, 4.3, 4.3, 4.6, 4.2, 4.0, 4.3, 4.2, 4.3, 4.3, 4.2, 4.3, 4.2, 4.2, 4.0, 4.6, 3.6, 4.1, 4.3, 4.4, 4.1, 3.4, 4.3, 4.4, 4.4, null, 4.1, 4.5, 4.1, 3.5, 3.8, 4.1, 3.8, 4.3, 3.9, 4.6, 4.3, 4.4, 4.5, 4.0, 3.2, 4.0, 4.2, 4.1, 4.0, 3.9, 4.3, 4.0, 4.3, 4.3, 4.2, 4.0, 4.6, 4.0, 3.6, 4.1, 4.1, 4.2, 4.4, 4.0, 4.1, 4.7, 4.0, 3.9, 4.6, 3.6, 3.7, 4.7, 4.2, 4.0, 4.2, 4.0, 3.7, 4.3, 4.1, 3.8, 4.5, 3.9, 3.6, 3.2, 3.7, 3.8, 4.5, 4.0, 4.0, 4.3, 4.2, 4.2, 3.6, 3.9, 4.0, 3.2, 4.1, 4.0, 4.1, 4.5, 4.4, 4.1, 4.0, 4.7, 4.0, 3.7, 4.4, 3.8, 4.0, 4.4, 4.6, 4.3, 4.1, 4.1, 3.7, 4.8, 4.2, 4.1, 4.0, 4.3, 4.6, 4.0, 4.1, 4.0, 3.9, 4.3, 4.1, 4.5, 4.3, 3.8, 4.3, 4.3, 4.2, 4.2, 3.7, 4.1, 4.0, 4.7, 3.9, 3.9, 4.3, 3.9, 4.1, 3.5, 4.3, 4.5, 4.8, 4.3, 3.9, 3.7, 4.0, 4.3, 4.0, 3.6, 3.8, 4.1, 3.9, 3.9, 4.2, 4.0, 4.1, 4.7, 3.7, 4.1, 4.2, 4.3, 4.4, 3.8, 3.8, 4.4, 3.6, 3.6, 4.5, 3.6, 4.6, 3.9, 4.8, 4.2, 3.8, 3.7, 3.9, 3.5, 3.6, 3.9, 3.9, 2.9, 4.7, 4.3, 3.9, 4.6, 4.5, 3.5, 4.0, 4.1, 4.2, 4.4, 4.2, 4.1, 5.0, 4.1, 4.0, 4.3, 3.5, 3.9, 3.9, 3.8, 4.1, 4.0, 3.5, 3.9, 3.7, 3.3, 4.1, 3.7, 5.0, 4.2, 4.5, 4.3, 4.6, 4.4, 4.3, 4.5, 4.4, 4.5, 4.3, 4.5, 4.5, 4.6, 4.4, 4.3, 4.4, 4.4, 4.5, 4.4, 4.4, 4.6, 4.5, 4.5, 4.6, 4.4, 4.5, 4.5, 4.6, 4.6, 4.4, 4.4, 4.4, 4.2, 4.2, 4.5, 4.3, 4.4, 4.4, 4.2, 4.2, 3.7, 4.4, 4.1, 4.8, 4.5, 4.5, 4.3, 4.5, 4.3, 4.5, 4.6, 4.2, 4.2, 4.3, 4.5, 4.7, 5.0, 4.4, 4.2, 4.6, 4.6, 4.7, 4.1, 4.2, null, 4.5, 4.5, 4.6, 4.1, 4.1, 4.3, 4.6, 4.4, 4.3, 4.1, 4.5, 4.3, 4.3, 4.5, 4.4, 4.4, 3.7, 4.0, 4.0, null, 4.5, 4.5, 4.2, 4.4, 4.5, 4.3, 4.5, 4.6, 4.3, 4.4, 4.5, 4.5, 4.6, 4.5, 4.4, 4.4, 4.6, 4.5, 4.5, 4.8, 4.8, 4.6, 4.8, 4.8, 4.7, 4.8, 4.3, 4.9, 4.4, 4.8, 4.8, 4.8, 4.8, 4.4, 4.2, 4.5, 4.4, 4.5, 4.8, 4.5, 4.7, 4.8, 4.8, 4.8, 4.5, 4.4, 4.5, 4.5, 4.6, 4.8, 4.4, 4.7, 4.6, 4.8, 4.6, 4.8, 4.6, 4.7, 4.6, 4.8, 4.8, 4.4, 4.1, 4.7, 4.5, 4.6, 4.5, 4.7, 4.3, 4.8, 4.8, 4.7, 4.7, 4.6, 4.7, 4.3, 4.7, 4.4, 4.6, 4.5, 4.8, 4.7, 4.7, 4.5, 4.7, 4.5, 4.6, 4.8, 4.6, 4.7, 4.5, 4.4, 4.6, 4.5, 4.6, 4.5, 4.1, 4.4, 4.7, 4.8, 4.1, 4.7, 4.7, 4.5, 4.5, 4.7, 4.2, 4.7, 4.6, 4.7, 4.5, 4.8, 4.6, 4.4, 4.4, 4.7]]}],\n",
       "                        {\"template\": {\"data\": {\"bar\": [{\"error_x\": {\"color\": \"#2a3f5f\"}, \"error_y\": {\"color\": \"#2a3f5f\"}, \"marker\": {\"line\": {\"color\": \"#E5ECF6\", \"width\": 0.5}}, \"type\": \"bar\"}], \"barpolar\": [{\"marker\": {\"line\": {\"color\": \"#E5ECF6\", \"width\": 0.5}}, \"type\": \"barpolar\"}], \"carpet\": [{\"aaxis\": {\"endlinecolor\": \"#2a3f5f\", \"gridcolor\": \"white\", \"linecolor\": \"white\", \"minorgridcolor\": \"white\", \"startlinecolor\": \"#2a3f5f\"}, \"baxis\": {\"endlinecolor\": \"#2a3f5f\", \"gridcolor\": \"white\", \"linecolor\": \"white\", \"minorgridcolor\": \"white\", \"startlinecolor\": \"#2a3f5f\"}, \"type\": \"carpet\"}], \"choropleth\": [{\"colorbar\": {\"outlinewidth\": 0, \"ticks\": \"\"}, \"type\": \"choropleth\"}], \"contour\": [{\"colorbar\": {\"outlinewidth\": 0, \"ticks\": \"\"}, \"colorscale\": [[0.0, \"#0d0887\"], [0.1111111111111111, \"#46039f\"], [0.2222222222222222, \"#7201a8\"], [0.3333333333333333, \"#9c179e\"], [0.4444444444444444, \"#bd3786\"], [0.5555555555555556, \"#d8576b\"], [0.6666666666666666, \"#ed7953\"], [0.7777777777777778, \"#fb9f3a\"], [0.8888888888888888, \"#fdca26\"], [1.0, \"#f0f921\"]], \"type\": \"contour\"}], \"contourcarpet\": [{\"colorbar\": {\"outlinewidth\": 0, \"ticks\": \"\"}, \"type\": \"contourcarpet\"}], \"heatmap\": [{\"colorbar\": {\"outlinewidth\": 0, \"ticks\": \"\"}, \"colorscale\": [[0.0, \"#0d0887\"], [0.1111111111111111, \"#46039f\"], [0.2222222222222222, \"#7201a8\"], [0.3333333333333333, \"#9c179e\"], [0.4444444444444444, \"#bd3786\"], [0.5555555555555556, \"#d8576b\"], [0.6666666666666666, \"#ed7953\"], [0.7777777777777778, \"#fb9f3a\"], [0.8888888888888888, \"#fdca26\"], [1.0, \"#f0f921\"]], \"type\": \"heatmap\"}], \"heatmapgl\": [{\"colorbar\": {\"outlinewidth\": 0, \"ticks\": \"\"}, \"colorscale\": [[0.0, \"#0d0887\"], [0.1111111111111111, \"#46039f\"], [0.2222222222222222, \"#7201a8\"], [0.3333333333333333, \"#9c179e\"], [0.4444444444444444, \"#bd3786\"], [0.5555555555555556, \"#d8576b\"], [0.6666666666666666, \"#ed7953\"], [0.7777777777777778, \"#fb9f3a\"], [0.8888888888888888, \"#fdca26\"], [1.0, \"#f0f921\"]], \"type\": \"heatmapgl\"}], \"histogram\": [{\"marker\": {\"colorbar\": {\"outlinewidth\": 0, \"ticks\": \"\"}}, \"type\": \"histogram\"}], \"histogram2d\": [{\"colorbar\": {\"outlinewidth\": 0, \"ticks\": \"\"}, \"colorscale\": [[0.0, \"#0d0887\"], [0.1111111111111111, \"#46039f\"], [0.2222222222222222, \"#7201a8\"], [0.3333333333333333, \"#9c179e\"], [0.4444444444444444, \"#bd3786\"], [0.5555555555555556, \"#d8576b\"], [0.6666666666666666, \"#ed7953\"], [0.7777777777777778, \"#fb9f3a\"], [0.8888888888888888, \"#fdca26\"], [1.0, \"#f0f921\"]], \"type\": \"histogram2d\"}], \"histogram2dcontour\": [{\"colorbar\": {\"outlinewidth\": 0, \"ticks\": \"\"}, \"colorscale\": [[0.0, \"#0d0887\"], [0.1111111111111111, \"#46039f\"], [0.2222222222222222, \"#7201a8\"], [0.3333333333333333, \"#9c179e\"], [0.4444444444444444, \"#bd3786\"], [0.5555555555555556, \"#d8576b\"], [0.6666666666666666, \"#ed7953\"], [0.7777777777777778, \"#fb9f3a\"], [0.8888888888888888, \"#fdca26\"], [1.0, \"#f0f921\"]], \"type\": \"histogram2dcontour\"}], \"mesh3d\": [{\"colorbar\": {\"outlinewidth\": 0, \"ticks\": \"\"}, \"type\": \"mesh3d\"}], \"parcoords\": [{\"line\": {\"colorbar\": {\"outlinewidth\": 0, \"ticks\": \"\"}}, \"type\": \"parcoords\"}], \"pie\": [{\"automargin\": true, \"type\": \"pie\"}], \"scatter\": [{\"marker\": {\"colorbar\": {\"outlinewidth\": 0, \"ticks\": \"\"}}, \"type\": \"scatter\"}], \"scatter3d\": [{\"line\": {\"colorbar\": {\"outlinewidth\": 0, \"ticks\": \"\"}}, \"marker\": {\"colorbar\": {\"outlinewidth\": 0, \"ticks\": \"\"}}, \"type\": \"scatter3d\"}], \"scattercarpet\": [{\"marker\": {\"colorbar\": {\"outlinewidth\": 0, \"ticks\": \"\"}}, \"type\": \"scattercarpet\"}], \"scattergeo\": [{\"marker\": {\"colorbar\": {\"outlinewidth\": 0, \"ticks\": \"\"}}, \"type\": \"scattergeo\"}], \"scattergl\": [{\"marker\": {\"colorbar\": {\"outlinewidth\": 0, \"ticks\": \"\"}}, \"type\": \"scattergl\"}], \"scattermapbox\": [{\"marker\": {\"colorbar\": {\"outlinewidth\": 0, \"ticks\": \"\"}}, \"type\": \"scattermapbox\"}], \"scatterpolar\": [{\"marker\": {\"colorbar\": {\"outlinewidth\": 0, \"ticks\": \"\"}}, \"type\": \"scatterpolar\"}], \"scatterpolargl\": [{\"marker\": {\"colorbar\": {\"outlinewidth\": 0, \"ticks\": \"\"}}, \"type\": \"scatterpolargl\"}], \"scatterternary\": [{\"marker\": {\"colorbar\": {\"outlinewidth\": 0, \"ticks\": \"\"}}, \"type\": \"scatterternary\"}], \"surface\": [{\"colorbar\": {\"outlinewidth\": 0, \"ticks\": \"\"}, \"colorscale\": [[0.0, \"#0d0887\"], [0.1111111111111111, \"#46039f\"], [0.2222222222222222, \"#7201a8\"], [0.3333333333333333, \"#9c179e\"], [0.4444444444444444, \"#bd3786\"], [0.5555555555555556, \"#d8576b\"], [0.6666666666666666, \"#ed7953\"], [0.7777777777777778, \"#fb9f3a\"], [0.8888888888888888, \"#fdca26\"], [1.0, \"#f0f921\"]], \"type\": \"surface\"}], \"table\": [{\"cells\": {\"fill\": {\"color\": \"#EBF0F8\"}, \"line\": {\"color\": \"white\"}}, \"header\": {\"fill\": {\"color\": \"#C8D4E3\"}, \"line\": {\"color\": \"white\"}}, \"type\": \"table\"}]}, \"layout\": {\"annotationdefaults\": {\"arrowcolor\": \"#2a3f5f\", \"arrowhead\": 0, \"arrowwidth\": 1}, \"coloraxis\": {\"colorbar\": {\"outlinewidth\": 0, \"ticks\": \"\"}}, \"colorscale\": {\"diverging\": [[0, \"#8e0152\"], [0.1, \"#c51b7d\"], [0.2, \"#de77ae\"], [0.3, \"#f1b6da\"], [0.4, \"#fde0ef\"], [0.5, \"#f7f7f7\"], [0.6, \"#e6f5d0\"], [0.7, \"#b8e186\"], [0.8, \"#7fbc41\"], [0.9, \"#4d9221\"], [1, \"#276419\"]], \"sequential\": [[0.0, \"#0d0887\"], [0.1111111111111111, \"#46039f\"], [0.2222222222222222, \"#7201a8\"], [0.3333333333333333, \"#9c179e\"], [0.4444444444444444, \"#bd3786\"], [0.5555555555555556, \"#d8576b\"], [0.6666666666666666, \"#ed7953\"], [0.7777777777777778, \"#fb9f3a\"], [0.8888888888888888, \"#fdca26\"], [1.0, \"#f0f921\"]], \"sequentialminus\": [[0.0, \"#0d0887\"], [0.1111111111111111, \"#46039f\"], [0.2222222222222222, \"#7201a8\"], [0.3333333333333333, \"#9c179e\"], [0.4444444444444444, \"#bd3786\"], [0.5555555555555556, \"#d8576b\"], [0.6666666666666666, \"#ed7953\"], [0.7777777777777778, \"#fb9f3a\"], [0.8888888888888888, \"#fdca26\"], [1.0, \"#f0f921\"]]}, \"colorway\": [\"#636efa\", \"#EF553B\", \"#00cc96\", \"#ab63fa\", \"#FFA15A\", \"#19d3f3\", \"#FF6692\", \"#B6E880\", \"#FF97FF\", \"#FECB52\"], \"font\": {\"color\": \"#2a3f5f\"}, \"geo\": {\"bgcolor\": \"white\", \"lakecolor\": \"white\", \"landcolor\": \"#E5ECF6\", \"showlakes\": true, \"showland\": true, \"subunitcolor\": \"white\"}, \"hoverlabel\": {\"align\": \"left\"}, \"hovermode\": \"closest\", \"mapbox\": {\"style\": \"light\"}, \"paper_bgcolor\": \"white\", \"plot_bgcolor\": \"#E5ECF6\", \"polar\": {\"angularaxis\": {\"gridcolor\": \"white\", \"linecolor\": \"white\", \"ticks\": \"\"}, \"bgcolor\": \"#E5ECF6\", \"radialaxis\": {\"gridcolor\": \"white\", \"linecolor\": \"white\", \"ticks\": \"\"}}, \"scene\": {\"xaxis\": {\"backgroundcolor\": \"#E5ECF6\", \"gridcolor\": \"white\", \"gridwidth\": 2, \"linecolor\": \"white\", \"showbackground\": true, \"ticks\": \"\", \"zerolinecolor\": \"white\"}, \"yaxis\": {\"backgroundcolor\": \"#E5ECF6\", \"gridcolor\": \"white\", \"gridwidth\": 2, \"linecolor\": \"white\", \"showbackground\": true, \"ticks\": \"\", \"zerolinecolor\": \"white\"}, \"zaxis\": {\"backgroundcolor\": \"#E5ECF6\", \"gridcolor\": \"white\", \"gridwidth\": 2, \"linecolor\": \"white\", \"showbackground\": true, \"ticks\": \"\", \"zerolinecolor\": \"white\"}}, \"shapedefaults\": {\"line\": {\"color\": \"#2a3f5f\"}}, \"ternary\": {\"aaxis\": {\"gridcolor\": \"white\", \"linecolor\": \"white\", \"ticks\": \"\"}, \"baxis\": {\"gridcolor\": \"white\", \"linecolor\": \"white\", \"ticks\": \"\"}, \"bgcolor\": \"#E5ECF6\", \"caxis\": {\"gridcolor\": \"white\", \"linecolor\": \"white\", \"ticks\": \"\"}}, \"title\": {\"x\": 0.05}, \"xaxis\": {\"automargin\": true, \"gridcolor\": \"white\", \"linecolor\": \"white\", \"ticks\": \"\", \"title\": {\"standoff\": 15}, \"zerolinecolor\": \"white\", \"zerolinewidth\": 2}, \"yaxis\": {\"automargin\": true, \"gridcolor\": \"white\", \"linecolor\": \"white\", \"ticks\": \"\", \"title\": {\"standoff\": 15}, \"zerolinecolor\": \"white\", \"zerolinewidth\": 2}}}},\n",
       "                        {\"responsive\": true}\n",
       "                    ).then(function(){\n",
       "                            \n",
       "var gd = document.getElementById('bf6d4537-8e0e-47a2-98c5-a86303f98ceb');\n",
       "var x = new MutationObserver(function (mutations, observer) {{\n",
       "        var display = window.getComputedStyle(gd).display;\n",
       "        if (!display || display === 'none') {{\n",
       "            console.log([gd, 'removed!']);\n",
       "            Plotly.purge(gd);\n",
       "            observer.disconnect();\n",
       "        }}\n",
       "}});\n",
       "\n",
       "// Listen for the removal of the full notebook cells\n",
       "var notebookContainer = gd.closest('#notebook-container');\n",
       "if (notebookContainer) {{\n",
       "    x.observe(notebookContainer, {childList: true});\n",
       "}}\n",
       "\n",
       "// Listen for the clearing of the current output cell\n",
       "var outputEl = gd.closest('.output');\n",
       "if (outputEl) {{\n",
       "    x.observe(outputEl, {childList: true});\n",
       "}}\n",
       "\n",
       "                        })\n",
       "                };\n",
       "                });\n",
       "            </script>\n",
       "        </div>"
      ]
     },
     "metadata": {},
     "output_type": "display_data"
    }
   ],
   "source": [
    "import plotly.graph_objects as go\n",
    "\n",
    "fig = go.Figure(data=go.Heatmap(\n",
    "                    z=[amazon_bs['rank'].tolist(),amazon_bs['rating'].tolist()]))\n",
    "fig.show()"
   ]
  },
  {
   "cell_type": "code",
   "execution_count": 108,
   "metadata": {},
   "outputs": [
    {
     "data": {
      "text/plain": [
       "<matplotlib.axes._subplots.AxesSubplot at 0x2139f489a88>"
      ]
     },
     "execution_count": 108,
     "metadata": {},
     "output_type": "execute_result"
    },
    {
     "data": {
      "image/png": "[encoded data removed]",
      "text/plain": [
       "<Figure size 792x648 with 2 Axes>"
      ]
     },
     "metadata": {
      "needs_background": "light"
     },
     "output_type": "display_data"
    }
   ],
   "source": [
    "# Compute the correlation matrix\n",
    "corr = amazon_bs.loc[:, ['rank','rating','ratings_total','price.value']].corr()\n",
    "\n",
    "# Generate a mask for the upper triangle\n",
    "mask = np.triu(np.ones_like(corr, dtype=np.bool))\n",
    "\n",
    "# Set up the matplotlib figure\n",
    "f, ax = plt.subplots(figsize=(11, 9))\n",
    "\n",
    "# Generate a custom diverging colormap\n",
    "cmap = sns.diverging_palette(220, 10, as_cmap=True)\n",
    "\n",
    "# Draw the heatmap with the mask and correct aspect ratio\n",
    "sns.heatmap(corr, mask=mask, cmap=cmap, vmax=.3, center=0,\n",
    "            square=True, linewidths=.5, cbar_kws={\"shrink\": .5})"
   ]
  },
  {
   "cell_type": "code",
   "execution_count": null,
   "metadata": {},
   "outputs": [],
   "source": []
  }
 ],
 "metadata": {
  "kernelspec": {
   "display_name": "Python 3",
   "language": "python",
   "name": "python3"
  },
  "language_info": {
   "codemirror_mode": {
    "name": "ipython",
    "version": 3
   },
   "file_extension": ".py",
   "mimetype": "text/x-python",
   "name": "python",
   "nbconvert_exporter": "python",
   "pygments_lexer": "ipython3",
   "version": "3.7.6"
  },
  "varInspector": {
   "cols": {
    "lenName": 16,
    "lenType": 16,
    "lenVar": 40
   },
   "kernels_config": {
    "python": {
     "delete_cmd_postfix": "",
     "delete_cmd_prefix": "del ",
     "library": "var_list.py",
     "varRefreshCmd": "print(var_dic_list())"
    },
    "r": {
     "delete_cmd_postfix": ") ",
     "delete_cmd_prefix": "rm(",
     "library": "var_list.r",
     "varRefreshCmd": "cat(var_dic_list()) "
    }
   },
   "types_to_exclude": [
    "module",
    "function",
    "builtin_function_or_method",
    "instance",
    "_Feature"
   ],
   "window_display": false
  }
 },
 "nbformat": 4,
 "nbformat_minor": 4
}
